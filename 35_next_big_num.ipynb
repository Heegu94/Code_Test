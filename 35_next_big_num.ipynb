{
 "cells": [
  {
   "cell_type": "markdown",
   "id": "occasional-ebony",
   "metadata": {},
   "source": [
    "# [다 큰 숫자]\n",
    "___\n",
    "### [문제 설명]\n",
    "\n",
    "- 자연수 n이 주어졌을때, n의 다음 큰 숫자는 다음과 같이 정의 합니다. \n",
    "\n",
    "- 조건1. n의 다음 큰 숫자는 n 보다 큰 자연수 입니다.\n",
    "- 조건2. n의 다음 큰 숫자와 n은 2진수로 변환했을 때 1의 갯수가 갑습니다.\n",
    "- 조건3. n의 다음 큰 숫자는 조건 1,2 를 만족하는 수 중 가장 작은 수 입니다. \n",
    "\n",
    "- 예를 들어서 78(1001110)의 다음 큰 숫자는 83(1010011)입니다.\n",
    "\n",
    "- 자연수 n 이 매개변수로 주어질 때, n의 다음 큰 숫자를 return 하는 solution 함수를 완성해주세요\n",
    "\n",
    "___\n",
    "\n",
    "### [제한 사항]\n",
    "\n",
    "- n은 1,000,000 이하의 자연수 입니다.\n",
    "\n",
    "___\n",
    "\n",
    "### [입출력 예]\n",
    "- n=78, result=83\n",
    "- n=15, result=23"
   ]
  },
  {
   "cell_type": "markdown",
   "id": "tested-genesis",
   "metadata": {},
   "source": [
    "___\n",
    "### [내풀이]\n",
    "\n",
    "- 문제에서 요구한 방법처럼, 우선 입력으로 들어온 수에 대해 이진화를 거친다.\n",
    "- 그 후, collections.Counter 함수를 사용하여 이진화된 string에서 1의 개수를 찾아준다.\n",
    "\n",
    "- 1의 개수를 찾은 뒤, 입력으로 들어온 수보다 크며, 1000001보다 작은 수 중에 1의 개수가 같은수를 찾는다.\n"
   ]
  },
  {
   "cell_type": "code",
   "execution_count": 23,
   "id": "distinct-correlation",
   "metadata": {},
   "outputs": [
    {
     "name": "stdout",
     "output_type": "stream",
     "text": [
      "1111\n"
     ]
    }
   ],
   "source": [
    "n=15\n",
    "binary = ''\n",
    "while n//2 >0:\n",
    "    n, re = divmod(n,2)\n",
    "    binary+=str(re)\n",
    "binary+='1'\n",
    "print(binary)"
   ]
  },
  {
   "cell_type": "code",
   "execution_count": 24,
   "id": "exterior-wheat",
   "metadata": {},
   "outputs": [],
   "source": [
    "from itertools import combinations\n",
    "from collections import Counter"
   ]
  },
  {
   "cell_type": "code",
   "execution_count": 25,
   "id": "latin-jacket",
   "metadata": {},
   "outputs": [
    {
     "data": {
      "text/plain": [
       "'1111'"
      ]
     },
     "execution_count": 25,
     "metadata": {},
     "output_type": "execute_result"
    }
   ],
   "source": [
    "binary"
   ]
  },
  {
   "cell_type": "code",
   "execution_count": 28,
   "id": "civic-concert",
   "metadata": {},
   "outputs": [
    {
     "data": {
      "text/plain": [
       "4"
      ]
     },
     "execution_count": 28,
     "metadata": {},
     "output_type": "execute_result"
    }
   ],
   "source": [
    "n = Counter(list(binary))\n",
    "n['1']"
   ]
  },
  {
   "cell_type": "code",
   "execution_count": 45,
   "id": "straight-intellectual",
   "metadata": {},
   "outputs": [
    {
     "ename": "SyntaxError",
     "evalue": "invalid syntax (<ipython-input-45-8e8c7faa686e>, line 3)",
     "output_type": "error",
     "traceback": [
      "\u001b[1;36m  File \u001b[1;32m\"<ipython-input-45-8e8c7faa686e>\"\u001b[1;36m, line \u001b[1;32m3\u001b[0m\n\u001b[1;33m    if cnt ==count_one(make_bin(i)): print(i) break\u001b[0m\n\u001b[1;37m                                                  ^\u001b[0m\n\u001b[1;31mSyntaxError\u001b[0m\u001b[1;31m:\u001b[0m invalid syntax\n"
     ]
    }
   ],
   "source": [
    "cnt = count_one(make_bin(15))\n",
    "for i in range(16, 1000001):\n",
    "    if cnt ==count_one(make_bin(i)): print(i)  "
   ]
  },
  {
   "cell_type": "code",
   "execution_count": 44,
   "id": "separated-defeat",
   "metadata": {},
   "outputs": [],
   "source": [
    "def make_bin(n):\n",
    "    binary=''\n",
    "    if n == 0: return 0\n",
    "    while n//2 > 0:\n",
    "        n, re = divmod(n,2)\n",
    "        binary+=str(re)\n",
    "    binary+='1'\n",
    "    return binary[::-1]\n",
    "\n",
    "def count_one(k):\n",
    "    n = Counter(list(k))\n",
    "    return n['1']"
   ]
  },
  {
   "cell_type": "code",
   "execution_count": 46,
   "id": "medium-conflict",
   "metadata": {},
   "outputs": [],
   "source": [
    "def solution(n):\n",
    "    cnt=count_one(make_bin(n))\n",
    "    for i in range(n+1, 1000001):\n",
    "        if cnt == count_one(make_bin(i)): return i"
   ]
  },
  {
   "cell_type": "code",
   "execution_count": 48,
   "id": "constitutional-correspondence",
   "metadata": {},
   "outputs": [
    {
     "data": {
      "text/plain": [
       "23"
      ]
     },
     "execution_count": 48,
     "metadata": {},
     "output_type": "execute_result"
    }
   ],
   "source": [
    "solution(15)"
   ]
  },
  {
   "cell_type": "markdown",
   "id": "grand-sperm",
   "metadata": {},
   "source": [
    "- 정확도 통과!, 문제에 대해 시간촤... binarize 과정을 좀.. 바꿔봐야한..다"
   ]
  },
  {
   "cell_type": "code",
   "execution_count": 50,
   "id": "sorted-trainer",
   "metadata": {},
   "outputs": [],
   "source": [
    "from collections import Counter\n",
    "def two_change(n):\n",
    "    if n == 0: return ''\n",
    "    elif n % 2 == 0: return two_change(n//2) + '0'\n",
    "    else: return two_change(n//2) + '1'\n",
    "\n",
    "def count_one(k):\n",
    "    n = Counter(list(k))\n",
    "    return n['1']\n",
    "\n",
    "def solution(n):\n",
    "    cnt=count_one(two_change(n))\n",
    "    for i in range(n+1, 1000001):\n",
    "        if cnt == count_one(two_change(i)): return i"
   ]
  },
  {
   "cell_type": "markdown",
   "id": "august-voice",
   "metadata": {},
   "source": [
    "- 통과!\n",
    "___\n",
    "\n",
    "### [인상적인 풀이]\n",
    "\n",
    "- 위의 모든과정을 아래와 같이 줄일수 있었다.. \n",
    "- 이래서 python 내장함수는 어느정도 다 외우고 있어야 할듯하다.."
   ]
  },
  {
   "cell_type": "code",
   "execution_count": 49,
   "id": "standard-canon",
   "metadata": {},
   "outputs": [],
   "source": [
    "def solution(n):\n",
    "    c = bin(n).count('1')\n",
    "    for m in range(n+1, 1000001):\n",
    "        if bin(m).count('1') == c : return m"
   ]
  }
 ],
 "metadata": {
  "kernelspec": {
   "display_name": "Python 3",
   "language": "python",
   "name": "python3"
  },
  "language_info": {
   "codemirror_mode": {
    "name": "ipython",
    "version": 3
   },
   "file_extension": ".py",
   "mimetype": "text/x-python",
   "name": "python",
   "nbconvert_exporter": "python",
   "pygments_lexer": "ipython3",
   "version": "3.6.12"
  }
 },
 "nbformat": 4,
 "nbformat_minor": 5
}
