{
 "cells": [
  {
   "cell_type": "markdown",
   "id": "aggressive-passage",
   "metadata": {},
   "source": [
    "# [소수 찾기]\n",
    "___\n",
    "\n",
    "### [문제 설명]\n",
    "\n",
    "- 한자리 숫자가 적힌 종이 조각이 흩어져 있습니다. \n",
    "- 흩어진 종이 조각을 붙여 소수를 몇 개 만들 수 있는지 알아내려 합니다.\n",
    "\n",
    "- 각 종이 조각에 적힌 숫자가 적힌 문자열 numbers가 주어졌을 때, 종이 조각으로 만들 수 있는 소수가 몇 개인지 return 하도록 solution .함수를 완성해 주세요.\n",
    "\n",
    "___\n",
    "\n",
    "### [제한 사항]\n",
    "\n",
    "- numbers는 길이 1 이상 7 이하인 문자열 입니다.\n",
    "\n",
    "- numbers는 0~9까지 숫자만으로 이루어져 있습니다.\n",
    "\n",
    "- \"013\" 은 0, 1, 3 숫자가 적힌 종이 조각이 흩어져 있다는 의미입니다. \n",
    "\n",
    "___\n",
    "\n",
    "### 입출력 예\n",
    "\n",
    "![figure1](C:/Users/ryank/Desktop/ryan/Code_Test/figure/19-1.PNG)\n",
    "\n",
    "___\n",
    "\n",
    "### [내 풀이]"
   ]
  },
  {
   "cell_type": "code",
   "execution_count": 134,
   "id": "south-visitor",
   "metadata": {},
   "outputs": [
    {
     "name": "stdout",
     "output_type": "stream",
     "text": [
      "[11, 101] 2\n"
     ]
    }
   ],
   "source": [
    "# numbers = \"17\"\n",
    "numbers = \"011\"\n",
    "\n",
    "def prime(x):\n",
    "    for i in range(2, int(math.sqrt(x))+1):\n",
    "        if x % i == 0:\n",
    "            return False\n",
    "    return True\n",
    "\n",
    "from itertools import permutations, chain\n",
    "\n",
    "numbers = [n for n in numbers]\n",
    "p_num = 0\n",
    "answer = []\n",
    "for n in chain.from_iterable(permutations(numbers, i) for i in range(1, len(numbers)+1)):\n",
    "    num = int(\"\".join(n))\n",
    "    if p_num != num and p_num < num :\n",
    "        if num == 1:\n",
    "            pass\n",
    "        elif prime(num)==True:\n",
    "            answer.append(num)\n",
    "        p_num = num\n",
    "print(answer, len(answer))\n"
   ]
  },
  {
   "cell_type": "code",
   "execution_count": 139,
   "id": "lyric-battery",
   "metadata": {},
   "outputs": [
    {
     "name": "stdout",
     "output_type": "stream",
     "text": [
      "[11, 101] 2\n"
     ]
    }
   ],
   "source": [
    "# numbers = \"17\"\n",
    "numbers = \"011\"\n",
    "\n",
    "def prime(x):\n",
    "    for i in range(2, int(math.sqrt(x))+1):\n",
    "        if x % i == 0:\n",
    "            return False\n",
    "    return True\n",
    "\n",
    "from itertools import permutations, chain\n",
    "\n",
    "numbers = [n for n in numbers]\n",
    "p_num = 0\n",
    "answer = []\n",
    "for n in chain.from_iterable(permutations(numbers, i) for i in range(1, len(numbers)+1)):\n",
    "    num = int(\"\".join(n))\n",
    "    if p_num != num and p_num < num :\n",
    "        if num == 1:\n",
    "            pass\n",
    "        elif prime(num)==True:\n",
    "            answer.append(num)\n",
    "        p_num = num\n",
    "print(answer, len(answer))\n"
   ]
  },
  {
   "cell_type": "code",
   "execution_count": 135,
   "id": "realistic-halifax",
   "metadata": {},
   "outputs": [],
   "source": [
    "def solution(numbers):\n",
    "    \n",
    "    numbers =[n for n in numbers]\n",
    "    p_num = 0\n",
    "    answer = []\n",
    "    \n",
    "    for n in chain.from_iterable(permutations(numbers, i) for i in range(1, len(numbers)+1)):\n",
    "        num = int(\"\".join(n))\n",
    "        if p_num != num and p_num < num:\n",
    "            if num == 1:\n",
    "                pass\n",
    "            elif prime(num)==True:\n",
    "                answer.append(num)\n",
    "            p_num = num\n",
    "        else: pass\n",
    "    \n",
    "    return len(answer)"
   ]
  },
  {
   "cell_type": "markdown",
   "id": "advised-finland",
   "metadata": {},
   "source": [
    "- 아.. 예시 문제는 pass 하지만 제출시 시간초과.. 당함 다시 코딩짜봄\n",
    "___\n",
    "### [2번째 풀이]\n"
   ]
  },
  {
   "cell_type": "code",
   "execution_count": 155,
   "id": "complete-standard",
   "metadata": {},
   "outputs": [
    {
     "name": "stdout",
     "output_type": "stream",
     "text": [
      "2\n"
     ]
    }
   ],
   "source": [
    "def prime(x):\n",
    "    for i in range(2, int(math.sqrt(x))+1):\n",
    "        if x % i == 0:\n",
    "            return False\n",
    "    return True\n",
    "\n",
    "num_list = list(set([int(\"\".join(n)) for n in chain.from_iterable(permutations(numbers, i) for i in range(1, len(numbers)+1))]))\n",
    "\n",
    "answer = 0\n",
    "for n in num_list:\n",
    "    if prime(n) and n > 1 :\n",
    "        answer +=1\n",
    "\n",
    "print(answer)"
   ]
  },
  {
   "cell_type": "code",
   "execution_count": 156,
   "id": "warming-durham",
   "metadata": {},
   "outputs": [],
   "source": [
    "from itertools import permutations, chain\n",
    "import math\n",
    "\n",
    "def prime(x):\n",
    "    for i in range(2, int(math.sqrt(x))+1):\n",
    "        if x % i == 0:\n",
    "            return False\n",
    "    return True\n",
    "\n",
    "def solution(numbers):\n",
    "    num_list = list(set([int(\"\".join(n)) for n in chain.from_iterable(permutations(numbers, i) for i in range(1, len(numbers)+1))]))\n",
    "\n",
    "    answer = 0\n",
    "    for n in num_list:\n",
    "        if prime(n) and n > 1 :\n",
    "            answer +=1\n",
    "\n",
    "    return answer"
   ]
  },
  {
   "cell_type": "markdown",
   "id": "executed-sitting",
   "metadata": {},
   "source": [
    "- 드디어 통과!\n",
    "\n",
    "- 기존의 소수 판별 코드는 너무 많은 예시를 다 검사 하였지만, 좀더 효율적인 방법을 위해 제곱근까지만 확인을 하는 것이다. \n",
    "\n",
    "- 예를 들면,  12라는 수가 있을때, 약수는 [1, 2, 3, 4, 6, 12] 이다. \n",
    "- 해당 수들을 보면 대칭으로 곱했을때 12 라는 수를 만들 수 있다.\n",
    "- 이와 같이 소수의 절반에 해당하는 제곱근까지만 살펴보아도 소수 판별이 가능하다는 것이다. \n",
    "\n",
    "- 해당 방식으로 prime 함수를 다시 짜서 시간 초과 해결.\n",
    "\n",
    "\n",
    "- 그리고 조합들을 만드는 과정을 list(set()) 을 사용하여 iteration 과정을 줄였다. "
   ]
  }
 ],
 "metadata": {
  "kernelspec": {
   "display_name": "Python 3",
   "language": "python",
   "name": "python3"
  },
  "language_info": {
   "codemirror_mode": {
    "name": "ipython",
    "version": 3
   },
   "file_extension": ".py",
   "mimetype": "text/x-python",
   "name": "python",
   "nbconvert_exporter": "python",
   "pygments_lexer": "ipython3",
   "version": "3.6.12"
  }
 },
 "nbformat": 4,
 "nbformat_minor": 5
}
