{
 "cells": [
  {
   "cell_type": "markdown",
   "id": "professional-dayton",
   "metadata": {},
   "source": [
    "# [자물쇠와 열쇠]\n",
    "___\n",
    "\n",
    "### [문제 설명]\n",
    "\n",
    "- 고고학자인 \"튜브\"는 고대 유적지에서 보물과 유적이 가득할 것으로 추정되는 비밀의 문을 발견하였습니다. \n",
    "- 그런데 문을 열려고 살펴보니 특이한 형태의 자물쇠로 잠겨 있었고 문 앞에는 특이한 형태의 열쇠와 함께 자물쇠를 푸는 방법에 대해 다음과 같이 설명해 주는 종이가 발견되었습니다.\n",
    "\n",
    "- 잠겨있는 자물쇠는 격자 한 칸의 크기가 1 x 1인 N x N 크기의 정사각 격자 형태이고 특이한 모양의 열쇠는 M x M 크기인 정사각 격자 형태로 되어 있습니다.\n",
    "\n",
    "- 자물쇠에는 홈이 파여 있고 열쇠 또한 홈과 돌기 부분이 있습니다. 열쇠는 회전과 이동이 가능하며 열쇠의 돌기 부분을 자물쇠의 홈 부분에 딱 맞게 채우면 자물쇠가 열리게 되는 구조입니다.\n",
    "- 자물쇠 영역을 벗어난 부분에 있는 열쇠의 홈과 돌기는 자물쇠를 여는 데 영향을 주지 않지만, 자물쇠 영역 내에서는 열쇠의 돌기 부분과 자물쇠의 홈 부분이 정확히 일치해야 하며 열쇠의 돌기와 자물쇠의 돌기가 만나서는 안됩니다. \n",
    "- 또한 자물쇠의 모든 홈을 채워 비어있는 곳이 없어야 자물쇠를 열 수 있습니다.\n",
    "\n",
    "- 열쇠를 나타내는 2차원 배열 key와 자물쇠를 나타내는 2차원 배열 lock이 매개변수로 주어질 때, 열쇠로 자물쇠를 열수 있으면 true를, 열 수 없으면 false를 return 하도록 solution 함수를 완성해주세요.\n",
    "\n",
    "___\n",
    "\n",
    "### [제한 사항]\n",
    "\n",
    "> key는 M x M(3 ≤ M ≤ 20, M은 자연수)크기 2차원 배열입니다.\n",
    "> lock은 N x N(3 ≤ N ≤ 20, N은 자연수)크기 2차원 배열입니다.\n",
    "> M은 항상 N 이하입니다.\n",
    "> key와 lock의 원소는 0 또는 1로 이루어져 있습니다.\n",
    "> 0은 홈 부분, 1은 돌기 부분을 나타냅니다.\n",
    "\n",
    "___ \n",
    "\n",
    "![image](C:/Users/ryank/Desktop/ryan/Code_Test/figure/45-1.PNG)\n",
    "\n",
    "- key를 시계 방향으로 90도 회전하고, 오른쪽으로 한 칸, 아래로 한 칸 이동하면 lock의 홈 부분을 정확히 모두 채울 수 있습니다."
   ]
  },
  {
   "cell_type": "markdown",
   "id": "southern-seattle",
   "metadata": {},
   "source": [
    "___\n",
    "### [내 풀이]\n",
    "\n",
    "- 해당 문제는 어떻게 풀어야할 지 오래 생각해본 문제였다. \n",
    "- 그러다가 자물쇠인 lock 배열을 확장하여 key를 이동시켜 확인하는 방법을 사용하는것은 어떨까 생각해보았다. \n",
    "\n",
    "- key가 lock배열에 가장 적게 겹치는 방법은 1칸이 겹치는 방법이다 즉, lock 배열의 크기가 기존보다 늘려서 확인하는 것이 좋다고 생각했다.\n",
    "- 그래서 (lock-1)*2 +key 만큼 lock배열의 크기를 늘려주고, 기존 lock 배열의 요소들을 가운데에 배치하였다.\n",
    "\n",
    "\n",
    "- 문제를 해결하기 위한 함수들\n",
    "\n",
    "    - key 배열을 90도씩 회전시키는 함수\n",
    "    - key를 expand_lock 인 board 리스트에 차례대로 삽입하는 함수\n",
    "    - key가 삽입된 board에서 정중앙의 lock 배열이 1로만 채워져 있는지 확인하는 함수\n",
    "    - 삽입된 key를 제거해주는 함수\n",
    "\n",
    "\n",
    "- 위와 같이 코드들을 구성하였다. "
   ]
  },
  {
   "cell_type": "code",
   "execution_count": 16,
   "id": "suspended-breeding",
   "metadata": {},
   "outputs": [],
   "source": [
    "key = [[0, 0, 0], [1, 0, 0], [0, 1, 1]]\n",
    "lock = [[1,1,1],[1,1,0],[1,0,1]]\n"
   ]
  },
  {
   "cell_type": "code",
   "execution_count": 31,
   "id": "abroad-calcium",
   "metadata": {},
   "outputs": [],
   "source": [
    "# rotation \n",
    "def rot90(arr):\n",
    "    return list(zip(*arr[::-1]))"
   ]
  },
  {
   "cell_type": "code",
   "execution_count": 65,
   "id": "catholic-eleven",
   "metadata": {},
   "outputs": [],
   "source": [
    "def insert_key(x, y, M, board, key):\n",
    "    for i in range(M):\n",
    "        for j in range(M):\n",
    "            board[x+i][y+j]+=key[i][j]\n",
    "            \n",
    "def remove_key(x, y, M, board, key):\n",
    "    for i in range(M):\n",
    "        for j in range(M):\n",
    "            board[x+i][y+j]-=key[i][j]"
   ]
  },
  {
   "cell_type": "code",
   "execution_count": 66,
   "id": "dying-police",
   "metadata": {},
   "outputs": [],
   "source": [
    "def check(M, N, board):\n",
    "    for i in range(N):\n",
    "        for j in range(N):\n",
    "            if board[M-1+i][M-1+j] != 1:\n",
    "                return False\n",
    "    else: return True"
   ]
  },
  {
   "cell_type": "code",
   "execution_count": 67,
   "id": "least-louis",
   "metadata": {},
   "outputs": [],
   "source": [
    "def solution(key, lock):\n",
    "    M, N = len(key), len(lock)\n",
    "    board = [[0] * ((M-1)*2 + N) for _ in range((M-1)*2 + N)]\n",
    "    for i in range(N):\n",
    "        for j in range(N):\n",
    "            board[M-1+i][M-1+j] = lock[i][j]\n",
    "    print(M, N)\n",
    "    print(board)\n",
    "    for l in range(4):\n",
    "        for x in range(M+N-1):\n",
    "            for y in range(M+N-1):\n",
    "                insert_key(x, y, M, board, key)\n",
    "                if check(M, N, board): return True\n",
    "                else: remove_key(x, y, M, board, key)\n",
    "\n",
    "        key = rot90(key)\n",
    "    else: return False"
   ]
  },
  {
   "cell_type": "code",
   "execution_count": 69,
   "id": "humanitarian-houston",
   "metadata": {},
   "outputs": [
    {
     "name": "stdout",
     "output_type": "stream",
     "text": [
      "3 3\n",
      "[[0, 0, 0, 0, 0, 0, 0], [0, 0, 0, 0, 0, 0, 0], [0, 0, 1, 1, 1, 0, 0], [0, 0, 1, 1, 0, 0, 0], [0, 0, 1, 0, 1, 0, 0], [0, 0, 0, 0, 0, 0, 0], [0, 0, 0, 0, 0, 0, 0]]\n"
     ]
    },
    {
     "data": {
      "text/plain": [
       "True"
      ]
     },
     "execution_count": 69,
     "metadata": {},
     "output_type": "execute_result"
    }
   ],
   "source": [
    "key = [[0, 0, 0], [1, 0, 0], [0, 1, 1]]\n",
    "lock = [[1,1,1],[1,1,0],[1,0,1]]\n",
    "solution(key, lock)"
   ]
  },
  {
   "cell_type": "markdown",
   "id": "employed-chapel",
   "metadata": {},
   "source": [
    "- 통과!"
   ]
  }
 ],
 "metadata": {
  "kernelspec": {
   "display_name": "Python 3",
   "language": "python",
   "name": "python3"
  },
  "language_info": {
   "codemirror_mode": {
    "name": "ipython",
    "version": 3
   },
   "file_extension": ".py",
   "mimetype": "text/x-python",
   "name": "python",
   "nbconvert_exporter": "python",
   "pygments_lexer": "ipython3",
   "version": "3.6.12"
  }
 },
 "nbformat": 4,
 "nbformat_minor": 5
}
