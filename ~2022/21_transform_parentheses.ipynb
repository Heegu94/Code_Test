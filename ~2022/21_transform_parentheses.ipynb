{
 "cells": [
  {
   "cell_type": "markdown",
   "id": "valued-there",
   "metadata": {},
   "source": [
    "# [괄호 변환]\n",
    "___\n",
    "\n",
    "### [문제 설명]\n",
    "\n",
    "- 카카오에 신입 개발자로 입사한 \"콘\"은 선배 개발자로부터 개발역량 강화를 위해 다른 개발자가 작성한 소스 코드를 분석하여 문제점을 발견하고 수정하라는 업무 과제를 받았습니다. \n",
    "- 소스를 컴파일하여 로그를 보니 대부분 소스 코드 내 작성된 괄호가 개수는 맞지만 짝이 맞지 않은 형태로 작성되어 오류가 나는 것을 알게 되었습니다.\n",
    "- 수정해야 할 소스 파일이 너무 많아서 고민하던 \"콘\"은 소스 코드에 작성된 모든 괄호를 뽑아서 올바른 순서대로 배치된 괄호 문자열을 알려주는 프로그램을 다음과 같이 개발하려고 합니다.\n",
    "___\n",
    "\n",
    "### 용어의 정의\n",
    "\n",
    "- '(' 와 ')' 로만 이루어진 문자열이 있을 경우, '(' 의 개수와 ')' 의 개수가 같다면 이를 균형잡힌 괄호 문자열이라고 부릅니다.\n",
    "\n",
    "- 그리고 여기에 '('와 ')'의 괄호의 짝도 모두 맞을 경우에는 이를 올바른 괄호 문자열이라고 부릅니다.\n",
    "\n",
    "- 예를 들어, \"(()))(\"와 같은 문자열은 \"균형잡힌 괄호 문자열\" 이지만 \"올바른 괄호 문자열\"은 아닙니다.\n",
    "\n",
    "- 반면에 \"(())()\"와 같은 문자열은 \"균형잡힌 괄호 문자열\" 이면서 동시에 \"올바른 괄호 문자열\" 입니다.\n",
    "\n",
    "\n",
    "- '(' 와 ')' 로만 이루어진 문자열 w가 \"균형잡힌 괄호 문자열\" 이라면 다음과 같은 과정을 통해 \"올바른 괄호 문자열\"로 변환할 수 있습니다\n",
    "\n",
    "\n",
    "- 1. 입력이 빈 문자열인 경우, 빈 문자열을 반환합니다. \n",
    "- 2. 문자열 w를 두 \"균형잡힌 괄호 문자열\" u, v로 분리합니다. 단, u는 \"균형잡힌 괄호 문자열\"로 더 이상 분리할 수 없어야 하며, v는 빈 문자열이 될 수 있습니다. \n",
    "- 3. 문자열 u가 \"올바른 괄호 문자열\" 이라면 문자열 v에 대해 1단계부터 다시 수행합니다. \n",
    "  - 3-1. 수행한 결과 문자열을 u에 이어 붙인 후 반환합니다. \n",
    "- 4. 문자열 u가 \"올바른 괄호 문자열\"이 아니라면 아래 과정을 수행합니다. \n",
    "  - 4-1. 빈 문자열에 첫 번째 문자로 '('를 붙입니다. \n",
    "  - 4-2. 문자열 v에 대해 1단계부터 재귀적으로 수행한 결과 문자열을 이어 붙입니다. \n",
    "  - 4-3. ')'를 다시 붙입니다. \n",
    "  - 4-4. u의 첫 번째와 마지막 문자를 제거하고, 나머지 문자열의 괄호 방향을 뒤집어서 뒤에 붙입니다. \n",
    "  - 4-5. 생성된 문자열을 반환합니다.\n",
    "  \n",
    "___\n",
    "\n",
    "\"균형잡힌 괄호 문자열\" p가 매개변수로 주어질 때, 주어진 알고리즘을 수행해 \"올바른 괄호 문자열\"로 변환한 결과를 return 하도록 solution 함수를 완성해 주세요.\n",
    "\n",
    "___\n",
    "\n",
    "### 입출력 예\n",
    "\n",
    "- P = \"(()())()\", result = \"(()())()\"\n",
    "- P = \")(\", result = \"()\"\n",
    "- P = \"()))((()\", result = \"()(())()\""
   ]
  },
  {
   "cell_type": "markdown",
   "id": "affecting-advocacy",
   "metadata": {},
   "source": [
    "___\n",
    "\n",
    "### [내 풀이]"
   ]
  },
  {
   "cell_type": "code",
   "execution_count": 24,
   "id": "tough-growth",
   "metadata": {},
   "outputs": [],
   "source": [
    "P =\"()))((()\""
   ]
  },
  {
   "cell_type": "markdown",
   "id": "diagnostic-waters",
   "metadata": {},
   "source": [
    "- 괄호가 \"(\" 과 \")\" 가 만나면 삭제시키는 방식을 사용하여 올바른 문자열인지 확인.\n"
   ]
  },
  {
   "cell_type": "code",
   "execution_count": 20,
   "id": "flexible-stage",
   "metadata": {},
   "outputs": [
    {
     "name": "stdout",
     "output_type": "stream",
     "text": [
      "['(']\n",
      "[]\n",
      "[]\n",
      "[]\n",
      "['(']\n",
      "['(', '(']\n",
      "['(', '(', '(']\n",
      "['(', '(']\n"
     ]
    }
   ],
   "source": [
    "stack = []\n",
    "\n",
    "for s in P:\n",
    "    if s == \"(\":\n",
    "        stack.append(s)\n",
    "    elif stack:\n",
    "        stack.pop()\n",
    "    print(stack)"
   ]
  },
  {
   "cell_type": "code",
   "execution_count": 22,
   "id": "subtle-fraud",
   "metadata": {},
   "outputs": [],
   "source": [
    "def is_correct(P):  # \n",
    "    stack = []\n",
    "    for s in P:\n",
    "        if s == '(':\n",
    "            stack.append(s)\n",
    "        elif stack:\n",
    "            stack.pop()\n",
    "    return not stack"
   ]
  },
  {
   "cell_type": "markdown",
   "id": "proved-mouse",
   "metadata": {},
   "source": [
    "- 균형잡힌괄호 문자열 u, v 로 분리하는 코드 (u는 \"균형잡힌 괄호 문자열\"로 더 이상 분리할 수 없어야 하며, v는 빈 문자열이 될 수 있습니다.)"
   ]
  },
  {
   "cell_type": "code",
   "execution_count": 55,
   "id": "consecutive-cause",
   "metadata": {},
   "outputs": [
    {
     "name": "stdout",
     "output_type": "stream",
     "text": [
      "))((\n",
      "()\n"
     ]
    }
   ],
   "source": [
    "from collections import deque \n",
    "\n",
    "P =\"))((()\"\n",
    "que = deque(P)\n",
    "u, v = \"\", \"\"\n",
    "left, right = 0, 0\n",
    "\n",
    "while que:\n",
    "    u += que.popleft()\n",
    "    if u[-1] == \"(\":\n",
    "        left +=1\n",
    "    else: right +=1\n",
    "    \n",
    "    if left == right:\n",
    "        break\n",
    "\n",
    "v = \"\".join(list(que))\n",
    "\n",
    "print(u)\n",
    "print(v)"
   ]
  },
  {
   "cell_type": "code",
   "execution_count": 32,
   "id": "declared-diagnosis",
   "metadata": {},
   "outputs": [],
   "source": [
    "def devide(P):\n",
    "    que = deque(P)\n",
    "    u, v = \"\", \"\"\n",
    "    left, right = 0, 0\n",
    "\n",
    "    while que:\n",
    "        u += que.popleft()\n",
    "        if u[-1] == \"(\":\n",
    "            left +=1\n",
    "        else: right +=1\n",
    "\n",
    "        if left == right:\n",
    "            break\n",
    "\n",
    "    v = \"\".join(list(que))    \n",
    "    \n",
    "    return u, v"
   ]
  },
  {
   "cell_type": "markdown",
   "id": "armed-president",
   "metadata": {},
   "source": [
    "- 분리 되지 않는 괄호의 모든 부호를 바꾸는 방법"
   ]
  },
  {
   "cell_type": "code",
   "execution_count": 49,
   "id": "vocational-lending",
   "metadata": {},
   "outputs": [
    {
     "name": "stdout",
     "output_type": "stream",
     "text": [
      "(())\n"
     ]
    }
   ],
   "source": [
    "tmp = \"\"\n",
    "for s in u:\n",
    "#     print(s)\n",
    "    if s == \"(\":\n",
    "        tmp += \")\"\n",
    "    else:\n",
    "        tmp += \"(\"\n",
    "print(tmp)"
   ]
  },
  {
   "cell_type": "code",
   "execution_count": 52,
   "id": "welcome-share",
   "metadata": {},
   "outputs": [
    {
     "data": {
      "text/plain": [
       "['(', '(', ')', ')']"
      ]
     },
     "execution_count": 52,
     "metadata": {},
     "output_type": "execute_result"
    }
   ],
   "source": [
    "[\")\" if s == \"(\" else \"(\" for s in u]"
   ]
  },
  {
   "cell_type": "code",
   "execution_count": 53,
   "id": "helpful-purse",
   "metadata": {},
   "outputs": [],
   "source": [
    "def flip(u):\n",
    "    return \"\".join([\")\" if s == \"(\" else \"(\" for s in u])"
   ]
  },
  {
   "cell_type": "code",
   "execution_count": 54,
   "id": "dietary-carter",
   "metadata": {},
   "outputs": [
    {
     "data": {
      "text/plain": [
       "'(())'"
      ]
     },
     "execution_count": 54,
     "metadata": {},
     "output_type": "execute_result"
    }
   ],
   "source": [
    "flip(u)"
   ]
  },
  {
   "cell_type": "markdown",
   "id": "european-valuation",
   "metadata": {},
   "source": [
    "- 재귀적인 접근 \n",
    "\n",
    "- u와 v로 나눈 후, u 에 담겨있는 element들이 올바른 괄호 문자열이 아닐 경우, \n",
    "- 빈 문자열에 처음에 '('를 붙인다.  u의 첫번째 문자와 마지막 문자열을 제거하고, 나머지 문자열의 방향을 뒤집어 뒤에 붙인다. "
   ]
  },
  {
   "cell_type": "code",
   "execution_count": 59,
   "id": "backed-homeless",
   "metadata": {},
   "outputs": [],
   "source": [
    "def recursive(string) :\n",
    "    if string == \"\": return \"\"\n",
    "    \n",
    "    u, v = devide(string)\n",
    "    if is_correct(u):\n",
    "        return u + recursive(v)\n",
    "    else:\n",
    "        return \"(\"+recursive(v)+\")\" + flip(u[1:-1])"
   ]
  },
  {
   "cell_type": "code",
   "execution_count": 60,
   "id": "guilty-department",
   "metadata": {},
   "outputs": [],
   "source": [
    "def solution(P):\n",
    "    if is_correct(P): return P\n",
    "    else: return recursive(P)"
   ]
  },
  {
   "cell_type": "code",
   "execution_count": 61,
   "id": "downtown-interface",
   "metadata": {},
   "outputs": [
    {
     "data": {
      "text/plain": [
       "'()(())()'"
      ]
     },
     "execution_count": 61,
     "metadata": {},
     "output_type": "execute_result"
    }
   ],
   "source": [
    "solution(\"()))((()\")"
   ]
  },
  {
   "cell_type": "markdown",
   "id": "blond-forest",
   "metadata": {},
   "source": [
    "- 정리해보자면"
   ]
  },
  {
   "cell_type": "code",
   "execution_count": 63,
   "id": "sustainable-apartment",
   "metadata": {},
   "outputs": [],
   "source": [
    "from collections import deque \n",
    "def is_correct(string):  # \n",
    "    stack = []\n",
    "    for s in string:\n",
    "        if s == '(':\n",
    "            stack.append(s)\n",
    "        elif stack:\n",
    "            stack.pop()\n",
    "    return not stack\n",
    "\n",
    "def devide(string):   \n",
    "    que = deque(string)\n",
    "    u, v = \"\", \"\"\n",
    "    left, right = 0, 0\n",
    "    while que:\n",
    "        u += que.popleft()\n",
    "        if u[-1] == \"(\":\n",
    "            left +=1\n",
    "        else: right +=1\n",
    "        if left == right:\n",
    "            break\n",
    "    v = \"\".join(list(que))    \n",
    "    \n",
    "    return u, v\n",
    "\n",
    "def flip(u):\n",
    "    return \"\".join([\")\" if s == \"(\" else \"(\" for s in u])\n",
    "\n",
    "def recursive(string) :\n",
    "    if string == \"\": return \"\"\n",
    "    \n",
    "    u, v = devide(string)\n",
    "    if is_correct(u):\n",
    "        return u + recursive(v)\n",
    "    else:\n",
    "        return \"(\"+recursive(v)+\")\" + flip(u[1:-1])\n",
    "    \n",
    "def solution(P):\n",
    "    if is_correct(P): return P\n",
    "    else: return recursive(P)"
   ]
  },
  {
   "cell_type": "code",
   "execution_count": 64,
   "id": "competent-intersection",
   "metadata": {},
   "outputs": [
    {
     "data": {
      "text/plain": [
       "'()(())()'"
      ]
     },
     "execution_count": 64,
     "metadata": {},
     "output_type": "execute_result"
    }
   ],
   "source": [
    "solution(\"()))((()\")"
   ]
  }
 ],
 "metadata": {
  "kernelspec": {
   "display_name": "Python 3",
   "language": "python",
   "name": "python3"
  },
  "language_info": {
   "codemirror_mode": {
    "name": "ipython",
    "version": 3
   },
   "file_extension": ".py",
   "mimetype": "text/x-python",
   "name": "python",
   "nbconvert_exporter": "python",
   "pygments_lexer": "ipython3",
   "version": "3.6.12"
  }
 },
 "nbformat": 4,
 "nbformat_minor": 5
}
