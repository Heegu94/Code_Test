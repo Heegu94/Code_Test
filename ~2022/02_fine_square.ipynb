{
 "cells": [
  {
   "cell_type": "markdown",
   "id": "finished-boring",
   "metadata": {},
   "source": [
    "# 02 멀쩡한 사각형\n",
    "___\n",
    "\n",
    "가로 길이가 Wcm, 세로 길이가 Hcm인 직사각형 종이가 있습니다. \n",
    "\n",
    "종이에는 가로, 세로 방향과 평행하게 격자 형태로 선이 그어져 있으며, 모든 격자칸은 1cm x 1cm 크기입니다. \n",
    "\n",
    "이 종이를 격자 선을 따라 1cm × 1cm의 정사각형으로 잘라 사용할 예정이었는데, 누군가가 이 종이를 대각선 꼭지점 2개를 잇는 방향으로 잘라 놓았습니다.\n",
    "\n",
    "그러므로 현재 직사각형 종이는 크기가 같은 직각삼각형 2개로 나누어진 상태입니다. \n",
    "\n",
    "새로운 종이를 구할 수 없는 상태이기 때문에, 이 종이에서 원래 종이의 가로, 세로 방향과 평행하게 1cm × 1cm로 잘라 사용할 수 있는 만큼만 사용하기로 하였습니다.\n",
    "\n",
    "가로의 길이 W와 세로의 길이 H가 주어질 때, 사용할 수 있는 정사각형의 개수를 구하는 solution 함수를 완성해 주세요.\n",
    "\n",
    "\n",
    "***W, H : 1억 이하의 자연수***"
   ]
  },
  {
   "cell_type": "markdown",
   "id": "palestinian-military",
   "metadata": {},
   "source": [
    "___"
   ]
  },
  {
   "cell_type": "markdown",
   "id": "opening-craps",
   "metadata": {},
   "source": [
    "### 입출력 예)\n",
    "\n",
    "입출력 예 설명\n",
    "\n",
    "입출력 예 #1\n",
    "\n",
    "가로가 8, 세로가 12인 직사각형을 대각선 방향으로 자르면 총 16개 정사각형을 사용할 수 없게 됩니다. \n",
    "\n",
    "원래 직사각형에서는 96개의 정사각형을 만들 수 있었으므로, 96 - 16 = 80 을 반환합니다.\n",
    "\n"
   ]
  },
  {
   "cell_type": "code",
   "execution_count": 8,
   "id": "frank-washer",
   "metadata": {},
   "outputs": [
    {
     "data": {
      "text/plain": [
       "'C:\\\\Users\\\\ryank\\\\Desktop\\\\ryan\\\\Code_Test'"
      ]
     },
     "execution_count": 8,
     "metadata": {},
     "output_type": "execute_result"
    }
   ],
   "source": [
    "%pwd"
   ]
  },
  {
   "cell_type": "markdown",
   "id": "internal-costs",
   "metadata": {},
   "source": [
    "___\n",
    "\n",
    "### [내 풀이]\n",
    "\n",
    "1. width가 8, height가 12일때, (0,12)와 (8,0)을 지나는 직선에서 w = [2,4,6,8], h=[3,6,8,12] 에서 점과 만나는 것을 알 수 있었다.\n",
    "\n",
    "2. 즉, 두 수의 최대공약수(Greatest Common Divisor) 만큼의 사각형이 생기는 것을 볼 수 있다. \n",
    "\n",
    "![fig_01](./figure/02-1.PNG)\n",
    "\n",
    "=> GCD(w, h) = 4\n",
    "\n",
    "3. 이때 작은 부분부터 보면 수식을 더 쉽게 세울꺼 같아 잘라 보았다. \n",
    "\n",
    "![fig_02](./figure/02-2.PNG)\n",
    "\n",
    "4. 여기서, 대각선을 지나는 사각형은 **\"((w + h)/GCD) - 1\"** 인 것을 알 수 있었다. \n",
    "\n",
    "5. 그렇다면 전체에서 봤을때는 어떨까.\n",
    "\n",
    "= ** \"(((w + h)/GCD) - 1)x GCD(w,h)\" ** 가 됨을 알 수 있었다. \n",
    "\n",
    "이를 코드에 옮기면 아래와 같아 진다. "
   ]
  },
  {
   "cell_type": "code",
   "execution_count": 12,
   "id": "precise-upset",
   "metadata": {},
   "outputs": [],
   "source": [
    "w=8\n",
    "h=12\n",
    "answer=1"
   ]
  },
  {
   "cell_type": "code",
   "execution_count": 16,
   "id": "iraqi-pharmaceutical",
   "metadata": {},
   "outputs": [
    {
     "name": "stdout",
     "output_type": "stream",
     "text": [
      "80\n"
     ]
    }
   ],
   "source": [
    "import math\n",
    "\n",
    "answer = int(w*h - ((w+h)/math.gcd(w,h) - 1) * math.gcd(w,h))\n",
    "print(answer)"
   ]
  },
  {
   "cell_type": "markdown",
   "id": "familiar-wayne",
   "metadata": {},
   "source": [
    "____\n",
    "\n",
    "### [해설 중에 인상 깊었던.. 답안]\n",
    "\n"
   ]
  },
  {
   "cell_type": "code",
   "execution_count": null,
   "id": "compressed-person",
   "metadata": {},
   "outputs": [],
   "source": [
    "def gcd(a,b): return b if (a==0) else gcd(b%a,a)    \n",
    "def solution(w,h): return w*h-w-h+gcd(w,h)"
   ]
  },
  {
   "cell_type": "markdown",
   "id": "opposed-marketing",
   "metadata": {},
   "source": [
    "\n",
    "최대 공약수를 통해 접근하는 방식이 유사했다. \n",
    "\n",
    "독특한 점은.. GCD function을 직접 짯다는점.. 대단하다\n",
    "\n",
    "코데가 수학테스트가 된 느낌.\n"
   ]
  }
 ],
 "metadata": {
  "kernelspec": {
   "display_name": "Python 3",
   "language": "python",
   "name": "python3"
  },
  "language_info": {
   "codemirror_mode": {
    "name": "ipython",
    "version": 3
   },
   "file_extension": ".py",
   "mimetype": "text/x-python",
   "name": "python",
   "nbconvert_exporter": "python",
   "pygments_lexer": "ipython3",
   "version": "3.6.12"
  }
 },
 "nbformat": 4,
 "nbformat_minor": 5
}
