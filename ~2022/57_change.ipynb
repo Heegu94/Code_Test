{
 "cells": [
  {
   "cell_type": "markdown",
   "id": "unable-gateway",
   "metadata": {},
   "source": [
    "# 거스름돈 - DP([dynamic-programming](#dynamic_programming))\n",
    "___\n",
    "### [문제 설명]\n",
    "\n",
    "- Finn은 편의점에서 야간 아르바이트를 하고 있습니다. 야간에 손님이 너무 없어 심심한 Finn은 손님들께 거스름돈을 n 원을 줄 때 방법의 경우의 수를 구하기로 하였습니다.\n",
    "\n",
    "- 예를 들어서 손님께 5원을 거슬러 줘야 하고 1원, 2원, 5원이 있다면 다음과 같이 4가지 방법으로 5원을 거슬러 줄 수 있습니다.\n",
    "\n",
    "- 1원을 5개 사용해서 거슬러 준다.\n",
    "- 1원을 3개 사용하고, 2원을 1개 사용해서 거슬러 준다.\n",
    "- 1원을 1개 사용하고, 2원을 2개 사용해서 거슬러 준다.\n",
    "- 5원을 1개 사용해서 거슬러 준다.\n",
    "- 거슬러 줘야 하는 금액 n과 Finn이 현재 보유하고 있는 돈의 종류 money가 매개변수로 주어질 때, Finn이 n 원을 거슬러 줄 방법의 수를 return 하도록 solution 함수를 완성해 주세요.\n",
    "___\n",
    "### [제한 사항]\n",
    "\n",
    "- n은 100,000 이하의 자연수입니다.\n",
    "- 화폐 단위는 100종류 이하입니다.\n",
    "- 모든 화폐는 무한하게 있다고 가정합니다.\n",
    "- 정답이 커질 수 있으니, 1,000,000,007로 나눈 나머지를 return 해주세요."
   ]
  },
  {
   "cell_type": "markdown",
   "id": "younger-netscape",
   "metadata": {},
   "source": [
    "___\n",
    "### [내 풀이]\n",
    "\n",
    "- 다른 가치를 가진 동전이 주어질 때, 해당 동전들의 합으로 n이 되는 경우의 수를 구하는 문제이다. \n",
    "- 문제를 풀기 위해서는 각 동전 별로 금액을 계산할 수 있는 경우의 수를 구하고 이를 메모이제이션을 통해 누적하여 답을 도출할 수 있다.\n",
    "\n",
    "![fig1](C://Users/ryank/Desktop/ryan/Code_Test/figure/57-1.PNG)\n",
    "\n",
    "-  위와 같이 동전의 가치에 따라 발생할 수 있는 경우의 수를 구할 수 있다. \n",
    "- 가장 작은 동전으로 구할 수 있는 경우의 수는 금액에 따라 1가지씩만 존재하게 된다. \n",
    "- 하지만 그 다음으로 큰 가치의 동전에 대한 경우의 수를 계산하기 위해서는 이전에 구한 경우의 수를 합산해주어야 된다.\n",
    "\n",
    "-  예를 들어, 동전의 가치가 2일 때 3을 구할 수 있는 경우의 수는 3 - 2는 1이 되므로 1을 구할 수 있는 경우의 수와\n",
    "- 이전에 구한 동전의 가치가 1일때 3을 구하는 경우의수를 합산해 주어야한다. \n",
    "\n",
    "- 동전의 가치가 4일 때 4를 구할 수 있는 경우의 수는, (4-2)= \"2\" 를 구할 수 있는 경우의 수는 가치가 1일 때 한가지, 가치가 2일 때 한가지 이므로 총 2가지가 된다. \n",
    "\n",
    "- 이런 식으로 모든 동전 가치에 대한 값을 누적하여 위의 Total과 같이 n에 대한 경우의 수를 찾을 수 있다."
   ]
  },
  {
   "cell_type": "code",
   "execution_count": 5,
   "id": "domestic-context",
   "metadata": {},
   "outputs": [],
   "source": [
    "n = 5\n",
    "money = [1,2,5]"
   ]
  },
  {
   "cell_type": "code",
   "execution_count": 13,
   "id": "unlike-payday",
   "metadata": {},
   "outputs": [
    {
     "data": {
      "text/plain": [
       "5"
      ]
     },
     "execution_count": 13,
     "metadata": {},
     "output_type": "execute_result"
    }
   ],
   "source": [
    "a, b, c = 0,0,0\n",
    "\n",
    "ref = round(n/money[0])\n",
    "if a > ref or b > ref or c > ref:\n",
    "    break"
   ]
  },
  {
   "cell_type": "code",
   "execution_count": 29,
   "id": "included-yacht",
   "metadata": {},
   "outputs": [
    {
     "name": "stdout",
     "output_type": "stream",
     "text": [
      "[[1, 0, 0, 0, 0, 0], [1, 0, 0, 0, 0, 0], [1, 0, 0, 0, 0, 0]]\n",
      "1 1\n",
      "1 2\n",
      "1 3\n",
      "1 4\n",
      "1 5\n",
      "2 2\n",
      "2 3\n",
      "2 4\n",
      "2 5\n",
      "5 5\n"
     ]
    }
   ],
   "source": [
    "dp = [[1]+[0]*(n) for _ in range(len(money))]\n",
    "print(dp)\n",
    "\n",
    "for coin in money:\n",
    "    for price in range(coin, n+1):\n",
    "        print(coin, price)"
   ]
  },
  {
   "cell_type": "code",
   "execution_count": 34,
   "id": "adjustable-charter",
   "metadata": {},
   "outputs": [
    {
     "name": "stdout",
     "output_type": "stream",
     "text": [
      "[1, 0, 0, 0, 0, 0]\n",
      "[1, 1, 0, 0, 0, 0]\n",
      "[1, 1, 1, 0, 0, 0]\n",
      "[1, 1, 1, 1, 0, 0]\n",
      "[1, 1, 1, 1, 1, 0]\n",
      "[1, 1, 1, 1, 1, 1]\n",
      "[1, 1, 2, 1, 1, 1]\n",
      "[1, 1, 2, 2, 1, 1]\n",
      "[1, 1, 2, 2, 3, 1]\n",
      "[1, 1, 2, 2, 3, 3]\n",
      "[1, 1, 2, 2, 3, 4]\n",
      "4\n"
     ]
    }
   ],
   "source": [
    "dp = [1] + [0]*n\n",
    "print(dp)\n",
    "\n",
    "for coin in money:\n",
    "    for price in range(coin, n+1):\n",
    "        if price >= coin:\n",
    "            dp[price] += dp[price - coin]\n",
    "        print(dp)\n",
    "print()"
   ]
  },
  {
   "cell_type": "code",
   "execution_count": null,
   "id": "middle-darwin",
   "metadata": {},
   "outputs": [],
   "source": [
    "def solution(n, money):\n",
    "    dp = [1] + [0]*n\n",
    "\n",
    "    for coin in money:\n",
    "        for price in range(coin, n+1):\n",
    "            if price >= coin:\n",
    "                dp[price] += dp[price - coin]\n",
    "    return dp[-1]%1000000007   "
   ]
  },
  {
   "cell_type": "markdown",
   "id": "promising-baking",
   "metadata": {},
   "source": [
    "___\n",
    "## dynamic_programming\n",
    "### =동적 계획법 \n",
    "\n",
    "### **1. DP 속성**\n",
    "1. Overlapping Subproblem (부분 문제가 겹친다.)\n",
    "2. Optimal Substructure (최적 부분 구조)\n",
    "\n",
    "</br>\n",
    "\n",
    "### *Overlapping Subproblem*\n",
    "대표적인 예로 피보나치 수를 들 수 있다.\n",
    "> Fn = Fn-1 + Fn-2\n",
    "\n",
    "여기서 Fn을 큰 문제로 생각하고, 우측 항에 있는 Fn-1, Fn-2를 작은 문제로 나눈다고 생각하면 된다.\n",
    "\n",
    "</br>\n",
    "\n",
    "\n",
    "### *Optimal Substructure*\n",
    "\n",
    "문제의 정답을 작은 문제의 정답을 합하는 것으로 구할 수 있다.\n",
    "> 위의 예에서 작은 문제로 쪼갠 우측항의 Fn-1 + Fn-2로 큰 문제인 Fn의 값을 구할 수 있다.\n",
    "\n",
    "</br>\n",
    "\n",
    "\n",
    "### *그렇다면 어떻게 해야하는 가?*\n",
    "DP는 Optimal Substructure를 만족하기 때문에 작은 문제로 큰 문제의 정답을 구할 수 있다.\n",
    "\n",
    "이때, 작은 문제의 정답을 메모해둔다. (코드에서는 배열로써 구현함)\n",
    "\n",
    "\n",
    "</br>\n",
    "\n",
    "### *그런데 DP를 풀 때 어떤 방식으로 접근해야하는 가?*\n",
    "1. Top-Down\n",
    "2. Bottom-Up\n",
    "\n",
    "#### *1.Top-Down*\n",
    "큰 문제를 작은 문제로 나눈다.\n",
    "> F(n-1), F(n-2)로 나눈다.\n",
    "\n",
    "작은 문제를 푼다.\n",
    "> F(n-1) + F(n-2)\n",
    "\n",
    "재귀호출을 하는 방식으로 푼다.\n",
    "\n",
    "#### *2.Bottom-Up*\n",
    "    1) 문제를 크기가 작은 문제부터 차례대로 쓴다.\n",
    "\n",
    "    2) 문제의 크기를 조금씩 크게 만들면서 문제를 푼다.\n",
    "\n",
    "    3) 작은 문제를 풀면서 큰 문제의 답을 구한다.\n",
    "    \n",
    "___"
   ]
  }
 ],
 "metadata": {
  "kernelspec": {
   "display_name": "Python 3",
   "language": "python",
   "name": "python3"
  },
  "language_info": {
   "codemirror_mode": {
    "name": "ipython",
    "version": 3
   },
   "file_extension": ".py",
   "mimetype": "text/x-python",
   "name": "python",
   "nbconvert_exporter": "python",
   "pygments_lexer": "ipython3",
   "version": "3.6.12"
  }
 },
 "nbformat": 4,
 "nbformat_minor": 5
}
