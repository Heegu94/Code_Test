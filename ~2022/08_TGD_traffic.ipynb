{
 "cells": [
  {
   "cell_type": "markdown",
   "id": "spread-contractor",
   "metadata": {},
   "source": [
    "# [추석 트래픽 문제]\n",
    "___\n",
    "\n",
    "### [문제 설명]\n",
    "\n",
    "이번 추석에도 시스템 장애가 없는 명절을 보내고 싶은 어피치는 서버를 증설해야 할지 고민이다. \n",
    "\n",
    "장애 대비용 서버 증설 여부를 결정하기 위해 작년 추석 기간인 9월 15일 로그 데이터를 분석한 후 초당 최대 처리량을 계산해보기로 했다. \n",
    "\n",
    "초당 최대 처리량은 요청의 응답 완료 여부에 관계없이 임의 시간부터 1초(=1,000밀리초)간 처리하는 요청의 최대 개수를 의미한다.\n",
    "___\n",
    "\n",
    "### [입력 형식]\n",
    "\n",
    "- solution 함수에 전달되는 lines 배열은 N(1 ≦ N ≦ 2,000)개의 로그 문자열로 되어 있으며, 각 로그 문자열마다 요청에 대한 응답완료시간 S와 처리시간 T가 공백으로 구분되어 있다.\n",
    "\n",
    "- 응답완료시간 S는 작년 추석인 2016년 9월 15일만 포함하여 고정 길이 2016-09-15 hh:mm:ss.sss 형식으로 되어 있다.\n",
    "\n",
    "- 처리시간 T는 0.1s, 0.312s, 2s 와 같이 최대 소수점 셋째 자리까지 기록하며 뒤에는 초 단위를 의미하는 s로 끝난다.\n",
    "\n",
    "- 예를 들어, 로그 문자열 2016-09-15 03:10:33.020 0.011s은 \"2016년 9월 15일 오전 3시 10분 33.010초\"부터 \"2016년 9월 15일 오전 3시 10분 33.020초\"까지 \"0.011초\" 동안 처리된 요청을 의미한다. (처리시간은 시작시간과 끝시간을 포함)\n",
    "\n",
    "- 서버에는 타임아웃이 3초로 적용되어 있기 때문에 처리시간은 0.001 ≦ T ≦ 3.000이다.\n",
    "\n",
    "- lines 배열은 응답완료시간 S를 기준으로 오름차순 정렬되어 있다.\n",
    "\n",
    "___\n",
    "\n",
    "### [출력 형식]\n",
    "\n",
    "- solution 함수에서는 로그 데이터 lines 배열에 대해 초당 최대 처리량을 리턴한다.\n",
    "\n",
    "___\n",
    "\n",
    "### [입출력 예제]\n",
    "\n",
    "#### [예제1]\n",
    "\n",
    "- 입력: [\n",
    "\"2016-09-15 01:00:04.001 2.0s\",\n",
    "\"2016-09-15 01:00:07.000 2s\"\n",
    "]\n",
    "\n",
    "- 출력: 1\n",
    "\n",
    "#### [예제2]\n",
    "\n",
    "- 입력: [\n",
    "\"2016-09-15 01:00:04.002 2.0s\",\n",
    "\"2016-09-15 01:00:07.000 2s\"\n",
    "]\n",
    "\n",
    "- 출력: 2\n",
    "\n",
    "- 설명: 처리시간은 시작시간과 끝시간을 포함하므로\n",
    "첫 번째 로그는 01:00:02.003 ~ 01:00:04.002에서 2초 동안 처리되었으며,\n",
    "두 번째 로그는 01:00:05.001 ~ 01:00:07.000에서 2초 동안 처리된다.\n",
    "따라서, 첫 번째 로그가 끝나는 시점과 두 번째 로그가 시작하는 시점의 구간인 01:00:04.002 ~ 01:00:05.001 1초 동안 최대 2개가 된다.\n",
    "\n",
    "#### [예제3]\n",
    "\n",
    "- 입력: [\n",
    "\"2016-09-15 20:59:57.421 0.351s\",\n",
    "\"2016-09-15 20:59:58.233 1.181s\",\n",
    "\"2016-09-15 20:59:58.299 0.8s\",\n",
    "\"2016-09-15 20:59:58.688 1.041s\",\n",
    "\"2016-09-15 20:59:59.591 1.412s\",\n",
    "\"2016-09-15 21:00:00.464 1.466s\",\n",
    "\"2016-09-15 21:00:00.741 1.581s\",\n",
    "\"2016-09-15 21:00:00.748 2.31s\",\n",
    "\"2016-09-15 21:00:00.966 0.381s\",\n",
    "\"2016-09-15 21:00:02.066 2.62s\"\n",
    "]\n",
    "\n",
    "- 출력: 7\n",
    "\n",
    "- 설명: 아래 타임라인 그림에서 빨간색으로 표시된 1초 각 구간의 처리량을 구해보면 (1)은 4개, (2)는 7개, (3)는 2개임을 알 수 있다. 따라서 초당 최대 처리량은 7이 되며, 동일한 최대 처리량을 갖는 1초 구간은 여러 개 존재할 수 있으므로 이 문제에서는 구간이 아닌 개수만 출력한다.\n",
    "\n",
    "![figure](C:/Users/ryank/Desktop/ryan/Code_Test/figure/08-1.PNG)\n",
    "___"
   ]
  },
  {
   "cell_type": "markdown",
   "id": "hidden-desktop",
   "metadata": {},
   "source": [
    "### [내 풀이]\n",
    "\n",
    "- 우선 float 연산을 하기 위해서 lines list에 담겨 있는 time 정보를 second(초) 로 바꿔줄 function을 만들어 주었다."
   ]
  },
  {
   "cell_type": "code",
   "execution_count": null,
   "id": "virtual-original",
   "metadata": {},
   "outputs": [],
   "source": [
    "# lines = [ \"2016-09-15 01:00:04.002 2.0s\", \"2016-09-15 01:00:07.000 2s\"]\n",
    "lines = [\n",
    "\"2016-09-15 20:59:57.421 0.351s\",\n",
    "\"2016-09-15 20:59:58.233 1.181s\",\n",
    "\"2016-09-15 20:59:58.299 0.8s\",\n",
    "\"2016-09-15 20:59:58.688 1.041s\",\n",
    "\"2016-09-15 20:59:59.591 1.412s\",\n",
    "\"2016-09-15 21:00:00.464 1.466s\",\n",
    "\"2016-09-15 21:00:00.741 1.581s\",\n",
    "\"2016-09-15 21:00:00.748 2.31s\",\n",
    "\"2016-09-15 21:00:00.966 0.381s\",\n",
    "\"2016-09-15 21:00:02.066 2.62s\"\n",
    "]"
   ]
  },
  {
   "cell_type": "markdown",
   "id": "wanted-settle",
   "metadata": {},
   "source": [
    "- 우선 float 연산을 하기 위해서 lines list에 담겨 있는 time 정보를 second(초) 로 바꿔줄 function을 만들어 주었다."
   ]
  },
  {
   "cell_type": "code",
   "execution_count": 57,
   "id": "cosmetic-empire",
   "metadata": {},
   "outputs": [],
   "source": [
    "def time2sec(tmp):\n",
    "    return (float(tmp[:2])*60+float(tmp[3:5]))*60+(float(tmp[6:]))\n",
    "# def sec2time()"
   ]
  },
  {
   "cell_type": "markdown",
   "id": "coordinated-absolute",
   "metadata": {},
   "source": [
    "- 그 다음 초로 변환된 해당 로그 list 를 시작시간과 종료시간으로 변환한다. \n",
    "\n",
    "\n",
    "- 변환된 element 들을 두개의 list에 append 하여 담았다. \n",
    "- 하나는 로그 순 list, 다른 하나는 시간 순으로 정렬한다."
   ]
  },
  {
   "cell_type": "code",
   "execution_count": 99,
   "id": "moderate-folks",
   "metadata": {},
   "outputs": [
    {
     "name": "stdout",
     "output_type": "stream",
     "text": [
      "[[75597.071, 75597.421], [75597.053, 75598.233], [75597.5, 75598.299], [75597.648, 75598.688], [75598.18, 75599.591], [75598.999, 75600.464], [75599.161, 75600.741], [75598.439, 75600.748], [75600.586, 75600.966], [75599.447, 75602.066]]\n",
      "[75597.071, 75597.421, 75597.053, 75598.233, 75597.5, 75598.299, 75597.648, 75598.688, 75598.18, 75599.591, 75598.999, 75600.464, 75599.161, 75600.741, 75598.439, 75600.748, 75600.586, 75600.966, 75599.447, 75602.066]\n"
     ]
    }
   ],
   "source": [
    "s_e_times = []\n",
    "laps = []\n",
    "# lap_f = []\n",
    "for line in lines:\n",
    "    f_time = time2sec(line[11:23]) # 종료시간\n",
    "    spend = float(line[24:][:-1])\n",
    "    s_time = float('%0.3f' %(f_time-spend+0.001)) # 시작시간\n",
    "    laps.append(s_time)\n",
    "    laps.append(f_time)\n",
    "    s_e_times.append([s_time, f_time])\n",
    "\n",
    "sorted(laps)\n",
    "\n",
    "print(s_e_times)\n",
    "print(laps)"
   ]
  },
  {
   "cell_type": "markdown",
   "id": "auburn-stanley",
   "metadata": {},
   "source": [
    "- 시간 순으로 정리된 list를 for 문을 통해 돌며, 조건문을 걸어 start-time 과 end-time을 모아 놓은 list를 돌며, tmp_ans에 count 한다.\n",
    "\n",
    "- 이전 tmp_answer와 현재 answer와 비교해서 큰 경우만 남긴다. \n",
    "\n"
   ]
  },
  {
   "cell_type": "code",
   "execution_count": 102,
   "id": "major-franchise",
   "metadata": {},
   "outputs": [
    {
     "name": "stdout",
     "output_type": "stream",
     "text": [
      "7\n"
     ]
    }
   ],
   "source": [
    "answer=0\n",
    "tmp_ans = 0\n",
    "for lap in laps:\n",
    "    if lap >= s_e_times[-1][1]:\n",
    "        break\n",
    "    for se_time in s_e_times:\n",
    "        if lap <= se_time[0] and se_time[0]<(lap+1):\n",
    "            tmp_ans +=1\n",
    "        elif lap <= se_time[1] and se_time[1]<(lap+1):\n",
    "            tmp_ans +=1\n",
    "        elif se_time[0] <= lap and (lap+1) <= se_time[1]:\n",
    "            tmp_ans+=1\n",
    "        else:\n",
    "            pass\n",
    "    if answer < tmp_ans:\n",
    "        answer=tmp_ans\n",
    "    \n",
    "    tmp_ans=0\n",
    "if answer == 0:\n",
    "    answer +=1\n",
    "\n",
    "print(answer)"
   ]
  },
  {
   "cell_type": "markdown",
   "id": "informational-guarantee",
   "metadata": {},
   "source": [
    "____\n",
    "\n",
    "### [해답 정리 코드]\n",
    "\n",
    "- 처음에는 ms 단위로 카운트 업하며 확인하는 방법을 사용해 보았지만, 너무 많은 시간소요로 시간 초과에 걸린다. \n",
    "\n",
    "- 다시 생각해보며, ms 단위로 돌 필요가 없이, **시작 시간의 +1 초** 씩으로만 count 하는 것이 훨씬 시간소요가 적다."
   ]
  },
  {
   "cell_type": "code",
   "execution_count": null,
   "id": "promising-corrections",
   "metadata": {},
   "outputs": [],
   "source": [
    "def time2sec(tmp):\n",
    "    return (float(tmp[:2])*60+float(tmp[3:5]))*60+(float(tmp[6:]))\n",
    "\n",
    "def solution(lines):\n",
    "    se_times = []\n",
    "    laps=[]\n",
    "    answer=0\n",
    "    tmp_ans = 0\n",
    "\n",
    "    for line in lines:\n",
    "        f_time = time2sec(line[11:23]) # 종료시간\n",
    "        spend = float(line[24:][:-1])\n",
    "        s_time = float('%0.3f' %(f_time-spend+0.001)) # 시작시간\n",
    "        laps.append(s_time)\n",
    "        laps.append(f_time)\n",
    "        se_times.append([s_time, f_time])\n",
    "\n",
    "    for lap in laps:\n",
    "        if lap >= se_times[-1][1]:\n",
    "            break\n",
    "        for se_time in se_times:\n",
    "            if lap <= se_time[0] and se_time[0]<(lap+1):\n",
    "                tmp_ans +=1\n",
    "            elif lap <= se_time[1] and se_time[1]<(lap+1):\n",
    "                tmp_ans +=1\n",
    "            elif se_time[0] <= lap and (lap+1) <= se_time[1]:\n",
    "                tmp_ans+=1\n",
    "            else:\n",
    "                pass\n",
    "        if answer < tmp_ans:\n",
    "            answer=tmp_ans\n",
    "\n",
    "        tmp_ans=0\n",
    "    if answer == 0:\n",
    "        answer +=1\n",
    "\n",
    "    return answer"
   ]
  }
 ],
 "metadata": {
  "kernelspec": {
   "display_name": "Python 3",
   "language": "python",
   "name": "python3"
  },
  "language_info": {
   "codemirror_mode": {
    "name": "ipython",
    "version": 3
   },
   "file_extension": ".py",
   "mimetype": "text/x-python",
   "name": "python",
   "nbconvert_exporter": "python",
   "pygments_lexer": "ipython3",
   "version": "3.6.12"
  }
 },
 "nbformat": 4,
 "nbformat_minor": 5
}
