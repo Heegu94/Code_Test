{
 "cells": [
  {
   "cell_type": "markdown",
   "id": "amateur-chemistry",
   "metadata": {},
   "source": [
    "# [3진법 뒤집기]\n",
    "___\n",
    "\n",
    "### [문제 설명]\n",
    "\n",
    "- 자연수 n이 매개변수로 주어집니다. n을 3진법 상에서 앞뒤로 뒤집은 후, 이를 다시 10진법으로 표현한 수를 return 하도록 solution 함수를 완성해주세요.\n",
    "\n",
    "___\n",
    "### [제한 사항]\n",
    "\n",
    "- n은 1 이상 100,000,000 이하인 자연수입니다.\n",
    "\n",
    "___\n",
    "\n",
    "### [입출력 예]\n",
    "\n",
    "- n = 45, result = 7\n",
    "- n = 125, result = 229\n",
    "___\n",
    "\n",
    "### [내 풀이]\n",
    "\n",
    "- 자연수 n을 3진법으로 변환후, 순서를 뒤집어서 다시 10진법으로 변환시키는 문제이다. \n",
    "- 자연수 n을 3으로 더이상 나누어 지지않을 때까지 나오는 수들의 나머지(reminder)들을 이어붙인다. (그대로 이어붙이면 기존 3진법에서 순서가 뒤집힌 결과..도출)\n",
    "- 이때 출력으로 나온 str 에 대해 int(str, k) 의, k=3 을 통해 str을 3진법에서 10진법 수로 변환하여 나타낸다. "
   ]
  },
  {
   "cell_type": "code",
   "execution_count": 16,
   "id": "electronic-radical",
   "metadata": {},
   "outputs": [],
   "source": [
    "n = 45"
   ]
  },
  {
   "cell_type": "code",
   "execution_count": 17,
   "id": "professional-pottery",
   "metadata": {},
   "outputs": [
    {
     "name": "stdout",
     "output_type": "stream",
     "text": [
      "0\n",
      "00\n",
      "002\n",
      "0021\n",
      "7\n"
     ]
    }
   ],
   "source": [
    "answer = ''\n",
    "while n>0:\n",
    "    n, re = divmod(n,3)\n",
    "    answer += str(re)\n",
    "    print(answer)\n",
    "print(int(answer, 3))"
   ]
  },
  {
   "cell_type": "code",
   "execution_count": 18,
   "id": "spiritual-tulsa",
   "metadata": {},
   "outputs": [],
   "source": [
    "def solution(n):\n",
    "    answer=''\n",
    "    while n>0:\n",
    "        n, re = divmod(n, 3)\n",
    "        answer += str(re)\n",
    "    return int(answer, 3)"
   ]
  },
  {
   "cell_type": "markdown",
   "id": "tender-hepatitis",
   "metadata": {},
   "source": [
    "- 성공!"
   ]
  }
 ],
 "metadata": {
  "kernelspec": {
   "display_name": "Python 3",
   "language": "python",
   "name": "python3"
  },
  "language_info": {
   "codemirror_mode": {
    "name": "ipython",
    "version": 3
   },
   "file_extension": ".py",
   "mimetype": "text/x-python",
   "name": "python",
   "nbconvert_exporter": "python",
   "pygments_lexer": "ipython3",
   "version": "3.6.12"
  }
 },
 "nbformat": 4,
 "nbformat_minor": 5
}
