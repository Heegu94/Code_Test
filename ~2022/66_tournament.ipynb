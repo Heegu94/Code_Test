{
 "cells": [
  {
   "cell_type": "markdown",
   "id": "db372673-a5d8-4101-ac16-289c2af36823",
   "metadata": {},
   "source": [
    "# 예상 대진표\n",
    "___\n",
    "\n",
    "### [문제 설명]\n",
    "- △△ 게임대회가 개최되었습니다. 이 대회는 N명이 참가하고, 토너먼트 형식으로 진행됩니다. \n",
    "- N명의 참가자는 각각 1부터 N번을 차례대로 배정받습니다. 그리고, 1번↔2번, 3번↔4번, ... , N-1번↔N번의 참가자끼리 게임을 진행합니다. 각 게임에서 이긴 사람은 다음 라운드에 진출할 수 있습니다. \n",
    "- 이때, 다음 라운드에 진출할 참가자의 번호는 다시 1번부터 N/2번을 차례대로 배정받습니다. \n",
    "- 만약 1번↔2번 끼리 겨루는 게임에서 2번이 승리했다면 다음 라운드에서 1번을 부여받고, 3번↔4번에서 겨루는 게임에서 3번이 승리했다면 다음 라운드에서 2번을 부여받게 됩니다. 게임은 최종 한 명이 남을 때까지 진행됩니다.\n",
    "\n",
    "- 이때, 처음 라운드에서 A번을 가진 참가자는 경쟁자로 생각하는 B번 참가자와 몇 번째 라운드에서 만나는지 궁금해졌습니다. \n",
    "- 게임 참가자 수 N, 참가자 번호 A, 경쟁자 번호 B가 함수 solution의 매개변수로 주어질 때, 처음 라운드에서 A번을 가진 참가자는 경쟁자로 생각하는 B번 참가자와 몇 번째 라운드에서 만나는지 return 하는 solution 함수를 완성해 주세요. 단, A번 참가자와 B번 참가자는 서로 붙게 되기 전까지 항상 이긴다고 가정합니다.\n",
    "\n",
    "___\n",
    "\n",
    "### [제한사항]\n",
    "\n",
    "- N : 21 이상 220 이하인 자연수 (2의 지수 승으로 주어지므로 부전승은 발생하지 않습니다.)\n",
    "- A, B : N 이하인 자연수 (단, A ≠ B 입니다.)\n",
    "\n",
    "___\n",
    "\n",
    "### [입출력 예]\n",
    "\n",
    "``` python \n",
    "N\tA\tB\tanswer\n",
    "8\t4\t7\t3\n",
    "```\n",
    "\n"
   ]
  },
  {
   "cell_type": "code",
   "execution_count": 2,
   "id": "abb6acbf-7ba1-4070-9dc1-01634bcba2f4",
   "metadata": {},
   "outputs": [],
   "source": [
    "N=8\n",
    "A=4\n",
    "B=7"
   ]
  },
  {
   "cell_type": "code",
   "execution_count": 39,
   "id": "7e1e1e74-dd41-4c1f-a0dd-0ebfae00ca62",
   "metadata": {},
   "outputs": [
    {
     "name": "stdout",
     "output_type": "stream",
     "text": [
      "[0, 0, 0, 4, 0, 0, 7, 0]\n",
      "0 0\n",
      "[0]\n",
      "0 4\n",
      "[0, 4]\n",
      "0 0\n",
      "[0, 4, 0]\n",
      "7 0\n",
      "[0, 4, 0, 7]\n",
      "========\n",
      "[0, 4, 0, 7]\n",
      "0 4\n",
      "[4]\n",
      "0 7\n",
      "[4, 7]\n",
      "========\n",
      "3\n"
     ]
    }
   ],
   "source": [
    "init_status = [0]*N\n",
    "init_status[A-1]=A\n",
    "init_status[B-1]=B\n",
    "cnt = 1\n",
    "while True:\n",
    "    que = []\n",
    "    print(init_status)\n",
    "    for i in range(len(init_status)//2):\n",
    "        x = init_status[i*2]\n",
    "        y = init_status[i*2+1]\n",
    "        print(x, y)\n",
    "        if x == y:\n",
    "            que.append(x)\n",
    "        else:\n",
    "            if x == 0 : que.append(y)\n",
    "            else: que.append(x)\n",
    "        print(que)\n",
    "        \n",
    "    cnt+=1    \n",
    "    init_status = que\n",
    "    print(\"========\")\n",
    "    if len(que)==2:\n",
    "        break\n",
    "print(cnt)"
   ]
  },
  {
   "cell_type": "code",
   "execution_count": 40,
   "id": "41ee692c-8685-4da8-b7b9-0fe2db326102",
   "metadata": {},
   "outputs": [],
   "source": [
    "def solution(N, A, B):\n",
    "    init_status = [0]*N\n",
    "    init_status[A-1]=A\n",
    "    init_status[B-1]=B\n",
    "    cnt = 1\n",
    "    \n",
    "    while True:\n",
    "        que = []\n",
    "        for i in range(len(init_status)//2):\n",
    "            x = init_status[i*2]\n",
    "            y = init_status[i*2+1]\n",
    "            if x == y:\n",
    "                que.append(x)\n",
    "            else:\n",
    "                if x == 0 : que.append(y)\n",
    "                else: que.append(x)\n",
    "        cnt+=1    \n",
    "        init_status = que\n",
    "        if len(que)==2: break\n",
    "    return cnt"
   ]
  },
  {
   "cell_type": "code",
   "execution_count": 41,
   "id": "c5ab5009-b08d-4ab7-9f20-2281469d4889",
   "metadata": {},
   "outputs": [
    {
     "data": {
      "text/plain": [
       "3"
      ]
     },
     "execution_count": 41,
     "metadata": {},
     "output_type": "execute_result"
    }
   ],
   "source": [
    "solution(N, A, B)"
   ]
  },
  {
   "cell_type": "markdown",
   "id": "f3b1c450-3ac0-434d-8c74-97735ee83a2f",
   "metadata": {},
   "source": [
    "- 실패...\n",
    "- 더 간단하게 생각해보자\n",
    "\n",
    "___\n",
    "\n",
    "- 4번과 7번은 항상 이긴다.\n",
    "\n",
    "1. 1번째 토너먼트 경기\n",
    "    - 4번은 2번이되고, 7번은 4번이 된다. [ = (A+1)//2 , (B+1)//2 ]\n",
    "    \n",
    "\n",
    "2. 2번째 토너먼트 경기\n",
    "    - 2번은 1번이되고, 4번은 2번이 된다.\n",
    "    \n",
    "    \n",
    "    \n",
    "3. 3번째 토너먼트 경기\n",
    "    - 4번이었던 1번과, 7번이었던 2번이 만남.\n",
    "\n",
    "위와 같은 과정을 정리하여 보면 아래의 코드와 같다."
   ]
  },
  {
   "cell_type": "code",
   "execution_count": 42,
   "id": "f73f7da9-3d4b-4fa3-84d6-74876f978edf",
   "metadata": {},
   "outputs": [
    {
     "name": "stdout",
     "output_type": "stream",
     "text": [
      "3\n"
     ]
    }
   ],
   "source": [
    "cnt = 0\n",
    "while A!=B:\n",
    "    cnt+=1\n",
    "    A, B = (A+1)//2, (B+1)//2\n",
    "    \n",
    "print(cnt)\n",
    "    "
   ]
  },
  {
   "cell_type": "code",
   "execution_count": 43,
   "id": "c03d065d-941a-4e2b-a13e-d64f27d550ad",
   "metadata": {},
   "outputs": [],
   "source": [
    "def solution(N, A, B):\n",
    "    cnt = 0\n",
    "    while A!=B:\n",
    "        cnt+=1\n",
    "        A, B = (A+1)//2, (B+1)//2\n",
    "    return cnt"
   ]
  }
 ],
 "metadata": {
  "kernelspec": {
   "display_name": "Python 3",
   "language": "python",
   "name": "python3"
  },
  "language_info": {
   "codemirror_mode": {
    "name": "ipython",
    "version": 3
   },
   "file_extension": ".py",
   "mimetype": "text/x-python",
   "name": "python",
   "nbconvert_exporter": "python",
   "pygments_lexer": "ipython3",
   "version": "3.8.10"
  }
 },
 "nbformat": 4,
 "nbformat_minor": 5
}
