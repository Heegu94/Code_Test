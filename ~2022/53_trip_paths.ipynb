{
 "cells": [
  {
   "cell_type": "markdown",
   "id": "checked-worker",
   "metadata": {},
   "source": [
    "# 여행 경로\n",
    "___\n",
    "\n",
    "### [문제 설명]\n",
    "\n",
    "- 주어진 항공권을 모두 이용하여 여행경로를 짜려고 합니다. 항상 \"ICN\" 공항에서 출발합니다.\n",
    "\n",
    "- 항공권 정보가 담긴 2차원 배열 tickets가 매개변수로 주어질 때, 방문하는 공항 경로를 배열에 담아 return 하도록 solution 함수를 작성해주세요.\n",
    "\n",
    "___\n",
    "### [제한사항]\n",
    "\n",
    "- 모든 공항은 알파벳 대문자 3글자로 이루어집니다.\n",
    "- 주어진 공항 수는 3개 이상 10,000개 이하입니다.\n",
    "- tickets의 각 행 [a, b]는 a 공항에서 b 공항으로 가는 항공권이 있다는 의미입니다.\n",
    "- 주어진 항공권은 모두 사용해야 합니다.\n",
    "- 만일 가능한 경로가 2개 이상일 경우 알파벳 순서가 앞서는 경로를 return 합니다.\n",
    "- 모든 도시를 방문할 수 없는 경우는 주어지지 않습니다.\n",
    "\n",
    "___\n",
    "\n",
    "### [입출력 예 설명]\n",
    "\n",
    "![fig1](C:/Users/ryank/Desktop/ryan/Code_Test/figure/53-1.PNG)\n",
    "\n",
    "- 예제 #1\n",
    "\n",
    "> [\"ICN\", \"JFK\", \"HND\", \"IAD\"] 순으로 방문할 수 있습니다.\n",
    "\n",
    "- 예제 #2\n",
    "\n",
    "> [\"ICN\", \"SFO\", \"ATL\", \"ICN\", \"ATL\", \"SFO\"] 순으로 방문할 수도 있지만 [\"ICN\", \"ATL\", \"ICN\", \"SFO\", \"ATL\", \"SFO\"] 가 알파벳 순으로 앞섭니다."
   ]
  },
  {
   "cell_type": "markdown",
   "id": "provincial-evolution",
   "metadata": {},
   "source": [
    "___ \n",
    "### [내 풀이]\n",
    "\n",
    "1. { 시작점 - [도착점들] } 쌍의 그래프를 만듭니다.\n",
    "2. 이때 도착점들의 리스트는 역순으로 정렬시킵니다.\n",
    "3. DFS 알고리즘을 통해서 모든 점을 순회합니다.\n",
    "    - 문제 조건에 따라, \"ICN\"을 스택에 먼저 넣습니다.\n",
    "    - 스택이 빌때까지 다음을 반복합니다.\n",
    "        - 스택에서 가장 위의 저장된 데이터 top을 꺼내옵니다.\n",
    "        - 만약 top이 그래프에 없거나, top을 시작점으로 하는 티켓이 없는 경우, 스택에서 꺼내와 visit에 저장합니다.\n",
    "            - 이와 같이 \n",
    "        - 2번이 아니라면, top을 시작점으로 하는 끝점 중 가장 마지막 지점을 꺼내와 스택에 저장합니다.\n",
    "4. 마지막으로 저장된 visit을 역순으로 뒤집는다!"
   ]
  },
  {
   "cell_type": "code",
   "execution_count": 82,
   "id": "operational-confusion",
   "metadata": {},
   "outputs": [],
   "source": [
    "# tickets = [[\"ICN\", \"JFK\"], [\"HND\", \"IAD\"], [\"JFK\", \"HND\"]]\n",
    "tickets = [[\"ICN\", \"SFO\"], [\"ICN\", \"ATL\"], [\"SFO\", \"ATL\"], [\"ATL\", \"ICN\"], [\"ATL\",\"SFO\"]]"
   ]
  },
  {
   "cell_type": "code",
   "execution_count": 63,
   "id": "palestinian-adjustment",
   "metadata": {},
   "outputs": [
    {
     "name": "stdout",
     "output_type": "stream",
     "text": [
      "{'ICN': ['SFO', 'ATL'], 'SFO': ['ATL'], 'ATL': ['SFO', 'ICN']}\n"
     ]
    }
   ],
   "source": [
    "dest = {ap1: [] for ap1, ap2 in tickets}\n",
    "\n",
    "for ap1, ap2 in tickets:\n",
    "    dest[ap1].append(ap2)\n",
    "    \n",
    "for des in dest:\n",
    "    dest[des].sort(reverse=True)\n",
    "print(dest)"
   ]
  },
  {
   "cell_type": "code",
   "execution_count": 89,
   "id": "raised-photography",
   "metadata": {},
   "outputs": [
    {
     "name": "stdout",
     "output_type": "stream",
     "text": [
      "defaultdict(<class 'list'>, {'ICN': ['SFO', 'ATL'], 'SFO': ['ATL'], 'ATL': ['ICN', 'SFO']})\n",
      "defaultdict(<class 'list'>, {'ICN': ['SFO', 'ATL'], 'SFO': ['ATL'], 'ATL': ['SFO', 'ICN']})\n"
     ]
    }
   ],
   "source": [
    "from collections import defaultdict\n",
    "\n",
    "dest = defaultdict(list)\n",
    "\n",
    "for ap1, ap2 in tickets:\n",
    "    dest[ap1].append(ap2)\n",
    "    \n",
    "print(dest)\n",
    "for des in dest:\n",
    "    dest[des].sort(reverse=True)\n",
    "    \n",
    "print(dest)"
   ]
  },
  {
   "cell_type": "code",
   "execution_count": null,
   "id": "ordered-holmes",
   "metadata": {},
   "outputs": [],
   "source": [
    "\n",
    "1. \"ICN\" -> \"BOO\"\n",
    "2. \"ICN\" -> \"COO\"\n",
    "3. \"COO\" -> \"ICN\"\n",
    "\n",
    "stack = [\"ICN\"]"
   ]
  },
  {
   "cell_type": "code",
   "execution_count": 91,
   "id": "consecutive-fishing",
   "metadata": {},
   "outputs": [
    {
     "name": "stdout",
     "output_type": "stream",
     "text": [
      "{'ICN': ['COO', 'BOO'], 'COO': ['ICN']}\n"
     ]
    }
   ],
   "source": [
    "dest = {\"ICN\": [\"BOO\", \"COO\"], \"COO\": [\"ICN\"]}\n",
    "for des in dest:\n",
    "    dest[des].sort(reverse=True)\n",
    "print(dest)"
   ]
  },
  {
   "cell_type": "code",
   "execution_count": 92,
   "id": "apart-football",
   "metadata": {},
   "outputs": [
    {
     "name": "stdout",
     "output_type": "stream",
     "text": [
      "[]\n",
      "['ICN', 'BOO']\n",
      "{'ICN': ['COO'], 'COO': ['ICN']}\n",
      "===========================================\n",
      "['BOO']\n",
      "['ICN']\n",
      "{'ICN': ['COO'], 'COO': ['ICN']}\n",
      "===========================================\n",
      "['BOO']\n",
      "['ICN', 'COO']\n",
      "{'ICN': [], 'COO': ['ICN']}\n",
      "===========================================\n",
      "['BOO']\n",
      "['ICN', 'COO', 'ICN']\n",
      "{'ICN': [], 'COO': []}\n",
      "===========================================\n",
      "['BOO', 'ICN']\n",
      "['ICN', 'COO']\n",
      "{'ICN': [], 'COO': []}\n",
      "===========================================\n",
      "['BOO', 'ICN', 'COO']\n",
      "['ICN']\n",
      "{'ICN': [], 'COO': []}\n",
      "===========================================\n",
      "['BOO', 'ICN', 'COO', 'ICN']\n",
      "[]\n",
      "{'ICN': [], 'COO': []}\n",
      "===========================================\n"
     ]
    }
   ],
   "source": [
    "visit = []\n",
    "stack = ['ICN']\n",
    "\n",
    "while stack:\n",
    "    top = stack[-1]\n",
    "    \n",
    "    if top not in dest or len(dest[top]) == 0:\n",
    "        visit.append(stack.pop())\n",
    "    else:\n",
    "        stack.append(dest[top][-1])\n",
    "        dest[top] = dest[top][:-1]\n",
    "    print(visit)\n",
    "    print(stack)\n",
    "    print(dest)\n",
    "    print(\"===========================================\")"
   ]
  },
  {
   "cell_type": "code",
   "execution_count": 87,
   "id": "stunning-navigation",
   "metadata": {},
   "outputs": [],
   "source": [
    "from collections import defaultdict\n",
    "\n",
    "def solution(tickets):\n",
    "\n",
    "    dest = defaultdict(list)\n",
    "\n",
    "    for ap1, ap2 in tickets:\n",
    "        dest[ap1].append(ap2)\n",
    "\n",
    "    for des in dest:\n",
    "        dest[des].sort(reverse=True)\n",
    "\n",
    "    stack = ['ICN']\n",
    "\n",
    "    while stack:\n",
    "        top = stack[-1]\n",
    "\n",
    "        if top not in dest or len(dest[top]) == 0: \n",
    "            visit.append(stack.pop())\n",
    "        else:\n",
    "            stack.append(dest[top][-1])\n",
    "            dest[top] = dest[top][:-1]\n",
    "\n",
    "    return visit[::-1]"
   ]
  }
 ],
 "metadata": {
  "kernelspec": {
   "display_name": "Python 3",
   "language": "python",
   "name": "python3"
  },
  "language_info": {
   "codemirror_mode": {
    "name": "ipython",
    "version": 3
   },
   "file_extension": ".py",
   "mimetype": "text/x-python",
   "name": "python",
   "nbconvert_exporter": "python",
   "pygments_lexer": "ipython3",
   "version": "3.6.12"
  }
 },
 "nbformat": 4,
 "nbformat_minor": 5
}
