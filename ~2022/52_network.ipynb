{
 "cells": [
  {
   "cell_type": "markdown",
   "id": "anonymous-submission",
   "metadata": {},
   "source": [
    "# [네트워크] - DFS\n",
    "___\n",
    "\n",
    "### [문제 설명]\n",
    "\n",
    "- 네트워크란 컴퓨터 상호 간에 정보를 교환할 수 있도록 연결된 형태를 의미합니다. \n",
    "- 예를 들어, 컴퓨터 A와 컴퓨터 B가 직접적으로 연결되어있고, 컴퓨터 B와 컴퓨터 C가 직접적으로 연결되어 있을 때 컴퓨터 A와 컴퓨터 C도 간접적으로 연결되어 정보를 교환할 수 있습니다. \n",
    "- 따라서 컴퓨터 A, B, C는 모두 같은 네트워크 상에 있다고 할 수 있습니다.\n",
    "\n",
    "- 컴퓨터의 개수 n, 연결에 대한 정보가 담긴 2차원 배열 computers가 매개변수로 주어질 때, 네트워크의 개수를 return 하도록 solution 함수를 작성하시오.\n",
    "\n",
    "___\n",
    "\n",
    "### [제한사항]\n",
    "- 컴퓨터의 개수 n은 1 이상 200 이하인 자연수입니다.\n",
    "- 각 컴퓨터는 0부터 n-1인 정수로 표현합니다.\n",
    "- i번 컴퓨터와 j번 컴퓨터가 연결되어 있으면 computers[i][j]를 1로 표현합니다.\n",
    "- computer[i][i]는 항상 1입니다.\n",
    "___\n",
    "\n",
    "### [입출력 예]\n",
    "\n",
    "- n = 3, computers = [[1, 1, 0], [1, 1, 0], [0, 0, 1]], return 2\n",
    "- n = 3, computers = [[1, 1, 0], [1, 1, 1], [0, 1, 1]], return 1\n",
    "\n",
    "### [입출력 예 설명]\n",
    "\n",
    "![fig1](C:/Users/ryank/Desktop/ryan/Code_Test/figure/52-1.PNG)\n",
    "\n",
    "![fig2](C:/Users/ryank/Desktop/ryan/Code_Test/figure/52-2.PNG)"
   ]
  },
  {
   "cell_type": "markdown",
   "id": "informative-forest",
   "metadata": {},
   "source": [
    "____\n",
    "\n",
    "### [내 풀이]\n",
    "\n",
    "- 우선 node 끼리 연결되어있는지에 대한 여부를 조사하기 위해 모든 컴퓨터들의 연결상태를 나타내는 computers 를 토대로 dict 형태의 연결상태 graph를 정리한다. \n",
    "- 정리하는 방법은.. \n",
    "\n",
    "> dict().setdefault() 를 사용하거나, \n",
    "\n",
    "> collections.defaultdict() \n",
    "\n",
    "> graph = {node: [] for node in range(n)} 와 같이 직접 만들어주는 방식. \n",
    "\n"
   ]
  },
  {
   "cell_type": "code",
   "execution_count": 41,
   "id": "southwest-broadcasting",
   "metadata": {},
   "outputs": [],
   "source": [
    "n = 3\n",
    "# computers = [[1, 1, 0], [1, 1, 1], [0, 1, 1]]\n",
    "computers = [[1, 1, 0], [1, 1, 0], [0, 0, 1]]\t"
   ]
  },
  {
   "cell_type": "code",
   "execution_count": 60,
   "id": "promising-protection",
   "metadata": {},
   "outputs": [
    {
     "name": "stdout",
     "output_type": "stream",
     "text": [
      "defaultdict(<class 'set'>, {0: {1}, 1: {0}})\n"
     ]
    }
   ],
   "source": [
    "from collections import defaultdict\n",
    "nets = defaultdict(set)\n",
    "for i in range(len(computers)):\n",
    "    for j in range(len(computers[0])):\n",
    "        if i==j: pass\n",
    "        else: \n",
    "            if computers[i][j] == 1:\n",
    "                nets[i].add(j)\n",
    "print(nets)\n",
    "# print(n-len(nets)+1)\n",
    "# if len(nets)"
   ]
  },
  {
   "cell_type": "code",
   "execution_count": 85,
   "id": "adjusted-carol",
   "metadata": {},
   "outputs": [],
   "source": [
    "from collections import defaultdict\n",
    "\n",
    "def solution(n, computers):\n",
    "    nets = defaultdict(set)\n",
    "    for i in range(len(computers)):\n",
    "        for j in range(len(computers[0])):\n",
    "            if i==j: pass\n",
    "            else: \n",
    "                if computers[i][j] == 1:\n",
    "                    nets[i].add(j)\n",
    "                    \n",
    "    tot = defaultdict(set)\n",
    "    for i in range(len(nets)):\n",
    "        tot[0].update(nets[i])\n",
    "    return n-len(tot[0])+1"
   ]
  },
  {
   "cell_type": "markdown",
   "id": "polish-endorsement",
   "metadata": {},
   "source": [
    "- 세가지 모두 테스트해본 결과, 마지막 방법이 해당 문제를 푸는데 가장.. 편한 출력을 낼 수 있었다.\n",
    "\n",
    "> {0: [], 1: [], 2: []}\n",
    "\n",
    "> {0: [1], 1: [0], 2: []}\n",
    "\n",
    "- 이와 같이 정리한 이후, 해당 graph 리스트에 대하여 dfs를 적용한다. \n",
    "\n",
    "- 그 결과 visit = [[0,1], [1,0], [2]] 가 생성된다.\n",
    "- 이들에서 [0,1] 과 [1,0] 은 같은 네트워크를 공유하기 때문에 이들과 같은 중복을 제거해야한다. \n",
    "- 해당 방법으로는 visit 을 정렬하여 [[0,1], [0,1], [2]] 과 같은 형태로 만든 후, 하나씩 뽑아 string으로 변환한후,, set()을 사용하여 중복을 제거한다.\n",
    "- 최종적으로 남은 visit list의 length를 도출해 주었다."
   ]
  },
  {
   "cell_type": "code",
   "execution_count": 92,
   "id": "allied-approach",
   "metadata": {},
   "outputs": [
    {
     "name": "stdout",
     "output_type": "stream",
     "text": [
      "{0: [], 1: [], 2: []}\n",
      "{0: [1], 1: [0], 2: []}\n",
      "2\n"
     ]
    }
   ],
   "source": [
    "from collections import deque\n",
    "\n",
    "def dfs(graph, start_node):\n",
    "    visit = []\n",
    "    stack = deque()\n",
    "\n",
    "    stack.append(start_node)\n",
    "\n",
    "    while stack:\n",
    "        node = stack.popleft()\n",
    "        if node not in visit:\n",
    "            visit.append(node)\n",
    "            stack.extend(graph[node])\n",
    "    return visit\n",
    "\n",
    "graph = {node: [] for node in range(n)}\n",
    "print(graph)\n",
    "for i, computer in enumerate(computers):\n",
    "    for j, conn in enumerate(computer):\n",
    "        if i != j and conn == 1:\n",
    "            graph[i].append(j)\n",
    "print(graph)\n",
    "\n",
    "paths = [sorted(dfs(graph, node)) for node in graph]\n",
    "\n",
    "print(len(set([\"\".join(map(str, path)) for path in paths])))"
   ]
  },
  {
   "cell_type": "code",
   "execution_count": 93,
   "id": "coated-alignment",
   "metadata": {},
   "outputs": [],
   "source": [
    "from collections import deque\n",
    "def dfs(graph, start_node):\n",
    "    visit = []\n",
    "    stack = deque()\n",
    "\n",
    "    stack.append(start_node)\n",
    "\n",
    "    while stack:\n",
    "        node = stack.popleft()\n",
    "        if node not in visit:\n",
    "            visit.append(node)\n",
    "            stack.extend(graph[node])\n",
    "    return visit\n",
    "\n",
    "def solution(n, computers):\n",
    "    graph = {node: [] for node in range(n)}\n",
    "    for i, computer in enumerate(computers):\n",
    "        for j, com in enumerate(computer):\n",
    "            if i != j and com == 1:\n",
    "                graph[i].append(j)\n",
    "    paths = [sorted(dfs(graph, node)) for node in graph] \n",
    "    return len(set([\"\".join(map(str, path)) for path in paths]))"
   ]
  },
  {
   "cell_type": "code",
   "execution_count": null,
   "id": "herbal-ready",
   "metadata": {},
   "outputs": [],
   "source": []
  }
 ],
 "metadata": {
  "kernelspec": {
   "display_name": "Python 3",
   "language": "python",
   "name": "python3"
  },
  "language_info": {
   "codemirror_mode": {
    "name": "ipython",
    "version": 3
   },
   "file_extension": ".py",
   "mimetype": "text/x-python",
   "name": "python",
   "nbconvert_exporter": "python",
   "pygments_lexer": "ipython3",
   "version": "3.6.12"
  }
 },
 "nbformat": 4,
 "nbformat_minor": 5
}
