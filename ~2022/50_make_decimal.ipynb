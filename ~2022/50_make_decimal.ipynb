{
 "cells": [
  {
   "cell_type": "markdown",
   "id": "completed-radiation",
   "metadata": {},
   "source": [
    "# [소수 만들기]\n",
    "___\n",
    "\n",
    "## [문제 설명]\n",
    "\n",
    "- 주어진 숫자 중 3개의 수를 더했을 때 소수가 되는 경우의 개수를 구하려고 합니다. \n",
    "- 숫자들이 들어있는 배열 nums가 매개변수로 주어질 때, nums에 있는 숫자들 중 서로 다른 3개를 골라 더했을 때 소수가 되는 경우의 개수를 return 하도록 solution 함수를 완성해주세요.\n",
    "\n",
    "___\n",
    "\n",
    "## [제한사항]\n",
    "\n",
    "- nums에 들어있는 숫자의 개수는 3개 이상 50개 이하입니다.\n",
    "- nums의 각 원소는 1 이상 1,000 이하의 자연수이며, 중복된 숫자가 들어있지 않습니다.\n",
    "\n",
    "___ \n",
    "\n",
    "## [입출력 예]\n",
    "\n",
    "- nums = [1,2,3,4], result = 1\n",
    "\n",
    "- nums = [1,2,7,6,4], result = 4\n",
    "\n",
    "___\n",
    "\n",
    "## [내 풀이]\n",
    "\n",
    "- iteratools.combinations 를 사용해서 3개를 골라 준다.\n",
    "- 이들을 더한 값이 소수인지 판별하는 is_prime_num 함수를 선언해준다."
   ]
  },
  {
   "cell_type": "code",
   "execution_count": 32,
   "id": "dynamic-pension",
   "metadata": {},
   "outputs": [],
   "source": [
    "# nums = [1,2,3,4]\n",
    "nums = [1,2,7,6,4]\t"
   ]
  },
  {
   "cell_type": "code",
   "execution_count": 34,
   "id": "reasonable-character",
   "metadata": {},
   "outputs": [],
   "source": [
    "def is_prime_num(x):\n",
    "    for i in range(2, x):\n",
    "        if x%i == 0:\n",
    "            return False\n",
    "    return True"
   ]
  },
  {
   "cell_type": "code",
   "execution_count": 35,
   "id": "cubic-documentary",
   "metadata": {},
   "outputs": [
    {
     "name": "stdout",
     "output_type": "stream",
     "text": [
      "10\n"
     ]
    }
   ],
   "source": [
    "from itertools import combinations\n",
    "\n",
    "cnt = 0\n",
    "for combi in list(combinations(nums, 3)):\n",
    "    if is_prime_num2(sum(combi)):\n",
    "        cnt+=1\n",
    "print(cnt)"
   ]
  },
  {
   "cell_type": "code",
   "execution_count": 36,
   "id": "extensive-correspondence",
   "metadata": {},
   "outputs": [],
   "source": [
    "from itertools import combinations\n",
    "\n",
    "def is_prime_num(x):\n",
    "    for i in range(2, x):\n",
    "        if x%i == 0:\n",
    "            return False\n",
    "    return True\n",
    "\n",
    "def solution(nums):\n",
    "    cnt=0\n",
    "    for combi in list(combinations(nums, 3)):\n",
    "        if is_prime_num(sum(combi)):\n",
    "            cnt+=1\n",
    "    return cnt"
   ]
  }
 ],
 "metadata": {
  "kernelspec": {
   "display_name": "Python 3",
   "language": "python",
   "name": "python3"
  },
  "language_info": {
   "codemirror_mode": {
    "name": "ipython",
    "version": 3
   },
   "file_extension": ".py",
   "mimetype": "text/x-python",
   "name": "python",
   "nbconvert_exporter": "python",
   "pygments_lexer": "ipython3",
   "version": "3.6.12"
  }
 },
 "nbformat": 4,
 "nbformat_minor": 5
}
