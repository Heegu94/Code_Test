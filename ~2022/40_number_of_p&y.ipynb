{
 "cells": [
  {
   "cell_type": "markdown",
   "id": "destroyed-sympathy",
   "metadata": {},
   "source": [
    "# [문자열 내 p와 y의 개수]\n",
    "___\n",
    "\n",
    "### [문제 설명]\n",
    "\n",
    "- 대문자와 소문자가 섞여있는 문자열 s가 주어집니다. s에 'p'의 개수와 'y'의 개수를 비교해 같으면 True, 다르면 False를 return 하는 solution를 완성하세요. 'p', 'y' 모두 하나도 없는 경우는 항상 True를 리턴합니다. 단, 개수를 비교할 때 대문자와 소문자는 구별하지 않습니다.\n",
    "\n",
    "- 예를 들어 s가 \"pPoooyY\"면 true를 return하고 \"Pyy\"라면 false를 return합니다.\n",
    "\n",
    "____\n",
    "### [제한사항]\n",
    "\n",
    "- 문자열 s의 길이 : 50 이하의 자연수\n",
    "- 문자열 s는 알파벳으로만 이루어져 있습니다.\n",
    "___\n",
    "\n",
    "### [입출력 예]\n",
    "- s = \"pPoooyY\", answer = True\n",
    "- s = \"Pyy\", answer = False\n",
    "___"
   ]
  },
  {
   "cell_type": "markdown",
   "id": "hearing-purchase",
   "metadata": {},
   "source": [
    "### [내 풀이]\n",
    "\n",
    "- 우선, string이 들어 있는 list에서 하나씩 빼서 p나 P의 개수를 세고, y나 Y의 개수를 세서 조건문을 통해 비교하는 방법을 사용하였다.\n"
   ]
  },
  {
   "cell_type": "code",
   "execution_count": 15,
   "id": "impressed-lesson",
   "metadata": {},
   "outputs": [],
   "source": [
    "s = \"pPoooyY\""
   ]
  },
  {
   "cell_type": "code",
   "execution_count": 9,
   "id": "crazy-percentage",
   "metadata": {},
   "outputs": [
    {
     "name": "stdout",
     "output_type": "stream",
     "text": [
      "True\n"
     ]
    }
   ],
   "source": [
    "from collections import deque\n",
    "s = deque(s)\n",
    "cnt_p, cnt_y = 0, 0\n",
    "while s:\n",
    "    a = s.popleft()\n",
    "    if a == 'p' or a =='P': cnt_p +=1\n",
    "    elif a == 'y' or a == \"Y\": cnt_y+=1\n",
    "    else: pass\n",
    "\n",
    "if cnt_p == 0 and cnt_y == 0: print(True)\n",
    "elif cnt_p == cnt_y : print(True)\n",
    "else: print(False)"
   ]
  },
  {
   "cell_type": "code",
   "execution_count": 10,
   "id": "administrative-irrigation",
   "metadata": {},
   "outputs": [],
   "source": [
    "from collections import deque\n",
    "\n",
    "def solution(s):\n",
    "    s = deque(s)\n",
    "    cnt_p, cnt_y = 0, 0\n",
    "    while s:\n",
    "        a = s.popleft()\n",
    "        if a == 'p' or a =='P': cnt_p +=1\n",
    "        elif a == 'y' or a == \"Y\": cnt_y+=1\n",
    "        else: pass\n",
    "\n",
    "    if cnt_p == 0 and cnt_y == 0: return True\n",
    "    elif cnt_p == cnt_y : return True\n",
    "    else: return False"
   ]
  },
  {
   "cell_type": "code",
   "execution_count": 13,
   "id": "serial-active",
   "metadata": {},
   "outputs": [
    {
     "data": {
      "text/plain": [
       "False"
      ]
     },
     "execution_count": 13,
     "metadata": {},
     "output_type": "execute_result"
    }
   ],
   "source": [
    "solution(s)"
   ]
  },
  {
   "cell_type": "markdown",
   "id": "complete-certification",
   "metadata": {},
   "source": [
    "- 일단 코드는 전부 통과! 하지만 더 줄일수 있을것 같다! 시간도 적절!\n",
    "\n",
    "- 다음풀이는 list의 내장함수들, lower() 와 count() 를 사용해서 풀어보았다"
   ]
  },
  {
   "cell_type": "code",
   "execution_count": 32,
   "id": "infinite-function",
   "metadata": {},
   "outputs": [],
   "source": [
    "s = \"Pyy\"\t#\"pPoooyY\""
   ]
  },
  {
   "cell_type": "code",
   "execution_count": 29,
   "id": "imported-turkish",
   "metadata": {},
   "outputs": [
    {
     "name": "stdout",
     "output_type": "stream",
     "text": [
      "True\n"
     ]
    }
   ],
   "source": [
    "if s.lower().count(\"p\") == s.lower().count(\"y\"): print(True)\n",
    "else: print(False)"
   ]
  },
  {
   "cell_type": "code",
   "execution_count": null,
   "id": "sophisticated-count",
   "metadata": {},
   "outputs": [],
   "source": [
    "def solution(s):\n",
    "    if s.lower().count(\"p\") == s.lower().count(\"y\"): return True\n",
    "    else: return False"
   ]
  },
  {
   "cell_type": "markdown",
   "id": "supreme-confirmation",
   "metadata": {},
   "source": [
    "- 코드 통과! 시간은 기존 코드보다 1/2 으로 줄었다"
   ]
  },
  {
   "cell_type": "code",
   "execution_count": null,
   "id": "disabled-rugby",
   "metadata": {},
   "outputs": [],
   "source": [
    "def solution(s):\n",
    "    return s.lower().count(\"p\") == s.lower().count(\"y\")"
   ]
  },
  {
   "cell_type": "markdown",
   "id": "substantial-subscription",
   "metadata": {},
   "source": [
    "- 위와 같이 return 에 바로 조건문을 사용하면 바로 true 와 false를 판별해낼 수 있다."
   ]
  },
  {
   "cell_type": "code",
   "execution_count": 33,
   "id": "impaired-rocket",
   "metadata": {},
   "outputs": [
    {
     "data": {
      "text/plain": [
       "False"
      ]
     },
     "execution_count": 33,
     "metadata": {},
     "output_type": "execute_result"
    }
   ],
   "source": [
    "solution(s)"
   ]
  }
 ],
 "metadata": {
  "kernelspec": {
   "display_name": "Python 3",
   "language": "python",
   "name": "python3"
  },
  "language_info": {
   "codemirror_mode": {
    "name": "ipython",
    "version": 3
   },
   "file_extension": ".py",
   "mimetype": "text/x-python",
   "name": "python",
   "nbconvert_exporter": "python",
   "pygments_lexer": "ipython3",
   "version": "3.6.12"
  }
 },
 "nbformat": 4,
 "nbformat_minor": 5
}
