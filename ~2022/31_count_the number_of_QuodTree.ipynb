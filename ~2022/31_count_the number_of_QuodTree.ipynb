{
 "cells": [
  {
   "cell_type": "markdown",
   "metadata": {},
   "source": [
    "# [쿼드압축 후 개수 세기]\n",
    "___\n"
   ]
  },
  {
   "cell_type": "code",
   "execution_count": 7,
   "metadata": {},
   "outputs": [
    {
     "data": {
      "text/plain": [
       "4"
      ]
     },
     "execution_count": 7,
     "metadata": {},
     "output_type": "execute_result"
    }
   ],
   "source": [
    "# arr = [[1,1,1,1,1,1,1,1],[0,1,1,1,1,1,1,1],[0,0,0,0,1,1,1,1],[0,1,0,0,1,1,1,1],[0,0,0,0,0,0,1,1],[0,0,0,0,0,0,0,1],[0,0,0,0,1,0,0,1],[0,0,0,0,1,1,1,1]]\n",
    "arr =[[1,1,0,0],[1,0,0,0],[1,0,0,1],[1,1,1,1]]\n",
    "len(arr)"
   ]
  },
  {
   "cell_type": "code",
   "execution_count": 8,
   "metadata": {},
   "outputs": [],
   "source": [
    "answer = [0,0]\n",
    "N = len(arr)\n",
    "\n",
    "def compress(x, y, n):\n",
    "    init = arr[x][y]\n",
    "    for i in range(x, x+n):\n",
    "        for j in range(y, y+n):\n",
    "            if arr[i][j] != init:\n",
    "                nn = n//2"
   ]
  },
  {
   "cell_type": "markdown",
   "metadata": {},
   "source": [
    "## - 4 x 4 행렬일때, \n",
    "- [1,1,0,0]\n",
    "- [1,0,0,0]\n",
    "- [1,0,0,1]\n",
    "- [1,1,1,1]\n",
    "\n",
    "QuodTree 에 의해 4개로 나뉠경우\n",
    "0, 0, 가 포함된 4개, len=2\n",
    "0, 2, 가 포함된 4개, len=2\n",
    "2, 0, 가 포함된 4개, len=2\n",
    "2, 4, 가 포함된 4개, len=2\n",
    "\n",
    "(x, y, nn) \n",
    "(x, y + nn, nn)\n",
    "(x + nn, y, nn)\n",
    "(x + nn, y + nn, nn)"
   ]
  },
  {
   "cell_type": "code",
   "execution_count": 14,
   "metadata": {},
   "outputs": [
    {
     "name": "stdout",
     "output_type": "stream",
     "text": [
      "1\n",
      "0 0  1\n",
      "0 1  1\n",
      "0 2  0\n",
      "0 3  0\n",
      "1 0  1\n",
      "1 1  0\n",
      "1 2  0\n",
      "1 3  0\n",
      "2 0  1\n",
      "2 1  0\n",
      "2 2  0\n",
      "2 3  1\n",
      "3 0  1\n",
      "3 1  1\n",
      "3 2  1\n",
      "3 3  1\n"
     ]
    }
   ],
   "source": [
    "print(arr[0][0])\n",
    "\n",
    "for i in range(0, N):\n",
    "    for j in range(0, N):\n",
    "        print(i, j, \"\",arr[i][j])\n",
    "\n",
    "        "
   ]
  },
  {
   "cell_type": "code",
   "execution_count": null,
   "metadata": {},
   "outputs": [],
   "source": [
    "def solution(arr):\n",
    "    answer = [0, 0]\n",
    "    N = len(arr)\n",
    "\n",
    "    def comp(x, y, n):\n",
    "        init = arr[x][y]  # 해당 네모값중 하나 # 모두 같아야 통과임\n",
    "        for i in range(x, x + n):\n",
    "            for j in range(y, y + n):\n",
    "                if arr[i][j] != init:  # 한번이라도 다르면 그 네모는 압축불가\n",
    "                    nn = n // 2\n",
    "                    comp(x, y, nn)\n",
    "                    comp(x, y + nn, nn)\n",
    "                    comp(x + nn, y, nn)\n",
    "                    comp(x + nn, y + nn, nn)\n",
    "                    return\n",
    "\n",
    "        # 무사히 다 통과했다면 압축가능\n",
    "        answer[init] += 1\n",
    "\n",
    "    comp(0, 0, N)\n",
    "    return answer"
   ]
  }
 ],
 "metadata": {
  "kernelspec": {
   "display_name": "Python 3",
   "language": "python",
   "name": "python3"
  },
  "language_info": {
   "codemirror_mode": {
    "name": "ipython",
    "version": 3
   },
   "file_extension": ".py",
   "mimetype": "text/x-python",
   "name": "python",
   "nbconvert_exporter": "python",
   "pygments_lexer": "ipython3",
   "version": "3.8.5"
  }
 },
 "nbformat": 4,
 "nbformat_minor": 4
}
