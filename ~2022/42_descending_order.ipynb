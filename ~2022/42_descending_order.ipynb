{
 "cells": [
  {
   "cell_type": "markdown",
   "id": "rental-healthcare",
   "metadata": {},
   "source": [
    "# [문자열 내림차순으로 배치하기]\n",
    "___\n",
    "\n",
    "### [문제 설명]\n",
    "\n",
    "- 문자열 s에 나타나는 문자를 큰것부터 작은 순으로 정렬해 새로운 문자열을 리턴하는 함수, solution을 완성해주세요.\n",
    "- s는 영문 대소문자로만 구성되어 있으며, 대문자는 소문자보다 작은 것으로 간주합니다.\n",
    "\n",
    "___\n",
    "### [입출력 예]\n",
    "- s = \"Zbcdefg\", return = \"gfedcbZ\"\n",
    "\n",
    "___\n",
    "\n",
    "### [내 풀이]\n",
    "\n",
    "- python 내장함수인 sorted()에서 reverse를 허용한 다음 s 에 대해 정렬할 경우, 아래와 같이 코드를 작성할 수 있다. "
   ]
  },
  {
   "cell_type": "code",
   "execution_count": 1,
   "id": "fresh-gallery",
   "metadata": {},
   "outputs": [],
   "source": [
    "s = \"Zbcdefg\""
   ]
  },
  {
   "cell_type": "code",
   "execution_count": 6,
   "id": "operating-railway",
   "metadata": {},
   "outputs": [
    {
     "name": "stdout",
     "output_type": "stream",
     "text": [
      "gfedcbZ\n"
     ]
    }
   ],
   "source": [
    "arr=''\n",
    "for n in sorted(s, reverse=True):\n",
    "    arr+=n\n",
    "print(arr)"
   ]
  },
  {
   "cell_type": "code",
   "execution_count": null,
   "id": "radical-nursing",
   "metadata": {},
   "outputs": [],
   "source": [
    "def solution(s):\n",
    "    arr=''\n",
    "    for n in sorted(s, reverse=True):\n",
    "        arr+=n\n",
    "    return arr"
   ]
  },
  {
   "cell_type": "markdown",
   "id": "coastal-castle",
   "metadata": {},
   "source": [
    "- 위처럼 굳이 iteration 구문을 사용할 필요가 없다"
   ]
  },
  {
   "cell_type": "code",
   "execution_count": 10,
   "id": "satellite-inspector",
   "metadata": {},
   "outputs": [
    {
     "data": {
      "text/plain": [
       "'gfedcbZ'"
      ]
     },
     "execution_count": 10,
     "metadata": {},
     "output_type": "execute_result"
    }
   ],
   "source": [
    "def solution(s): return ''.join(sorted(s, reverse=True))"
   ]
  },
  {
   "cell_type": "markdown",
   "id": "directed-inflation",
   "metadata": {},
   "source": [
    "- clear!"
   ]
  }
 ],
 "metadata": {
  "kernelspec": {
   "display_name": "Python 3",
   "language": "python",
   "name": "python3"
  },
  "language_info": {
   "codemirror_mode": {
    "name": "ipython",
    "version": 3
   },
   "file_extension": ".py",
   "mimetype": "text/x-python",
   "name": "python",
   "nbconvert_exporter": "python",
   "pygments_lexer": "ipython3",
   "version": "3.6.12"
  }
 },
 "nbformat": 4,
 "nbformat_minor": 5
}
