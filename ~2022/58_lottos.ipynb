{
 "cells": [
  {
   "cell_type": "markdown",
   "id": "demanding-relative",
   "metadata": {},
   "source": [
    "# [lottos]\n",
    "___\n",
    "### [문제 설명]\n",
    "\n",
    "- 로또 6/45(이하 '로또'로 표기)는 1부터 45까지의 숫자 중 6개를 찍어서 맞히는 대표적인 복권입니다. 아래는 로또의 순위를 정하는 방식입니다.\n",
    "\n",
    "![fig1](C://Users/ryank/Desktop/ryan/Code_Test/figure/58-1.PNG)\n",
    "\n",
    "- 로또를 구매한 민우는 당첨 번호 발표일을 학수고대하고 있었습니다. 하지만, 민우의 동생이 로또에 낙서를 하여, 일부 번호를 알아볼 수 없게 되었습니다. \n",
    "- 당첨 번호 발표 후, 민우는 자신이 구매했던 로또로 당첨이 가능했던 최고 순위와 최저 순위를 알아보고 싶어 졌습니다.\n",
    "- 알아볼 수 없는 번호를 0으로 표기하기로 하고, 민우가 구매한 로또 번호 6개가 44, 1, 0, 0, 31 25라고 가정해보겠습니다. \n",
    "- 당첨 번호 6개가 31, 10, 45, 1, 6, 19라면, 당첨 가능한 최고 순위와 최저 순위의 한 예는 아래와 같습니다.\n",
    "\n",
    "![fig1](C://Users/ryank/Desktop/ryan/Code_Test/figure/58-2.PNG)\n",
    "\n",
    "- 순서와 상관없이, 구매한 로또에 당첨 번호와 일치하는 번호가 있으면 맞힌 걸로 인정됩니다.\n",
    "- 알아볼 수 없는 두 개의 번호를 각각 10, 6이라고 가정하면 3등에 당첨될 수 있습니다.\n",
    "    - 3등을 만드는 다른 방법들도 존재합니다. 하지만, 2등 이상으로 만드는 것은 불가능합니다.\n",
    "- 알아볼 수 없는 두 개의 번호를 각각 11, 7이라고 가정하면 5등에 당첨될 수 있습니다.\n",
    "    - 5등을 만드는 다른 방법들도 존재합니다. 하지만, 6등(낙첨)으로 만드는 것은 불가능합니다.\n",
    "    \n",
    "- 민우가 구매한 로또 번호를 담은 배열 lottos, 당첨 번호를 담은 배열 win_nums가 매개변수로 주어집니다. \n",
    "- 이때, 당첨 가능한 최고 순위와 최저 순위를 차례대로 배열에 담아서 return 하도록 solution 함수를 완성해주세요.\n",
    "\n",
    "___\n",
    "### [제한사항]\n",
    "\n",
    "- lottos는 길이 6인 정수 배열입니다.\n",
    "- lottos의 모든 원소는 0 이상 45 이하인 정수입니다.\n",
    "    - 0은 알아볼 수 없는 숫자를 의미합니다.\n",
    "    - 0을 제외한 다른 숫자들은 lottos에 2개 이상 담겨있지 않습니다.\n",
    "    - lottos의 원소들은 정렬되어 있지 않을 수도 있습니다.\n",
    "- win_nums은 길이 6인 정수 배열입니다.\n",
    "- win_nums의 모든 원소는 1 이상 45 이하인 정수입니다.\n",
    "    - win_nums에는 같은 숫자가 2개 이상 담겨있지 않습니다.\n",
    "    - win_nums의 원소들은 정렬되어 있지 않을 수도 있습니다.\n",
    "    \n",
    "___\n",
    "### [입출력 예]\n",
    "\n",
    "- lottos = [44, 1, 0, 0, 31, 25], win_nums = [31, 10, 45, 1, 6, 19], result = [3, 5]\n",
    "- lottos = [0, 0, 0, 0, 0, 0], win_nums = [38, 19, 20, 40, 15, 25], result = [1, 6]\n",
    "- lottos = [45, 4, 35, 20, 3, 9], win_nums = [20, 9, 3, 45, 4, 35], result = [1, 1]\n",
    "___"
   ]
  },
  {
   "cell_type": "code",
   "execution_count": 23,
   "id": "dominican-variety",
   "metadata": {},
   "outputs": [],
   "source": [
    "# lottos = [44, 1, 0, 0, 31, 25]\t\n",
    "# win_nums = [31, 10, 45, 1, 6, 19]\n",
    "\n",
    "lottos = [0, 0, 0, 0, 0, 0]\n",
    "win_nums =\t[38, 19, 20, 40, 15, 25]\n",
    "\n",
    "# lottos = [45, 4, 35, 20, 3, 9]\n",
    "# win_nums =[20, 9, 3, 45, 4, 35]"
   ]
  },
  {
   "cell_type": "markdown",
   "id": "broad-committee",
   "metadata": {},
   "source": [
    "### [내 풀이1]\n",
    "___\n",
    "\n",
    "1. lottos 에 있는 숫자중 0 이 있는 경우를 따로 카운트하고, win_nums와 lottos에 같은 숫자가 있을 경우를 나누어 count하였다.\n",
    "\n",
    "2. 그 뒤, 해당 count 숫자에 대응되는 순위를 뽑아오는 rank라는 함수를 만들어주었다."
   ]
  },
  {
   "cell_type": "code",
   "execution_count": 18,
   "id": "muslim-fluid",
   "metadata": {},
   "outputs": [],
   "source": [
    "def rank(n):\n",
    "    if n == 6: return 1\n",
    "    elif n == 5: return 2\n",
    "    elif n == 4: return 3\n",
    "    elif n == 3: return 4\n",
    "    elif n == 2: return 5\n",
    "    else: return 6"
   ]
  },
  {
   "cell_type": "code",
   "execution_count": 19,
   "id": "previous-atmosphere",
   "metadata": {},
   "outputs": [
    {
     "name": "stdout",
     "output_type": "stream",
     "text": [
      "45\n",
      "4\n",
      "35\n",
      "20\n",
      "3\n",
      "9\n",
      "6 6\n",
      "1 1\n"
     ]
    }
   ],
   "source": [
    "high = 0\n",
    "low = 0\n",
    "\n",
    "for nums in lottos:\n",
    "    print(nums)\n",
    "    if nums in win_nums:\n",
    "        high+=1\n",
    "        low+=1\n",
    "    if nums == 0: high+=1\n",
    "        \n",
    "print(high, low)\n",
    "print(rank(high), rank(low))"
   ]
  },
  {
   "cell_type": "code",
   "execution_count": null,
   "id": "suitable-powell",
   "metadata": {},
   "outputs": [],
   "source": [
    "def rank(n):\n",
    "    if n == 6: return 1\n",
    "    elif n == 5: return 2\n",
    "    elif n == 4: return 3\n",
    "    elif n == 3: return 4\n",
    "    elif n == 2: return 5\n",
    "    else: return 6\n",
    "    \n",
    "def solution(lottos, win_nums):\n",
    "    high = 0\n",
    "    low = 0\n",
    "\n",
    "    for nums in lottos:\n",
    "        if nums in win_nums:\n",
    "            high+=1\n",
    "            low+=1\n",
    "        if nums == 0: high+=1    \n",
    "    return [rank(high), rank(low)]"
   ]
  },
  {
   "cell_type": "markdown",
   "id": "australian-linux",
   "metadata": {},
   "source": [
    "### [내 풀이2]\n",
    "___\n",
    "\n",
    "1. 앞선 풀이의 1번과 같은 접근방식을 사용했다. \n",
    "\n",
    "2. rank라는 함수를 따로 만들지 않고, 미리 rank에 관한 list 를 만들어 준 후, count된 ans에 따라 순의를 indexing할 수 있도록 하였다. "
   ]
  },
  {
   "cell_type": "code",
   "execution_count": 26,
   "id": "endangered-increase",
   "metadata": {},
   "outputs": [],
   "source": [
    "def solution(lottos, win_nums):\n",
    "    rank = [6, 6, 5, 4, 3, 2, 1]\n",
    "    ans = 0\n",
    "    zeros = lottos.count(0)\n",
    "    for num in win_nums:\n",
    "        if num in lottos: ans+=1\n",
    "            \n",
    "    return  rank[ans+zeros], rank[ans]"
   ]
  },
  {
   "cell_type": "code",
   "execution_count": 27,
   "id": "afraid-arbor",
   "metadata": {},
   "outputs": [
    {
     "data": {
      "text/plain": [
       "(1, 6)"
      ]
     },
     "execution_count": 27,
     "metadata": {},
     "output_type": "execute_result"
    }
   ],
   "source": [
    "solution(lottos, win_nums)"
   ]
  },
  {
   "cell_type": "markdown",
   "id": "amended-radical",
   "metadata": {},
   "source": [
    "- 위의 코드를 통해 다른 방식으로 접근하였으나, [내 풀이1]에서 진행했던 풀이가 시간 단축에 유리했다. "
   ]
  }
 ],
 "metadata": {
  "kernelspec": {
   "display_name": "Python 3",
   "language": "python",
   "name": "python3"
  },
  "language_info": {
   "codemirror_mode": {
    "name": "ipython",
    "version": 3
   },
   "file_extension": ".py",
   "mimetype": "text/x-python",
   "name": "python",
   "nbconvert_exporter": "python",
   "pygments_lexer": "ipython3",
   "version": "3.6.12"
  }
 },
 "nbformat": 4,
 "nbformat_minor": 5
}
