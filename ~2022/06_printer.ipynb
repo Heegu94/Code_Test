{
 "cells": [
  {
   "cell_type": "markdown",
   "id": "israeli-argument",
   "metadata": {},
   "source": [
    "# 프린터 문제\n",
    "\n",
    "___\n",
    "\n",
    "### [문제 설명]\n",
    "\n",
    "일반적인 프린터는 인쇄 요청이 들어온 순서대로 인쇄합니다. \n",
    "\n",
    "그렇기 때문에 중요한 문서가 나중에 인쇄될 수 있습니다. \n",
    "\n",
    "이런 문제를 보완하기 위해 중요도가 높은 문서를 먼저 인쇄하는 프린터를 개발했습니다.\n",
    "\n",
    "이 새롭게 개발한 프린터는 아래와 같은 방식으로 인쇄 작업을 수행합니다.\n",
    "\n",
    "- 1. 인쇄 대기목록의 가장 앞에 있는 문서(J)를 대기목록에서 꺼냅니다.\n",
    "- 2. 나머지 인쇄 대기목록에서 J보다 중요도가 높은 문서가 한 개라도 존재하면 J를 대기목록의 가장 마지막에 넣습니다.\n",
    "- 3. 그렇지 않으면 J를 인쇄합니다.\n",
    "\n",
    "___ \n",
    "\n",
    "### [예시]\n",
    "\n",
    "예를 들어, 4개의 문서(A, B, C, D)가 순서대로 인쇄 대기목록에 있고 중요도가 2 1 3 2 라면 C D A B 순으로 인쇄하게 됩니다.\n",
    "\n",
    "내가 인쇄를 요청한 문서가 몇 번째로 인쇄되는지 알고 싶습니다. \n",
    "\n",
    "위의 예에서 C는 1번째로, A는 3번째로 인쇄됩니다.\n",
    "\n",
    "현재 대기목록에 있는 문서의 중요도가 순서대로 담긴 배열 priorities와 내가 인쇄를 요청한 문서가 현재 대기목록의 어떤 위치에 있는지를 알려주는 location이 매개변수로 주어질 때, 내가 인쇄를 요청한 문서가 몇 번째로 인쇄되는지 return 하도록 solution 함수를 작성해주세요.\n",
    "\n",
    "\n",
    "___\n",
    "\n",
    "### [제한 사항]\n",
    "\n",
    "- 현재 대기목록에는 1개 이상 100개 이하의 문서가 있습니다.\n",
    "- 인쇄 작업의 중요도는 1~9로 표현하며 숫자가 클수록 중요하다는 뜻입니다.\n",
    "- location은 0 이상 (현재 대기목록에 있는 작업 수 - 1) 이하의 값을 가지며 대기목록의 가장 앞에 있으면 0, 두 번째에 있으면 1로 표현합니다.\n",
    "\n",
    "___\n",
    "\n",
    "\n",
    "### [입출력 예]\n",
    "\n",
    "![figure1](C:\\\\Users\\\\ryank\\\\Desktop\\\\ryan\\\\Code_Test/figure/06-1.PNG)\n",
    "\n",
    "### [입출력 예 설명 ]\n",
    "\n",
    "예제 #1\n",
    "- 문제에 나온 예와 같습니다.\n",
    "\n",
    "예제 #2\n",
    "- 6개의 문서(A, B, C, D, E, F)가 인쇄 대기목록에 있고 중요도가 1 1 9 1 1 1 이므로 C D E F A B 순으로 인쇄합니다.\n",
    "___"
   ]
  },
  {
   "cell_type": "markdown",
   "id": "contained-oracle",
   "metadata": {},
   "source": [
    "### [내 풀이]\n",
    "\n",
    "- 이전부터 빠른 속도로 list를 처리해 주시 위해 deque를 사용해 보았다. \n",
    "\n",
    "- enumerate를 사용하여 숫자를 뽑음과 동시에 순번을 매겨주었다. \n"
   ]
  },
  {
   "cell_type": "code",
   "execution_count": 1,
   "id": "exposed-oakland",
   "metadata": {},
   "outputs": [],
   "source": [
    "from collections import OrderedDict\n",
    "from collections import deque"
   ]
  },
  {
   "cell_type": "code",
   "execution_count": 52,
   "id": "freelance-mattress",
   "metadata": {},
   "outputs": [
    {
     "name": "stdout",
     "output_type": "stream",
     "text": [
      "5\n"
     ]
    }
   ],
   "source": [
    "priorities = [2,1,3,2,5,7,8,6]\n",
    "location = 2\n",
    "\n",
    "answer=0\n",
    "p = deque([(priority, q) for q, priority in enumerate(priorities)])\n",
    "\n",
    "while len(p)-1:\n",
    "    pop = p.popleft()    \n",
    "    \n",
    "    if max(p)[0] > pop[0] and p :\n",
    "        p.append(pop)\n",
    "    else:\n",
    "        answer += 1\n",
    "        if pop[1] == location:\n",
    "            break\n",
    "\n",
    "print(answer)"
   ]
  },
  {
   "cell_type": "code",
   "execution_count": 54,
   "id": "dutch-champion",
   "metadata": {},
   "outputs": [],
   "source": [
    "from collections import deque\n",
    "\n",
    "def solution(priorities, location):\n",
    "    answer=0\n",
    "    p = deque([(priority, q) for q, priority in enumerate(priorities)])\n",
    "    \n",
    "    while len(p):\n",
    "        p = p.popleft()    \n",
    "        if p and max(p)[0] > pop[0]: \n",
    "            p.append(pop)\n",
    "        else:\n",
    "            answer += 1\n",
    "            if pop[1] == location:\n",
    "                break\n",
    "    return answer"
   ]
  },
  {
   "cell_type": "markdown",
   "id": "economic-tattoo",
   "metadata": {},
   "source": [
    "___\n",
    "\n",
    "### [인상적인 풀이]\n",
    "\n",
    "- 접근법은 비슷했지만, 조건문이 조금 특이해서 가져와봤음.,\n",
    "\n",
    "- if 의 조건문에 for 반복문과 any를 사용하였는데 이부분이 신기했다.\n",
    "\n",
    "- 저 부분은 저중에 하나라도 있다면 \"True\" 로 출력한다는 조건문."
   ]
  },
  {
   "cell_type": "code",
   "execution_count": null,
   "id": "helpful-exchange",
   "metadata": {},
   "outputs": [],
   "source": [
    "def solution(priorities, location):\n",
    "    queue =  [(i,p) for i,p in enumerate(priorities)]\n",
    "    answer = 0\n",
    "    while True:\n",
    "        cur = queue.pop(0)\n",
    "        if any(cur[1] < q[1] for q in queue):\n",
    "            queue.append(cur)\n",
    "        else:\n",
    "            answer += 1\n",
    "            if cur[0] == location:\n",
    "                return answer"
   ]
  }
 ],
 "metadata": {
  "kernelspec": {
   "display_name": "Python 3",
   "language": "python",
   "name": "python3"
  },
  "language_info": {
   "codemirror_mode": {
    "name": "ipython",
    "version": 3
   },
   "file_extension": ".py",
   "mimetype": "text/x-python",
   "name": "python",
   "nbconvert_exporter": "python",
   "pygments_lexer": "ipython3",
   "version": "3.6.12"
  }
 },
 "nbformat": 4,
 "nbformat_minor": 5
}
