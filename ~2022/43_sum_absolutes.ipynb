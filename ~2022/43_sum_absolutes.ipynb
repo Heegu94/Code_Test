{
 "cells": [
  {
   "cell_type": "markdown",
   "id": "streaming-wiring",
   "metadata": {},
   "source": [
    "# 음양 더하기\n",
    "___\n",
    "\n",
    "### [문제 설명]\n",
    "\n",
    "- 어떤 정수들이 있습니다. 이 정수들의 절댓값을 차례대로 담은 정수 배열 absolutes와 이 정수들의 부호를 차례대로 담은 불리언 배열 signs가 매개변수로 주어집니다. \n",
    "- 실제 정수들의 합을 구하여 return 하도록 solution 함수를 완성해주세요.\n",
    "\n",
    "___\n",
    "\n",
    "### [제한 사항]\n",
    "\n",
    "- absolutes의 길이는 1 이상 1,000 이하입니다.\n",
    "    - absolutes의 모든 수는 각각 1 이상 1,000 이하입니다.\n",
    "- signs의 길이는 absolutes의 길이와 같습니다.\n",
    "    - signs[i] 가 참이면 absolutes[i] 의 실제 정수가 양수임을, 그렇지 않으면 음수임을 의미합니다.\n",
    "\n",
    "___\n",
    "\n",
    "### [입출력 예]\n",
    "\n",
    "![image](C:/Users/ryank/Desktop/ryan/Code_Test/figure/43-1.PNG)"
   ]
  },
  {
   "cell_type": "markdown",
   "id": "loving-adult",
   "metadata": {},
   "source": [
    "- absolutes와 signs 에서 zip을 사용하여 각각 하나씩 차례로 뽑아와 True인지 False 인지 확인하여, 더해주거나 빼는 방법을 사용하였다. "
   ]
  },
  {
   "cell_type": "code",
   "execution_count": 20,
   "id": "excess-values",
   "metadata": {},
   "outputs": [],
   "source": [
    "absolutes = [1,2,3]#[4,7,12]\n",
    "signs = [False, False, True]#[True, False, True]\n"
   ]
  },
  {
   "cell_type": "code",
   "execution_count": 6,
   "id": "greek-measurement",
   "metadata": {},
   "outputs": [
    {
     "name": "stdout",
     "output_type": "stream",
     "text": [
      "0\n"
     ]
    }
   ],
   "source": [
    "answer = 0\n",
    "for n, s in zip(absolutes, signs):\n",
    "    if s == True: answer+=n\n",
    "    else: answer-=n\n",
    "print(answer)"
   ]
  },
  {
   "cell_type": "code",
   "execution_count": 10,
   "id": "pregnant-subsection",
   "metadata": {},
   "outputs": [],
   "source": [
    "def solution(absolutes, signs):\n",
    "    answer = 0\n",
    "    for n, s in zip(absolutes, signs):\n",
    "        if s: answer+=n\n",
    "        else: answer-=n\n",
    "    return answer"
   ]
  },
  {
   "cell_type": "markdown",
   "id": "beautiful-brunswick",
   "metadata": {},
   "source": [
    "- 위의 방법도 통과 되었지만, 코드를 한줄까지 줄일수 있을것 같아 시도. \n",
    "\n",
    "- abolutes와 signs의 길이가 같으므로 묶어서 iteration돌린후, signs의 값이 True이면 absolutes의 수에 1을 곱하고, 반대의 경우 -1을 곱하여 list에 담는다.\n",
    "- 최종적으로 sum()을 사용하여 list내의 모든 수를 더해준다."
   ]
  },
  {
   "cell_type": "code",
   "execution_count": 22,
   "id": "medium-pharmacology",
   "metadata": {},
   "outputs": [],
   "source": [
    "def solution(absolutes, signs): return sum(absolutes[i]*(1 if signs[i] else -1) for i in range(len(signs)))\n"
   ]
  }
 ],
 "metadata": {
  "kernelspec": {
   "display_name": "Python 3",
   "language": "python",
   "name": "python3"
  },
  "language_info": {
   "codemirror_mode": {
    "name": "ipython",
    "version": 3
   },
   "file_extension": ".py",
   "mimetype": "text/x-python",
   "name": "python",
   "nbconvert_exporter": "python",
   "pygments_lexer": "ipython3",
   "version": "3.6.12"
  }
 },
 "nbformat": 4,
 "nbformat_minor": 5
}
