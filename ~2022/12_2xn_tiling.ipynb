{
 "cells": [
  {
   "cell_type": "markdown",
   "id": "fitted-ozone",
   "metadata": {},
   "source": [
    "# 2 x n 타일링\n",
    "___\n",
    "\n",
    "### [문제 설명]\n",
    "\n",
    "가로 길이가 2이고 세로의 길이가 1인 직사각형모양의 타일이 있습니다. 이 직사각형 타일을 이용하여 세로의 길이가 2이고 가로의 길이가 n인 바닥을 가득 채우려고 합니다. 타일을 채울 때는 다음과 같이 2가지 방법이 있습니다.\n",
    "\n",
    "- 타일을 가로로 배치 하는 경우\n",
    "- 타일을 세로로 배치 하는 경우\n",
    "\n",
    "예를들어서 n이 7인 직사각형은 다음과 같이 채울 수 있습니다.\n",
    "\n",
    "![figure1](C:/Users/ryank/Desktop/ryan/Code_Test/figure/12-1.PNG)\n",
    "\n",
    "직사각형의 가로의 길이 n이 매개변수로 주어질 때, 이 직사각형을 채우는 방법의 수를 return 하는 solution 함수를 완성해주세요.\n",
    "\n",
    "___\n",
    "\n",
    "### [제한 사항]\n",
    "\n",
    "- 가로의 길이 n은 60,000이하의 자연수 입니다.\n",
    "\n",
    "- 경우의 수가 많아 질 수 있으므로, 경우의 수를 1,000,000,007으로 나눈 나머지를 return해주세요."
   ]
  },
  {
   "cell_type": "markdown",
   "id": "developed-porcelain",
   "metadata": {},
   "source": [
    "___\n",
    "\n",
    "- n=1 : result=1\n",
    "- n=2 : result=2\n",
    "- n=3 : result=3\n",
    "- n=4 : result=5\n",
    "\n",
    "- f(n)을 해당 가로 길이 n 일 경우의 직사각형을 채우는 방법에 관한 function이라 할 경우,\n",
    "- 위와 같이 결과를 나열해 볼 경우, n=1, n=2일 경우를 제외하고는 f(n-1) + f(n-2) 가 다음 결과 값인 f(n)인 재귀 형태임을 알 수 있다.\n",
    " "
   ]
  },
  {
   "cell_type": "code",
   "execution_count": 15,
   "id": "indian-miniature",
   "metadata": {},
   "outputs": [
    {
     "name": "stdout",
     "output_type": "stream",
     "text": [
      "[1, 1, 2, 3, 5, 8, 13, 21, 34, 55, 89, 144, 233]\n",
      "233\n"
     ]
    }
   ],
   "source": [
    "n=12\n",
    "cnt=0\n",
    "\n",
    "mem = [0 for i in range(n+1)]\n",
    "\n",
    "while n:\n",
    "    if cnt==0: \n",
    "        mem[cnt]=1\n",
    "        cnt+=1 \n",
    "    elif cnt==1: \n",
    "        mem[cnt]=1\n",
    "        cnt+=1 \n",
    "        \n",
    "    mem[cnt]=mem[cnt-1]+mem[cnt-2]\n",
    "    cnt+=1    \n",
    "    if (n+1)==cnt:break\n",
    "\n",
    "print(mem)\n",
    "print(mem[-1]%1000000007)"
   ]
  },
  {
   "cell_type": "markdown",
   "id": "automatic-soviet",
   "metadata": {},
   "source": [
    "### 첫풀이 결과\n",
    "\n",
    "- 정확도 테스트는 100% 맞춤,,. 그러나 효율성 테스트에서 50%... (70점+15점=> 85점..)\n",
    "\n",
    "- 코드를 효율적으로 돌릴 방법을 생각해보던중 while문을 제가하고 함수화 하는 방법 생각..\n",
    "___"
   ]
  },
  {
   "cell_type": "code",
   "execution_count": null,
   "id": "color-seeking",
   "metadata": {},
   "outputs": [],
   "source": [
    "sys.setrecursionlimit(60000) # 재귀 호출 범위 늘림...\n",
    "def solution(n):\n",
    "    mem = [-0 for i in range(n+1)] # 메모이제이션\n",
    "\n",
    "    def f(n):\n",
    "        if mem[n] != 0: return mem[n]\n",
    "        if n == 0: return 1 # 공집합도 1로본다\n",
    "        if n == 1: return 1\n",
    "        mem[n] = (f(n-1) + f(n-2)) % 1000000007\n",
    "        return mem[n]\n",
    "\n",
    "    return f(n)"
   ]
  },
  {
   "cell_type": "markdown",
   "id": "strategic-general",
   "metadata": {},
   "source": [
    "### 두번째 풀이 결과..\n",
    "- sys.setrecursionlimit(60000) 를 사용하여 재귀 호출 범위를 늘리지 않으면 코드 런타임 에러..는 여전하다\n",
    "\n",
    "- 좀더 간단한 방법을 생각해보다가 굳이 이런 복잡한 코드가 필요한가.. 라는 생각이 들어 다시 작업\n",
    "\n",
    "___"
   ]
  },
  {
   "cell_type": "code",
   "execution_count": 29,
   "id": "induced-violin",
   "metadata": {},
   "outputs": [
    {
     "name": "stdout",
     "output_type": "stream",
     "text": [
      "n = 1  result = 1\n",
      "n = 2  result = 2\n",
      "n = 3  result = 3\n",
      "n = 4  result = 5\n",
      "n = 5  result = 8\n",
      "n = 6  result = 13\n",
      "n = 7  result = 21\n",
      "n = 8  result = 34\n",
      "n = 9  result = 55\n"
     ]
    }
   ],
   "source": [
    "def tiling(n):\n",
    "    x, y = 1, 1\n",
    "    for i in range(n):\n",
    "        x, y = y, x+y\n",
    "    return x%1000000007\n",
    "\n",
    "\n",
    "for i in range(1,10,1):\n",
    "    print('n =',i, \" result =\",tiling(i))\n"
   ]
  },
  {
   "cell_type": "markdown",
   "id": "martial-punch",
   "metadata": {},
   "source": [
    "### 세번째 풀이 결과\n",
    "\n",
    "- 굳이 미리 list 형태를 만들어 해당 아주 큰 크기의 list를 저장하고 있을 필요가 없다..는 것을 알게 되었고,\n",
    "\n",
    "- 위와 같은 방법으로 아주 쉽고 간단한 코드로 완료 가능해졌다..\n",
    "___"
   ]
  },
  {
   "cell_type": "markdown",
   "id": "commercial-remove",
   "metadata": {},
   "source": [
    "### [인상적인 답안들..]\n",
    "\n",
    "- 솔찍히 세번째 풀이 결과와 같은 답안이 있었는데 나랑 같은 생각을 했다는 것이 신기..했다\n",
    "\n",
    "___\n",
    "\n",
    "\n",
    "- [프로그래머스 > 코딩테스트 연습 > 연습문제 > 2 x n 타일링]\n",
    "- [https://programmers.co.kr/learn/courses/30/lessons/12900]"
   ]
  }
 ],
 "metadata": {
  "kernelspec": {
   "display_name": "Python 3",
   "language": "python",
   "name": "python3"
  },
  "language_info": {
   "codemirror_mode": {
    "name": "ipython",
    "version": 3
   },
   "file_extension": ".py",
   "mimetype": "text/x-python",
   "name": "python",
   "nbconvert_exporter": "python",
   "pygments_lexer": "ipython3",
   "version": "3.6.12"
  }
 },
 "nbformat": 4,
 "nbformat_minor": 5
}
