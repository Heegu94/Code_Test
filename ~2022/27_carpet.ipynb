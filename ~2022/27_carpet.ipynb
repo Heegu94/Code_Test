{
 "cells": [
  {
   "cell_type": "markdown",
   "id": "eight-lingerie",
   "metadata": {},
   "source": [
    "# [카펫 - 완전탐색]\n",
    "___\n",
    "\n",
    "### [문제 설명]\n",
    "\n",
    "- Leo는 카펫을 사러 갔다가 아래 그림과 같이 중앙에는 노란색으로 칠해져 있고 테두리 1줄은 갈색으로 칠해져 있는 격자 모양 카펫을 봤습니다.\n",
    "\n",
    "- Leo는 집으로 돌아와서 아까 본 카펫의 노란색과 갈색으로 색칠된 격자의 개수는 기억했지만, 전체 카펫의 크기는 기억하지 못했습니다.\n",
    "\n",
    "- Leo가 본 카펫에서 갈색 격자의 수 brown, 노란색 격자의 수 yellow가 매개변수로 주어질 때 카펫의 가로, 세로 크기를 순서대로 배열에 담아 return 하도록 solution 함수를 작성해주세요.\n",
    "\n",
    "![figure](C://Users/ryank/Desktop/ryan/Code_Test/figure/26-1.PNG)\n",
    "___\n",
    "\n",
    "### [제한 사항]\n",
    "\n",
    "- 갈색 격자의 수 brown은 8 이상 5,000 이하인 자연수입니다.\n",
    "- 노란색 격자의 수 yellow는 1 이상 2,000,000 이하인 자연수입니다.\n",
    "- 카펫의 가로 길이는 세로 길이와 같거나, 세로 길이보다 깁니다.\n",
    "\n",
    "___\n",
    "\n",
    "### 입출력 예\n",
    "\n",
    "![figure](C://Users/ryank/Desktop/ryan/Code_Test/figure/26-2.PNG)\n",
    "___"
   ]
  },
  {
   "cell_type": "markdown",
   "id": "bibliographic-apache",
   "metadata": {},
   "source": [
    "### [내 풀이]\n",
    "\n",
    "- brown인 부분과 yellow인 부분을 다 더하면 전체 면적의 넓이가 되고, \n",
    "\n",
    "- 이때, 전체 면적에서 가로(x), 세로(y) 를 곱하면, 면적이 된다.\n",
    "> (x * y) = (brown + yellow)\n",
    "\n",
    "- 그리고 가로와 세로에 각각 2씩 빼준 값을 곱하면 yellow의 면적이 된다.\n",
    "> (x - 2) * (y - 2) = yellow\n",
    "\n",
    "- 해당 두식을 정리하면, 아래와 같은 관계임을 알 수 있다. \n",
    "> x + y = (brown - 4) / 2\n",
    "- 해당 식을 통해 획득한 (x + y) 에 대한 값을 약수의 합으로 일치하는 경우를 출력한다. "
   ]
  },
  {
   "cell_type": "code",
   "execution_count": 26,
   "id": "monetary-private",
   "metadata": {},
   "outputs": [],
   "source": [
    "brown = 24\n",
    "yellow = 24"
   ]
  },
  {
   "cell_type": "code",
   "execution_count": 27,
   "id": "suitable-ceiling",
   "metadata": {},
   "outputs": [
    {
     "data": {
      "text/plain": [
       "[1, 2, 3, 4, 6, 8, 12, 16, 24, 48]"
      ]
     },
     "execution_count": 27,
     "metadata": {},
     "output_type": "execute_result"
    }
   ],
   "source": [
    "def divisor(brown, yellow):\n",
    "    div = []\n",
    "    for i in range(1,(brown+yellow+1)):\n",
    "        if (brown+yellow)%i == 0:\n",
    "            div.append(i)\n",
    "    return div\n",
    "\n",
    "divisor(brown, yellow)"
   ]
  },
  {
   "cell_type": "code",
   "execution_count": 29,
   "id": "independent-studio",
   "metadata": {},
   "outputs": [
    {
     "name": "stdout",
     "output_type": "stream",
     "text": [
      "6\n",
      "[8, 6]\n"
     ]
    }
   ],
   "source": [
    "div = divisor(brown, yellow)\n",
    "\n",
    "x,y = 0, -1\n",
    "cnt = (len(div)//2+1)\n",
    "print(cnt)\n",
    "while cnt:\n",
    "    if div[x]+div[y] == (brown+4)/2:\n",
    "        print(sorted([div[x], div[y]], reverse=True))\n",
    "        break\n",
    "    x+=1\n",
    "    y-=1\n",
    "    cnt-=1"
   ]
  },
  {
   "cell_type": "code",
   "execution_count": 30,
   "id": "fifth-breed",
   "metadata": {},
   "outputs": [],
   "source": [
    "def divisor(brown, yellow):\n",
    "    div = []\n",
    "    for i in range(1,(brown+yellow+1)):\n",
    "        if (brown+yellow)%i == 0:\n",
    "            div.append(i)\n",
    "    return div\n",
    "\n",
    "def solution(brown, yellow):\n",
    "    div = divisor(brown, yellow)\n",
    "    x,y = 0, -1\n",
    "    cnt = (len(div)//2+1)\n",
    "    print(cnt)\n",
    "    while cnt:\n",
    "        if div[x]+div[y] == (brown+4)/2:\n",
    "            return sorted([div[x], div[y]], reverse=True)\n",
    "            break\n",
    "        x+=1\n",
    "        y-=1\n",
    "        cnt-=1"
   ]
  },
  {
   "cell_type": "markdown",
   "id": "convenient-grenada",
   "metadata": {},
   "source": [
    "- 통과!!, 효율성은 좋지 않았으므로 조금 수정해야할 듯 하다\n",
    "- 우선 약수를 구하는 함수 자체가 썩 좋게 짜진것이 아니므로.. 다시 짜본다\n",
    "\n",
    "- 임의의 자연수 N의 약수들 중, 두 약수의 곱이 N이 되는 약수 A와 약수 B가 반드시 존재한다는 규칙을 통해..\n",
    "- 자연수 N의 제곱근까지의 약수를 구하면, 그 짝이되는 약수는 자동으로 구해진다!"
   ]
  },
  {
   "cell_type": "code",
   "execution_count": 45,
   "id": "bizarre-leeds",
   "metadata": {},
   "outputs": [],
   "source": [
    "def get_divisor(brown, yellow):\n",
    "    div = []\n",
    "    div_b = []\n",
    "    for i in range(1,int((brown+yellow)**(1/2))+1):\n",
    "        if (brown+yellow)%i == 0:\n",
    "            div.append(i)\n",
    "            if (i != ((brown+yellow)//i)):\n",
    "                div_b.append((brown+yellow)//i)\n",
    "    return div + div_b[::-1]"
   ]
  },
  {
   "cell_type": "code",
   "execution_count": 46,
   "id": "chief-innocent",
   "metadata": {},
   "outputs": [
    {
     "data": {
      "text/plain": [
       "[1, 2, 3, 4, 6, 12]"
      ]
     },
     "execution_count": 46,
     "metadata": {},
     "output_type": "execute_result"
    }
   ],
   "source": [
    "get_divisor(10, 2)"
   ]
  },
  {
   "cell_type": "markdown",
   "id": "pacific-preference",
   "metadata": {},
   "source": [
    "- 시간 복잡도가 이전에 비해 엄청나게 줄어드는것을 볼 수 있다.. \n",
    "- O(N^(1/2))의 시간복잡도를 가진다. (반복문에서 O(N^(1/2)), 마지막으로 리스트를 뒤집는 과정은 리스트 크기가 N^(1/2)보다 작을 것이므로 마찬가지로 O(N^(1/2)))"
   ]
  },
  {
   "cell_type": "markdown",
   "id": "australian-printing",
   "metadata": {},
   "source": [
    "___\n",
    "\n",
    "### [인상적인 풀이법]"
   ]
  },
  {
   "cell_type": "code",
   "execution_count": 55,
   "id": "whole-alarm",
   "metadata": {},
   "outputs": [],
   "source": [
    "def solution(brown, red):\n",
    "    for i in range(1, int(red**(1/2))+1):\n",
    "        if red % i == 0:\n",
    "            if 2*(i + red//i) == brown-4:\n",
    "                return [red//i+2, i+2]"
   ]
  },
  {
   "cell_type": "markdown",
   "id": "celtic-double",
   "metadata": {},
   "source": [
    "- 내 풀이 같은 경우에는 완전 탐색을 통해 약수들을 뽑아내는 풀이였다면, 해당 풀이는 둘레 길이를 사용하여 풀어내었다.. 수학자들은 참.."
   ]
  }
 ],
 "metadata": {
  "kernelspec": {
   "display_name": "Python 3",
   "language": "python",
   "name": "python3"
  },
  "language_info": {
   "codemirror_mode": {
    "name": "ipython",
    "version": 3
   },
   "file_extension": ".py",
   "mimetype": "text/x-python",
   "name": "python",
   "nbconvert_exporter": "python",
   "pygments_lexer": "ipython3",
   "version": "3.6.12"
  }
 },
 "nbformat": 4,
 "nbformat_minor": 5
}
