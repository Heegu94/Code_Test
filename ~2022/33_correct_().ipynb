{
 "cells": [
  {
   "cell_type": "markdown",
   "id": "large-senate",
   "metadata": {},
   "source": [
    "# [올바른 괄호]\n",
    "___\n",
    "\n",
    "### [문제 설명]\n",
    "\n",
    "- 괄호가 바르게 짝지어졌다는 것은 '(' 문자로 열렸으면 반드시 짝지어서 ')' 문자로 닫혀야 한다는 뜻입니다. 예를 들어, \n",
    "\n",
    "> \"()()\" 또는 \"(())()\" 는 올바른 괄호입니다.\n",
    "\n",
    "> \")()(\" 또는 \"(()(\" 는 올바르지 않은 괄호입니다.\n",
    "\n",
    "- '(' 또는 ')' 로만 이루어진 문자열 s가 주어졌을 때, 문자열 s가 올바른 괄호이면 true를 return 하고, 올바르지 않은 괄호이면 false를 return 하는 solution 함수를 완성해 주세요.\n",
    "\n",
    "___\n",
    "### [제한 사항] \n",
    "\n",
    "- 문자열 s의 길이 : 100,000 이하의 자연수\n",
    "- 문자열 s는 '(' 또는 ')' 로만 이루어져 있습니다.\n",
    "\n",
    "___ \n",
    "\n",
    "### [내 풀이]"
   ]
  },
  {
   "cell_type": "code",
   "execution_count": 22,
   "id": "roman-falls",
   "metadata": {},
   "outputs": [],
   "source": [
    "# s = \"()()\"\n",
    "s = \"((())())\""
   ]
  },
  {
   "cell_type": "code",
   "execution_count": 78,
   "id": "aboriginal-greenhouse",
   "metadata": {},
   "outputs": [
    {
     "name": "stdout",
     "output_type": "stream",
     "text": [
      "False\n"
     ]
    }
   ],
   "source": [
    "from collections import deque\n",
    "s = \"()))\"#\"()()\"#\"((())())\"\n",
    "s = deque(s)\n",
    "\n",
    "if s[0] == \")\" or (len(s)//2) == 1 : print(\"false\")\n",
    "\n",
    "c = s.popleft()\n",
    "while s:\n",
    "    n_c = s.popleft()\n",
    "    if not c or c[-1:] == n_c:c += n_c\n",
    "    else:  c=c[:-1]\n",
    "        \n",
    "if not c: print(\"True\")\n",
    "else:print(\"False\")"
   ]
  },
  {
   "cell_type": "code",
   "execution_count": 79,
   "id": "frank-longitude",
   "metadata": {},
   "outputs": [],
   "source": [
    "from collections import deque\n",
    "def solution(s):\n",
    "    s = deque(s)\n",
    "    if s[0] == \")\" or (len(s)//2) == 1 : return False\n",
    "    c = s.popleft()\n",
    "    \n",
    "    while s:\n",
    "        n_c = s.popleft()\n",
    "        if not c or c[-1:] == n_c:c += n_c\n",
    "        else:  c=c[:-1]\n",
    "\n",
    "    if len(c)==0: return True\n",
    "    else: return False"
   ]
  },
  {
   "cell_type": "markdown",
   "id": "coupled-jerusalem",
   "metadata": {},
   "source": [
    "- 시간초과는 걸리지 않으나.. 3문제 정도 오류.. 다시 수정해보자\n",
    "\n",
    "- 같은 알고리즘으로 조금더 간결하게 짜보았다. \n",
    "- \"(\" 가 들어오면 새로운 list 인 Q 에 채우고 \")\"가 새로 들어올경우 Q의 마지막 element를 삭제..\n",
    "- \")\"가 들어와 Q의 마지막 element를 삭제할때, list 인 Q에 더이상 뺄 것이 없다면, 올바르지 않은 괄호 이므로 \"False\"\n",
    "\n",
    "- 정상적으로 위의 iteration이 끝날 경우, \n",
    "- Q가 비어있으면 \"True\", 채워져 있으면 \"False\""
   ]
  },
  {
   "cell_type": "code",
   "execution_count": 80,
   "id": "intense-workstation",
   "metadata": {},
   "outputs": [
    {
     "name": "stdout",
     "output_type": "stream",
     "text": [
      "True\n"
     ]
    }
   ],
   "source": [
    "Q = []\n",
    "for i in s:\n",
    "    if i == '(':\n",
    "        Q.append(i)\n",
    "    else:\n",
    "        try: Q.pop()\n",
    "        except: print(\"False\")\n",
    "if not Q : print(\"True\")\n",
    "else : print(\"False\")"
   ]
  },
  {
   "cell_type": "code",
   "execution_count": 81,
   "id": "stable-qualification",
   "metadata": {},
   "outputs": [],
   "source": [
    "def solution(s):\n",
    "    Q = []\n",
    "    for i in s:\n",
    "        if i == '(':\n",
    "            Q.append(i)\n",
    "        else:\n",
    "            try: Q.pop()\n",
    "            except: return False\n",
    "    if not Q : return True\n",
    "    else : return False   "
   ]
  }
 ],
 "metadata": {
  "kernelspec": {
   "display_name": "Python 3",
   "language": "python",
   "name": "python3"
  },
  "language_info": {
   "codemirror_mode": {
    "name": "ipython",
    "version": 3
   },
   "file_extension": ".py",
   "mimetype": "text/x-python",
   "name": "python",
   "nbconvert_exporter": "python",
   "pygments_lexer": "ipython3",
   "version": "3.6.12"
  }
 },
 "nbformat": 4,
 "nbformat_minor": 5
}
