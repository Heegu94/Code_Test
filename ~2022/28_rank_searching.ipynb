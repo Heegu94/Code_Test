{
 "cells": [
  {
   "cell_type": "code",
   "execution_count": 72,
   "id": "worldwide-database",
   "metadata": {},
   "outputs": [],
   "source": [
    "info = [\"java backend junior pizza 150\",\n",
    "        \"python frontend senior chicken 210\",\n",
    "        \"python frontend senior chicken 150\",\n",
    "        \"cpp backend senior pizza 260\",\n",
    "        \"java backend junior chicken 80\",\n",
    "        \"python backend senior chicken 50\"]\n",
    "\n",
    "query = [\"java and backend and junior and pizza 100\",\n",
    "         \"python and frontend and senior and chicken 200\",\n",
    "         \"cpp and - and senior and pizza 250\",\n",
    "         \"- and backend and senior and - 150\",\n",
    "         \"- and - and - and chicken 100\",\n",
    "         \"- and - and - and - 150\"]"
   ]
  },
  {
   "cell_type": "markdown",
   "id": "removable-throat",
   "metadata": {},
   "source": [
    "- 조건문의 연속을 통해, query의 str 정보가 주어질 경우, info의 str 정보를 하나씩 뽑아와 조건문을 통해 비교하여 시도..\n"
   ]
  },
  {
   "cell_type": "code",
   "execution_count": 79,
   "id": "based-supplement",
   "metadata": {},
   "outputs": [
    {
     "name": "stdout",
     "output_type": "stream",
     "text": [
      "[1, 1, 1, 1, 2, 4]\n"
     ]
    }
   ],
   "source": [
    "answer = []\n",
    "for q in query:\n",
    "    orders = q.split()\n",
    "    cnt=0\n",
    "    for i in info:\n",
    "        people = i.split()\n",
    "        if orders[0] != '-':\n",
    "            if orders[0] != people[0]:\n",
    "                continue\n",
    "        if orders[2] != '-':\n",
    "            if orders[2] != people[1]:\n",
    "                continue\n",
    "        if orders[4] != '-':\n",
    "            if orders[4] != people[2]:\n",
    "                continue\n",
    "        if orders[6] != '-':\n",
    "            if orders[6] != people[3]:\n",
    "                continue\n",
    "        if int(orders[7]) <= int(people[4]):\n",
    "            cnt+=1\n",
    "    answer.append(cnt)   \n",
    "print(answer)    "
   ]
  },
  {
   "cell_type": "code",
   "execution_count": 81,
   "id": "pharmaceutical-strength",
   "metadata": {},
   "outputs": [],
   "source": [
    "def solution(info, query):\n",
    "    answer = []\n",
    "    for q in query:\n",
    "        orders = q.split()\n",
    "        cnt=0\n",
    "        for i in info:\n",
    "            people = i.split()\n",
    "            if orders[0] != '-':\n",
    "                if orders[0] != people[0]:\n",
    "                    continue\n",
    "            if orders[2] != '-':\n",
    "                if orders[2] != people[1]:\n",
    "                    continue\n",
    "            if orders[4] != '-':\n",
    "                if orders[4] != people[2]:\n",
    "                    continue\n",
    "            if orders[6] != '-':\n",
    "                if orders[6] != people[3]:\n",
    "                    continue\n",
    "            if int(orders[7]) <= int(people[4]):\n",
    "                cnt+=1\n",
    "        answer.append(cnt)\n",
    "    return answer"
   ]
  },
  {
   "cell_type": "markdown",
   "id": "miniature-cisco",
   "metadata": {},
   "source": [
    "- 정답은 맞췄으나.. 시간초과....\n",
    "- 효율성을 해결하기 위해서는 info에 있는 정보들을 하나씩 빼내어 검색조건으로 나올 수 있는 모든 경우에 대해서 미리 만들어 주는 것이라고 생각함..\n",
    "\n",
    "- 즉 점수를 제외한 정보를 대상으로 나올수 있는 경우의 수 (2x2x2x2)= 16가지를 미리 만들어준다.\n",
    "- 그후 일치하는 경우 점수화하는 방법 사용"
   ]
  },
  {
   "cell_type": "code",
   "execution_count": 83,
   "id": "cellular-pacific",
   "metadata": {},
   "outputs": [
    {
     "name": "stdout",
     "output_type": "stream",
     "text": [
      "['python', 'backend', 'senior', 'chicken', '50']\n"
     ]
    }
   ],
   "source": [
    "for i in info:\n",
    "    people = i.split()\n",
    "print(people)"
   ]
  },
  {
   "cell_type": "code",
   "execution_count": 121,
   "id": "extensive-teens",
   "metadata": {
    "collapsed": true,
    "jupyter": {
     "outputs_hidden": true
    }
   },
   "outputs": [
    {
     "name": "stdout",
     "output_type": "stream",
     "text": [
      "{'java/backend/junior/pizza': [150], '-/backend/junior/pizza': [150], 'java/-/junior/pizza': [150], 'java/backend/-/pizza': [150], 'java/backend/junior/-': [150, 80], '-/-/junior/pizza': [150], '-/backend/-/pizza': [150, 260], '-/backend/junior/-': [150, 80], 'java/-/-/pizza': [150], 'java/-/junior/-': [150, 80], 'java/backend/-/-': [150, 80], '-/-/-/pizza': [150, 260], '-/-/junior/-': [150, 80], '-/backend/-/-': [150, 260, 80, 50], 'java/-/-/-': [150, 80], '-/-/-/-': [150, 210, 150, 260, 80, 50], 'python/frontend/senior/chicken': [210, 150], '-/frontend/senior/chicken': [210, 150], 'python/-/senior/chicken': [210, 150, 50], 'python/frontend/-/chicken': [210, 150], 'python/frontend/senior/-': [210, 150], '-/-/senior/chicken': [210, 150, 50], '-/frontend/-/chicken': [210, 150], '-/frontend/senior/-': [210, 150], 'python/-/-/chicken': [210, 150, 50], 'python/-/senior/-': [210, 150, 50], 'python/frontend/-/-': [210, 150], '-/-/-/chicken': [210, 150, 80, 50], '-/-/senior/-': [210, 150, 260, 50], '-/frontend/-/-': [210, 150], 'python/-/-/-': [210, 150, 50], 'cpp/backend/senior/pizza': [260], '-/backend/senior/pizza': [260], 'cpp/-/senior/pizza': [260], 'cpp/backend/-/pizza': [260], 'cpp/backend/senior/-': [260], '-/-/senior/pizza': [260], '-/backend/senior/-': [260, 50], 'cpp/-/-/pizza': [260], 'cpp/-/senior/-': [260], 'cpp/backend/-/-': [260], 'cpp/-/-/-': [260], 'java/backend/junior/chicken': [80], '-/backend/junior/chicken': [80], 'java/-/junior/chicken': [80], 'java/backend/-/chicken': [80], '-/-/junior/chicken': [80], '-/backend/-/chicken': [80, 50], 'java/-/-/chicken': [80], 'python/backend/senior/chicken': [50], '-/backend/senior/chicken': [50], 'python/backend/-/chicken': [50], 'python/backend/senior/-': [50], 'python/backend/-/-': [50]}\n",
      "{'java/backend/junior/pizza': [150], '-/backend/junior/pizza': [150], 'java/-/junior/pizza': [150], 'java/backend/-/pizza': [150], 'java/backend/junior/-': [80, 150], '-/-/junior/pizza': [150], '-/backend/-/pizza': [150, 260], '-/backend/junior/-': [80, 150], 'java/-/-/pizza': [150], 'java/-/junior/-': [80, 150], 'java/backend/-/-': [80, 150], '-/-/-/pizza': [150, 260], '-/-/junior/-': [80, 150], '-/backend/-/-': [50, 80, 150, 260], 'java/-/-/-': [80, 150], '-/-/-/-': [50, 80, 150, 150, 210, 260], 'python/frontend/senior/chicken': [150, 210], '-/frontend/senior/chicken': [150, 210], 'python/-/senior/chicken': [50, 150, 210], 'python/frontend/-/chicken': [150, 210], 'python/frontend/senior/-': [150, 210], '-/-/senior/chicken': [50, 150, 210], '-/frontend/-/chicken': [150, 210], '-/frontend/senior/-': [150, 210], 'python/-/-/chicken': [50, 150, 210], 'python/-/senior/-': [50, 150, 210], 'python/frontend/-/-': [150, 210], '-/-/-/chicken': [50, 80, 150, 210], '-/-/senior/-': [50, 150, 210, 260], '-/frontend/-/-': [150, 210], 'python/-/-/-': [50, 150, 210], 'cpp/backend/senior/pizza': [260], '-/backend/senior/pizza': [260], 'cpp/-/senior/pizza': [260], 'cpp/backend/-/pizza': [260], 'cpp/backend/senior/-': [260], '-/-/senior/pizza': [260], '-/backend/senior/-': [50, 260], 'cpp/-/-/pizza': [260], 'cpp/-/senior/-': [260], 'cpp/backend/-/-': [260], 'cpp/-/-/-': [260], 'java/backend/junior/chicken': [80], '-/backend/junior/chicken': [80], 'java/-/junior/chicken': [80], 'java/backend/-/chicken': [80], '-/-/junior/chicken': [80], '-/backend/-/chicken': [50, 80], 'java/-/-/chicken': [80], 'python/backend/senior/chicken': [50], '-/backend/senior/chicken': [50], 'python/backend/-/chicken': [50], 'python/backend/senior/-': [50], 'python/backend/-/-': [50]}\n",
      "[1, 1, 1, 1, 2, 4]\n"
     ]
    }
   ],
   "source": [
    "from itertools import combinations\n",
    "\n",
    "answer = []\n",
    "db = {}\n",
    "for i in info:\n",
    "    temp = i.split()\n",
    "    conditions = temp[:-1]       # 조건들만 모으고, 점수 따로\n",
    "    score = int(temp[-1])  \n",
    "    for n in range(5):           # 조건들에 대해 조합을 이용해서  \n",
    "        combi = list(combinations(range(4), n))\n",
    "        for c in combi:\n",
    "            t_c = conditions.copy()\n",
    "            for v in c:      \n",
    "                t_c[v] = '-'\n",
    "            changed_t_c = '/'.join(t_c)\n",
    "            if changed_t_c in db:     # 모든 조건의 경우에 수에 대해 딕셔너리\n",
    "                db[changed_t_c].append(score)\n",
    "            else:\n",
    "                db[changed_t_c] = [score]\n",
    "                \n",
    "print(db)\n",
    "for value in db.values():\n",
    "    value.sort()\n",
    "print(db)\n",
    "\n",
    "for q in query:\n",
    "    qry = [i for i in q.split() if i != 'and']\n",
    "    qry_cnd = '/'.join(qry[:-1])\n",
    "    qry_score = int(qry[-1])\n",
    "    if qry_cnd in db:\n",
    "        data = db[qry_cnd]\n",
    "        if len(data) > 0:          \n",
    "            start, end = 0, len(data)\n",
    "            while start != end and start != len(data):\n",
    "                if data[(start + end) // 2] >= qry_score:\n",
    "                    end = (start + end) // 2\n",
    "                else:\n",
    "                    start = (start + end) // 2 + 1\n",
    "            answer.append(len(data) - start)\n",
    "    else:\n",
    "        answer.append(0)\n",
    "        \n",
    "print(answer)"
   ]
  },
  {
   "cell_type": "code",
   "execution_count": null,
   "id": "moving-store",
   "metadata": {},
   "outputs": [],
   "source": []
  }
 ],
 "metadata": {
  "kernelspec": {
   "display_name": "Python 3",
   "language": "python",
   "name": "python3"
  },
  "language_info": {
   "codemirror_mode": {
    "name": "ipython",
    "version": 3
   },
   "file_extension": ".py",
   "mimetype": "text/x-python",
   "name": "python",
   "nbconvert_exporter": "python",
   "pygments_lexer": "ipython3",
   "version": "3.6.12"
  }
 },
 "nbformat": 4,
 "nbformat_minor": 5
}
