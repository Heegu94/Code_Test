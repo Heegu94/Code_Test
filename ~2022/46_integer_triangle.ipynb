{
 "cells": [
  {
   "cell_type": "markdown",
   "id": "seeing-jaguar",
   "metadata": {},
   "source": [
    "# [정수 삼각형]\n",
    "___\n",
    "\n",
    "### [문제 설명]\n",
    "\n",
    "![image](C:/Users/ryank/Desktop/ryan/Code_Test/figure/46-1.PNG)\n",
    "\n",
    "- 위와 같은 삼각형의 꼭대기에서 바닥까지 이어지는 경로 중, 거쳐간 숫자의 합이 가장 큰 경우를 찾아보려고 합니다. \n",
    "- 아래 칸으로 이동할 때는 대각선 방향으로 한 칸 오른쪽 또는 왼쪽으로만 이동 가능합니다. \n",
    "- 예를 들어 3에서는 그 아래칸의 8 또는 1로만 이동이 가능합니다.\n",
    "\n",
    "- 삼각형의 정보가 담긴 배열 triangle이 매개변수로 주어질 때, 거쳐간 숫자의 최댓값을 return 하도록 solution 함수를 완성하세요.\n",
    "\n",
    "___\n",
    "\n",
    "### [제한 사항]\n",
    "\n",
    "- 삼각형의 높이는 1 이상 500 이하입니다.\n",
    "- 삼각형을 이루고 있는 숫자는 0 이상 9,999 이하의 정수입니다.\n",
    "\n",
    "___\n",
    "\n",
    "### [입출력 예]\n",
    "\n",
    "triangle = [[7], [3, 8], [8, 1, 0], [2, 7, 4, 4], [4, 5, 2, 6, 5]]\n",
    "result = 30"
   ]
  },
  {
   "cell_type": "code",
   "execution_count": 14,
   "id": "residential-venice",
   "metadata": {
    "collapsed": true,
    "jupyter": {
     "outputs_hidden": true
    }
   },
   "outputs": [
    {
     "ename": "IndentationError",
     "evalue": "unindent does not match any outer indentation level (<tokenize>, line 3)",
     "output_type": "error",
     "traceback": [
      "\u001b[1;36m  File \u001b[1;32m\"<tokenize>\"\u001b[1;36m, line \u001b[1;32m3\u001b[0m\n\u001b[1;33m    8   1   0\u001b[0m\n\u001b[1;37m    ^\u001b[0m\n\u001b[1;31mIndentationError\u001b[0m\u001b[1;31m:\u001b[0m unindent does not match any outer indentation level\n"
     ]
    }
   ],
   "source": [
    "        7\n",
    "      3   8\n",
    "    8   1   0\n",
    "  2   7   4   4\n",
    "4   5   2   6   5\n",
    "\n",
    "        7\n",
    "      10   15\n",
    "    8   1   0\n",
    "  2   7   4   4\n",
    "4   5   2   6   5\n",
    "\n",
    "        7\n",
    "      10   15\n",
    "    18   16   15\n",
    "  2   7   4   4\n",
    "4   5   2   6   5\n",
    "\n",
    "        7\n",
    "      10   15\n",
    "    18   16   15\n",
    "  20   25   20   19\n",
    "4   5   2   6   5\n",
    "\n",
    "        7\n",
    "      10   15\n",
    "    18   16   15\n",
    "  20   25   20   19\n",
    "24   30   27   26   24\n",
    "\n",
    "return 30"
   ]
  },
  {
   "cell_type": "markdown",
   "id": "palestinian-habitat",
   "metadata": {},
   "source": [
    "### [내 풀이]\n",
    "___\n",
    "- iteration의 처음에는 다음줄의 양끝의 수에 더해주면된다.\n",
    "\n",
    "- 8, 1, 0 줄에서, 양 끝인 8 과 0 은 각각 3과 8의 영향만을 받는다.\n",
    "- 그리고 가운데 1의 경우는 이전줄의 3과 8 중에 더 큰수인 8의 영향만을 받는다.\n",
    "\n",
    "- 2 7 4 4 줄에서도 앞과 같이, 양 끝 인 2와 4 는 각각 8 과 0을 더해준다.\n",
    "- 그리고 가운데 두 수 중 7은 이전줄의 8, 1 중 큰수인 8을 더해주고, 4의 경우 이전줄의 1, 0 중에 더 큰수인 1을 더해준다.\n",
    "\n",
    "- 다음 줄도 마찬가지로, 진행한다. "
   ]
  },
  {
   "cell_type": "code",
   "execution_count": 17,
   "id": "growing-earthquake",
   "metadata": {},
   "outputs": [
    {
     "name": "stdout",
     "output_type": "stream",
     "text": [
      "[[7], [3, 8], [8, 1, 0], [2, 7, 4, 4], [4, 5, 2, 6, 5]]\n",
      "1 0\n",
      "[[7], [10, 8], [8, 1, 0], [2, 7, 4, 4], [4, 5, 2, 6, 5]]\n",
      "1 1\n",
      "[[7], [10, 15], [8, 1, 0], [2, 7, 4, 4], [4, 5, 2, 6, 5]]\n",
      "2 0\n",
      "[[7], [10, 15], [18, 1, 0], [2, 7, 4, 4], [4, 5, 2, 6, 5]]\n",
      "2 1\n",
      "[[7], [10, 15], [18, 16, 0], [2, 7, 4, 4], [4, 5, 2, 6, 5]]\n",
      "2 2\n",
      "[[7], [10, 15], [18, 16, 15], [2, 7, 4, 4], [4, 5, 2, 6, 5]]\n",
      "3 0\n",
      "[[7], [10, 15], [18, 16, 15], [20, 7, 4, 4], [4, 5, 2, 6, 5]]\n",
      "3 1\n",
      "[[7], [10, 15], [18, 16, 15], [20, 25, 4, 4], [4, 5, 2, 6, 5]]\n",
      "3 2\n",
      "[[7], [10, 15], [18, 16, 15], [20, 25, 20, 4], [4, 5, 2, 6, 5]]\n",
      "3 3\n",
      "[[7], [10, 15], [18, 16, 15], [20, 25, 20, 19], [4, 5, 2, 6, 5]]\n",
      "4 0\n",
      "[[7], [10, 15], [18, 16, 15], [20, 25, 20, 19], [24, 5, 2, 6, 5]]\n",
      "4 1\n",
      "[[7], [10, 15], [18, 16, 15], [20, 25, 20, 19], [24, 30, 2, 6, 5]]\n",
      "4 2\n",
      "[[7], [10, 15], [18, 16, 15], [20, 25, 20, 19], [24, 30, 27, 6, 5]]\n",
      "4 3\n",
      "[[7], [10, 15], [18, 16, 15], [20, 25, 20, 19], [24, 30, 27, 26, 5]]\n",
      "4 4\n",
      "[[7], [10, 15], [18, 16, 15], [20, 25, 20, 19], [24, 30, 27, 26, 24]]\n",
      "30\n"
     ]
    }
   ],
   "source": [
    "triangle = [[7], [3, 8], [8, 1, 0], [2, 7, 4, 4], [4, 5, 2, 6, 5]]\n",
    "print(triangle)\n",
    "for i in range(1, len(triangle)):\n",
    "    for j in range(i+1):\n",
    "        print(i, j)\n",
    "        if j==0: triangle[i][j]+=triangle[i-1][j]\n",
    "        elif i==j: triangle[i][j]+=triangle[i-1][j-1]\n",
    "        else: triangle[i][j]+=max(triangle[i-1][j-1], triangle[i-1][j])\n",
    "        print(triangle)\n",
    "print(max(triangle[-1]))"
   ]
  },
  {
   "cell_type": "code",
   "execution_count": 18,
   "id": "prospective-addiction",
   "metadata": {},
   "outputs": [],
   "source": [
    "def solution(triangle):\n",
    "    for i in range(1, len(triangle)):\n",
    "        for j in range(i+1):\n",
    "            if j==0: triangle[i][j]+=triangle[i-1][j]\n",
    "            elif i==j: triangle[i][j]+=triangle[i-1][j-1]\n",
    "            else : triangle[i][j]+=max(triangle[i-1][j-1], triangle[i-1][j])\n",
    "    return max(triangle[-1])"
   ]
  },
  {
   "cell_type": "code",
   "execution_count": 19,
   "id": "quiet-article",
   "metadata": {},
   "outputs": [
    {
     "data": {
      "text/plain": [
       "30"
      ]
     },
     "execution_count": 19,
     "metadata": {},
     "output_type": "execute_result"
    }
   ],
   "source": [
    "triangle = [[7], [3, 8], [8, 1, 0], [2, 7, 4, 4], [4, 5, 2, 6, 5]]\n",
    "\n",
    "solution(triangle)"
   ]
  }
 ],
 "metadata": {
  "kernelspec": {
   "display_name": "Python 3",
   "language": "python",
   "name": "python3"
  },
  "language_info": {
   "codemirror_mode": {
    "name": "ipython",
    "version": 3
   },
   "file_extension": ".py",
   "mimetype": "text/x-python",
   "name": "python",
   "nbconvert_exporter": "python",
   "pygments_lexer": "ipython3",
   "version": "3.6.12"
  }
 },
 "nbformat": 4,
 "nbformat_minor": 5
}
