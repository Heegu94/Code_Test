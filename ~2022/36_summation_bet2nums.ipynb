{
 "cells": [
  {
   "cell_type": "markdown",
   "id": "governmental-secondary",
   "metadata": {},
   "source": [
    "# 두 정수 사이의 합\n",
    "___\n",
    "\n",
    "### [문제 설명]\n",
    "\n",
    "- 두 정수 a, b가 주어졌을 때 a와 b사이에 속한 모든 정수의 합을 리턴하는 함수, solution을 완성하세요.\n",
    "- 예를 들어, a=3, b=5 일 경우, 3 + 4 + 5 = 12 이므로 12를 리턴합니다.\n",
    "\n",
    "___\n",
    "\n",
    "### [제한 조건]\n",
    "\n",
    "- a와 b가 같은 경우는 둘 중 아무 수나 리턴하세요.\n",
    "- a와 b는 -10,000,000 이상 10,000,000 이하인 정수입니다. \n",
    "\n",
    "___\n",
    "\n",
    "### [입출력 예]\n",
    "\n",
    "![figure](C:/Users/ryank/Desktop/ryan/Code_Test/figure/36-1.PNG)\n",
    "___\n",
    "\n",
    "### [내 풀이]\n",
    "\n",
    "- 문제는 어렵지 않았다. \n",
    "\n",
    "- 두 정수가 주어졌을 때, 두 정수를 포함하면서 그 사이에 있는 정수에 대해 모두 더하라는 문제이다. \n",
    "- 즉, a와 b가 들어왔을때, 해당 정수들을 list에 넣어 sorting을 하여 해당 range에 대해 for문으로 더해주는 방식을 사요하였다."
   ]
  },
  {
   "cell_type": "code",
   "execution_count": 7,
   "id": "automotive-madrid",
   "metadata": {},
   "outputs": [],
   "source": [
    "a=3\n",
    "b=3"
   ]
  },
  {
   "cell_type": "code",
   "execution_count": 10,
   "id": "dietary-typing",
   "metadata": {},
   "outputs": [
    {
     "name": "stdout",
     "output_type": "stream",
     "text": [
      "3\n"
     ]
    }
   ],
   "source": [
    "answer =0\n",
    "for n in range(a, b+1):\n",
    "    answer+=n\n",
    "print(answer)"
   ]
  },
  {
   "cell_type": "code",
   "execution_count": 11,
   "id": "dynamic-kuwait",
   "metadata": {},
   "outputs": [],
   "source": [
    "a=5\n",
    "b=3"
   ]
  },
  {
   "cell_type": "code",
   "execution_count": 17,
   "id": "daily-spray",
   "metadata": {},
   "outputs": [
    {
     "name": "stdout",
     "output_type": "stream",
     "text": [
      "[3, 5]\n"
     ]
    }
   ],
   "source": [
    "print(sorted([a,b]))"
   ]
  },
  {
   "cell_type": "code",
   "execution_count": 18,
   "id": "suitable-meditation",
   "metadata": {},
   "outputs": [],
   "source": [
    "def solution(a, b):\n",
    "    c = sorted([a,b])\n",
    "    answer=0\n",
    "    for n in range(c[0], c[1]+1): answer+=n\n",
    "    return answer"
   ]
  },
  {
   "cell_type": "markdown",
   "id": "alpine-coral",
   "metadata": {},
   "source": [
    "- 문제는 맞고, 통과 하였으나 해당 식말고, range와 sum 만을 사용하여 위의 코드를 많이 줄일수 있다고 사료되어 아래와 같이 수정하였다"
   ]
  },
  {
   "cell_type": "code",
   "execution_count": 20,
   "id": "ethical-transcript",
   "metadata": {},
   "outputs": [],
   "source": [
    "def solution(a, b):\n",
    "    c = sorted([a,b])\n",
    "    return sum(range(c[0], c[1]+1))"
   ]
  },
  {
   "cell_type": "code",
   "execution_count": 21,
   "id": "shaped-gender",
   "metadata": {},
   "outputs": [
    {
     "data": {
      "text/plain": [
       "12"
      ]
     },
     "execution_count": 21,
     "metadata": {},
     "output_type": "execute_result"
    }
   ],
   "source": [
    "solution(5, 3)"
   ]
  },
  {
   "cell_type": "markdown",
   "id": "greenhouse-accessory",
   "metadata": {},
   "source": [
    "- 시간도 줄고, 답도 통과! , sorting을 하지 않고, 조건문을 사용하여, a와 b 값중 작은 값을 a 에 큰값을 b로 지정해주는 방법도 있다"
   ]
  },
  {
   "cell_type": "code",
   "execution_count": 22,
   "id": "vertical-softball",
   "metadata": {},
   "outputs": [],
   "source": [
    "def solution(a, b):\n",
    "    if a>b : a, b = b, a\n",
    "    return sum(range(a, b+1))"
   ]
  },
  {
   "cell_type": "markdown",
   "id": "white-investigator",
   "metadata": {},
   "source": [
    "- 위와 같이 코드를 구성해 보았는데, sorting을 사용한 방식이 조건문을 사용하여 처리한 경우에 비해 1~3% 정도 오래 걸렸다. "
   ]
  }
 ],
 "metadata": {
  "kernelspec": {
   "display_name": "Python 3",
   "language": "python",
   "name": "python3"
  },
  "language_info": {
   "codemirror_mode": {
    "name": "ipython",
    "version": 3
   },
   "file_extension": ".py",
   "mimetype": "text/x-python",
   "name": "python",
   "nbconvert_exporter": "python",
   "pygments_lexer": "ipython3",
   "version": "3.6.12"
  }
 },
 "nbformat": 4,
 "nbformat_minor": 5
}
