{
 "cells": [
  {
   "cell_type": "markdown",
   "id": "proved-ranking",
   "metadata": {},
   "source": [
    "# [2016년 요일 맞추기]\n",
    "___\n",
    "\n",
    "### [문제 설명]\n",
    "\n",
    "2016년 1월 1일은 금요일입니다. \n",
    "\n",
    "2016년 a월 b일은 무슨 요일일까요? \n",
    "\n",
    "두 수 a ,b를 입력받아 2016년 a월 b일이 무슨 요일인지 리턴하는 함수, solution을 완성하세요. \n",
    "\n",
    "요일의 이름은 일요일부터 토요일까지 각각 SUN,MON,TUE,WED,THU,FRI,SAT 입니다. \n",
    "\n",
    "예를 들어 a=5, b=24라면 5월 24일은 화요일이므로 문자열 \"TUE\"를 반환하세요.\n",
    "\n",
    "___\n",
    "\n",
    "### [제한 조건]\n",
    "\n",
    "\n",
    "- 2016년은 윤년입니다.\n",
    "- 2016년 a월 b일은 실제로 있는 날입니다. (13월 26일이나 2월 45일같은 날짜는 주어지지 않습니다)\n",
    "___\n",
    "\n"
   ]
  },
  {
   "cell_type": "markdown",
   "id": "structured-belly",
   "metadata": {},
   "source": [
    "### [내 풀이]\n",
    "\n",
    "- 우선 윤년은 2월이 29일 까지 있는 해.\n",
    "\n",
    "- 요일과 달마다 해당되는 일 수를 list로 만들어 준 뒤, 7로 나눈 나머지를 활용하여 요일을 맞추도록하였다.\n"
   ]
  },
  {
   "cell_type": "code",
   "execution_count": 54,
   "id": "cultural-skirt",
   "metadata": {},
   "outputs": [],
   "source": [
    "def solution(a, b):\n",
    "    date = ['FRI','SAT','SUN','MON','TUE','WED','THU']\n",
    "    days = [31, 29, 31, 30, 31, 30, 31, 31, 30, 31, 30, 31]\n",
    "\n",
    "    if a == 1:\n",
    "        return date[(b%7)-1]\n",
    "    else:\n",
    "        return date[((sum(days[:(a-1)])+b)%7)-1]"
   ]
  },
  {
   "cell_type": "markdown",
   "id": "effective-temple",
   "metadata": {},
   "source": [
    "____\n",
    "\n",
    "### [인상적인 풀이]\n",
    "\n",
    "- 솔찍히 코드들이 다 비슷했다. 하지만 하나 코드가 인상적이었는데,,"
   ]
  },
  {
   "cell_type": "code",
   "execution_count": 55,
   "id": "cooperative-ecuador",
   "metadata": {},
   "outputs": [],
   "source": [
    "def getDayName(a,b):\n",
    "    answer = \"\"\n",
    "    if a>=2:\n",
    "        b+=31\n",
    "        if a>=3:\n",
    "            b+=29#2월\n",
    "            if a>=4:\n",
    "                b+=31#3월\n",
    "                if a>=5:\n",
    "                    b+=30#4월\n",
    "                    if a>=6:\n",
    "                        b+=31#5월\n",
    "                        if a>=7:\n",
    "                            b+=30#6월\n",
    "                            if a>=8:\n",
    "                                b+=31#7월\n",
    "                                if a>=9:\n",
    "                                    b+=31#8월\n",
    "                                    if a>=10:\n",
    "                                        b+=30#9월\n",
    "                                        if a>=11:\n",
    "                                            b+=31#10월\n",
    "                                            if a==12:\n",
    "                                                b+=30#11월\n",
    "    b=b%7\n",
    "\n",
    "    if b==1:answer=\"FRI\"\n",
    "    elif b==2:answer=\"SAT\" \n",
    "    elif b==3:answer=\"SUN\"\n",
    "    elif b==4:answer=\"MON\"\n",
    "    elif b==5:answer=\"TUE\"\n",
    "    elif b==6:answer=\"WED\"\n",
    "    else:answer=\"THU\"\n",
    "    return answer"
   ]
  },
  {
   "cell_type": "markdown",
   "id": "fuzzy-restoration",
   "metadata": {},
   "source": [
    "- 해당 코드의 접근 방식은 비슷하다, 하지만 위의 코드처럼 혼신을 다해짠 코드는 오랜만에 보았다.. ㅎ\n",
    "___"
   ]
  }
 ],
 "metadata": {
  "kernelspec": {
   "display_name": "Python 3",
   "language": "python",
   "name": "python3"
  },
  "language_info": {
   "codemirror_mode": {
    "name": "ipython",
    "version": 3
   },
   "file_extension": ".py",
   "mimetype": "text/x-python",
   "name": "python",
   "nbconvert_exporter": "python",
   "pygments_lexer": "ipython3",
   "version": "3.6.12"
  }
 },
 "nbformat": 4,
 "nbformat_minor": 5
}
