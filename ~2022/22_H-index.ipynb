{
 "cells": [
  {
   "cell_type": "markdown",
   "id": "focused-shift",
   "metadata": {},
   "source": [
    "# [H-index]\n",
    "___\n",
    "\n",
    "### [문제 설명]\n",
    "\n",
    "- H-Index는 과학자의 생산성과 영향력을 나타내는 지표입니다. 어느 과학자의 H-Index를 나타내는 값인 h를 구하려고 합니다. 위키백과1에 따르면, H-Index는 다음과 같이 구합니다.\n",
    "\n",
    "- 어떤 과학자가 발표한 논문 n편 중, h번 이상 인용된 논문이 h편 이상이고 나머지 논문이 h번 이하 인용되었다면 h의 최댓값이 이 과학자의 H-Index입니다.\n",
    "\n",
    "- 어떤 과학자가 발표한 논문의 인용 횟수를 담은 배열 citations가 매개변수로 주어질 때, 이 과학자의 H-Index를 return 하도록 solution 함수를 작성해주세요.\n",
    "\n",
    "___\n",
    "\n",
    "### [제한 사항]\n",
    "\n",
    "- 과학자가 발표한 논문의 수는 1편 이상 1,000편 이하입니다.\n",
    "- 논문별 인용 횟수는 0회 이상 10,000회 이하입니다.\n",
    "___\n",
    "\n",
    "### [입출력 예]\n",
    "\n",
    "![figure](C://Users/ryank/Desktop/ryan/Code_Test/figure/22-1.PNG)\n",
    "\n",
    "- 이 과학자가 발표한 논문의 수는 5편이고, 그중 3편의 논문은 3회 이상 인용되었습니다. \n",
    "- 그리고 나머지 2편의 논문은 3회 이하 인용되었기 때문에 이 과학자의 H-Index는 3입니다.\n",
    "\n",
    "___\n",
    "\n",
    "### [내 풀이]"
   ]
  },
  {
   "cell_type": "markdown",
   "id": "remarkable-board",
   "metadata": {},
   "source": [
    "- while문을 사용하여 무한 loop를 돌리며, citations의 요소 길이와 요소를 pop을 통해 하나씩 꺼내와 이 둘을 비교하는 방법을 사용하였다. "
   ]
  },
  {
   "cell_type": "code",
   "execution_count": 22,
   "id": "special-likelihood",
   "metadata": {},
   "outputs": [],
   "source": [
    "citations = [3,0,6,1,5]\n",
    "# citations = [7, 10, 130, 110, 0, 37, 9]"
   ]
  },
  {
   "cell_type": "code",
   "execution_count": 35,
   "id": "sophisticated-donor",
   "metadata": {},
   "outputs": [
    {
     "name": "stdout",
     "output_type": "stream",
     "text": [
      "[22, 24]\n"
     ]
    }
   ],
   "source": [
    "# citations = [3,0,6,1,5]\n",
    "citations = [22,24]\n",
    "citations.sort()\n",
    "print(citations)"
   ]
  },
  {
   "cell_type": "code",
   "execution_count": 36,
   "id": "comparative-batman",
   "metadata": {},
   "outputs": [
    {
     "name": "stdout",
     "output_type": "stream",
     "text": [
      "2\n",
      "22 2\n",
      "same = 22 2\n"
     ]
    }
   ],
   "source": [
    "citations.sort()\n",
    "num = len(citations)\n",
    "print(num)\n",
    "cnt=0\n",
    "while cnt <= num:\n",
    "    h_tmp = len(citations)\n",
    "    h = citations.pop(0)\n",
    "    print(h, h_tmp)\n",
    "    if h >= h_tmp:\n",
    "        print(\"same =\",h, h_tmp)\n",
    "        break\n",
    "    else:\n",
    "        pass\n",
    "    cnt+=1"
   ]
  },
  {
   "cell_type": "code",
   "execution_count": 37,
   "id": "frozen-potato",
   "metadata": {},
   "outputs": [],
   "source": [
    "def solution(citations):\n",
    "    citations.sort()\n",
    "    num = len(citations)\n",
    "    cnt=0\n",
    "    \n",
    "    while cnt <= num:\n",
    "        h_tmp = len(citations)\n",
    "        h = citations.pop(0)\n",
    "        if h >= h_tmp: return h_tmp\n",
    "        else: pass\n",
    "        \n",
    "        cnt+=1\n",
    "        "
   ]
  },
  {
   "cell_type": "markdown",
   "id": "ignored-projection",
   "metadata": {},
   "source": [
    "- 답은 맞았으나.. 10문제중..런타임 에러 1개 뜸 \n",
    "\n",
    "- 확인 결과 테스트 케이스에 [0, 0, 0]이 포함되어야함. \n",
    "- 즉, 저자의 모든 논문의 citation 이 \"0\" 일 경우에는 0이 출력 되어야 함. -> 이를 추가하였음"
   ]
  },
  {
   "cell_type": "code",
   "execution_count": 36,
   "id": "subjective-congo",
   "metadata": {},
   "outputs": [
    {
     "name": "stdout",
     "output_type": "stream",
     "text": [
      "3 0\n",
      "2 0\n",
      "1 0\n",
      "0\n"
     ]
    }
   ],
   "source": [
    "citations = [0,0,0]\n",
    "citations.sort()\n",
    "num = len(citations)\n",
    "cnt = 0\n",
    "while cnt < num:\n",
    "    h_tmp = len(citations)\n",
    "    h = citations.pop(0)\n",
    "    print(h_tmp, h)\n",
    "    \n",
    "    if h >= h_tmp: \n",
    "        print(h_tmp)\n",
    "    else: pass     \n",
    "    \n",
    "    cnt +=1\n",
    "if h == 0: print(0)"
   ]
  },
  {
   "cell_type": "code",
   "execution_count": 37,
   "id": "regulated-conducting",
   "metadata": {},
   "outputs": [],
   "source": [
    "def solution(citations):\n",
    "    citations.sort()\n",
    "    num = len(citations)\n",
    "    cnt = 0\n",
    "    while cnt < num:\n",
    "        h_tmp = len(citations)\n",
    "        h = citations.pop(0)\n",
    "        if h >= h_tmp: return h_tmp\n",
    "        else: pass     \n",
    "        cnt +=1\n",
    "    if h == 0: return 0"
   ]
  },
  {
   "cell_type": "code",
   "execution_count": 34,
   "id": "ultimate-reading",
   "metadata": {},
   "outputs": [
    {
     "name": "stdout",
     "output_type": "stream",
     "text": [
      "3 0\n",
      "2 0\n",
      "1 0\n"
     ]
    },
    {
     "data": {
      "text/plain": [
       "0"
      ]
     },
     "execution_count": 34,
     "metadata": {},
     "output_type": "execute_result"
    }
   ],
   "source": [
    "solution([0,0,0])"
   ]
  },
  {
   "cell_type": "markdown",
   "id": "discrete-fitting",
   "metadata": {},
   "source": [
    "- 성공!"
   ]
  }
 ],
 "metadata": {
  "kernelspec": {
   "display_name": "Python 3",
   "language": "python",
   "name": "python3"
  },
  "language_info": {
   "codemirror_mode": {
    "name": "ipython",
    "version": 3
   },
   "file_extension": ".py",
   "mimetype": "text/x-python",
   "name": "python",
   "nbconvert_exporter": "python",
   "pygments_lexer": "ipython3",
   "version": "3.6.12"
  }
 },
 "nbformat": 4,
 "nbformat_minor": 5
}
