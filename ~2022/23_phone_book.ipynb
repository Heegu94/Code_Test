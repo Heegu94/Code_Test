{
 "cells": [
  {
   "cell_type": "markdown",
   "id": "celtic-reset",
   "metadata": {},
   "source": [
    "# [전화번호 목록]\n",
    "___\n",
    "\n",
    "### [문제 설명]\n",
    "\n",
    "- 전화번호부에 적힌 전화번호 중, 한 번호가 다른 번호의 접두어인 경우가 있는지 확인하려 합니다.\n",
    "- 전화번호가 다음과 같을 경우, 구조대 전화번호는 영석이의 전화번호의 접두사입니다.\n",
    "\n",
    "- 구조대 : 119\n",
    "- 박준영 : 97 674 223\n",
    "- 지영석 : 11 9552 4421\n",
    "- 전화번호부에 적힌 전화번호를 담은 배열 phone_book 이 solution 함수의 매개변수로 주어질 때, 어떤 번호가 다른 번호의 접두어인 경우가 있으면 false를 그렇지 않으면 true를 return 하도록 solution 함수를 작성해주세요.\n",
    "\n",
    "___\n",
    "\n",
    "### [제한 사항]\n",
    "\n",
    "- phone_book의 길이는 1 이상 1,000,000 이하입니다.\n",
    "- 각 전화번호의 길이는 1 이상 20 이하입니다.\n",
    "- 같은 전화번호가 중복해서 들어있지 않습니다.\n",
    "\n",
    "___\n",
    "\n",
    "### [입출력 예제]\n",
    "\n",
    "![figure](C:/Users/ryank/Desktop/ryan/Code_Test/figure/23-1.PNG)"
   ]
  },
  {
   "cell_type": "markdown",
   "id": "chemical-general",
   "metadata": {},
   "source": [
    "___\n",
    "### [내 풀이]"
   ]
  },
  {
   "cell_type": "code",
   "execution_count": 23,
   "id": "explicit-sender",
   "metadata": {},
   "outputs": [
    {
     "name": "stdout",
     "output_type": "stream",
     "text": [
      "false\n"
     ]
    }
   ],
   "source": [
    "phone_book = [\"12\",\"123\",\"1235\",\"567\",\"88\"]\t#[\"123\",\"456\",\"789\"]#[\"119\", \"97674223\", \"1195524421\"]\n",
    "\n",
    "answer = ''\n",
    "while len(answer)==0:\n",
    "    book = deque(phone_book)\n",
    "\n",
    "    number = book.popleft()\n",
    "    for num in book:\n",
    "        if number in num:\n",
    "            answer+='false'\n",
    "            break\n",
    "    else:\n",
    "        answer+='true'\n",
    "        break\n",
    "print(answer)"
   ]
  },
  {
   "cell_type": "code",
   "execution_count": 42,
   "id": "annoying-contractor",
   "metadata": {},
   "outputs": [],
   "source": [
    "from collections import deque\n",
    "def solution(phone_book):\n",
    "    while True:\n",
    "        book = deque(sorted(phone_book))\n",
    "        number = book.popleft()\n",
    "        for num in book:\n",
    "            if number in num:\n",
    "                return False\n",
    "        else:\n",
    "            return True"
   ]
  },
  {
   "cell_type": "markdown",
   "id": "anticipated-speech",
   "metadata": {},
   "source": [
    "- 몇 문제가 틀리기 시작.. 시간초과도 몇개 뜨고.. 코드 더 줄여보자!"
   ]
  },
  {
   "cell_type": "code",
   "execution_count": 51,
   "id": "moving-devon",
   "metadata": {},
   "outputs": [
    {
     "name": "stdout",
     "output_type": "stream",
     "text": [
      "False\n"
     ]
    }
   ],
   "source": [
    "phone_book = [\"12\",\"123\",\"1235\",\"567\",\"88\"]\t\n",
    "\n",
    "for i in range(len(phone_book)):\n",
    "    if phone_book[i] in phone_book[i+1]:\n",
    "        print(False)\n",
    "        break\n",
    "else: print(True)"
   ]
  },
  {
   "cell_type": "code",
   "execution_count": 54,
   "id": "accepted-julian",
   "metadata": {},
   "outputs": [],
   "source": [
    "def solution(phone_book):\n",
    "    phone_book.sort()\n",
    "    for i in range(len(phone_book)-1):\n",
    "        if phone_book[i] in phone_book[i+1]:\n",
    "            return False\n",
    "    else : return True"
   ]
  },
  {
   "cell_type": "code",
   "execution_count": 56,
   "id": "minus-barrel",
   "metadata": {},
   "outputs": [
    {
     "data": {
      "text/plain": [
       "False"
      ]
     },
     "execution_count": 56,
     "metadata": {},
     "output_type": "execute_result"
    }
   ],
   "source": [
    "solution([\"112\",\"44\",\"4544\"])"
   ]
  },
  {
   "cell_type": "markdown",
   "id": "express-agreement",
   "metadata": {},
   "source": [
    "- 1 문제가 틀림.. 효율성은 통과인데.. 확인 결과, phone_book = [\"112\",\"44\",\"4544\"] 예제에 대해 True 를 출력해야하는데 False를 출력하는 오류 발생. "
   ]
  },
  {
   "cell_type": "code",
   "execution_count": null,
   "id": "framed-tanzania",
   "metadata": {},
   "outputs": [],
   "source": [
    "phone_book = [\"112\",\"44\",\"4544\"] "
   ]
  },
  {
   "cell_type": "markdown",
   "id": "banned-million",
   "metadata": {},
   "source": [
    "- 조건문을 추가하였다. \n",
    "\n",
    "-  phone_book[i] 에서 뽑아온 string 의 길이와 같은 부분, 즉 접두어 부분만 check하도록 하였다. phone_book[i+1][:len(phone_book[i])] \n",
    "- 또한,  phone_book[i] 이  phone_book[i+1]보다 길 경우 성립되지 않으므로 이또한 추가."
   ]
  },
  {
   "cell_type": "code",
   "execution_count": 68,
   "id": "under-polish",
   "metadata": {},
   "outputs": [],
   "source": [
    "def solution(phone_book):\n",
    "    phone_book.sort()\n",
    "    for i in range(len(phone_book)-1):\n",
    "        if phone_book[i] in phone_book[i+1][:len(phone_book[i])] and len(phone_book[i])<=len(phone_book[i+1]):\n",
    "            return False\n",
    "    else : return True"
   ]
  },
  {
   "cell_type": "code",
   "execution_count": 69,
   "id": "seasonal-anime",
   "metadata": {},
   "outputs": [
    {
     "data": {
      "text/plain": [
       "True"
      ]
     },
     "execution_count": 69,
     "metadata": {},
     "output_type": "execute_result"
    }
   ],
   "source": [
    "solution([\"112\",\"44\",\"4544\"] )"
   ]
  },
  {
   "cell_type": "markdown",
   "id": "distributed-miller",
   "metadata": {},
   "source": [
    "- 통과!\n",
    "___\n",
    "\n",
    "### [인상적인 풀이법]"
   ]
  },
  {
   "cell_type": "code",
   "execution_count": null,
   "id": "tropical-remains",
   "metadata": {},
   "outputs": [],
   "source": [
    "def solution(phoneBook):\n",
    "    phoneBook = sorted(phoneBook)\n",
    "\n",
    "    for p1, p2 in zip(phoneBook, phoneBook[1:]):\n",
    "        if p2.startswith(p1):\n",
    "            return False\n",
    "    return True"
   ]
  },
  {
   "cell_type": "markdown",
   "id": "sustained-substance",
   "metadata": {},
   "source": [
    "- 내 풀이와 같이  phone_book[i] 과  phone_book[i+1] 을 사용하지 않고, zip을 사용하여 두개씩 뽑아 비교!\n",
    "- 이렇게 간단하게 비교만 해도 될까.. 하는 의문이 들었지만, sort()를 사용하여 정렬후 사용하였기에 가능한 것으로 사료됨.\n",
    "\n",
    "- 또한 내장함수인 startswith 를 통해 비교하였음.\n",
    "\n",
    "### startswith()\n"
   ]
  },
  {
   "cell_type": "code",
   "execution_count": null,
   "id": "prepared-headline",
   "metadata": {},
   "outputs": [],
   "source": [
    "strB.startswith(strA,beg=0,end=len(string))\n",
    "# strB[beg:end]에서 strA 문자열 찾기!"
   ]
  },
  {
   "cell_type": "markdown",
   "id": "sharp-reunion",
   "metadata": {},
   "source": [
    "- startswith()은 내가 찾고자 하는 문자열A가 문자열B의 맨 앞에 있는지의 여부를 알려준다! \n",
    "- 기본적으로는 문자열 strB에 문자열 strA 가 맨 앞 있다면 True를 반환하고, 아니라면 False를 반환한다."
   ]
  },
  {
   "cell_type": "code",
   "execution_count": null,
   "id": "consecutive-climb",
   "metadata": {},
   "outputs": [],
   "source": [
    "strB = 'abcdefg'\n",
    "print(strB.startswith('ab'))  # True\n",
    "print(strB.startswith('bcd')) # False \n",
    "# 찾고자 하는 문자열 'bcd'가 strB의 앞에 없음"
   ]
  },
  {
   "cell_type": "markdown",
   "id": "painful-hygiene",
   "metadata": {},
   "source": [
    "- (optional) 이때 beg과 end에 값을 줘서, strB의 범위를 조절할 수 있다. 즉 strB[beg:end] 로 슬라이싱한 문자열의 맨 앞과 strA가 같은지 비교하면 된다"
   ]
  },
  {
   "cell_type": "code",
   "execution_count": null,
   "id": "accessible-coordinator",
   "metadata": {},
   "outputs": [],
   "source": [
    "strB = 'abcdefg'\n",
    "print(strB.startswith('ab', 1))  # False\n",
    "print(strB.startswith('bcd', 1)) # True\n",
    "# strB[beg:end]\n",
    "# strB[1:]은 'bcdefg'가 된다"
   ]
  }
 ],
 "metadata": {
  "kernelspec": {
   "display_name": "Python 3",
   "language": "python",
   "name": "python3"
  },
  "language_info": {
   "codemirror_mode": {
    "name": "ipython",
    "version": 3
   },
   "file_extension": ".py",
   "mimetype": "text/x-python",
   "name": "python",
   "nbconvert_exporter": "python",
   "pygments_lexer": "ipython3",
   "version": "3.6.12"
  }
 },
 "nbformat": 4,
 "nbformat_minor": 5
}
