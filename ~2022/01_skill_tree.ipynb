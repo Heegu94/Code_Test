{
 "cells": [
  {
   "cell_type": "markdown",
   "id": "genuine-charter",
   "metadata": {},
   "source": [
    "# 스킬트리 문제\n",
    "____"
   ]
  },
  {
   "cell_type": "markdown",
   "id": "piano-feeding",
   "metadata": {},
   "source": [
    "### 1. 문제 설명\n",
    "\n",
    "선행 스킬이란 어떤 스킬을 배우기 전에 먼저 배워야 하는 스킬을 뜻합니다.\n",
    "\n",
    "예를 들어 선행 스킬 순서가 스파크 → 라이트닝 볼트 → 썬더일때, 썬더를 배우려면 먼저 라이트닝 볼트를 배워야 하고, 라이트닝 볼트를 배우려면 먼저 스파크를 배워야 합니다.\n",
    "\n",
    "위 순서에 없는 다른 스킬(힐링 등)은 순서에 상관없이 배울 수 있습니다. 따라서 스파크 → 힐링 → 라이트닝 볼트 → 썬더와 같은 스킬트리는 가능하지만, 썬더 → 스파크나 라이트닝 볼트 → 스파크 → 힐링 → 썬더와 같은 스킬트리는 불가능합니다.\n",
    "\n",
    "선행 스킬 순서 skill과 유저들이 만든 스킬트리1를 담은 배열 skill_trees가 매개변수로 주어질 때, 가능한 스킬트리 개수를 return 하는 solution 함수를 작성해주세요."
   ]
  },
  {
   "cell_type": "markdown",
   "id": "parallel-community",
   "metadata": {},
   "source": [
    "___"
   ]
  },
  {
   "cell_type": "markdown",
   "id": "collective-routine",
   "metadata": {},
   "source": [
    "### 2. 제한 조건\n",
    "\n",
    "스킬은 알파벳 대문자로 표기하며, 모든 문자열은 알파벳 대문자로만 이루어져 있습니다.\n",
    "\n",
    "스킬 순서와 스킬트리는 문자열로 표기합니다.\n",
    "\n",
    "예를 들어, C → B → D 라면 \"CBD\"로 표기합니다\n",
    "\n",
    "선행 스킬 순서 skill의 길이는 1 이상 26 이하이며, 스킬은 중복해 주어지지 않습니다.\n",
    "\n",
    "skill_trees는 길이 1 이상 20 이하인 배열입니다.\n",
    "\n",
    "skill_trees의 원소는 스킬을 나타내는 문자열입니다.\n",
    "\n",
    "skill_trees의 원소는 길이가 2 이상 26 이하인 문자열이며, 스킬이 중복해 주어지지 않습니다.\n",
    "\n",
    "___"
   ]
  },
  {
   "cell_type": "markdown",
   "id": "passive-pixel",
   "metadata": {},
   "source": [
    "## [내 풀이]\n",
    "\n",
    "##### 1. 우선 loop를 돌면서 비교해서 같으면 기준을 제거해서 다시 비교하는 방법으로 접근\n"
   ]
  },
  {
   "cell_type": "code",
   "execution_count": 66,
   "id": "light-victory",
   "metadata": {},
   "outputs": [],
   "source": [
    "skill = \"CBD\"\n",
    "skill_trees = [\"BACDE\", \"CBADF\", \"AECB\", \"DBA\"]\n",
    "\n",
    "def solution(skill, skill_trees):\n",
    "    answer=0\n",
    "    for skills in skill_trees:\n",
    "        skill_ans = skill\n",
    "        for s in skills:\n",
    "            if s in skill_ans:\n",
    "                print(s, skill_ans)\n",
    "                if s != skill_ans[0]: \n",
    "                    break     \n",
    "                else:\n",
    "                    skill_ans = skill_ans[1:]\n",
    "            if s == skills[-1]:\n",
    "                answer+=1     \n",
    "    return answer"
   ]
  },
  {
   "cell_type": "markdown",
   "id": "allied-partition",
   "metadata": {},
   "source": [
    "___"
   ]
  },
  {
   "cell_type": "markdown",
   "id": "abroad-narrative",
   "metadata": {},
   "source": [
    "## [효율적 풀이]\n",
    "\n",
    "##### 1. 나는 if ~ else 구문을 사용했지만, ***if ~ else*** 구문을 사용하는 것이 더 효율적이라는 것을 알게 됨.\n",
    "\n",
    "#### \"*for ~ else*\"\n",
    "\n",
    "for 문을 사용하다보면, 루프 중간에 break 문으로 빠져나오는 경우가 많은데, 이때 이부분이 break문 때문에 빠져나가는지 아닌지를 판단할 때 사용.\n",
    "\n",
    "for 와 같은 level에 *else* 를 배치하여 break 없이 빠져나온 경우를 처리하는 방법(구분)."
   ]
  },
  {
   "cell_type": "code",
   "execution_count": 65,
   "id": "protecting-project",
   "metadata": {},
   "outputs": [
    {
     "name": "stdout",
     "output_type": "stream",
     "text": [
      "2\n"
     ]
    }
   ],
   "source": [
    "skill = \"CBD\"\n",
    "skill_trees = [\"BACDE\", \"CBADF\", \"AECB\", \"DBA\"]\n",
    "answer = 0\n",
    "\n",
    "for skills in skill_trees:\n",
    "    skill_list = list(skill)\n",
    "    for s in skills:\n",
    "        if s in skill:\n",
    "            if s != skill_list.pop(0):\n",
    "                break\n",
    "    else:\n",
    "        answer += 1\n",
    "        \n",
    "print(answer)"
   ]
  }
 ],
 "metadata": {
  "kernelspec": {
   "display_name": "Python 3",
   "language": "python",
   "name": "python3"
  },
  "language_info": {
   "codemirror_mode": {
    "name": "ipython",
    "version": 3
   },
   "file_extension": ".py",
   "mimetype": "text/x-python",
   "name": "python",
   "nbconvert_exporter": "python",
   "pygments_lexer": "ipython3",
   "version": "3.6.12"
  }
 },
 "nbformat": 4,
 "nbformat_minor": 5
}
