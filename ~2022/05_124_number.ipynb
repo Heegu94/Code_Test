{
 "cells": [
  {
   "cell_type": "markdown",
   "metadata": {},
   "source": [
    "# 05 124 나라의 숫자\n",
    "\n",
    "___\n",
    "\n",
    "### [문제 설명]\n",
    "\n",
    "124 나라가 있습니다.\n",
    "\n",
    "124 나라에서는 10진법이 아닌 다음과 같은 자신들만의 규칙으로 수를 표현합니다. \n",
    "\n",
    "- 1. 124 나라에는 자연수만 존재합니다.\n",
    "\n",
    "- 2. 124 나라에는 모든 수를 표현할 때 1,2,4 만 사용합니다. \n",
    "\n",
    "예를 들어서 124 나라에서 사용하는 숫자는 다음과 같이 변환됩니다.\n",
    "\n",
    "![image](C:/Users/ryank/Desktop/ryan/Code_Test/figure/05-1.PNG)\n",
    "\n",
    "자연수 n 이 매개변수로 주어질 때, n 을 124 나라에서 사용하는 숫자로 바꾼 값을 return 하도록 solution 함수를 완성해 주세요 \n",
    "\n",
    "### [제한 사항]\n",
    "\n",
    "- n 은 500,000,000d이하의 자연수 입니다.\n"
   ]
  },
  {
   "cell_type": "markdown",
   "metadata": {},
   "source": [
    "### [내 풀이]\n",
    "\n",
    "- divmod(n, k) : n수를 k로 나누었을 때의 몫, 과 나머지 출력\n",
    "- str 을 '+' 를 사용하여 이어서 따로따로 구하는 알고리즘"
   ]
  },
  {
   "cell_type": "code",
   "execution_count": 95,
   "metadata": {},
   "outputs": [],
   "source": [
    "def solution(n):\n",
    "    if n <=3:\n",
    "        return '124'[n-1]\n",
    "    else:\n",
    "        q, r = divmod(n-1, 3)\n",
    "        return solution(q)+'124'[r]"
   ]
  },
  {
   "cell_type": "markdown",
   "metadata": {},
   "source": [
    "### [인상적인 풀이법]"
   ]
  },
  {
   "cell_type": "code",
   "execution_count": 99,
   "metadata": {},
   "outputs": [],
   "source": [
    "def change124(n):\n",
    "    num = ['1','2','4']\n",
    "    answer = \"\"\n",
    "\n",
    "\n",
    "    while n > 0:\n",
    "        print(n)\n",
    "        n -= 1\n",
    "        answer = num[n % 3] + answer\n",
    "        n //= 3\n",
    "        print(n, answer)\n",
    "        print(\"\")\n",
    "\n",
    "    return answer"
   ]
  },
  {
   "cell_type": "markdown",
   "metadata": {},
   "source": [
    "- 나와 비슷하게 문자열을 사용한 풀이\n",
    "\n",
    "- 다름점이라면 자리수마다 나눠서 진행한 풀이이다."
   ]
  }
 ],
 "metadata": {
  "kernelspec": {
   "display_name": "Python 3",
   "language": "python",
   "name": "python3"
  },
  "language_info": {
   "codemirror_mode": {
    "name": "ipython",
    "version": 3
   },
   "file_extension": ".py",
   "mimetype": "text/x-python",
   "name": "python",
   "nbconvert_exporter": "python",
   "pygments_lexer": "ipython3",
   "version": "3.8.5"
  }
 },
 "nbformat": 4,
 "nbformat_minor": 4
}
