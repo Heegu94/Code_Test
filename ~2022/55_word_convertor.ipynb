{
 "cells": [
  {
   "cell_type": "markdown",
   "id": "continuing-clone",
   "metadata": {},
   "source": [
    "# [단어 변환] - DFS\n",
    "___\n",
    "\n",
    "### [문제 설명]\n",
    "\n",
    "- 두 개의 단어 begin, target과 단어의 집합 words가 있습니다. 아래와 같은 규칙을 이용하여 begin에서 target으로 변환하는 가장 짧은 변환 과정을 찾으려고 합니다.\n",
    "\n",
    "> 1. 한 번에 한 개의 알파벳만 바꿀 수 있습니다.\n",
    "> 2. words에 있는 단어로만 변환할 수 있습니다.\n",
    "\n",
    "- 예를 들어 begin이 \"hit\", target가 \"cog\", words가 [\"hot\",\"dot\",\"dog\",\"lot\",\"log\",\"cog\"]라면 \"hit\" -> \"hot\" -> \"dot\" -> \"dog\" -> \"cog\"와 같이 4단계를 거쳐 변환할 수 있습니다.\n",
    "\n",
    "- 두 개의 단어 begin, target과 단어의 집합 words가 매개변수로 주어질 때, 최소 몇 단계의 과정을 거쳐 begin을 target으로 변환할 수 있는지 return 하도록 solution 함수를 작성해주세요.\n",
    "\n",
    "### [제한사항]\n",
    "\n",
    "- 각 단어는 알파벳 소문자로만 이루어져 있습니다.\n",
    "- 각 단어의 길이는 3 이상 10 이하이며 모든 단어의 길이는 같습니다.\n",
    "- words에는 3개 이상 50개 이하의 단어가 있으며 중복되는 단어는 없습니다.\n",
    "- begin과 target은 같지 않습니다.\n",
    "- 변환할 수 없는 경우에는 0를 return 합니다.\n",
    "\n",
    "### [입출력 예]\n",
    "\n",
    "- begin = \"hit\", target = \"cog\", words = [\"hot\", \"dot\", \"dog\", \"lot\", \"log\", \"cog\"], **return 4**\n",
    "\n",
    "- begin = \"hit\", target = \"cog\", words = [\"hot\", \"dot\", \"dog\", \"lot\", \"log\"], **return 0**"
   ]
  },
  {
   "cell_type": "markdown",
   "id": "fifteen-electricity",
   "metadata": {},
   "source": [
    "___\n",
    "### [풀이]\n",
    "\n",
    "- 우선 begin 단어를 시작으로 depth에 따라 searching 하는 형식으로 코드를 구성하려고 한다.\n",
    "\n",
    "- DFS 알고리즘 처럼, stack 과 visited를 사용하여 중복을 피하면서 하나의 단어씩 찾아본다,\n",
    "\n",
    "    1. 방문 여부를 words의 갯수만큼 0으로 초기화\n",
    "\n",
    "    2. words에 있는 한개 한개의 단어가 이전 비교값과 스펠링이 1개만 다르다면 방문여부를 true(1)로 변경하고 stacks에 추가한다.\n",
    "\n",
    "    3. for 문을 나오면 answer을 1개 추가한다.\n",
    "\n",
    "    4. stacks에서 pop으로 데이터를 꺼내 (pop으로 꺼낸게 또다시 기준값이 된다.) words에 있는 한개 한개의 단어와 비교하고 이미 방문값이 1이면 pass, 방문값이 0이면 1로 변경해준다.\n",
    "\n",
    "    5. target이 answers에 없다면 0을 return 해준다.\n"
   ]
  },
  {
   "cell_type": "code",
   "execution_count": 1,
   "id": "greater-badge",
   "metadata": {},
   "outputs": [],
   "source": [
    "begin = \"hit\"\n",
    "target = \"cog\"\n",
    "\n",
    "words = [\"hot\", \"dot\", \"dog\", \"lot\", \"log\", \"cog\"]"
   ]
  },
  {
   "cell_type": "code",
   "execution_count": 9,
   "id": "medieval-client",
   "metadata": {},
   "outputs": [
    {
     "name": "stdout",
     "output_type": "stream",
     "text": [
      "['hit']\n",
      "hit\n",
      "['hot']\n",
      "[1, 0, 0, 0, 0, 0]\n",
      "1\n",
      "=================\n",
      "hot\n",
      "['dot', 'lot']\n",
      "[1, 1, 0, 1, 0, 0]\n",
      "2\n",
      "=================\n",
      "lot\n",
      "['dot', 'log']\n",
      "[1, 1, 0, 1, 1, 0]\n",
      "3\n",
      "=================\n",
      "log\n",
      "['dot', 'dog', 'cog']\n",
      "[1, 1, 1, 1, 1, 1]\n",
      "4\n",
      "=================\n",
      "cog\n"
     ]
    }
   ],
   "source": [
    "ans = 0\n",
    "stacks = [begin]\n",
    "visited = [0]*len(words)\n",
    "print(stacks)\n",
    "\n",
    "while stacks:\n",
    "    stack = stacks.pop()\n",
    "    print(stack)\n",
    "    \n",
    "    if stack == target: break\n",
    "    \n",
    "    tmp = []\n",
    "    for i in range(len(words)):\n",
    "        if len([j for j in range(len(words[i])) if words[i][j] != stack[j]]) == 1:\n",
    "            if visited[i] != 0:\n",
    "                continue\n",
    "            visited[i] = 1\n",
    "            stacks.append(words[i])\n",
    "    ans+=1\n",
    "    print(stacks)\n",
    "    print(visited)\n",
    "    print(ans)\n",
    "    print(\"=================\")\n",
    "            \n",
    "                "
   ]
  },
  {
   "cell_type": "code",
   "execution_count": 16,
   "id": "extraordinary-egypt",
   "metadata": {},
   "outputs": [],
   "source": [
    "def DFS(begin, target, words):\n",
    "    ans = 0\n",
    "    stacks = [begin]\n",
    "    visited = [0]*len(words)\n",
    "#     print(stacks)\n",
    "\n",
    "    while stacks:\n",
    "        stack = stacks.pop()\n",
    "#         print(stack)\n",
    "\n",
    "        if stack == target: break\n",
    "\n",
    "        tmp = []\n",
    "        for i in range(len(words)):\n",
    "            if len([j for j in range(len(words[i])) if words[i][j] != stack[j]]) == 1:\n",
    "                if visited[i] != 0:\n",
    "                    continue\n",
    "                visited[i] = 1\n",
    "                stacks.append(words[i])\n",
    "        ans+=1\n",
    "    return ans"
   ]
  },
  {
   "cell_type": "code",
   "execution_count": 17,
   "id": "nervous-affairs",
   "metadata": {},
   "outputs": [],
   "source": [
    "def solution(begin, target, words):\n",
    "    if target not in words: return 0\n",
    "    \n",
    "    return DFS(begin, target, words)"
   ]
  },
  {
   "cell_type": "code",
   "execution_count": 18,
   "id": "irish-stage",
   "metadata": {},
   "outputs": [
    {
     "data": {
      "text/plain": [
       "4"
      ]
     },
     "execution_count": 18,
     "metadata": {},
     "output_type": "execute_result"
    }
   ],
   "source": [
    "begin = \"hit\"\n",
    "target = \"cog\"\n",
    "\n",
    "words = [\"hot\", \"dot\", \"dog\", \"lot\", \"log\", \"cog\"]\n",
    "\n",
    "solution(begin, target, words)"
   ]
  },
  {
   "cell_type": "code",
   "execution_count": null,
   "id": "systematic-lotus",
   "metadata": {},
   "outputs": [],
   "source": []
  }
 ],
 "metadata": {
  "kernelspec": {
   "display_name": "Python 3",
   "language": "python",
   "name": "python3"
  },
  "language_info": {
   "codemirror_mode": {
    "name": "ipython",
    "version": 3
   },
   "file_extension": ".py",
   "mimetype": "text/x-python",
   "name": "python",
   "nbconvert_exporter": "python",
   "pygments_lexer": "ipython3",
   "version": "3.6.12"
  }
 },
 "nbformat": 4,
 "nbformat_minor": 5
}
