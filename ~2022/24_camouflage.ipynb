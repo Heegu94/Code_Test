{
 "cells": [
  {
   "cell_type": "markdown",
   "id": "antique-visiting",
   "metadata": {},
   "source": [
    "# [위장] - 해시\n",
    "___\n",
    "\n",
    "### [문제 설명]\n",
    "\n",
    "- 스파이들은 매일 다른 옷을 조합하여 입어 자신을 위장합니다.\n",
    "\n",
    "- 예를 들어 스파이가 가진 옷이 아래와 같고 오늘 스파이가 동그란 안경, 긴 코트, 파란색 티셔츠를 입었다면 다음날은 청바지를 추가로 입거나 동그란 안경 대신 검정 선글라스를 착용하거나 해야 합니다.\n",
    "\n",
    "- 스파이가 가진 의상들이 담긴 2차원 배열 clothes가 주어질 때 서로 다른 옷의 조합의 수를 return 하도록 solution 함수를 작성해주세요.\n",
    "\n",
    "___\n",
    "\n",
    "### [제한 사항]\n",
    "\n",
    "- clothes의 각 행은 [의상의 이름, 의상의 종류]로 이루어져 있습니다.\n",
    "- 스파이가 가진 의상의 수는 1개 이상 30개 이하입니다.\n",
    "- 같은 이름을 가진 의상은 존재하지 않습니다.\n",
    "- clothes의 모든 원소는 문자열로 이루어져 있습니다.\n",
    "- 모든 문자열의 길이는 1 이상 20 이하인 자연수이고 알파벳 소문자 또는 '_' 로만 이루어져 있습니다.\n",
    "- 스파이는 하루에 최소 한 개의 의상은 입습니다.\n",
    "\n",
    "___\n",
    "\n",
    "### [입출력 예]\n",
    "\n",
    "![figure](C:/Users/ryank/Desktop/ryan/Code_Test/figure/24-1.PNG)"
   ]
  },
  {
   "cell_type": "markdown",
   "id": "lightweight-interpretation",
   "metadata": {},
   "source": [
    "\n",
    "___\n",
    "### [내 풀이]"
   ]
  },
  {
   "cell_type": "code",
   "execution_count": 19,
   "id": "instant-studio",
   "metadata": {},
   "outputs": [
    {
     "data": {
      "text/plain": [
       "[['bluesunglasses', 'eyewear'],\n",
       " ['yellowhat', 'headgear'],\n",
       " ['green_turban', 'headgear']]"
      ]
     },
     "execution_count": 19,
     "metadata": {},
     "output_type": "execute_result"
    }
   ],
   "source": [
    "clothes = [[\"yellowhat\", \"headgear\"], [\"bluesunglasses\", \"eyewear\"], [\"green_turban\", \"headgear\"]]\n",
    "\n",
    "sorted(clothes ,key=lambda cloth: cloth[1])"
   ]
  },
  {
   "cell_type": "code",
   "execution_count": 20,
   "id": "pending-details",
   "metadata": {},
   "outputs": [
    {
     "name": "stdout",
     "output_type": "stream",
     "text": [
      "['bluesunglasses', 'eyewear'] ['yellowhat', 'headgear']\n",
      "['yellowhat', 'headgear'] ['green_turban', 'headgear']\n",
      "[1, 2]\n"
     ]
    }
   ],
   "source": [
    "clothes = [[\"yellowhat\", \"headgear\"], [\"bluesunglasses\", \"eyewear\"], [\"green_turban\", \"headgear\"]]\n",
    "\n",
    "clothes = sorted(clothes ,key=lambda cloth: cloth[1])\n",
    "\n",
    "cnt = 1\n",
    "nums = []\n",
    "for a, b in zip(clothes, clothes[1:]):\n",
    "    print(a, b)\n",
    "    if a[1] == b[1]:\n",
    "        cnt+=1\n",
    "    else:\n",
    "        cnt=1\n",
    "    nums.append(cnt)\n",
    "\n",
    "print(nums)"
   ]
  },
  {
   "cell_type": "code",
   "execution_count": 28,
   "id": "hawaiian-occurrence",
   "metadata": {},
   "outputs": [],
   "source": [
    "from itertools import combinations"
   ]
  },
  {
   "cell_type": "code",
   "execution_count": 73,
   "id": "brave-peninsula",
   "metadata": {},
   "outputs": [
    {
     "name": "stdout",
     "output_type": "stream",
     "text": [
      "[(3,)]\n",
      "3\n"
     ]
    }
   ],
   "source": [
    "nums = [3]\n",
    "\n",
    "answer = 0\n",
    "for i in range(len(nums)):\n",
    "    combi = list(combinations(nums, (i+1)))\n",
    "    for j in range(len(combi)):\n",
    "        answer+=mul(combi[j])\n",
    "    print(combi)\n",
    "print(answer)"
   ]
  },
  {
   "cell_type": "code",
   "execution_count": 63,
   "id": "plastic-fleet",
   "metadata": {},
   "outputs": [],
   "source": [
    "def mul(a): \n",
    "    ans=1\n",
    "    for e in a: ans*=e\n",
    "    return ans"
   ]
  },
  {
   "cell_type": "code",
   "execution_count": 69,
   "id": "traditional-title",
   "metadata": {},
   "outputs": [],
   "source": [
    "def count(nums):\n",
    "    answer = 0\n",
    "    for i in range(len(nums)):\n",
    "        combi = list(combinations(nums, (i+1)))\n",
    "        for j in range(len(combi)):\n",
    "            answer+=mul(combi[j])\n",
    "    return answer"
   ]
  },
  {
   "cell_type": "code",
   "execution_count": 80,
   "id": "entire-vaccine",
   "metadata": {},
   "outputs": [
    {
     "name": "stdout",
     "output_type": "stream",
     "text": [
      "[['crowmask', 'face'], ['bluesunglasses', 'face'], ['smoky_makeup', 'face']]\n",
      "['crowmask', 'face'] ['bluesunglasses', 'face']\n",
      "['bluesunglasses', 'face'] ['smoky_makeup', 'face']\n",
      "[3]\n",
      "3\n"
     ]
    }
   ],
   "source": [
    "clothes = [[\"crowmask\", \"face\"], [\"bluesunglasses\", \"face\"], [\"smoky_makeup\", \"face\"]]\n",
    "\n",
    "clothes = sorted(clothes ,key=lambda cloth: cloth[1])\n",
    "print(clothes)\n",
    "cnt = 1\n",
    "nums = []\n",
    "for a, b in zip(clothes, clothes[1:]):\n",
    "    print(a, b)\n",
    "    if a[1] == b[1]:\n",
    "        cnt+=1\n",
    "    else:\n",
    "        nums.append(cnt)\n",
    "        cnt=1\n",
    "else:\n",
    "    nums.append(cnt)\n",
    "\n",
    "print(nums)\n",
    "print(count(nums))"
   ]
  },
  {
   "cell_type": "code",
   "execution_count": null,
   "id": "weird-hindu",
   "metadata": {},
   "outputs": [],
   "source": [
    "def mul(a): \n",
    "    ans=1\n",
    "    for e in a: ans*=e\n",
    "    return ans\n",
    "\n",
    "from itertools import combinations\n",
    "def count(nums):\n",
    "    answer = 0\n",
    "    for i in range(len(nums)):\n",
    "        combi = list(combinations(nums, (i+1)))\n",
    "        for j in range(len(combi)):\n",
    "            answer+=mul(combi[j])\n",
    "    return answer\n",
    "\n",
    "def solution(clothes):\n",
    "    \n",
    "    clothes = sorted(clothes , key=lambda cloth: cloth[1])\n",
    "    cnt = 1\n",
    "    nums = []\n",
    "    for a, b in zip(clothes, clothes[1:]):\n",
    "        if a[1] == b[1]: cnt+=1\n",
    "        else: \n",
    "            nums.append(cnt)\n",
    "            cnt=1\n",
    "    else: nums.append(cnt)\n",
    "        \n",
    "    return count(nums)"
   ]
  },
  {
   "cell_type": "markdown",
   "id": "devoted-despite",
   "metadata": {},
   "source": [
    "- 정답은 맞았으나.. 1문제에서 시간초과가 뜸.. \n",
    "- -> 코드의 방향은 맞았다는뜻이니까.. -> dict 형태로 바꿔서 풀이 해보아야 할듯. \n"
   ]
  },
  {
   "cell_type": "markdown",
   "id": "spiritual-charge",
   "metadata": {},
   "source": [
    "- '경우의 수' 문제로 접근해보자 \n",
    "- 이때, 각 경우를 다 곱해주면 되는데 부위별로 있는 옷의 갯수에서 아무것도 안입는 경우가 있을 수 있으니 +1을 해준다. \n",
    "- 또 모두 안입는 경우는 없다고 했으니 최종 곱한 값에서 -1을 해준다."
   ]
  },
  {
   "cell_type": "code",
   "execution_count": 99,
   "id": "offshore-speech",
   "metadata": {},
   "outputs": [
    {
     "name": "stdout",
     "output_type": "stream",
     "text": [
      "5\n"
     ]
    }
   ],
   "source": [
    "from itertools import combinations\n",
    "\n",
    "clothes = [[\"yellowhat\", \"headgear\"], [\"bluesunglasses\", \"eyewear\"], [\"green_turban\", \"headgear\"]]\n",
    "\n",
    "answer = 1\n",
    "dic = dict()\n",
    "\n",
    "for cloth, Type in clothes:\n",
    "    if(dic.get(Type) == None ): # dict 에 Type이 새로 들어올 경우 추가. \n",
    "        dic[Type] = [cloth]\n",
    "        continue\n",
    "    dic[Type].append(cloth)\n",
    "    \n",
    "for Type in dic:\n",
    "    answer*=(len(dic[Type]))+1\n",
    "\n",
    "print(answer-1)"
   ]
  },
  {
   "cell_type": "code",
   "execution_count": 100,
   "id": "shaped-salvation",
   "metadata": {},
   "outputs": [],
   "source": [
    "def solution(clothes):\n",
    "    answer = 1\n",
    "    dic = dict()\n",
    "\n",
    "    for cloth, Type in clothes:\n",
    "        if(dic.get(Type) == None ): # dict 에 Type이 새로 들어올 경우 추가. \n",
    "            dic[Type] = [cloth]\n",
    "            continue\n",
    "        dic[Type].append(cloth)\n",
    "\n",
    "    for Type in dic:\n",
    "        answer*=(len(dic[Type]))+1\n",
    "        \n",
    "    return answer-1"
   ]
  }
 ],
 "metadata": {
  "kernelspec": {
   "display_name": "Python 3",
   "language": "python",
   "name": "python3"
  },
  "language_info": {
   "codemirror_mode": {
    "name": "ipython",
    "version": 3
   },
   "file_extension": ".py",
   "mimetype": "text/x-python",
   "name": "python",
   "nbconvert_exporter": "python",
   "pygments_lexer": "ipython3",
   "version": "3.6.12"
  }
 },
 "nbformat": 4,
 "nbformat_minor": 5
}
