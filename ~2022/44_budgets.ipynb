{
 "cells": [
  {
   "cell_type": "markdown",
   "id": "subsequent-burst",
   "metadata": {},
   "source": [
    "# [예산]\n",
    "___\n",
    "\n",
    "### [문제 설명]\n",
    "\n",
    "- S사에서는 각 부서에 필요한 물품을 지원해 주기 위해 부서별로 물품을 구매하는데 필요한 금액을 조사했습니다. 그러나, 전체 예산이 정해져 있기 때문에 모든 부서의 물품을 구매해 줄 수는 없습니다. 그래서 최대한 많은 부서의 물품을 구매해 줄 수 있도록 하려고 합니다.\n",
    "\n",
    "- 물품을 구매해 줄 때는 각 부서가 신청한 금액만큼을 모두 지원해 줘야 합니다. 예를 들어 1,000원을 신청한 부서에는 정확히 1,000원을 지원해야 하며, 1,000원보다 적은 금액을 지원해 줄 수는 없습니다.\n",
    "\n",
    "- 부서별로 신청한 금액이 들어있는 배열 d와 예산 budget이 매개변수로 주어질 때, 최대 몇 개의 부서에 물품을 지원할 수 있는지 return 하도록 solution 함수를 완성해주세요.\n",
    "\n",
    "___\n",
    "\n",
    "### [제한 사항]\n",
    "\n",
    "- d는 부서별로 신청한 금액이 들어있는 배열이며, 길이(전체 부서의 개수)는 1 이상 100 이하입니다.\n",
    "- d의 각 원소는 부서별로 신청한 금액을 나타내며, 부서별 신청 금액은 1 이상 100,000 이하의 자연수입니다.\n",
    "- budget은 예산을 나타내며, 1 이상 10,000,000 이하의 자연수입니다.\n",
    "\n",
    "___\n",
    "\n",
    "### [입출력 예]\n",
    "\n",
    "![images](C:/Users/ryank/Desktop/ryan/Code_Test/figure/44-1.PNG)"
   ]
  },
  {
   "cell_type": "markdown",
   "id": "emerging-stock",
   "metadata": {},
   "source": [
    "- d 에는 부서별 신청한 금액이 들어있다. 정해진 예산을 넘지 않는 선에서 최대한 많은 부서를 지원해주어야 할때, \n",
    "- 적은 예산이 드는 부서들을 순서대로 지원하면 최대한 많은 부서를 지원할 수 있다. \n",
    "\n",
    "- 이를 위해, d 를 sort()를 통해 오름차순으로 정리를 해준다. \n",
    "- 그 뒤 d의 예산을 하나씩 꺼내어 더해준다음 budget에 같거나 적을때까지 몇개의 부서가 지원가능한지 count(cnt) 해준다."
   ]
  },
  {
   "cell_type": "code",
   "execution_count": 21,
   "id": "widespread-amazon",
   "metadata": {},
   "outputs": [],
   "source": [
    "d = [2, 2, 3, 3]#[1,3,2,5,4]\n",
    "budget = 10#9"
   ]
  },
  {
   "cell_type": "code",
   "execution_count": 14,
   "id": "spare-handle",
   "metadata": {},
   "outputs": [
    {
     "name": "stdout",
     "output_type": "stream",
     "text": [
      "4\n"
     ]
    }
   ],
   "source": [
    "d.sort()\n",
    "answer=0\n",
    "cnt=0\n",
    "for m in d:\n",
    "    answer+=m\n",
    "    if answer<=budget: cnt+=1\n",
    "    else: break\n",
    "print(cnt)"
   ]
  },
  {
   "cell_type": "code",
   "execution_count": 15,
   "id": "natural-cookie",
   "metadata": {},
   "outputs": [],
   "source": [
    "def solution(d, budget):\n",
    "    d.sort()\n",
    "    answer=0\n",
    "    cnt=0\n",
    "    for m in d:\n",
    "        answer+=m\n",
    "        if answer<=budget: cnt+=1\n",
    "        else: return cnt"
   ]
  },
  {
   "cell_type": "markdown",
   "id": "secret-reliance",
   "metadata": {},
   "source": [
    "- 통과!"
   ]
  }
 ],
 "metadata": {
  "kernelspec": {
   "display_name": "Python 3",
   "language": "python",
   "name": "python3"
  },
  "language_info": {
   "codemirror_mode": {
    "name": "ipython",
    "version": 3
   },
   "file_extension": ".py",
   "mimetype": "text/x-python",
   "name": "python",
   "nbconvert_exporter": "python",
   "pygments_lexer": "ipython3",
   "version": "3.6.12"
  }
 },
 "nbformat": 4,
 "nbformat_minor": 5
}
