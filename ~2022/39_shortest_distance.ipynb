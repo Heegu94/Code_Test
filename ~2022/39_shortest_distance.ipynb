{
 "cells": [
  {
   "cell_type": "markdown",
   "id": "incorrect-vacuum",
   "metadata": {},
   "source": [
    "# [게임 맵 최단거리]\n",
    "___\n",
    "\n",
    "- ROR 게임은 두 팀으로 나누어서 진행하며, 상대 팀 진영을 먼저 파괴하면 이기는 게임입니다. 따라서, 각 팀은 상대 팀 진영에 최대한 빨리 도착하는 것이 유리합니다.\n",
    "\n",
    "- 지금부터 당신은 한 팀의 팀원이 되어 게임을 진행하려고 합니다. \n",
    "- 다음은 5 x 5 크기의 맵에, 당신의 캐릭터가 (행: 1, 열: 1) 위치에 있고, 상대 팀 진영은 (행: 5, 열: 5) 위치에 있는 경우의 예시입니다.\n",
    "\n",
    "![image1](C:/Users/ryank/Desktop/ryan/Code_Test/figure/39-1.PNG)\n",
    "\n",
    "- 위 그림에서 검은색 부분은 벽으로 막혀있어 갈 수 없는 길이며, 흰색 부분은 갈 수 있는 길입니다. \n",
    "- 캐릭터가 움직일 때는 동, 서, 남, 북 방향으로 한 칸씩 이동하며, 게임 맵을 벗어난 길은 갈 수 없습니다.\n",
    "- 아래 예시는 캐릭터가 상대 팀 진영으로 가는 두 가지 방법을 나타내고 있습니다.\n",
    "\n",
    "    - 첫 번째 방법은 11개의 칸을 지나서 상대 팀 진영에 도착했습니다.\n",
    "\n",
    "![image2](C:/Users/ryank/Desktop/ryan/Code_Test/figure/39-2.PNG)\n",
    "\n",
    "    - 두 번째 방법은 15개의 칸을 지나서 상대팀 진영에 도착했습니다.\n",
    "    \n",
    "![image3](C:/Users/ryank/Desktop/ryan/Code_Test/figure/39-3.PNG)\n",
    "\n",
    "- 위 예시에서는 첫 번째 방법보다 더 빠르게 상대팀 진영에 도착하는 방법은 없으므로, 이 방법이 상대 팀 진영으로 가는 가장 빠른 방법입니다.\n",
    "\n",
    "- 만약, 상대 팀이 자신의 팀 진영 주위에 벽을 세워두었다면 상대 팀 진영에 도착하지 못할 수도 있습니다. \n",
    "- 예를 들어, 다음과 같은 경우에 당신의 캐릭터는 상대 팀 진영에 도착할 수 없습니다.\n",
    "\n",
    "![image4](C:/Users/ryank/Desktop/ryan/Code_Test/figure/39-4.PNG)\n",
    "\n",
    "- 게임 맵의 상태 maps가 매개변수로 주어질 때, 캐릭터가 상대 팀 진영에 도착하기 위해서 지나가야 하는 칸의 개수의 최솟값을 return 하도록 solution 함수를 완성해주세요. \n",
    "- 단, 상대 팀 진영에 도착할 수 없을 때는 -1을 return 해주세요.\n",
    "\n",
    "___\n",
    "\n",
    "### [제한 사항]\n",
    "\n",
    "- maps는 n x m 크기의 게임 맵의 상태가 들어있는 2차원 배열로, n과 m은 각각 1 이상 100 이하의 자연수입니다.\n",
    "    - n과 m은 서로 같을 수도, 다를 수도 있지만, n과 m이 모두 1인 경우는 입력으로 주어지지 않습니다.\n",
    "\n",
    "- maps는 0과 1로만 이루어져 있으며, 0은 벽이 있는 자리, 1은 벽이 없는 자리를 나타냅니다.\n",
    "- 처음에 캐릭터는 게임 맵의 좌측 상단인 (1, 1) 위치에 있으며, 상대방 진영은 게임 맵의 우측 하단인 (n, m) 위치에 있습니다.\n",
    "\n",
    "___\n",
    "### [입출력 예]\n",
    "\n",
    "![image5](C:/Users/ryank/Desktop/ryan/Code_Test/figure/39-5.PNG)\n",
    "\n",
    "### [입출력 예 설명]\n",
    "\n",
    "- 입출력 예 #1 : 주어진 데이터는 다음과 같습니다.\n",
    "\n",
    "![image6](C:/Users/ryank/Desktop/ryan/Code_Test/figure/39-6.PNG)\n",
    "\n",
    "- 캐릭터가 적 팀의 진영까지 이동하는 가장 빠른 길은 다음 그림과 같습니다.\n",
    "\n",
    "![image7](C:/Users/ryank/Desktop/ryan/Code_Test/figure/39-7.PNG)\n",
    "\n",
    "\n",
    "- 따라서 총 11칸을 캐릭터가 지나갔으므로 11을 return 하면 됩니다.\n",
    "\n",
    "- 입출력 예 #2 : 문제의 예시와 같으며, 상대 팀 진영에 도달할 방법이 없습니다. 따라서 -1을 return 합니다.\n",
    "___"
   ]
  },
  {
   "cell_type": "code",
   "execution_count": 37,
   "id": "handled-coupon",
   "metadata": {},
   "outputs": [],
   "source": [
    "\n",
    "a = [[1,0,1,1,1],\n",
    "     [1,0,1,0,1],\n",
    "     [1,0,1,1,1],\n",
    "     [1,1,1,0,0],\n",
    "     [0,0,0,0,1]]"
   ]
  },
  {
   "cell_type": "code",
   "execution_count": 38,
   "id": "incomplete-tiger",
   "metadata": {
    "collapsed": true,
    "jupyter": {
     "outputs_hidden": true
    }
   },
   "outputs": [
    {
     "name": "stdout",
     "output_type": "stream",
     "text": [
      "0 0\n",
      "1 0\n",
      "2 0\n",
      "3 0\n",
      "3 1\n",
      "3 2\n",
      "2 2\n",
      "2 3\n",
      "2 4\n",
      "1 4\n",
      "1 4\n",
      "1 4\n",
      "1 4\n",
      "1 4\n",
      "1 4\n",
      "1 4\n",
      "1 4\n",
      "1 4\n",
      "-1\n"
     ]
    }
   ],
   "source": [
    "x, y = 0, 0\n",
    "cnt = 1\n",
    "while True:\n",
    "    print(y, x)\n",
    "    if y+1 <5 and a[y+1][x]== 1:\n",
    "        a[y+1][x]=0\n",
    "        y+=1\n",
    "    elif  x+1<5 and a[y][x+1]== 1:\n",
    "        a[y][x+1]=0\n",
    "        x+=1\n",
    "    elif y-1>0 and a[y-1][x]== 1:\n",
    "        a[y-1][x]=0\n",
    "        y-=1\n",
    "    elif x-1>0 and a[y][x-1]== 1:\n",
    "        a[y][x-1]=0\n",
    "        x-=1\n",
    "    cnt+=1\n",
    "    \n",
    "    if x == 4 and y == 4:\n",
    "        break\n",
    "    elif cnt>17:\n",
    "        cnt= -1\n",
    "        break\n",
    "    \n",
    "print(y, x)\n",
    "print(cnt)"
   ]
  },
  {
   "cell_type": "code",
   "execution_count": 39,
   "id": "wired-matthew",
   "metadata": {},
   "outputs": [],
   "source": [
    "def solution(maps):\n",
    "    x, y = 0, 0\n",
    "    cnt = 1\n",
    "    while True:\n",
    "        if y+1 <5 and maps[y+1][x]== 1:\n",
    "            maps[y+1][x]=0\n",
    "            y+=1\n",
    "        elif  x+1<5 and maps[y][x+1]== 1:\n",
    "            maps[y][x+1]=0\n",
    "            x+=1\n",
    "        elif y-1>0 and maps[y-1][x]== 1:\n",
    "            maps[y-1][x]=0\n",
    "            y-=1\n",
    "        elif x-1>0 and maps[y][x-1]== 1:\n",
    "            maps[y][x-1]=0\n",
    "            x-=1\n",
    "        cnt+=1\n",
    "\n",
    "        if x == 4 and y == 4:\n",
    "            return cnt\n",
    "        elif cnt>17:\n",
    "            return -1    "
   ]
  },
  {
   "cell_type": "markdown",
   "id": "considerable-liver",
   "metadata": {},
   "source": [
    "- iteration에 조건문으로 풀어보려 했으나.. 실패...\n",
    "- BFS방법을 생각해봐야겠다. (Breadth-First Search)\n",
    "___\n",
    "### [BFS - 특징]\n",
    "\n",
    "- 직관적이지 않은 면이 있다.\n",
    "    - BFS는 시작 노드에서 시작해서 거리에 따라 단계별로 탐색한다고 볼 수 있다.\n",
    "- BFS는 재귀적으로 동작하지 않는다.\n",
    "- 이 알고리즘을 구현할 때 가장 큰 차이점은, 그래프 탐색의 경우 어떤 노드를 방문했었는지 여부를 반드시 검사 해야 한다는 것이다.\n",
    "    - 이를 검사하지 않을 경우 무한루프에 빠질 위험이 있다.\n",
    "- BFS는 방문한 노드들을 차례로 저장한 후 꺼낼 수 있는 자료 구조인 큐(Queue)를 사용한다.\n",
    "    - 즉, 선입선출(FIFO) 원칙으로 탐색\n",
    "    - 일반적으로 큐를 이용해서 반복적 형태로 구현하는 것이 가장 잘 동작한다.\n",
    "- ‘Prim’, ‘Dijkstra’ 알고리즘과 유사하다.\n",
    "___\n",
    "### [너비 우선 탐색(BFS)의 과정]\n",
    "\n",
    "- 깊이가 1인 모든 노드를 방문하고 나서 그 다음에는 깊이가 2인 모든 노드를, 그 다음에는 깊이가 3인 모든 노드를 방문하는 식으로 계속 방문하다가 더 이상 방문할 곳이 없으면 탐색을 마친다.\n"
   ]
  },
  {
   "cell_type": "code",
   "execution_count": 40,
   "id": "ecological-poverty",
   "metadata": {},
   "outputs": [],
   "source": [
    "maps = [[1,0,1,1,1],\n",
    "        [1,0,1,0,1],\n",
    "        [1,0,1,1,1],\n",
    "        [1,1,1,0,1],\n",
    "        [0,0,0,0,1]]"
   ]
  },
  {
   "cell_type": "code",
   "execution_count": 49,
   "id": "distributed-differential",
   "metadata": {},
   "outputs": [
    {
     "name": "stdout",
     "output_type": "stream",
     "text": [
      "11\n",
      "[[1, -1, 9, 10, 11], [2, -1, 8, -1, 10], [3, -1, 7, 8, 9], [4, 5, 6, -1, 10], [-1, -1, -1, -1, 11]]\n"
     ]
    }
   ],
   "source": [
    "from collections import deque\n",
    "\n",
    "moves = [[1,0], [-1, 0], [0,1], [0,-1]]\n",
    "\n",
    "row = len(maps)\n",
    "col = len(maps[0])\n",
    "c_maps = [[-1 for n in range(col)] for n in range(row)]\n",
    "q = deque()\n",
    "q.append([0,0])\n",
    "c_maps[0][0]=1\n",
    "\n",
    "while q:\n",
    "    y, x = q.popleft()\n",
    "    \n",
    "    for i in range(4):\n",
    "        ny = y + moves[i][0]\n",
    "        nx = x + moves[i][1]\n",
    "        \n",
    "        if -1<ny<row and -1<nx<col:\n",
    "            if maps[ny][nx] == 1:\n",
    "                if c_maps[ny][nx] == -1:\n",
    "                    c_maps[ny][nx] = c_maps[y][x]+1\n",
    "                    q.append([ny, nx])\n",
    "print(c_maps[-1][-1])\n",
    "print(c_maps)"
   ]
  },
  {
   "cell_type": "code",
   "execution_count": 50,
   "id": "mediterranean-shift",
   "metadata": {},
   "outputs": [
    {
     "name": "stdout",
     "output_type": "stream",
     "text": [
      "11\n",
      "[[1, -1, 9, 10, 11], [2, -1, 8, -1, 10], [3, -1, 7, 8, 9], [4, 5, 6, -1, 10], [-1, -1, -1, -1, 11]]\n"
     ]
    }
   ],
   "source": [
    "from collections import deque\n",
    "\n",
    "moves = [[1,0], [-1, 0], [0,1], [0,-1]]\n",
    "\n",
    "def solution(maps):\n",
    "    row = len(maps)\n",
    "    col = len(maps[0])\n",
    "    c_maps = [[-1 for n in range(col)] for n in range(row)]\n",
    "    q = deque()\n",
    "    q.append([0,0])\n",
    "    c_maps[0][0]=1\n",
    "\n",
    "    while q:\n",
    "        y, x = q.popleft()\n",
    "\n",
    "        for i in range(4):\n",
    "            ny = y + moves[i][0]\n",
    "            nx = x + moves[i][1]\n",
    "\n",
    "            if -1<ny<row and -1<nx<col:\n",
    "                if maps[ny][nx] == 1 and c_maps[ny][nx] == -1:\n",
    "                    c_maps[ny][nx] = c_maps[y][x]+1\n",
    "                    q.append([ny, nx])\n",
    "    return c_maps[-1][-1]\n",
    "# print(c_maps[-1][-1])\n",
    "# print(c_maps)"
   ]
  },
  {
   "cell_type": "code",
   "execution_count": null,
   "id": "revised-arthur",
   "metadata": {},
   "outputs": [],
   "source": []
  }
 ],
 "metadata": {
  "kernelspec": {
   "display_name": "Python 3",
   "language": "python",
   "name": "python3"
  },
  "language_info": {
   "codemirror_mode": {
    "name": "ipython",
    "version": 3
   },
   "file_extension": ".py",
   "mimetype": "text/x-python",
   "name": "python",
   "nbconvert_exporter": "python",
   "pygments_lexer": "ipython3",
   "version": "3.6.12"
  }
 },
 "nbformat": 4,
 "nbformat_minor": 5
}
