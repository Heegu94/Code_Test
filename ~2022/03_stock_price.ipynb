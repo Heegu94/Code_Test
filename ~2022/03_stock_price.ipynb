{
 "cells": [
  {
   "cell_type": "markdown",
   "id": "numerous-thermal",
   "metadata": {},
   "source": [
    "# 03_price of the stock\n",
    "___\n",
    "\n",
    "### [문제 설명]\n",
    "\n",
    "초 단위로 기록된 주식가격이 담긴 배열 prices가 매개변수로 주어질 때, 가격이 떨어지지 않은 기간은 몇 초인지를 return 하도록 solution 함수를 완성하세요.\n",
    "\n",
    "___\n",
    "\n",
    "### [제한 사항]\n",
    "\n",
    "- prices의 각 가격은 1 이상 10,000 이하인 자연수입니다.\n",
    "\n",
    "- prices의 길이는 2 이상 100,000 이하입니다.\n",
    "\n",
    "___\n",
    "\n",
    "#### examples\n",
    "\n",
    "- prices = [1,2,3,4,5]\n",
    "\n",
    "- return => [4,3,1,1,0]\n",
    "\n",
    "___"
   ]
  },
  {
   "cell_type": "markdown",
   "id": "independent-subscriber",
   "metadata": {},
   "source": [
    "### 처음짠 코드.. "
   ]
  },
  {
   "cell_type": "code",
   "execution_count": 32,
   "id": "blessed-appreciation",
   "metadata": {},
   "outputs": [],
   "source": [
    "prices = [1,2,3,2,3]"
   ]
  },
  {
   "cell_type": "code",
   "execution_count": 32,
   "id": "biblical-demand",
   "metadata": {},
   "outputs": [
    {
     "name": "stdout",
     "output_type": "stream",
     "text": [
      "[4, 3, 1, 1, 0]\n"
     ]
    }
   ],
   "source": [
    "import copy\n",
    "\n",
    "answer=[]\n",
    "c_prices = copy.deepcopy(prices)\n",
    "for price in prices:\n",
    "    ans = 0\n",
    "    c_prices.pop(0)\n",
    "    if len(c_prices)==0:\n",
    "        ans = 0\n",
    "    for c_price in c_prices:\n",
    "        if price<=c_price:\n",
    "            ans+=1\n",
    "        else:\n",
    "            ans+=1\n",
    "            break\n",
    "    answer.append(ans)"
   ]
  },
  {
   "cell_type": "markdown",
   "id": "other-increase",
   "metadata": {},
   "source": [
    "#### 정답은 맞추지만 효율성 면에서.. 실패\n",
    "\n",
    "- 조건문과 이중 for문이 너무 많다.. 줄이기 시도\n",
    "- copy함수 없이 시도"
   ]
  },
  {
   "cell_type": "code",
   "execution_count": 42,
   "id": "cathedral-patent",
   "metadata": {
    "collapsed": true,
    "jupyter": {
     "outputs_hidden": true
    }
   },
   "outputs": [
    {
     "name": "stdout",
     "output_type": "stream",
     "text": [
      "0 1\n",
      "0 2\n",
      "0 3\n",
      "0 4\n",
      "1 2\n",
      "1 3\n",
      "1 4\n",
      "2 3\n",
      "3 4\n"
     ]
    }
   ],
   "source": [
    "answer = [0]*len(prices)\n",
    "for i in range(len(prices)-1):\n",
    "    for j in range(i+1, len(prices)):\n",
    "        answer[i]+=1\n",
    "        print(i, j)\n",
    "        if prices[i] > prices[j]: break"
   ]
  },
  {
   "cell_type": "code",
   "execution_count": 54,
   "id": "disturbed-brunei",
   "metadata": {},
   "outputs": [],
   "source": [
    "def solution(prices):\n",
    "    answer = [0]*len(prices)\n",
    "    for i in range(len(prices)-1):\n",
    "        for j in range(i+1, len(prices)):\n",
    "            answer[i]+=1\n",
    "            if prices[i] > prices[j]: break\n",
    "    return answer"
   ]
  },
  {
   "cell_type": "markdown",
   "id": "earned-absolute",
   "metadata": {},
   "source": [
    "성공!~ \n",
    "\n",
    "- 우선, 2중 for문을 사용하여 횟수가 돌때마다 1씩 count 해주고, 대신 다음 가격보다 떨어질 경우에는 그만 count해주는 것으로 짜보았음..\n",
    "____"
   ]
  },
  {
   "cell_type": "markdown",
   "id": "advance-shirt",
   "metadata": {},
   "source": [
    "### [인상깊은 풀이]\n",
    "\n",
    "- **collections.deque** 를 이용한 코드이다. 아직 collections 사용해서 푸는게 익숙치 않다. \n",
    "\n",
    "- **deque** 는 양쪽 끝에서 빠르게 추가와 삭제를 할 수 있는 list 계열의 컨테이너이다...\n",
    "\n",
    "- 실제로 deque를 사용하지 않고 list 만을 사용한 경우 속도 차이가 2배~2.5배 정도 차이가 나는 것으로 확인했다..\n"
   ]
  },
  {
   "cell_type": "code",
   "execution_count": 43,
   "id": "intermediate-evening",
   "metadata": {},
   "outputs": [],
   "source": [
    "from collections import deque\n",
    "def solution(prices):\n",
    "    answer = []\n",
    "    prices = deque(prices)\n",
    "    while prices:\n",
    "        c = prices.popleft()\n",
    "\n",
    "        count = 0\n",
    "        for i in prices:\n",
    "            if c > i:\n",
    "                count += 1\n",
    "                break\n",
    "            count += 1\n",
    "\n",
    "        answer.append(count)\n",
    "\n",
    "    return answer"
   ]
  },
  {
   "cell_type": "code",
   "execution_count": 53,
   "id": "technical-portrait",
   "metadata": {},
   "outputs": [
    {
     "name": "stdout",
     "output_type": "stream",
     "text": [
      "[4, 3, 1, 1, 0]\n"
     ]
    }
   ],
   "source": [
    "prices = [1,2,3,2,3]\n",
    "answer = []\n",
    "# prices = deque(prices)\n",
    "while prices:\n",
    "    c = prices.pop(0)\n",
    "\n",
    "    count = 0\n",
    "    for i in prices:\n",
    "        if c > i:\n",
    "            count += 1\n",
    "            break\n",
    "        count += 1\n",
    "\n",
    "    answer.append(count)\n",
    "print(answer)"
   ]
  },
  {
   "cell_type": "markdown",
   "id": "genetic-frequency",
   "metadata": {},
   "source": [
    "___\n",
    "\n",
    "### [Collections]\n",
    "\n",
    "https://python.flowdas.com/library/collections.html#collections.deque"
   ]
  }
 ],
 "metadata": {
  "kernelspec": {
   "display_name": "Python 3",
   "language": "python",
   "name": "python3"
  },
  "language_info": {
   "codemirror_mode": {
    "name": "ipython",
    "version": 3
   },
   "file_extension": ".py",
   "mimetype": "text/x-python",
   "name": "python",
   "nbconvert_exporter": "python",
   "pygments_lexer": "ipython3",
   "version": "3.6.12"
  }
 },
 "nbformat": 4,
 "nbformat_minor": 5
}
