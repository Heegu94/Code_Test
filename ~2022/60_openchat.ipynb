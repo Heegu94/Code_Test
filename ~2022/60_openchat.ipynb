{
 "cells": [
  {
   "cell_type": "markdown",
   "id": "amber-coverage",
   "metadata": {},
   "source": [
    "# 오픈채팅방\n",
    "___\n",
    "\n",
    "### [문제 설명]\n",
    "\n",
    "카카오톡 오픈채팅방에서는 친구가 아닌 사람들과 대화를 할 수 있는데, 본래 닉네임이 아닌 가상의 닉네임을 사용하여 채팅방에 들어갈 수 있다.\n",
    "\n",
    "신입사원인 김크루는 카카오톡 오픈 채팅방을 개설한 사람을 위해, 다양한 사람들이 들어오고, 나가는 것을 지켜볼 수 있는 관리자창을 만들기로 했다. 채팅방에 누군가 들어오면 다음 메시지가 출력된다.\n",
    "\n",
    "    - \"[닉네임]님이 들어왔습니다.\"\n",
    "\n",
    "채팅방에서 누군가 나가면 다음 메시지가 출력된다.\n",
    "\n",
    "    - \"[닉네임]님이 나갔습니다.\"\n",
    "\n",
    "채팅방에서 닉네임을 변경하는 방법은 다음과 같이 두 가지이다.\n",
    "\n",
    "채팅방을 나간 후, 새로운 닉네임으로 다시 들어간다.\n",
    "채팅방에서 닉네임을 변경한다.\n",
    "닉네임을 변경할 때는 기존에 채팅방에 출력되어 있던 메시지의 닉네임도 전부 변경된다.\n",
    "\n",
    "예를 들어, 채팅방에 \"Muzi\"와 \"Prodo\"라는 닉네임을 사용하는 사람이 순서대로 들어오면 채팅방에는 다음과 같이 메시지가 출력된다.\n",
    "\n",
    "    - \"Muzi님이 들어왔습니다.\"\n",
    "    - \"Prodo님이 들어왔습니다.\"\n",
    "\n",
    "채팅방에 있던 사람이 나가면 채팅방에는 다음과 같이 메시지가 남는다.\n",
    "\n",
    "    - \"Muzi님이 들어왔습니다.\"\n",
    "    - \"Prodo님이 들어왔습니다.\"\n",
    "    - \"Muzi님이 나갔습니다.\"\n",
    "\n",
    "Muzi가 나간후 다시 들어올 때, Prodo 라는 닉네임으로 들어올 경우 기존에 채팅방에 남아있던 Muzi도 Prodo로 다음과 같이 변경된다.\n",
    "\n",
    "    - \"Prodo님이 들어왔습니다.\"\n",
    "    - \"Prodo님이 들어왔습니다.\"\n",
    "    - \"Prodo님이 나갔습니다.\"\n",
    "    - \"Prodo님이 들어왔습니다.\"\n",
    "\n",
    "채팅방은 중복 닉네임을 허용하기 때문에, 현재 채팅방에는 Prodo라는 닉네임을 사용하는 사람이 두 명이 있다. 이제, 채팅방에 두 번째로 들어왔던 Prodo가 Ryan으로 닉네임을 변경하면 채팅방 메시지는 다음과 같이 변경된다.\n",
    "\n",
    "    - \"Prodo님이 들어왔습니다.\"\n",
    "    - \"Ryan님이 들어왔습니다.\"\n",
    "    - \"Prodo님이 나갔습니다.\"\n",
    "    - \"Prodo님이 들어왔습니다.\"\n",
    "\n",
    "채팅방에 들어오고 나가거나, 닉네임을 변경한 기록이 담긴 문자열 배열 record가 매개변수로 주어질 때, 모든 기록이 처리된 후, 최종적으로 방을 개설한 사람이 보게 되는 메시지를 문자열 배열 형태로 return 하도록 solution 함수를 완성하라.\n",
    "___\n",
    "\n",
    "### [제한사항]\n",
    "\n",
    "1. record는 다음과 같은 문자열이 담긴 배열이며, 길이는 1 이상 100,000 이하이다.\n",
    "\n",
    "2. 다음은 record에 담긴 문자열에 대한 설명이다.\n",
    "    - 모든 유저는 [유저 아이디]로 구분한다.\n",
    "    - [유저 아이디] 사용자가 [닉네임]으로 채팅방에 입장 - \"Enter [유저 아이디] [닉네임]\" (ex. \"Enter uid1234 Muzi\")\n",
    "    - [유저 아이디] 사용자가 채팅방에서 퇴장 - \"Leave [유저 아이디]\" (ex. \"Leave uid1234\")\n",
    "    - [유저 아이디] 사용자가 닉네임을 [닉네임]으로 변경 - \"Change [유저 아이디] [닉네임]\" (ex. \"Change uid1234 Muzi\")\n",
    "    - 첫 단어는 Enter, Leave, Change 중 하나이다.\n",
    "    - 각 단어는 공백으로 구분되어 있으며, 알파벳 대문자, 소문자, 숫자로만 이루어져있다.\n",
    "    - 유저 아이디와 닉네임은 알파벳 대문자, 소문자를 구별한다.\n",
    "    - 유저 아이디와 닉네임의 길이는 1 이상 10 이하이다.\n",
    "    - 채팅방에서 나간 유저가 닉네임을 변경하는 등 잘못 된 입력은 주어지지 않는다.\n",
    "    \n",
    "___\n",
    "\n",
    "### [입출력 예시]\n",
    "\n",
    "``` python\n",
    "\n",
    "record = [\"Enter uid1234 Muzi\", \"Enter uid4567 Prodo\",\"Leave uid1234\",\"Enter uid1234 Prodo\",\"Change uid4567 Ryan\"]\n",
    "result = [\"Prodo님이 들어왔습니다.\", \"Ryan님이 들어왔습니다.\", \"Prodo님이 나갔습니다.\", \"Prodo님이 들어왔습니다.\"]\n",
    "\n",
    "```"
   ]
  },
  {
   "cell_type": "code",
   "execution_count": 24,
   "id": "sharing-committee",
   "metadata": {},
   "outputs": [],
   "source": [
    "record = [\"Enter uid1234 Muzi\", \"Enter uid4567 Prodo\",\"Leave uid1234\",\"Enter uid1234 Prodo\",\"Change uid4567 Ryan\"]"
   ]
  },
  {
   "cell_type": "markdown",
   "id": "wrapped-joyce",
   "metadata": {},
   "source": [
    "- change 일 경우와 leave한 id가 다시 들어올 경우, 이름이 전체적으로 변경된다. \n",
    "    - 이는 dict()를 사용하여, 사용자의 ID 에 따라 바뀌는 닉네임을 update해준다. \n",
    "- 그다음 전체 record에 대하여, 처음부터 다시 iteration을 돌며 출력 문구 저장해준다. "
   ]
  },
  {
   "cell_type": "code",
   "execution_count": 33,
   "id": "purple-comment",
   "metadata": {},
   "outputs": [
    {
     "name": "stdout",
     "output_type": "stream",
     "text": [
      "{'uid1234': 'Prodo', 'uid4567': 'Ryan'}\n",
      "Prodo님이 들어왔습니다.\n",
      "Ryan님이 들어왔습니다.\n",
      "Prodo님이 나갔습니다.\n",
      "Prodo님이 들어왔습니다.\n"
     ]
    }
   ],
   "source": [
    "ans = []\n",
    "res_dict = {}\n",
    "\n",
    "for rec in record:\n",
    "    res = rec.split(\" \")\n",
    "    if res[0] == \"Enter\" or res[0] == \"Change\":\n",
    "        res_dict[res[1]] = res[2]\n",
    "print(res_dict)\n",
    "\n",
    "for rec in record:\n",
    "    res = rec.split(\" \")\n",
    "    if res[0] == \"Enter\":\n",
    "        print(\"{}님이 들어왔습니다.\".format(res_dict[res[1]]))\n",
    "        ans.append(\"{}님이 들어왔습니다.\".format(res_dict[res[1]]))\n",
    "    elif res[0] == \"Leave\":\n",
    "        print(\"{}님이 나갔습니다.\".format(res_dict[res[1]]))\n",
    "        ans.append(\"{}님이 나갔습니다.\".format(res_dict[res[1]]))\n",
    "    else:\n",
    "        pass\n",
    "    \n",
    "#         ans.append(\"님이 들어왔습니다.\".format)"
   ]
  },
  {
   "cell_type": "code",
   "execution_count": 35,
   "id": "nuclear-pickup",
   "metadata": {},
   "outputs": [],
   "source": [
    "def solution(record):\n",
    "    ans = []\n",
    "    res_dict = {}\n",
    "\n",
    "    for rec in record:\n",
    "        res = rec.split(\" \")\n",
    "        if res[0] == \"Enter\" or res[0] == \"Change\":\n",
    "            res_dict[res[1]] = res[2]\n",
    "\n",
    "    for rec in record:\n",
    "        res = rec.split(\" \")\n",
    "        if res[0] == \"Enter\":\n",
    "            ans.append(\"{}님이 들어왔습니다.\".format(res_dict[res[1]]))\n",
    "        elif res[0] == \"Leave\":\n",
    "            ans.append(\"{}님이 나갔습니다.\".format(res_dict[res[1]]))\n",
    "        else:\n",
    "            pass\n",
    "    return ans"
   ]
  },
  {
   "cell_type": "code",
   "execution_count": 36,
   "id": "australian-lemon",
   "metadata": {},
   "outputs": [
    {
     "data": {
      "text/plain": [
       "['Prodo님이 들어왔습니다.', 'Ryan님이 들어왔습니다.', 'Prodo님이 나갔습니다.', 'Prodo님이 들어왔습니다.']"
      ]
     },
     "execution_count": 36,
     "metadata": {},
     "output_type": "execute_result"
    }
   ],
   "source": [
    "solution(record)"
   ]
  }
 ],
 "metadata": {
  "kernelspec": {
   "display_name": "Python 3",
   "language": "python",
   "name": "python3"
  },
  "language_info": {
   "codemirror_mode": {
    "name": "ipython",
    "version": 3
   },
   "file_extension": ".py",
   "mimetype": "text/x-python",
   "name": "python",
   "nbconvert_exporter": "python",
   "pygments_lexer": "ipython3",
   "version": "3.6.12"
  }
 },
 "nbformat": 4,
 "nbformat_minor": 5
}
