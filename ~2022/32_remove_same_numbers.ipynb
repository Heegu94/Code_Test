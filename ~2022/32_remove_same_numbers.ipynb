{
 "cells": [
  {
   "cell_type": "markdown",
   "id": "favorite-world",
   "metadata": {},
   "source": [
    "# [같은 숫자는 싫어] \n",
    "___\n",
    "\n",
    "### [문제 설명]\n",
    "\n",
    "- 배열 arr가 주어집니다. 배열 arr의 각 원소는 숫자 0부터 9까지로 이루어져 있습니다. \n",
    "- 이때, 배열 arr에서 연속적으로 나타나는 숫자는 하나만 남기고 전부 제거하려고 합니다. \n",
    "- 단, 제거된 후 남은 수들을 반환할 때는 배열 arr의 원소들의 순서를 유지해야 합니다. \n",
    "\n",
    "\n",
    "> 예를 들면,\n",
    "\n",
    "> arr = [1, 1, 3, 3, 0, 1, 1] 이면 [1, 3, 0, 1] 을 return 합니다.\n",
    "\n",
    "> arr = [4, 4, 4, 3, 3] 이면 [4, 3] 을 return 합니다.\n",
    "- 배열 arr에서 연속적으로 나타나는 숫자는 제거하고 남은 수들을 return 하는 solution 함수를 완성해 주세요.\n",
    "\n",
    "\n",
    "___\n",
    "\n",
    "### [제한 사항]\n",
    "\n",
    "- 배열 arr의 크기 : 1,000,000 이하의 자연수\n",
    "- 배열 arr의 원소의 크기 : 0보다 크거나 같고 9보다 작거나 같은 정수\n",
    "\n",
    "___ \n",
    "\n",
    "### [입출력 예]\n",
    "\n",
    "- arr = [1,1,3,3,0,1,1], answer = [1,3,0,1]\n",
    "- arr = [4,4,4,3,3], answer = [4,3]\n",
    "___"
   ]
  },
  {
   "cell_type": "markdown",
   "id": "imposed-making",
   "metadata": {},
   "source": [
    "### [내 풀이]\n",
    "\n",
    "- arr의 순서를 유지하면서 연속적으로 나타나는 중복되는 수에 대해서만 제거하면 되므로,\n",
    "- arr 첫 숫자를 미리 answer 에 담아 놓고,\n",
    "- zip을 사용하여 숫자 두개를 비교하여 다를경우만 두번째 숫자만을 담아 연속적으로 나타나는 중복수들을 제거하였다. "
   ]
  },
  {
   "cell_type": "code",
   "execution_count": 9,
   "id": "relevant-teddy",
   "metadata": {},
   "outputs": [],
   "source": [
    "arr = [4,4,4,3,3]#[1,1,3,3,0,1,1]\t"
   ]
  },
  {
   "cell_type": "code",
   "execution_count": 10,
   "id": "unnecessary-arabic",
   "metadata": {},
   "outputs": [
    {
     "name": "stdout",
     "output_type": "stream",
     "text": [
      "4 4\n",
      "4 4\n",
      "4 3\n",
      "3 3\n",
      "[4, 3]\n"
     ]
    }
   ],
   "source": [
    "answer = []\n",
    "answer.append(arr[0])\n",
    "for a1, a2 in zip(arr, arr[1:]):\n",
    "    print(a1, a2)\n",
    "    if a1 == a2 : pass\n",
    "    else: answer.append(a2)\n",
    "        \n",
    "print(answer)"
   ]
  },
  {
   "cell_type": "code",
   "execution_count": 11,
   "id": "fundamental-dakota",
   "metadata": {},
   "outputs": [],
   "source": [
    "def solution(arr):\n",
    "    answer=[]\n",
    "    answer.append(arr[0])\n",
    "    for a1, a2 in zip(arr, arr[1:]):\n",
    "        if a1 != a2: answer.append(a2)\n",
    "        else: pass\n",
    "    print('Hello Python')\n",
    "    return answer"
   ]
  },
  {
   "cell_type": "code",
   "execution_count": 13,
   "id": "furnished-professional",
   "metadata": {},
   "outputs": [
    {
     "name": "stdout",
     "output_type": "stream",
     "text": [
      "Hello Python\n"
     ]
    },
    {
     "data": {
      "text/plain": [
       "[4, 3]"
      ]
     },
     "execution_count": 13,
     "metadata": {},
     "output_type": "execute_result"
    }
   ],
   "source": [
    "solution([4,4,4,3,3])"
   ]
  },
  {
   "cell_type": "markdown",
   "id": "royal-catholic",
   "metadata": {},
   "source": [
    "___\n",
    "\n",
    "### [인상적인 다른사람의 풀이]"
   ]
  },
  {
   "cell_type": "code",
   "execution_count": null,
   "id": "psychological-authentication",
   "metadata": {},
   "outputs": [],
   "source": [
    "def no_continuous(s):\n",
    "    a = []\n",
    "    for i in s:\n",
    "        if a[-1:] == [i]: continue\n",
    "        a.append(i)\n",
    "    return a"
   ]
  },
  {
   "cell_type": "code",
   "execution_count": 19,
   "id": "minus-daisy",
   "metadata": {},
   "outputs": [],
   "source": [
    "arr = [4,4,4,3,3]#[1,1,3,3,0,1,1]\t"
   ]
  },
  {
   "cell_type": "code",
   "execution_count": 22,
   "id": "separated-divorce",
   "metadata": {},
   "outputs": [
    {
     "name": "stdout",
     "output_type": "stream",
     "text": [
      "[] [] [4]\n",
      " \n",
      "[4] [4] [4]\n",
      "[4] [4] [4]\n",
      "[4] [4] [3]\n",
      " \n",
      "[4, 3] [3] [3]\n"
     ]
    }
   ],
   "source": [
    "s = arr\n",
    "a = []\n",
    "for i in s:\n",
    "    print(a, a[-1:], [i])\n",
    "    if a[-1:] == [i]: continue\n",
    "    a.append(i)\n",
    "    print(\" \")"
   ]
  },
  {
   "cell_type": "markdown",
   "id": "aggressive-wesley",
   "metadata": {},
   "source": [
    "- 해당 문제에서 신기했던 부분 a[-1:] 를 빈 배열에 써도 error가 없다는점. \n",
    "- 이러한 점을 이용하여, answer가 담길 list인 a의 뒤에 붙는 element에 대해 계속 새로 들어온 수와 비교 가능. "
   ]
  }
 ],
 "metadata": {
  "kernelspec": {
   "display_name": "Python 3",
   "language": "python",
   "name": "python3"
  },
  "language_info": {
   "codemirror_mode": {
    "name": "ipython",
    "version": 3
   },
   "file_extension": ".py",
   "mimetype": "text/x-python",
   "name": "python",
   "nbconvert_exporter": "python",
   "pygments_lexer": "ipython3",
   "version": "3.6.12"
  }
 },
 "nbformat": 4,
 "nbformat_minor": 5
}
