{
 "cells": [
  {
   "cell_type": "markdown",
   "id": "novel-victorian",
   "metadata": {},
   "source": [
    "# [나누어 떨어지는 숫자 배열]\n",
    "___\n",
    "\n",
    "### [문제 설명]\n",
    "\n",
    "- array의 각 element 중 divisor로 나누어 떨어지는 값을 오름차순으로 정렬한 배열을 반환하는 함수, solution을 작성해주세요.\n",
    "- divisor로 나누어 떨어지는 element가 하나도 없다면 배열에 -1을 담아 반환하세요.\n",
    "\n",
    "___\n",
    "\n",
    "### [제한 사항]\n",
    "\n",
    "- arr은 자연수를 담은 배열입니다.\n",
    "- 정수 i, j에 대해 i ≠ j 이면 arr[i] ≠ arr[j] 입니다.\n",
    "- divisor는 자연수입니다.\n",
    "- array는 길이 1 이상인 배열입니다.\n",
    "\n",
    "___\n",
    "\n",
    "### [입출력 예]\n",
    "\n",
    "![figure](C:/Users/ryank/Desktop/ryan/Code_Test/figure/34-1.PNG)"
   ]
  },
  {
   "cell_type": "markdown",
   "id": "hollywood-quebec",
   "metadata": {},
   "source": [
    "___\n",
    "\n",
    "[내 풀이]\n",
    "\n",
    "- 우선, arr의 element 중에서 divisor로 나누어 떨어지는 값을 오름차순으로 정렬한 배열을 반환하는 함수를 만들어야한다. \n",
    "- 이는 즉, divisor로 나누었을 때 나머지가 '0' 인 element를 찾아서 넣어주면 된다. \n",
    "\n",
    "- for ~ else문과 if~else 문을 적절히 사용하여 코드를 구성하였다. \n",
    "- 이때 sorting을 arr에서 바로 한것이 아닌 element를 뽑아 놓은 answer 배열을 정리하는 것이 훨씬 계산 복잡도가 낮다."
   ]
  },
  {
   "cell_type": "code",
   "execution_count": 4,
   "id": "neither-strategy",
   "metadata": {},
   "outputs": [
    {
     "name": "stdout",
     "output_type": "stream",
     "text": [
      "[-1]\n"
     ]
    }
   ],
   "source": [
    "arr = #[3,2,6]#[2, 36, 1, 3]#[5, 9, 7, 10]\n",
    "divisor = #10#1#5\n",
    "\n",
    "answer = []\n",
    "for n in arr:\n",
    "    if n%divisor ==0:\n",
    "        answer.append(n)\n",
    "else:\n",
    "    if answer: answer.sort()\n",
    "    else: answer.append(-1)\n",
    "print(answer)"
   ]
  },
  {
   "cell_type": "code",
   "execution_count": 7,
   "id": "smoking-stereo",
   "metadata": {},
   "outputs": [],
   "source": [
    "def solution(arr, divisor):\n",
    "    answer=[]\n",
    "    for n in arr:\n",
    "        if n%divisor==0: answer.append(n)\n",
    "    else: \n",
    "        if answer: return (sorted(answer))\n",
    "        else: return [-1]"
   ]
  },
  {
   "cell_type": "code",
   "execution_count": 8,
   "id": "ceramic-peace",
   "metadata": {},
   "outputs": [
    {
     "data": {
      "text/plain": [
       "[-1]"
      ]
     },
     "execution_count": 8,
     "metadata": {},
     "output_type": "execute_result"
    }
   ],
   "source": [
    "solution(arr, divisor)"
   ]
  },
  {
   "cell_type": "markdown",
   "id": "provincial-antenna",
   "metadata": {},
   "source": [
    "- 통과! \n",
    "- 욕심이 생겨 코드를 조금더 간결하게 짜보았다. "
   ]
  },
  {
   "cell_type": "code",
   "execution_count": null,
   "id": "finite-barrel",
   "metadata": {},
   "outputs": [],
   "source": [
    "def solution(arr, divisor):\n",
    "    answer = sorted([n for n in arr if n%divisor == 0])\n",
    "    if answer : return answer\n",
    "    else : return [-1]"
   ]
  },
  {
   "cell_type": "markdown",
   "id": "introductory-monroe",
   "metadata": {},
   "source": [
    "- 통과! \n",
    "___\n",
    "\n",
    "### [인상적인 풀이법]\n",
    "\n",
    "- 내가 작성한 코드를 군더더기 없이 list comprehension을 사용하여 줄여주고, return 에 'or' 를 사용하였다. \n",
    "\n",
    "- return 에 사용된 or 는 앞이 참일경우 해당 값까지만, 거짓일 경우 뒤에것 까지 호출한다는 것을 알 수 있다. "
   ]
  },
  {
   "cell_type": "code",
   "execution_count": null,
   "id": "departmental-execution",
   "metadata": {},
   "outputs": [],
   "source": [
    "def solution(arr, divisor): return sorted([n for n in arr if n%divisor == 0]) or [-1]"
   ]
  }
 ],
 "metadata": {
  "kernelspec": {
   "display_name": "Python 3",
   "language": "python",
   "name": "python3"
  },
  "language_info": {
   "codemirror_mode": {
    "name": "ipython",
    "version": 3
   },
   "file_extension": ".py",
   "mimetype": "text/x-python",
   "name": "python",
   "nbconvert_exporter": "python",
   "pygments_lexer": "ipython3",
   "version": "3.6.12"
  }
 },
 "nbformat": 4,
 "nbformat_minor": 5
}
