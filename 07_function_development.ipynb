{
 "cells": [
  {
   "cell_type": "markdown",
   "id": "tight-brave",
   "metadata": {},
   "source": [
    "# 07 기능 개발 문제\n",
    "___\n",
    "\n",
    "\n",
    "### 문제 설명   \n",
    "\n",
    "프로그래머스 팀에서는 기능 개선 작업을 수행 중입니다. \n",
    "\n",
    "각 기능은 진도가 100%일 때 서비스에 반영할 수 있습니다.\n",
    "\n",
    "또, 각 기능의 개발속도는 모두 다르기 때문에 뒤에 있는 기능이 앞에 있는 기능보다 먼저 개발될 수 있고, 이때 뒤에 있는 기능은 앞에 있는 기능이 배포될 때 함께 배포됩니다.\n",
    "\n",
    "먼저 배포되어야 하는 순서대로 작업의 진도가 적힌 정수 배열 progresses와 각 작업의 개발 속도가 적힌 정수 배열 speeds가 주어질 때 각 배포마다 몇 개의 기능이 배포되는지를 return 하도록 solution 함수를 완성하세요.\n",
    "\n",
    "___\n",
    "\n",
    "### 제한 사항\n",
    "\n",
    "- 작업의 개수(progresses, speeds배열의 길이)는 100개 이하입니다.\n",
    "- 작업 진도는 100 미만의 자연수입니다.\n",
    "- 작업 속도는 100 이하의 자연수입니다.\n",
    "- 배포는 하루에 한 번만 할 수 있으며, 하루의 끝에 이루어진다고 가정합니다. \n",
    "- 예를 들어 진도율이 95%인 작업의 개발 속도가 하루에 4%라면 배포는 2일 뒤에 이루어집니다.\n",
    "\n",
    "___\n",
    "\n",
    "### 입출력의 예\n",
    "\n",
    "![figure](C:/Users/ryank/Desktop/ryan/Code_Test/figure/07-1.PNG)\n",
    "\n",
    "### 입출력 예 설명\n",
    "\n",
    "#### 입출력 예 #1\n",
    "\n",
    "- 첫 번째 기능은 93% 완료되어 있고 하루에 1%씩 작업이 가능하므로 7일간 작업 후 배포가 가능합니다.\n",
    "\n",
    "- 두 번째 기능은 30%가 완료되어 있고 하루에 30%씩 작업이 가능하므로 3일간 작업 후 배포가 가능합니다. 하지만 이전 첫 번째 기능이 아직 완성된 상태가 아니기 때문에 첫 번째 기능이 배포되는 7일째 배포됩니다.\n",
    "\n",
    "- 세 번째 기능은 55%가 완료되어 있고 하루에 5%씩 작업이 가능하므로 9일간 작업 후 배포가 가능합니다.\n",
    "\n",
    "따라서 7일째에 2개의 기능, 9일째에 1개의 기능이 배포됩니다.\n",
    "___\n",
    "\n",
    "### [내 풀이]"
   ]
  },
  {
   "cell_type": "markdown",
   "id": "imposed-minister",
   "metadata": {},
   "source": [
    "- for 반복문에 조건문을 사용하여 풀이! \n",
    "\n",
    "- 비교적 쉬웠다.."
   ]
  },
  {
   "cell_type": "code",
   "execution_count": 42,
   "id": "editorial-intensity",
   "metadata": {},
   "outputs": [],
   "source": [
    "# progresses=[95, 90, 99, 99, 80, 99]\n",
    "# speeds=[1, 1, 1, 1, 1, 1]\n",
    "# progresses = [93, 30, 5]\n",
    "# speeds = [1,30,5]\n",
    "progresses = [99,1,99,1]\n",
    "speeds = [1,1,1,1]"
   ]
  },
  {
   "cell_type": "code",
   "execution_count": 44,
   "id": "occupied-minimum",
   "metadata": {},
   "outputs": [
    {
     "name": "stdout",
     "output_type": "stream",
     "text": [
      "[1, 3]\n"
     ]
    }
   ],
   "source": [
    "import math\n",
    "time=0\n",
    "answer = []\n",
    "for i in range(len(progresses)):\n",
    "    if i == 0 :\n",
    "        time = math.ceil((100-progresses[i])/speeds[i])\n",
    "        answer.append(1)\n",
    "    else:\n",
    "        if time < math.ceil((100-progresses[i])/speeds[i]):\n",
    "            answer.append(1)\n",
    "            time = math.ceil((100-progresses[i])/speeds[i])\n",
    "        else:\n",
    "            answer[-1]+=1\n",
    "print(answer)"
   ]
  },
  {
   "cell_type": "code",
   "execution_count": null,
   "id": "hearing-briefing",
   "metadata": {},
   "outputs": [],
   "source": [
    "import math \n",
    "def solution(progresses, speeds):\n",
    "    answer = []\n",
    "    time=0\n",
    "    for i in range(len(progresses)):\n",
    "        if i == 0:\n",
    "            time = math.ceil((100-progresses[i])/speeds[i])\n",
    "            answer.append(1)\n",
    "        else:\n",
    "            if time < math.ceil((100-progresses[i])/speeds[i]):\n",
    "                answer.append(1)\n",
    "                time = math.ceil((100-progresses[i])/speeds[i])\n",
    "            else:\n",
    "                answer[-1]+1\n",
    "    return answer"
   ]
  },
  {
   "cell_type": "markdown",
   "id": "north-melissa",
   "metadata": {},
   "source": [
    "___\n",
    "### [인상적인 풀이]\n",
    "\n",
    "- progresses = [99,1,99,1]\n",
    "- speeds = [1,1,1,1]\n",
    "\n",
    "\n",
    "- zip 을 사용한 풀이법\n",
    "\n",
    "- 그리고 독특한 점이 있다면, math.ceil을 사용하지 않으려고 수를 음수로 뺀뒤 몫을 구하여, 다시 역으로 음수를 취해 양수로 만들어줌..진짜 센스...\n",
    "\n",
    "- #### **- ((p-100) // s )**"
   ]
  },
  {
   "cell_type": "code",
   "execution_count": null,
   "id": "educated-drawing",
   "metadata": {},
   "outputs": [],
   "source": [
    "def solution(progresses, speeds):\n",
    "    Q=[]\n",
    "    for p, s in zip(progresses, speeds):\n",
    "        if len(Q)==0 or Q[-1][0]<-((p-100)//s):\n",
    "            Q.append([-((p-100)//s),1])\n",
    "        else:\n",
    "            Q[-1][1]+=1\n",
    "    return [q[1] for q in Q]"
   ]
  }
 ],
 "metadata": {
  "kernelspec": {
   "display_name": "Python 3",
   "language": "python",
   "name": "python3"
  },
  "language_info": {
   "codemirror_mode": {
    "name": "ipython",
    "version": 3
   },
   "file_extension": ".py",
   "mimetype": "text/x-python",
   "name": "python",
   "nbconvert_exporter": "python",
   "pygments_lexer": "ipython3",
   "version": "3.6.12"
  }
 },
 "nbformat": 4,
 "nbformat_minor": 5
}
