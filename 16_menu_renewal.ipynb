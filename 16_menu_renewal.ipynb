{
 "cells": [
  {
   "cell_type": "markdown",
   "id": "proper-orlando",
   "metadata": {},
   "source": [
    "# [메뉴 리뉴얼]\n",
    "___\n",
    "\n",
    "### [문제 설명]\n",
    "\n",
    "- 레스토랑을 운영하던 스카피는 코로나19로 인한 불경기를 극복하고자 메뉴를 새로 구성하려고 고민하고 있습니다.\n",
    "\n",
    "- 기존에는 단품으로만 제공하던 메뉴를 조합해서 코스요리 형태로 재구성해서 새로운 메뉴를 제공하기로 결정했습니다. 어떤 단품메뉴들을 조합해서 코스요리 메뉴로 구성하면 좋을 지 고민하던 \"스카피\"는 이전에 각 손님들이 주문할 때 가장 많이 함께 주문한 단품메뉴들을 코스요리 메뉴로 구성하기로 했습니다.\n",
    "\n",
    "- 단, 코스요리 메뉴는 최소 2가지 이상의 단품메뉴로 구성하려고 합니다. 또한, 최소 2명 이상의 손님으로부터 주문된 단품메뉴 조합에 대해서만 코스요리 메뉴 후보에 포함하기로 했습니다.\n",
    "\n",
    "\n",
    "- 예를 들어, 손님 6명이 주문한 단품메뉴들의 조합이 다음과 같다면,\n",
    "(각 손님은 단품메뉴를 2개 이상 주문해야 하며, 각 단품메뉴는 A ~ Z의 알파벳 대문자로 표기합니다.)\n",
    "\n",
    "___\n",
    "\n",
    "### [문제]\n",
    "\n",
    "- 각 손님들이 주문한 단품메뉴들이 문자열 형식으로 담긴 배열 orders, \"스카피\"가 추가하고 싶어하는 코스요리를 구성하는 단품메뉴들의 갯수가 담긴 배열 course가 매개변수로 주어질 때, \"스카피\"가 새로 추가하게 될 코스요리의 메뉴 구성을 문자열 형태로 배열에 담아 return 하도록 solution 함수를 완성해 주세요.\n",
    "\n",
    "___\n",
    "\n",
    "### [제한사항]\n",
    "\n",
    "- orders 배열의 크기는 2 이상 20 이하입니다.\n",
    "- orders 배열의 각 원소는 크기가 2 이상 10 이하인 문자열입니다.\n",
    "- 각 문자열은 알파벳 대문자로만 이루어져 있습니다.\n",
    "- 각 문자열에는 같은 알파벳이 중복해서 들어있지 않습니다.\n",
    "- course 배열의 크기는 1 이상 10 이하입니다.\n",
    "- course 배열의 각 원소는 2 이상 10 이하인 자연수가 오름차순으로 정렬되어 있습니다.\n",
    "- course 배열에는 같은 값이 중복해서 들어있지 않습니다.\n",
    "- 정답은 각 코스요리 메뉴의 구성을 문자열 형식으로 배열에 담아 사전 순으로 오름차순 정렬해서 return 해주세요.\n",
    "- 배열의 각 원소에 저장된 문자열 또한 알파벳 오름차순으로 정렬되어야 합니다.\n",
    "- 만약 가장 많이 함께 주문된 메뉴 구성이 여러 개라면, 모두 배열에 담아 return 하면 됩니다.\n",
    "- orders와 course 매개변수는 return 하는 배열의 길이가 1 이상이 되도록 주어집니다.\n",
    "\n",
    "![figure](C:/Users/ryank/Desktop/ryan/Code_Test/figure/16-1.PNG)"
   ]
  },
  {
   "cell_type": "markdown",
   "id": "recorded-admission",
   "metadata": {},
   "source": [
    "___\n",
    "\n",
    "### [내 풀이]\n",
    "\n",
    "- 그냥 for문과 조건문을 통해 접근하려 했지만,, 쉽지 않았다. \n",
    "- 그래서 찾은것이 **itertools.combinations** 와 **collections.Counter**\n",
    "\n",
    "#### **itertools.combinations**\n",
    "\n",
    "- 어떠한 배열에 대한 조합을 해주는 모듈.., parameter 로는 몇개의 조합을 만들어 낼지\n",
    "\n",
    "#### **collections.Counter**\n",
    "\n",
    "- 각 원소의 중복 갯수를 세주는 모듈\n",
    "\n",
    "- if course=2 : combinations을 통해 orders로 들어온 \"ABCFG\", \"AC\" 등을 2개씩 쪼개 조합을 만든다. \n",
    "- 모든 조합에서 counter 를 통해 중복 갯수를 센다. \n",
    "- 이들중 개수가 가장 큰 max(counter.values()) 를 answer 리스트에 넣어 준다. \n"
   ]
  },
  {
   "cell_type": "code",
   "execution_count": 62,
   "id": "intermediate-basin",
   "metadata": {},
   "outputs": [],
   "source": [
    "orders = [\"ABCFG\", \"AC\", \"CDE\", \"ACDE\", \"BCFG\", \"ACDEH\"]\n",
    "course = [2,3,4]"
   ]
  },
  {
   "cell_type": "code",
   "execution_count": 63,
   "id": "communist-hotel",
   "metadata": {},
   "outputs": [],
   "source": [
    "from itertools import combinations\n",
    "from collections import Counter\n"
   ]
  },
  {
   "cell_type": "code",
   "execution_count": 85,
   "id": "proof-beginning",
   "metadata": {},
   "outputs": [
    {
     "name": "stdout",
     "output_type": "stream",
     "text": [
      "[('A', 'B'), ('A', 'C'), ('A', 'F'), ('A', 'G'), ('B', 'C'), ('B', 'F'), ('B', 'G'), ('C', 'F'), ('C', 'G'), ('F', 'G'), ('A', 'C'), ('C', 'D'), ('C', 'E'), ('D', 'E'), ('A', 'C'), ('A', 'D'), ('A', 'E'), ('C', 'D'), ('C', 'E'), ('D', 'E'), ('B', 'C'), ('B', 'F'), ('B', 'G'), ('C', 'F'), ('C', 'G'), ('F', 'G'), ('A', 'C'), ('A', 'D'), ('A', 'E'), ('A', 'H'), ('C', 'D'), ('C', 'E'), ('C', 'H'), ('D', 'E'), ('D', 'H'), ('E', 'H')]\n",
      "Counter({('A', 'C'): 4, ('C', 'D'): 3, ('C', 'E'): 3, ('D', 'E'): 3, ('B', 'C'): 2, ('B', 'F'): 2, ('B', 'G'): 2, ('C', 'F'): 2, ('C', 'G'): 2, ('F', 'G'): 2, ('A', 'D'): 2, ('A', 'E'): 2, ('A', 'B'): 1, ('A', 'F'): 1, ('A', 'G'): 1, ('A', 'H'): 1, ('C', 'H'): 1, ('D', 'H'): 1, ('E', 'H'): 1})\n",
      "dict_values([1, 4, 1, 1, 2, 2, 2, 2, 2, 2, 3, 3, 3, 2, 2, 1, 1, 1, 1])\n",
      "['AC']\n",
      "\n",
      "[('A', 'B', 'C'), ('A', 'B', 'F'), ('A', 'B', 'G'), ('A', 'C', 'F'), ('A', 'C', 'G'), ('A', 'F', 'G'), ('B', 'C', 'F'), ('B', 'C', 'G'), ('B', 'F', 'G'), ('C', 'F', 'G'), ('C', 'D', 'E'), ('A', 'C', 'D'), ('A', 'C', 'E'), ('A', 'D', 'E'), ('C', 'D', 'E'), ('B', 'C', 'F'), ('B', 'C', 'G'), ('B', 'F', 'G'), ('C', 'F', 'G'), ('A', 'C', 'D'), ('A', 'C', 'E'), ('A', 'C', 'H'), ('A', 'D', 'E'), ('A', 'D', 'H'), ('A', 'E', 'H'), ('C', 'D', 'E'), ('C', 'D', 'H'), ('C', 'E', 'H'), ('D', 'E', 'H')]\n",
      "Counter({('C', 'D', 'E'): 3, ('B', 'C', 'F'): 2, ('B', 'C', 'G'): 2, ('B', 'F', 'G'): 2, ('C', 'F', 'G'): 2, ('A', 'C', 'D'): 2, ('A', 'C', 'E'): 2, ('A', 'D', 'E'): 2, ('A', 'B', 'C'): 1, ('A', 'B', 'F'): 1, ('A', 'B', 'G'): 1, ('A', 'C', 'F'): 1, ('A', 'C', 'G'): 1, ('A', 'F', 'G'): 1, ('A', 'C', 'H'): 1, ('A', 'D', 'H'): 1, ('A', 'E', 'H'): 1, ('C', 'D', 'H'): 1, ('C', 'E', 'H'): 1, ('D', 'E', 'H'): 1})\n",
      "dict_values([1, 1, 1, 1, 1, 1, 2, 2, 2, 2, 3, 2, 2, 2, 1, 1, 1, 1, 1, 1])\n",
      "['AC', 'CDE']\n",
      "\n",
      "[('A', 'B', 'C', 'F'), ('A', 'B', 'C', 'G'), ('A', 'B', 'F', 'G'), ('A', 'C', 'F', 'G'), ('B', 'C', 'F', 'G'), ('A', 'C', 'D', 'E'), ('B', 'C', 'F', 'G'), ('A', 'C', 'D', 'E'), ('A', 'C', 'D', 'H'), ('A', 'C', 'E', 'H'), ('A', 'D', 'E', 'H'), ('C', 'D', 'E', 'H')]\n",
      "Counter({('B', 'C', 'F', 'G'): 2, ('A', 'C', 'D', 'E'): 2, ('A', 'B', 'C', 'F'): 1, ('A', 'B', 'C', 'G'): 1, ('A', 'B', 'F', 'G'): 1, ('A', 'C', 'F', 'G'): 1, ('A', 'C', 'D', 'H'): 1, ('A', 'C', 'E', 'H'): 1, ('A', 'D', 'E', 'H'): 1, ('C', 'D', 'E', 'H'): 1})\n",
      "dict_values([1, 1, 1, 1, 2, 2, 1, 1, 1, 1])\n",
      "['AC', 'ACDE', 'BCFG', 'CDE']\n",
      "\n"
     ]
    }
   ],
   "source": [
    "answer = []\n",
    "for c in course:\n",
    "    tmp=[]\n",
    "    for order in orders:\n",
    "        tmp += combinations(sorted(order), c)\n",
    "    counter = Counter(tmp)\n",
    "    print(tmp)\n",
    "    print(counter)\n",
    "    print(counter.values())\n",
    "    \n",
    "    if max(counter.values())!=1 and len(counter)!=0 :\n",
    "        for m in counter:\n",
    "            if counter[m]==max(counter.values()):\n",
    "                answer+=[''.join(m)]\n",
    "                \n",
    "    print(sorted(answer))\n",
    "    print(\"\")\n",
    "#         print([''.join(f) for f in counter if counter[f]==max(counter.values())])\n",
    "#         answer += "
   ]
  },
  {
   "cell_type": "code",
   "execution_count": 121,
   "id": "worst-maine",
   "metadata": {},
   "outputs": [],
   "source": [
    "from itertools import combinations\n",
    "from collections import Counter\n",
    "\n",
    "def solution(orders, course):\n",
    "    answer = []\n",
    "    for c in course:\n",
    "        tmp=[]\n",
    "        for order in orders:\n",
    "            tmp+=combinations(sorted(order), c)\n",
    "        counter = Counter(tmp)\n",
    "        \n",
    "        if len(counter) != 0 and max(counter.values()) != 1:\n",
    "            for m in counter:\n",
    "                if counter[m]==max(counter.values()):\n",
    "                    answer+=[''.join(m)]\n",
    "    return sorted(answer)"
   ]
  }
 ],
 "metadata": {
  "kernelspec": {
   "display_name": "Python 3",
   "language": "python",
   "name": "python3"
  },
  "language_info": {
   "codemirror_mode": {
    "name": "ipython",
    "version": 3
   },
   "file_extension": ".py",
   "mimetype": "text/x-python",
   "name": "python",
   "nbconvert_exporter": "python",
   "pygments_lexer": "ipython3",
   "version": "3.6.12"
  }
 },
 "nbformat": 4,
 "nbformat_minor": 5
}
