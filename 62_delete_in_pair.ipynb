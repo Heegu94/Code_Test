{
 "cells": [
  {
   "cell_type": "markdown",
   "id": "latest-point",
   "metadata": {},
   "source": [
    "# [짝지어 제거하기]\n",
    "___\n",
    "\n",
    "### [문제 설명]\n",
    "\n",
    "- 짝지어 제거하기는, 알파벳 소문자로 이루어진 문자열을 가지고 시작합니다. 먼저 문자열에서 같은 알파벳이 2개 붙어 있는 짝을 찾습니다. 그다음, 그 둘을 제거한 뒤, 앞뒤로 문자열을 이어 붙입니다. \n",
    "- 이 과정을 반복해서 문자열을 모두 제거한다면 짝지어 제거하기가 종료됩니다. 문자열 S가 주어졌을 때, 짝지어 제거하기를 성공적으로 수행할 수 있는지 반환하는 함수를 완성해 주세요. \n",
    "- 성공적으로 수행할 수 있으면 1을, 아닐 경우 0을 리턴해주면 됩니다.\n",
    "\n",
    "- 예를 들어, 문자열 S = baabaa 라면\n",
    "\n",
    "    - b aa baa → bb aa → aa →\n",
    "    - 의 순서로 문자열을 모두 제거할 수 있으므로 1을 반환합니다.\n",
    "\n",
    "___\n",
    "\n",
    "### [제한사항]\n",
    "\n",
    "- 문자열의 길이 : 1,000,000이하의 자연수\n",
    "- 문자열은 모두 소문자로 이루어져 있습니다.\n",
    "\n",
    "___ \n",
    "\n",
    "### [입출력 예]\n",
    "\n",
    "- s = \"baabaa\" > result = 1\n",
    "- s = \"cdcd\" > result = 0\n",
    "\n"
   ]
  },
  {
   "cell_type": "code",
   "execution_count": 12,
   "id": "soviet-phrase",
   "metadata": {},
   "outputs": [],
   "source": [
    "s = \"baabaa\""
   ]
  },
  {
   "cell_type": "code",
   "execution_count": 9,
   "id": "fixed-referral",
   "metadata": {},
   "outputs": [
    {
     "name": "stdout",
     "output_type": "stream",
     "text": [
      "b a\n",
      "b\n",
      "a a\n",
      "ba\n",
      "a b\n",
      "baa\n",
      "b a\n",
      "baab\n",
      "a a\n",
      "baaba\n"
     ]
    }
   ],
   "source": [
    "ans = \"\"\n",
    "for i in range(len(s)-1):\n",
    "    x1 = s[i]\n",
    "    x2 = s[i+1]\n",
    "    print(x1, x2)\n",
    "    if x1 == x2:\n",
    "        pass\n",
    "    ans+=\n",
    "    print(ans)\n",
    "    "
   ]
  },
  {
   "cell_type": "code",
   "execution_count": 26,
   "id": "national-maker",
   "metadata": {},
   "outputs": [
    {
     "name": "stdout",
     "output_type": "stream",
     "text": [
      "0\n"
     ]
    }
   ],
   "source": [
    "from collections import deque\n",
    "\n",
    "s = \"cdcd\" #\"baabaa\"\n",
    "s = deque(s)\n",
    "\n",
    "ans = s.popleft()\n",
    "\n",
    "while s:\n",
    "    ans += s.popleft()\n",
    "#     cnt = len(ans)\n",
    "    if len(ans)>=2 and ans[-2] == ans[-1]:\n",
    "        ans = ans[:-2]\n",
    "        \n",
    "if not ans: \n",
    "    print('1')\n",
    "else: \n",
    "    print('0')\n"
   ]
  },
  {
   "cell_type": "code",
   "execution_count": 24,
   "id": "exceptional-value",
   "metadata": {},
   "outputs": [],
   "source": [
    "from collections import deque, Counter\n",
    "\n",
    "def solution(s):\n",
    "    s = deque(s)\n",
    "    ans = s[0]\n",
    "    \n",
    "    \n",
    "    while s:\n",
    "        ans += s.popleft()\n",
    "        if len(ans)>=2 and ans[-2]==ans[-1]: \n",
    "            ans = ans[:-2]\n",
    "    if not ans:\n",
    "        return 1\n",
    "    else:\n",
    "        return 0"
   ]
  },
  {
   "cell_type": "markdown",
   "id": "sophisticated-meaning",
   "metadata": {},
   "source": [
    "- 정답은 맞으나.. 효율성 실패..(2개 실패)\n",
    "\n",
    "- while 문 제거, for 문으로 대체\n",
    "- 전체적인 풀이는 동일"
   ]
  },
  {
   "cell_type": "code",
   "execution_count": 35,
   "id": "speaking-warren",
   "metadata": {},
   "outputs": [
    {
     "name": "stdout",
     "output_type": "stream",
     "text": [
      "0\n"
     ]
    }
   ],
   "source": [
    "stack = []\n",
    "for w in s:\n",
    "    if len(stack) == 0 : stack.append(w)\n",
    "    elif stack[-1] == w : stack.pop()\n",
    "    else: stack.append(w)\n",
    "\n",
    "if len(stack) == 0: print(\"1\")\n",
    "else: print(\"0\")"
   ]
  },
  {
   "cell_type": "code",
   "execution_count": 36,
   "id": "printable-administration",
   "metadata": {},
   "outputs": [],
   "source": [
    "def solution(s):\n",
    "    for w in s:\n",
    "        if len(stack) == 0: stack.append(w)\n",
    "        elif stack[-1] == w: stack.pop()\n",
    "        else: stack.append(w)\n",
    "    if len(stack) == 0: return 1\n",
    "    else: return 0"
   ]
  },
  {
   "cell_type": "code",
   "execution_count": 37,
   "id": "liberal-reduction",
   "metadata": {},
   "outputs": [
    {
     "data": {
      "text/plain": [
       "0"
      ]
     },
     "execution_count": 37,
     "metadata": {},
     "output_type": "execute_result"
    }
   ],
   "source": [
    "solution(s)"
   ]
  }
 ],
 "metadata": {
  "kernelspec": {
   "display_name": "Python 3",
   "language": "python",
   "name": "python3"
  },
  "language_info": {
   "codemirror_mode": {
    "name": "ipython",
    "version": 3
   },
   "file_extension": ".py",
   "mimetype": "text/x-python",
   "name": "python",
   "nbconvert_exporter": "python",
   "pygments_lexer": "ipython3",
   "version": "3.6.12"
  }
 },
 "nbformat": 4,
 "nbformat_minor": 5
}
