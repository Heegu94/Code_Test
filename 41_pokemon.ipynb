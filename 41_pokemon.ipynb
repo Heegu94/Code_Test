{
 "cells": [
  {
   "cell_type": "markdown",
   "id": "pretty-knock",
   "metadata": {},
   "source": [
    "# [포켓몬]\n",
    "___\n",
    "\n",
    "### [문제 설명]\n",
    "\n",
    "- 당신은 폰켓몬을 잡기 위한 오랜 여행 끝에, 홍 박사님의 연구실에 도착했습니다. \n",
    "- 홍 박사님은 당신에게 자신의 연구실에 있는 총 N 마리의 폰켓몬 중에서 N/2마리를 가져가도 좋다고 했습니다.\n",
    "- 홍 박사님 연구실의 폰켓몬은 종류에 따라 번호를 붙여 구분합니다. 따라서 같은 종류의 폰켓몬은 같은 번호를 가지고 있습니다. \n",
    "- 예를 들어 연구실에 총 4마리의 폰켓몬이 있고, 각 폰켓몬의 종류 번호가 [3번, 1번, 2번, 3번]이라면 이는 3번 폰켓몬 두 마리, 1번 폰켓몬 한 마리, 2번 폰켓몬 한 마리가 있음을 나타냅니다.\n",
    "- 이때, 4마리의 폰켓몬 중 2마리를 고르는 방법은 다음과 같이 6가지가 있습니다.\n",
    "\n",
    ">첫 번째(3번), 두 번째(1번) 폰켓몬을 선택\n",
    "\n",
    ">첫 번째(3번), 세 번째(2번) 폰켓몬을 선택\n",
    "\n",
    ">첫 번째(3번), 네 번째(3번) 폰켓몬을 선택\n",
    "\n",
    ">두 번째(1번), 세 번째(2번) 폰켓몬을 선택\n",
    "\n",
    ">두 번째(1번), 네 번째(3번) 폰켓몬을 선택\n",
    "\n",
    ">세 번째(2번), 네 번째(3번) 폰켓몬을 선택\n",
    "\n",
    "- 이때, 첫 번째(3번) 폰켓몬과 네 번째(3번) 폰켓몬을 선택하는 방법은 한 종류(3번 폰켓몬 두 마리)의 폰켓몬만 가질 수 있지만, 다른 방법들은 모두 두 종류의 폰켓몬을 가질 수 있습니다. 따라서 위 예시에서 가질 수 있는 폰켓몬 종류 수의 최댓값은 2가 됩니다.\n",
    "- 당신은 최대한 다양한 종류의 폰켓몬을 가지길 원하기 때문에, 최대한 많은 종류의 폰켓몬을 포함해서 N/2마리를 선택하려 합니다. N마리 폰켓몬의 종류 번호가 담긴 배열 nums가 매개변수로 주어질 때, N/2마리의 폰켓몬을 선택하는 방법 중, 가장 많은 종류의 폰켓몬을 선택하는 방법을 찾아, 그때의 폰켓몬 종류 번호의 개수를 return 하도록 solution 함수를 완성해주세요.\n",
    "\n",
    "___\n",
    "\n",
    "### [제한 사항]\n",
    "\n",
    "- nums는 폰켓몬의 종류 번호가 담긴 1차원 배열입니다.\n",
    "- nums의 길이(N)는 1 이상 10,000 이하의 자연수이며, 항상 짝수로 주어집니다.\n",
    "- 폰켓몬의 종류 번호는 1 이상 200,000 이하의 자연수로 나타냅니다.\n",
    "- 가장 많은 종류의 폰켓몬을 선택하는 방법이 여러 가지인 경우에도, 선택할 수 있는 폰켓몬 종류 개수의 최댓값 하나만 return 하면 됩니다.\n",
    "\n",
    "___\n",
    "\n",
    "### [입출력 예]\n",
    "\n",
    "- nums = [3,1,2,3],     result = 2\n",
    "- nums = [3,3,3,2,2,4], result = 3\n",
    "- nums = [3,3,3,2,2,2], result = 2\n",
    "\n",
    "___\n",
    "### [내풀이]\n",
    "\n",
    "- nums 리스트에서,  중복된 것들을 제거하고 개수를 센것과, 제거 하지 않고 개수를 센것을 비교하여 더 적은 것이 답이 된다는 것을 알 수 있다. \n",
    "- 이를 구현하면 아래와 같다. \n",
    "\n",
    "- 중복된 것을 제거할때 collections.Counter() 를 사용해 보았다. "
   ]
  },
  {
   "cell_type": "code",
   "execution_count": 14,
   "id": "complete-married",
   "metadata": {},
   "outputs": [],
   "source": [
    "nums = [3,3,3,2,4,1,1,2,2,2]\t"
   ]
  },
  {
   "cell_type": "code",
   "execution_count": 15,
   "id": "broad-rendering",
   "metadata": {},
   "outputs": [
    {
     "name": "stdout",
     "output_type": "stream",
     "text": [
      "4\n"
     ]
    }
   ],
   "source": [
    "from collections import Counter\n",
    "\n",
    "n = len(nums)//2\n",
    "cn = len(list(Counter(nums)))\n",
    "if n < cn: print(n)\n",
    "else: print(cn)"
   ]
  },
  {
   "cell_type": "code",
   "execution_count": null,
   "id": "promising-performance",
   "metadata": {},
   "outputs": [],
   "source": [
    "from collections import Counter\n",
    "\n",
    "def solution(nums):\n",
    "    if len(nums)//2 < len(list(Counter(nums))) : return len(nums)//2\n",
    "    else: return len(list(Counter(nums)))"
   ]
  },
  {
   "cell_type": "code",
   "execution_count": null,
   "id": "after-hands",
   "metadata": {},
   "outputs": [],
   "source": [
    "from collections import Counter\n",
    "\n",
    "def solution(nums):\n",
    "    n = len(nums)//2\n",
    "    cn = len(list(Counter(nums)))\n",
    "    if n < cn : return n\n",
    "    else: return cn"
   ]
  },
  {
   "cell_type": "markdown",
   "id": "romance-joyce",
   "metadata": {},
   "source": [
    "- 위와 같이 전체 길이를 조건문으로 비교할 수도 있지만, 중복을 제거할 때, set() 내장함수와 비교하여 더 적은 겂을 뽑아낼때, min() 내장함수를 사용하면, 더욱 간단한 코드로 대체 가능하다."
   ]
  },
  {
   "cell_type": "code",
   "execution_count": null,
   "id": "satisfied-turner",
   "metadata": {},
   "outputs": [],
   "source": [
    "from collections import Counter\n",
    "\n",
    "def solution(nums):\n",
    "    return min(len(nums)/2, len(set(nums)))"
   ]
  },
  {
   "cell_type": "markdown",
   "id": "northern-disco",
   "metadata": {},
   "source": [
    "- 이렇게 표현할 경우 조건문이 없어지므로 runtime 을 많이 줄일 수 있다. "
   ]
  }
 ],
 "metadata": {
  "kernelspec": {
   "display_name": "Python 3",
   "language": "python",
   "name": "python3"
  },
  "language_info": {
   "codemirror_mode": {
    "name": "ipython",
    "version": 3
   },
   "file_extension": ".py",
   "mimetype": "text/x-python",
   "name": "python",
   "nbconvert_exporter": "python",
   "pygments_lexer": "ipython3",
   "version": "3.6.12"
  }
 },
 "nbformat": 4,
 "nbformat_minor": 5
}
