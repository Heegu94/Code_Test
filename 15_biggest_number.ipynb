{
 "cells": [
  {
   "cell_type": "markdown",
   "id": "proud-latter",
   "metadata": {},
   "source": [
    "# 15. [가장 큰 수 ]\n",
    "___\n",
    "\n",
    "### [문제 설명]\n",
    "\n",
    "- 0 또는 양의 정수가 주어졌을 때, 정수를 이어 붙여 만들 수 있는 가장 큰 수를 알아내 주세요.\n",
    "\n",
    "- 예를 들어, 주어진 정수가 [6, 10, 2]라면 [6102, 6210, 1062, 1026, 2610, 2106]를 만들 수 있고, 이중 가장 큰 수는 6210입니다.\n",
    "\n",
    "- 0 또는 양의 정수가 담긴 배열 numbers가 매개변수로 주어질 때, 순서를 재배치하여 만들 수 있는 가장 큰 수를 문자열로 바꾸어 return 하도록 solution 함수를 작성해주세요.\n",
    "___\n",
    "\n",
    "### [제한 사항]\n",
    "\n",
    "- numbers의 길이는 1 이상 100,000 이하입니다.\n",
    "- numbers의 원소는 0 이상 1,000 이하입니다.\n",
    "- 정답이 너무 클 수 있으니 문자열로 바꾸어 return 합니다.\n",
    "\n",
    "___\n",
    "\n",
    "if numbers = [6, 10, 2] -> \"6210\"\n",
    "\n",
    "\n",
    "### [내 풀이]\n",
    "\n",
    "- sort 를 사용해서 접근...\n",
    "- sort 함수의 key 에 lambda 를 사용하여, 입력으로 들어오는 수를 3번 반복하게 하여, reverse = True로 하여, sort함.\n",
    "- 이런식으로 할 경우, "
   ]
  },
  {
   "cell_type": "code",
   "execution_count": 75,
   "id": "cardiac-cream",
   "metadata": {},
   "outputs": [
    {
     "name": "stdout",
     "output_type": "stream",
     "text": [
      "['7', '55', '77', '999']\n",
      "['999', '77', '7', '55']\n",
      "99977755\n"
     ]
    }
   ],
   "source": [
    "numbers = [7, 55, 77, 999]\n",
    "num = list(map(str, numbers))\n",
    "print( num)\n",
    "num.sort(key = lambda x : x*3, reverse = True)\n",
    "print(num)\n",
    "print(str(int(''.join(num)))) # 0000 이아닌 0이 나와야하기 때문에 int-> str 으로 바꿔줌..\n"
   ]
  },
  {
   "cell_type": "code",
   "execution_count": 76,
   "id": "extra-anthony",
   "metadata": {},
   "outputs": [],
   "source": [
    "def solution(numbers):\n",
    "    num=list(map(str, numbers))\n",
    "    num.sort(key = lambda x : x*3, reverse=True)\n",
    "    \n",
    "    return str(int(\"\".join(num))) "
   ]
  },
  {
   "cell_type": "markdown",
   "id": "labeled-master",
   "metadata": {},
   "source": [
    "___\n",
    "### [여러가지 방법들]\n",
    "\n",
    "### - permutations : 순열\n",
    "- iterable의 원소로 순열과 조합을 구하는 방법. (itertools.permutations())\n",
    "- 대신 모든 list element에 대해 순열을 다 확인할 경우 런타임 초과..\n",
    "\n",
    "### - functools.cmp_to_key => comparator를 사용하여 key를 만들어주는 방식. \n",
    "- 앞서 접근한 방식과 거의 비슷"
   ]
  },
  {
   "cell_type": "code",
   "execution_count": 77,
   "id": "executed-sacrifice",
   "metadata": {},
   "outputs": [],
   "source": [
    "import functools\n",
    "\n",
    "def comparator(a,b):\n",
    "    t1 = a+b\n",
    "    t2 = b+a\n",
    "    return (int(t1) > int(t2)) - (int(t1) < int(t2)) #  t1이 크다면 1  // t2가 크다면 -1  //  같으면 0\n",
    "\n",
    "def solution(numbers):\n",
    "    n = [str(x) for x in numbers]\n",
    "    n = sorted(n, key=functools.cmp_to_key(comparator),reverse=True)\n",
    "    answer = str(int(''.join(n)))\n",
    "    return answer"
   ]
  }
 ],
 "metadata": {
  "kernelspec": {
   "display_name": "Python 3",
   "language": "python",
   "name": "python3"
  },
  "language_info": {
   "codemirror_mode": {
    "name": "ipython",
    "version": 3
   },
   "file_extension": ".py",
   "mimetype": "text/x-python",
   "name": "python",
   "nbconvert_exporter": "python",
   "pygments_lexer": "ipython3",
   "version": "3.6.12"
  }
 },
 "nbformat": 4,
 "nbformat_minor": 5
}
