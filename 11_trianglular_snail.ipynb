{
 "cells": [
  {
   "cell_type": "markdown",
   "id": "identical-cologne",
   "metadata": {},
   "source": [
    "# [삼각 달팽이]\n",
    "\n",
    "___\n",
    "\n",
    "\n",
    "### [문제 설명]\n",
    "\n",
    "정수 n이 매개변수로 주어집니다.\n",
    "\n",
    "다음 그림과 같이 밑변의 길이와 높이가 n인 삼각형에서 맨 위 꼭짓점부터 반시계 방향으로 달팽이 채우기를 진행한 후, 첫 행부터 마지막 행까지 모두 순서대로 합친 새로운 배열을 return 하도록 solution 함수를 완성해주세요.\n",
    "\n",
    "![image1](C:/Users/ryank/Desktop/ryan/Code_Test/figure/11-1.png)\n",
    "\n",
    "___\n",
    "### [제한 사항]\n",
    "\n",
    "- n은 1이상 1,000 이하 입니다.\n",
    "\n",
    "___\n",
    "### [입출력 예]\n",
    "\n",
    "![image1](C:/Users/ryank/Desktop/ryan/Code_Test/figure/11-2.png)\n",
    "___\n",
    "\n",
    "### [내 풀이]"
   ]
  },
  {
   "cell_type": "markdown",
   "id": "fundamental-alaska",
   "metadata": {},
   "source": [
    "- 우선적으로 피라미드 모양의 그림을 왼쪽으로 붙여 grid 상의 그림으로 보았다. \n",
    "\n",
    "- 그럴경우 아래의 예시와 같이 표현 할 수 있다. \n",
    "\n",
    "- if n = 6:\n",
    "\n",
    "![image3](C:/Users/ryank/Desktop/ryan/Code_Test/figure/11-3.png)\n",
    "\n",
    "- 2중 for 문을 사용하여, 첫번째 for 문의 x 값을 3으로 나눈 나머지에 따라, 숫자의 이동방향을 결정지을수 있다.\n",
    "- 그 이유로, 숫자의 정렬 방향은 항상 '아래, 오른쪽, 위', 로 3가지 방향을 나타내기 때문이다.\n",
    "\n",
    "- 위의 규칙을 이용하고, 두번째 for 문은 n-x로 줄여나가는 방식을 사용한다. "
   ]
  },
  {
   "cell_type": "code",
   "execution_count": 11,
   "id": "accomplished-fruit",
   "metadata": {},
   "outputs": [
    {
     "data": {
      "text/plain": [
       "[[0], [0, 0], [0, 0, 0], [0, 0, 0, 0]]"
      ]
     },
     "execution_count": 11,
     "metadata": {},
     "output_type": "execute_result"
    }
   ],
   "source": [
    "triangle = [[0]*i for i in range(1,n+1)]\n",
    "triangle"
   ]
  },
  {
   "cell_type": "code",
   "execution_count": 50,
   "id": "unlimited-banking",
   "metadata": {},
   "outputs": [
    {
     "name": "stdout",
     "output_type": "stream",
     "text": [
      "[1, 2, 12, 3, 13, 11, 4, 14, 15, 10, 5, 6, 7, 8, 9]\n"
     ]
    }
   ],
   "source": [
    "n = 5\n",
    "triangle = [[0]*i for i in range(1,n+1)]\n",
    "\n",
    "row=0\n",
    "col=0\n",
    "num=1\n",
    "for x in range(n):\n",
    "    if x%3 == 0:\n",
    "        for j in range(n-x):\n",
    "            triangle[row][col]=num\n",
    "            num+=1\n",
    "            row+=1\n",
    "        row-=1\n",
    "        col+=1\n",
    "        \n",
    "    elif x%3 ==1:\n",
    "        for j in range(n-x):\n",
    "            triangle[row][col]=num\n",
    "            num+=1\n",
    "            col+=1\n",
    "        row-=1\n",
    "        col-=2\n",
    "            \n",
    "    else:\n",
    "        for j in range(n-x):\n",
    "            triangle[row][col]=num\n",
    "            num+=1\n",
    "            row-=1\n",
    "            col-=1\n",
    "        row+=2\n",
    "        col+=1\n",
    "\n",
    "# print(triangle)\n",
    "print([v for r in triangle for v in r])"
   ]
  },
  {
   "cell_type": "code",
   "execution_count": 34,
   "id": "guided-ebony",
   "metadata": {},
   "outputs": [],
   "source": [
    "def solution(n):\n",
    "    triangle = [[0]*i for i in range(1, n+1)]\n",
    "    \n",
    "    row=0\n",
    "    col=0\n",
    "    num=1\n",
    "    for x in range(n):\n",
    "        if x%3==0:\n",
    "            for j in range(n-x):\n",
    "                triangle[row][col]=num\n",
    "                num+=1\n",
    "                row+=1\n",
    "            row-=1\n",
    "            col+=1\n",
    "            \n",
    "        elif x%3==1:\n",
    "            for j in range(n-x):\n",
    "                triangle[row][col]=num\n",
    "                num+=1\n",
    "                col+=1\n",
    "            row-=1\n",
    "            col-=2\n",
    "            \n",
    "        else:\n",
    "            for j in range(n-x):\n",
    "                triangle[row][col]=num\n",
    "                num+=1\n",
    "                row-=1\n",
    "                col-=1\n",
    "            row+=2\n",
    "            col+=1\n",
    "    \n",
    "    return [v for r in triangle for v in r]"
   ]
  },
  {
   "cell_type": "markdown",
   "id": "material-seafood",
   "metadata": {},
   "source": [
    "___\n",
    "### [인상적인 풀이]\n",
    "\n",
    "- 3가지의 방향을 갖는 정렬 방식을 사용하여, 접근한 방식은 유사하다\n",
    "\n",
    "- 마지막에 구한 board를 itertools의 chain 모듈을 사용하여, 내가 사용했던 2중 list conprehension을 대체 하였다. "
   ]
  },
  {
   "cell_type": "code",
   "execution_count": 47,
   "id": "pharmaceutical-grenada",
   "metadata": {},
   "outputs": [],
   "source": [
    "from itertools import chain\n",
    "def solution(n):\n",
    "    [row, col, cnt] = [-1, 0, 1]\n",
    "    board = [[None] * i for i in range(1, n+1)]\n",
    "    for i in range(n):\n",
    "        for _ in range(n-i):\n",
    "            if i % 3 == 0:\n",
    "                row += 1\n",
    "            elif i % 3 == 1:\n",
    "                col += 1\n",
    "            else:\n",
    "                row -= 1\n",
    "                col -= 1\n",
    "            board[row][col] = cnt\n",
    "            cnt += 1\n",
    "    return list(chain(*board))"
   ]
  },
  {
   "cell_type": "code",
   "execution_count": 48,
   "id": "corresponding-jungle",
   "metadata": {},
   "outputs": [
    {
     "data": {
      "text/plain": [
       "[1, 2, 12, 3, 13, 11, 4, 14, 15, 10, 5, 6, 7, 8, 9]"
      ]
     },
     "execution_count": 48,
     "metadata": {},
     "output_type": "execute_result"
    }
   ],
   "source": [
    "solution(n)"
   ]
  }
 ],
 "metadata": {
  "kernelspec": {
   "display_name": "Python 3",
   "language": "python",
   "name": "python3"
  },
  "language_info": {
   "codemirror_mode": {
    "name": "ipython",
    "version": 3
   },
   "file_extension": ".py",
   "mimetype": "text/x-python",
   "name": "python",
   "nbconvert_exporter": "python",
   "pygments_lexer": "ipython3",
   "version": "3.6.12"
  }
 },
 "nbformat": 4,
 "nbformat_minor": 5
}
