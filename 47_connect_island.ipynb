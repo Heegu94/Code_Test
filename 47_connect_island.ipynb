{
 "cells": [
  {
   "cell_type": "markdown",
   "id": "cathedral-stretch",
   "metadata": {},
   "source": [
    "# [섬 연결하기]-level3\n",
    "___\n",
    "\n",
    "### [문제 설명]\n",
    "\n",
    "- n개의 섬 사이에 다리를 건설하는 비용(costs)이 주어질 때, 최소의 비용으로 모든 섬이 서로 통행 가능하도록 만들 때 필요한 최소 비용을 return 하도록 solution을 완성하세요.\n",
    "\n",
    "- 다리를 여러 번 건너더라도, 도달할 수만 있으면 통행 가능하다고 봅니다. 예를 들어 A 섬과 B 섬 사이에 다리가 있고, B 섬과 C 섬 사이에 다리가 있으면 A 섬과 C 섬은 서로 통행 가능합니다.\n",
    "\n",
    "___\n",
    "### [제한 사항]\n",
    "\n",
    "- 섬의 개수 n은 1 이상 100 이하입니다.\n",
    "- costs의 길이는 ((n-1) * n) / 2이하입니다.\n",
    "- 임의의 i에 대해, costs[i][0] 와 costs[i] [1]에는 다리가 연결되는 두 섬의 번호가 들어있고, costs[i] [2]에는 이 두 섬을 연결하는 다리를 건설할 때 드는 비용입니다.\n",
    "- 같은 연결은 두 번 주어지지 않습니다. 또한 순서가 바뀌더라도 같은 연결로 봅니다. 즉 0과 1 사이를 연결하는 비용이 주어졌을 때, 1과 0의 비용이 주어지지 않습니다.\n",
    "- 모든 섬 사이의 다리 건설 비용이 주어지지 않습니다. 이 경우, 두 섬 사이의 건설이 불가능한 것으로 봅니다.\n",
    "- 연결할 수 없는 섬은 주어지지 않습니다.\n",
    "\n",
    "___\n",
    "\n",
    "### [입출력 예]\n",
    "\n",
    "![fig1](C://Users/ryank/Desktop/ryan/Code_Test/figure/47-1.PNG)\n",
    "\n",
    "- costs를 그림으로 표현하면 다음과 같으며, 이때 초록색 경로로 연결하는 것이 가장 적은 비용으로 모두를 통행할 수 있도록 만드는 방법입니다.\n",
    "\n",
    "![fig2](C://Users/ryank/Desktop/ryan/Code_Test/figure/47-2.PNG)\n",
    "\n"
   ]
  },
  {
   "cell_type": "markdown",
   "id": "uniform-essex",
   "metadata": {},
   "source": [
    "___\n",
    "\n",
    "### [내 풀이]\n",
    "\n",
    "- Kruskal 알고리즘을 사용해보았다.\n",
    "\n",
    "#### 1.*Kruskal* 알고리즘이란,.. [brief](#1.what_is_Kruskal_algorithm)\n",
    "- 간단히 말하자면, 탐욕법(greedy)을 이용하여 네트워크의 정점들을 최소비용으로 연결하는 알고리즘이다.\n",
    "- 여기의 탐욕법이란, 현재 상황의 최선의 선택을 함으로써 최선의 결과를 도달하도록 하는 것,\n",
    "\n",
    "-  이 Kruskal 알고리즘에서의 핵심은 cycle이 생성되지 않게 하는것이다.\n",
    "- cycle이 생성되지 않기 위해서는 새로 추가하려는 간선의 양끝 점들이 같은 집합에 속하지 않는것이다. \n",
    "- 판별법으로는 union-find 알고리즘이 있다.\n"
   ]
  },
  {
   "cell_type": "code",
   "execution_count": 28,
   "id": "checked-mailman",
   "metadata": {},
   "outputs": [],
   "source": [
    "n = 4\n",
    "costs = [[0,1,1],[0,2,2],[1,2,5],[1,3,1],[2,3,8]]"
   ]
  },
  {
   "cell_type": "code",
   "execution_count": 24,
   "id": "solved-pressing",
   "metadata": {},
   "outputs": [
    {
     "name": "stdout",
     "output_type": "stream",
     "text": [
      "[[0, 1, 1], [1, 3, 1], [0, 2, 2], [1, 2, 5], [2, 3, 8]]\n",
      "{0}\n"
     ]
    }
   ],
   "source": [
    "ans = 0\n",
    "costs.sort(key = lambda x: x[2]) # cost 기준으로 오름차순 정렬\n",
    "print(costs)\n",
    "routes = set([costs[0][0]]) # 거치는 점들을 저장.. set()으로 한 이유.. 중복제거\n",
    "print(routes)"
   ]
  },
  {
   "cell_type": "code",
   "execution_count": 25,
   "id": "agricultural-jerusalem",
   "metadata": {},
   "outputs": [
    {
     "name": "stdout",
     "output_type": "stream",
     "text": [
      "{0, 1}\n",
      "{0, 1, 3}\n",
      "{0, 1, 2, 3}\n",
      "4\n"
     ]
    }
   ],
   "source": [
    "for i, cost in enumerate(costs):\n",
    "#     print(i, cost)\n",
    "    if cost[0] in routes and cost[1] in routes:\n",
    "        continue\n",
    "    if cost[0] in routes or cost[1] in routes:\n",
    "        ans+=cost[-1]\n",
    "        routes.update([cost[0], cost[1]]) # dict에 update 사용하여 추가!\n",
    "        print(routes)\n",
    "print(ans)"
   ]
  },
  {
   "cell_type": "code",
   "execution_count": 30,
   "id": "pregnant-impact",
   "metadata": {},
   "outputs": [],
   "source": [
    "def solution(n, costs):\n",
    "    ans=0\n",
    "    costs.sort(key = lambda x : x[-1])\n",
    "    routes=set([costs[0][0]])\n",
    "    while len(routes)!=n:\n",
    "        for i, cost in enumerate(costs):\n",
    "            if cost[0] in routes and cost[1] in routes:\n",
    "                continue\n",
    "            if cost[0] in routes or cost[1] in routes:\n",
    "                ans+=cost[-1]\n",
    "                routes.update([cost[0], cost[1]])\n",
    "                break\n",
    "    return ans"
   ]
  },
  {
   "cell_type": "code",
   "execution_count": null,
   "id": "reflected-while",
   "metadata": {},
   "outputs": [],
   "source": [
    "solution(4, costs)"
   ]
  },
  {
   "cell_type": "markdown",
   "id": "caroline-diesel",
   "metadata": {},
   "source": [
    "_____\n",
    "\n",
    "## 1.what_is_Kruskal_algorithm\n",
    "\n",
    "#### **\"탐욕적인 방법(greedy method)\"** 을 이용하여 네트워크(가중치를 간선에 할당한 그래프)의 모든 정점을 최소 비용으로 연결하는 최적 해답을 구하는 것\n",
    "\n",
    "- 탐욕적인 방법\n",
    "    - 결정을 해야 할 때마다 그 순간에 가장 좋다고 생각되는 것을 선택함으로써 최종적인 해답에 도달하는 것\n",
    "    - 탐욕적인 방법은 그 순간에는 최적이지만, 전체적인 관점에서 최적이라는 보장이 없기 때문에 반드시 검증해야 한다.\n",
    "    - 다행히 Kruskal 알고리즘은 최적의 해답을 주는 것으로 증명되어 있다.  \n",
    "\n",
    "\n",
    "- Minimum Spanning Tree(최소 비용 신장 트리) 가 1) 최소 비용의 간선으로 구성됨 2) 사이클을 포함하지 않음 의 조건에 근거하여 **'각 단계에서 사이클을 이루지 않는 최소 비용 간선을 선택'** 한다.\n",
    "\n",
    "\n",
    "## 2.Kruskal 알고리즘의 동작\n",
    "\n",
    "1. 그래프의 간선들을 가중치의 오름차순으로 정렬한다.\n",
    "2. 정렬된 간선 리스트에서 순서대로 사이클을 형성하지 않는 간선을 선택한다.\n",
    "    - 즉, 가장 낮은 가중치를 먼저 선택한다.\n",
    "    - 사이클을 형성하는 간선을 제외한다.\n",
    "3.해당 간선을 현재의 MST(최소 비용 신장 트리)의 집합에 추가한다.\n",
    "\n",
    "\n",
    "## 3.Kruskal 알고리즘의 구체적인 동작 과정\n",
    "#### Kruskal 알고리즘을 이용하여 MST(최소 비용 신장 트리)를 만드는 과정\n",
    "\n",
    "    - 간선 선택을 기반 으로 하는 알고리즘\n",
    "    - 이전 단계에서 만들어진 신장 트리와는 상관없이 무조건 최소 간선만을 선택하는 방법\n",
    "\n",
    "![fig2](C://Users/ryank/Desktop/ryan/Code_Test/figure/47-3.PNG)\n",
    "\n",
    "\n",
    "### **\"주의!\"**\n",
    "\n",
    "- 다음 간선을 이미 선택된 간선들의 집합에 추가할 때 사이클을 생성하는지를 체크!\n",
    "\n",
    "    - 새로운 간선이 이미 다른 경로에 의해 연결되어 있는 정점들을 연결할 때 사이클이 형성된다.\n",
    "    - 즉, 추가할 새로운 간선의 양끝 정점이 같은 집합에 속해 있으면 사이클이 형성된다.\n",
    "    \n",
    "    \n",
    "- 사이클 생성 여부를 확인하는 방법\n",
    "    - 추가하고자 하는 간선의 양끝 정점이 같은 집합에 속해 있는지를 먼저 검사해야 한다.\n",
    "    - ‘union-find 알고리즘’ 이용\n",
    "\n",
    "> 출처 : https://gmlwjd9405.github.io/2018/08/29/algorithm-kruskal-mst.html"
   ]
  },
  {
   "cell_type": "markdown",
   "id": "informal-mambo",
   "metadata": {},
   "source": [
    "___\n",
    "\n",
    "## union-find"
   ]
  },
  {
   "cell_type": "code",
   "execution_count": null,
   "id": "strong-jefferson",
   "metadata": {},
   "outputs": [],
   "source": []
  }
 ],
 "metadata": {
  "kernelspec": {
   "display_name": "Python 3",
   "language": "python",
   "name": "python3"
  },
  "language_info": {
   "codemirror_mode": {
    "name": "ipython",
    "version": 3
   },
   "file_extension": ".py",
   "mimetype": "text/x-python",
   "name": "python",
   "nbconvert_exporter": "python",
   "pygments_lexer": "ipython3",
   "version": "3.6.12"
  }
 },
 "nbformat": 4,
 "nbformat_minor": 5
}
