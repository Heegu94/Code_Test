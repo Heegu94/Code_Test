{
 "cells": [
  {
   "cell_type": "markdown",
   "id": "opponent-boring",
   "metadata": {},
   "source": [
    "# [다리를 지나는 트럭]\n",
    "___\n",
    "\n",
    "\n",
    "## [문제 설명]\n",
    "\n",
    "트럭 여러 대가 강을 가로지르는 일 차선 다리를 정해진 순으로 건너려 합니다. \n",
    "\n",
    "모든 트럭이 다리를 건너려면 최소 몇 초가 걸리는지 알아내야 합니다. \n",
    "\n",
    "트럭은 1초에 1만큼 움직이며, 다리 길이는 bridge_length이고 다리는 무게 weight까지 견딥니다.\n",
    "\n",
    "※ 트럭이 다리에 완전히 오르지 않은 경우, 이 트럭의 무게는 고려하지 않습니다.\n",
    "\n",
    "___\n",
    "### 예시\n",
    "\n",
    "예를 들어, 길이가 2이고 10kg 무게를 견디는 다리가 있습니다. \n",
    "\n",
    "무게가 [7, 4, 5, 6]kg인 트럭이 순서대로 최단 시간 안에 다리를 건너려면 다음과 같이 건너야 합니다.\n",
    "\n",
    "![fig1](C:/Users/ryank/Desktop/ryan/Code_Test/figure/04-1.PNG)\n",
    "\n",
    "\n",
    "따라서, 모든 트럭이 다리를 지나려면 최소 8초가 걸립니다.\n",
    "\n",
    "\n",
    "- solution 함수의 매개변수로 다리 길이 bridge_length, 다리가 견딜 수 있는 무게 weight, 트럭별 무게 truck_weights가 주어집니다. \n",
    "\n",
    "- 이때 모든 트럭이 다리를 건너려면 최소 몇 초가 걸리는지 return 하도록 solution 함수를 완성하세요.\n",
    "\n",
    "___\n",
    "\n",
    "## [제한 조건]\n",
    "\n",
    "- bridge_length는 1 이상 10,000 이하입니다.\n",
    "- weight는 1 이상 10,000 이하입니다.\n",
    "- truck_weights의 길이는 1 이상 10,000 이하입니다.\n",
    "- 모든 트럭의 무게는 1 이상 weight 이하입니다."
   ]
  },
  {
   "cell_type": "markdown",
   "id": "confused-payday",
   "metadata": {},
   "source": [
    "___"
   ]
  },
  {
   "cell_type": "markdown",
   "id": "coordinated-admission",
   "metadata": {},
   "source": [
    "### [내 풀이]\n",
    "\n",
    "- 처음 풀이를 시도할때, 다리에 트럭이 들어오는 상황에 대한 list를 for 문을 통해 풀어보려고 했다.\n",
    "\n",
    "- 하지만, 해당 방식으로 list를 control 하는것이 좀 어려워, 방향을 바꿔보았다.\n",
    "\n",
    "- 다리위의 상황에 대해 지속적으로 업데이트해줄 수 있도록 while 문을 사용하여 구현해 보았고 코드는 아래와 같다"
   ]
  },
  {
   "cell_type": "code",
   "execution_count": 1,
   "id": "optical-bloom",
   "metadata": {
    "collapsed": true,
    "jupyter": {
     "outputs_hidden": true
    }
   },
   "outputs": [
    {
     "ename": "NameError",
     "evalue": "name 'deque' is not defined",
     "output_type": "error",
     "traceback": [
      "\u001b[1;31m---------------------------------------------------------------------------\u001b[0m",
      "\u001b[1;31mNameError\u001b[0m                                 Traceback (most recent call last)",
      "\u001b[1;32m<ipython-input-1-333b9518e4e7>\u001b[0m in \u001b[0;36m<module>\u001b[1;34m\u001b[0m\n\u001b[0;32m      3\u001b[0m \u001b[0mtruck_weights\u001b[0m \u001b[1;33m=\u001b[0m \u001b[1;33m[\u001b[0m\u001b[1;36m10\u001b[0m\u001b[1;33m,\u001b[0m \u001b[1;36m10\u001b[0m\u001b[1;33m,\u001b[0m \u001b[1;36m10\u001b[0m\u001b[1;33m,\u001b[0m \u001b[1;36m10\u001b[0m\u001b[1;33m,\u001b[0m \u001b[1;36m10\u001b[0m\u001b[1;33m,\u001b[0m \u001b[1;36m10\u001b[0m\u001b[1;33m,\u001b[0m \u001b[1;36m10\u001b[0m\u001b[1;33m,\u001b[0m \u001b[1;36m10\u001b[0m\u001b[1;33m,\u001b[0m \u001b[1;36m10\u001b[0m\u001b[1;33m,\u001b[0m \u001b[1;36m10\u001b[0m\u001b[1;33m]\u001b[0m\u001b[1;33m\u001b[0m\u001b[1;33m\u001b[0m\u001b[0m\n\u001b[0;32m      4\u001b[0m \u001b[1;33m\u001b[0m\u001b[0m\n\u001b[1;32m----> 5\u001b[1;33m \u001b[0mbridge\u001b[0m\u001b[1;33m=\u001b[0m\u001b[0mdeque\u001b[0m\u001b[1;33m(\u001b[0m\u001b[1;33m[\u001b[0m\u001b[1;36m0\u001b[0m\u001b[1;33m]\u001b[0m\u001b[1;33m*\u001b[0m\u001b[0mbridge_length\u001b[0m\u001b[1;33m)\u001b[0m \u001b[1;31m# 다리위의 현 상황.\u001b[0m\u001b[1;33m\u001b[0m\u001b[1;33m\u001b[0m\u001b[0m\n\u001b[0m\u001b[0;32m      6\u001b[0m \u001b[1;33m\u001b[0m\u001b[0m\n\u001b[0;32m      7\u001b[0m \u001b[1;31m# print(bridge)\u001b[0m\u001b[1;33m\u001b[0m\u001b[1;33m\u001b[0m\u001b[1;33m\u001b[0m\u001b[0m\n",
      "\u001b[1;31mNameError\u001b[0m: name 'deque' is not defined"
     ]
    }
   ],
   "source": [
    "bridge_length = 100\n",
    "weight = 100\n",
    "truck_weights = [10, 10, 10, 10, 10, 10, 10, 10, 10, 10]\n",
    "\n",
    "bridge=[0]*bridge_length # 다리위의 현 상황.\n",
    "\n",
    "# print(bridge)\n",
    "\n",
    "time=0\n",
    "while bridge:\n",
    "    time+=1\n",
    "    bridge.pop(0)\n",
    "    \n",
    "    if truck_weights:\n",
    "        if sum(bridge)+truck_weights[0]<weight:\n",
    "            bridge.append(truck_weights.pop(0))\n",
    "        else:\n",
    "            bridge.append(0)\n",
    "#     print(bridge)\n",
    "\n",
    "print(time)"
   ]
  },
  {
   "cell_type": "code",
   "execution_count": 2,
   "id": "stuffed-mills",
   "metadata": {},
   "outputs": [],
   "source": [
    "def solution(bridge_length, weight, truck_weights):\n",
    "    time = 0\n",
    "    bridge = [0]*bridge_length\n",
    "    while bridge:\n",
    "        time+=1\n",
    "        bridge.pop(0)\n",
    "        if truck_weights:\n",
    "            if sum(bridge)+truck_weights[0]<weight:\n",
    "                bridge.append(truck_weights.pop(0))\n",
    "            else: \n",
    "                bridge.append(0)\n",
    "        \n",
    "    return time"
   ]
  },
  {
   "cell_type": "code",
   "execution_count": null,
   "id": "plain-times",
   "metadata": {},
   "outputs": [],
   "source": [
    "solution(100, 100, [10, 10, 10, 10, 10, 10, 10, 10, 10, 10])"
   ]
  },
  {
   "cell_type": "markdown",
   "id": "corresponding-starter",
   "metadata": {},
   "source": [
    "- 성공!\n",
    "\n",
    "- 하지만 속도가 조금 느린것 같아 deque를 사용해보았지만,, sum() function 자체에서 for문을 통해 list를 더하다보니 생기는 문제..발생\n",
    "___\n",
    "\n",
    "### [인상적인 풀이]\n",
    "\n",
    "- 다들 접근 방식이 비슷하였고, 인상적인 코드를 하나 말하자면... 아래와 같이 class를 만들어버리신.. 분이지 않을까....\n",
    "\n",
    "- local 에서 직접돌려보려고 짜신듯.. 정성.."
   ]
  },
  {
   "cell_type": "code",
   "execution_count": null,
   "id": "august-amino",
   "metadata": {},
   "outputs": [],
   "source": [
    "import collections\n",
    "\n",
    "DUMMY_TRUCK = 0\n",
    "\n",
    "\n",
    "class Bridge(object):\n",
    "\n",
    "    def __init__(self, length, weight):\n",
    "        self._max_length = length\n",
    "        self._max_weight = weight\n",
    "        self._queue = collections.deque()\n",
    "        self._current_weight = 0\n",
    "\n",
    "    def push(self, truck):\n",
    "        next_weight = self._current_weight + truck\n",
    "        if next_weight <= self._max_weight and len(self._queue) < self._max_length:\n",
    "            self._queue.append(truck)\n",
    "            self._current_weight = next_weight\n",
    "            return True\n",
    "        else:\n",
    "            return False\n",
    "\n",
    "    def pop(self):\n",
    "        item = self._queue.popleft()\n",
    "        self._current_weight -= item\n",
    "        return item\n",
    "\n",
    "    def __len__(self):\n",
    "        return len(self._queue)\n",
    "\n",
    "    def __repr__(self):\n",
    "        return 'Bridge({}/{} : [{}])'.format(self._current_weight, self._max_weight, list(self._queue))\n",
    "\n",
    "\n",
    "def solution(bridge_length, weight, truck_weights):\n",
    "    bridge = Bridge(bridge_length, weight)\n",
    "    trucks = collections.deque(w for w in truck_weights)\n",
    "\n",
    "    for _ in range(bridge_length):\n",
    "        bridge.push(DUMMY_TRUCK)\n",
    "\n",
    "    count = 0\n",
    "    while trucks:\n",
    "        bridge.pop()\n",
    "\n",
    "        if bridge.push(trucks[0]):\n",
    "            trucks.popleft()\n",
    "        else:\n",
    "            bridge.push(DUMMY_TRUCK)\n",
    "\n",
    "        count += 1\n",
    "\n",
    "    while bridge:\n",
    "        bridge.pop()\n",
    "        count += 1\n",
    "\n",
    "    return count\n",
    "\n",
    "\n",
    "def main():\n",
    "    print(solution(2, 10, [7, 4, 5, 6]), 8)\n",
    "    print(solution(100, 100, [10]), 101)\n",
    "    print(solution(100, 100, [10, 10, 10, 10, 10, 10, 10, 10, 10, 10]), 110)\n",
    "\n",
    "\n",
    "if __name__ == '__main__':\n",
    "    main()"
   ]
  }
 ],
 "metadata": {
  "kernelspec": {
   "display_name": "Python 3",
   "language": "python",
   "name": "python3"
  },
  "language_info": {
   "codemirror_mode": {
    "name": "ipython",
    "version": 3
   },
   "file_extension": ".py",
   "mimetype": "text/x-python",
   "name": "python",
   "nbconvert_exporter": "python",
   "pygments_lexer": "ipython3",
   "version": "3.6.12"
  }
 },
 "nbformat": 4,
 "nbformat_minor": 5
}
