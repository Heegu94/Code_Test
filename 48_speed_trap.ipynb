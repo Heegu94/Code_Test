{
 "cells": [
  {
   "cell_type": "markdown",
   "id": "opposite-manufacturer",
   "metadata": {},
   "source": [
    "# [단속카메라] - greedy"
   ]
  },
  {
   "cell_type": "markdown",
   "id": "entertaining-appearance",
   "metadata": {},
   "source": [
    "### [문제 설명]\n",
    "___\n",
    "\n",
    "- 고속도로를 이동하는 모든 차량이 고속도로를 이용하면서 단속용 카메라를 한 번은 만나도록 카메라를 설치하려고 합니다.\n",
    "\n",
    "- 고속도로를 이동하는 차량의 경로 routes가 매개변수로 주어질 때, 모든 차량이 한 번은 단속용 카메라를 만나도록 하려면 최소 몇 대의 카메라를 설치해야 하는지를 return 하도록 solution 함수를 완성하세요.\n",
    "\n",
    "___\n",
    "### [제한사항]\n",
    "\n",
    "- 차량의 대수는 1대 이상 10,000대 이하입니다.\n",
    "- routes에는 차량의 이동 경로가 포함되어 있으며 routes[i][0]에는 i번째 차량이 고속도로에 진입한 지점, routes[i][1]에는 i번째 차량이 고속도로에서 나간 지점이 적혀 있습니다.\n",
    "- 차량의 진입/진출 지점에 카메라가 설치되어 있어도 카메라를 만난것으로 간주합니다.\n",
    "- 차량의 진입 지점, 진출 지점은 -30,000 이상 30,000 이하입니다.\n",
    "\n",
    "___\n",
    "\n",
    "### [입출력 예]\n",
    "\n",
    "routes = [[-20,15], [-14,-5], [-18,-13], [-5,-3]], return = 2\n",
    "\n",
    "- -5 지점에 카메라를 설치하면 두 번째, 네 번째 차량이 카메라를 만납니다.\n",
    "\n",
    "- -15 지점에 카메라를 설치하면 첫 번째, 세 번째 차량이 카메라를 만납니다.\n",
    "\n",
    "\n",
    "### **이 입출력 예에는 오타가 조금 있는것 같다.. **\n",
    "\n",
    "- 첫번째 예시에서 -5 지점에 카메라를 설치하면, 첫 번째, 두 번째, 네 번째 차량이 카메라를 만난다..\n",
    "___"
   ]
  },
  {
   "cell_type": "markdown",
   "id": "confident-maker",
   "metadata": {},
   "source": [
    "### [내 풀이 1]\n",
    "\n",
    "- 우선 생각했던 풀이 방안은.. route에 있는 요소들 중에 차가 나간 지점을 중요하게 보았다..\n",
    "- 차가 나간지점들로 우선 오름차순 정렬을 해주었다.\n",
    "\n",
    "- 그 이후, 미리 차들에 대한 0으로 이루어진 board 라는 list를 만들어주고, 해당 차가 camera를 만났었는지의 여부를 확인하여 1로 바꾸어, 각 구간들을 검사하였다.\n",
    "\n",
    "- 0 인 요소를 만날경우, 새로운 camera 를 설치하면 된다.\n",
    "- 그리고 board 에 1인 요소를 만날경우 pass 하고 다음 차에대해 조사할 경우 시간을 줄일수 있다!"
   ]
  },
  {
   "cell_type": "code",
   "execution_count": 11,
   "id": "robust-software",
   "metadata": {},
   "outputs": [],
   "source": [
    "routes = [[-20,15], [-14,-5], [-18,-13], [-5,-3]]"
   ]
  },
  {
   "cell_type": "code",
   "execution_count": 29,
   "id": "quiet-minute",
   "metadata": {},
   "outputs": [
    {
     "name": "stdout",
     "output_type": "stream",
     "text": [
      "[[-18, -13], [-14, -5], [-5, -3], [-20, 15]]\n"
     ]
    }
   ],
   "source": [
    "routes.sort(key = lambda x : x[-1])\n",
    "board = [0]* len(routes)\n",
    "ans = 0\n",
    "\n",
    "for i in range(len(borad)):\n",
    "    if board[i] == 0:\n",
    "        cam = routes[i][-1] # 카메라 새로 설치\n",
    "        ans +=1\n",
    "    \n",
    "        for j in range(i+1, len(routes)):\n",
    "            if routes[j][0] <= cam <= routes[j][-1] and board[j]==0:\n",
    "                board[j]=1\n",
    "    else: pass"
   ]
  },
  {
   "cell_type": "code",
   "execution_count": 80,
   "id": "respective-sigma",
   "metadata": {},
   "outputs": [],
   "source": [
    "def solution(routes):\n",
    "    routes.sort(key = lambda x : x[-1])\n",
    "    board = [0]* len(routes)\n",
    "    ans = 0\n",
    "\n",
    "    for i in range(len(board)):\n",
    "        if board[i] == 0:\n",
    "            cam = routes[i][-1] # 카메라 새로 설치\n",
    "            ans +=1\n",
    "\n",
    "            for j in range(i+1, len(routes)):\n",
    "                if routes[j][0] <= cam <= routes[j][-1] and board[j]==0:\n",
    "                    board[j]=1\n",
    "        else: pass\n",
    "    return ans"
   ]
  },
  {
   "cell_type": "code",
   "execution_count": 81,
   "id": "careful-heading",
   "metadata": {},
   "outputs": [
    {
     "data": {
      "text/plain": [
       "2"
      ]
     },
     "execution_count": 81,
     "metadata": {},
     "output_type": "execute_result"
    }
   ],
   "source": [
    "solution(routes)"
   ]
  },
  {
   "cell_type": "markdown",
   "id": "duplicate-synthesis",
   "metadata": {},
   "source": [
    "### [내 풀이2]\n",
    "\n",
    "- 위의 코드로 성공은 했지만,, 더 간단하게 줄일 수 있다고 생각했다\n",
    "\n",
    "-  차나 나간 지점들에 단속 카메라를 설치해줄 경우, 최소의 경우로 처리를 할 수 있을 것이라 생각했다!\n",
    "\n",
    "- 이처럼, 초기 cam의 위치를 -30001로 지정한후, 정렬된 list에서 첫 차에 대해 차가 나간 지점에 camera를 새로 지정하고, ans 변수에 count 해주는 식으로 접근하였다."
   ]
  },
  {
   "cell_type": "code",
   "execution_count": 82,
   "id": "necessary-monday",
   "metadata": {},
   "outputs": [],
   "source": [
    "routes = [[-20,15], [-14,-5], [-18,-13], [-5,-3]]"
   ]
  },
  {
   "cell_type": "code",
   "execution_count": 88,
   "id": "finnish-edward",
   "metadata": {},
   "outputs": [
    {
     "name": "stdout",
     "output_type": "stream",
     "text": [
      "2\n"
     ]
    }
   ],
   "source": [
    "routes.sort(key= lambda x: x[-1])\n",
    "\n",
    "ans = 0\n",
    "cam = -30001\n",
    "for route in routes:\n",
    "    if route[0] > cam:\n",
    "        ans+=1\n",
    "        cam = route[-1]\n",
    "    else: pass\n",
    "print(ans)"
   ]
  },
  {
   "cell_type": "code",
   "execution_count": 91,
   "id": "stuffed-nigeria",
   "metadata": {},
   "outputs": [],
   "source": [
    "def solution(routes):\n",
    "    routes.sort(key = lambda x : x[-1])\n",
    "    \n",
    "    ans = 0\n",
    "    cam = -30001\n",
    "    for route in routes:\n",
    "        if route[0] > cam:\n",
    "            ans+=1\n",
    "            cam = route[-1]\n",
    "        else: pass\n",
    "    return ans"
   ]
  },
  {
   "cell_type": "code",
   "execution_count": 92,
   "id": "breeding-alpha",
   "metadata": {},
   "outputs": [
    {
     "data": {
      "text/plain": [
       "2"
      ]
     },
     "execution_count": 92,
     "metadata": {},
     "output_type": "execute_result"
    }
   ],
   "source": [
    "solution(routes)"
   ]
  },
  {
   "cell_type": "markdown",
   "id": "intense-defense",
   "metadata": {},
   "source": [
    "- 결과는 성공! 시간도 좋았다!\n"
   ]
  }
 ],
 "metadata": {
  "kernelspec": {
   "display_name": "Python 3",
   "language": "python",
   "name": "python3"
  },
  "language_info": {
   "codemirror_mode": {
    "name": "ipython",
    "version": 3
   },
   "file_extension": ".py",
   "mimetype": "text/x-python",
   "name": "python",
   "nbconvert_exporter": "python",
   "pygments_lexer": "ipython3",
   "version": "3.6.12"
  }
 },
 "nbformat": 4,
 "nbformat_minor": 5
}
