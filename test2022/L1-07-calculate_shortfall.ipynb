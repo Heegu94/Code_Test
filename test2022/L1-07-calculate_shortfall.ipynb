{
 "cells": [
  {
   "cell_type": "markdown",
   "id": "intelligent-basketball",
   "metadata": {},
   "source": [
    "# 부족한 금액 계산하기\n",
    "___\n",
    "\n",
    "새로 생긴 놀이기구는 인기가 매우 많아 줄이 끊이질 않습니다.\n",
    "\n",
    "이 놀이기구의 원래 이용료는 price원 인데, 놀이기구를 N 번 째 이용한다면 원래 이용료의 N배를 받기로 하였습니다. \n",
    "\n",
    "즉, 처음 이용료가 100이었다면 2번째에는 200, 3번째에는 300으로 요금이 인상됩니다.\n",
    "\n",
    "놀이기구를 count번 타게 되면 현재 자신이 가지고 있는 금액에서 얼마가 모자라는지를 return 하도록 solution 함수를 완성하세요.\n",
    "\n",
    "단, 금액이 부족하지 않으면 0을 return 하세요."
   ]
  },
  {
   "cell_type": "markdown",
   "id": "roman-boost",
   "metadata": {},
   "source": [
    "| price | money | count | result |\n",
    "| --- | --- | --- | --- |\n",
    "| 3| 20 | 4 | 10 |"
   ]
  },
  {
   "cell_type": "markdown",
   "id": "younger-handy",
   "metadata": {},
   "source": [
    "___"
   ]
  },
  {
   "cell_type": "code",
   "execution_count": 9,
   "id": "biblical-realtor",
   "metadata": {},
   "outputs": [],
   "source": [
    "price = 3\n",
    "money = 20\n",
    "count = 4"
   ]
  },
  {
   "cell_type": "code",
   "execution_count": 13,
   "id": "universal-declaration",
   "metadata": {},
   "outputs": [],
   "source": [
    "def solution(price, money, count):\n",
    "    charge = 0\n",
    "    for c in range(count):\n",
    "        charge+=(price*(c+1))\n",
    "\n",
    "    if money > charge: return 0\n",
    "    else: return charge-money"
   ]
  },
  {
   "cell_type": "code",
   "execution_count": 14,
   "id": "internal-quantity",
   "metadata": {},
   "outputs": [
    {
     "data": {
      "text/plain": [
       "10"
      ]
     },
     "execution_count": 14,
     "metadata": {},
     "output_type": "execute_result"
    }
   ],
   "source": [
    "solution(3, 20, 4)"
   ]
  },
  {
   "cell_type": "markdown",
   "id": "graphic-muslim",
   "metadata": {},
   "source": [
    "___\n",
    "### 다른사람 풀이"
   ]
  },
  {
   "cell_type": "markdown",
   "id": "standard-kelly",
   "metadata": {},
   "source": [
    "- 등차수열의 합 공식을 적용시켜 해결한 방법\n",
    "    - 등차수열: 첫째항에 일정한 수를 더해서 얻어진 항으로 이루어진 수열 \n",
    "        - A(n) = A(n-1) + d\n",
    "        - d = A(n) - A(n-1)\n",
    "  \n",
    "    - 공차(d) : 각 항에 더해지는 일정한 수 \n",
    "    \n",
    "    - 등차수열의 합공식\n",
    "        - a1 + a2 + ... + an = n(2a+(n-1)d)/2\n",
    "    "
   ]
  },
  {
   "cell_type": "markdown",
   "id": "little-submission",
   "metadata": {},
   "source": [
    "### 유도방법\n",
    "```\n",
    "pay = count(2*price + price*(count-1))//2\n",
    "pay = (count*price*(count+1))//2\n",
    "\n",
    "result = pay - money\n",
    "result = (count*price*(count+1))//2 -money\n",
    "```"
   ]
  },
  {
   "cell_type": "code",
   "execution_count": null,
   "id": "egyptian-mistake",
   "metadata": {},
   "outputs": [],
   "source": [
    "def solution(price, money, count):\n",
    "    return max(0, (count*price*(count+1))//2 -money)"
   ]
  }
 ],
 "metadata": {
  "kernelspec": {
   "display_name": "Python 3",
   "language": "python",
   "name": "python3"
  },
  "language_info": {
   "codemirror_mode": {
    "name": "ipython",
    "version": 3
   },
   "file_extension": ".py",
   "mimetype": "text/x-python",
   "name": "python",
   "nbconvert_exporter": "python",
   "pygments_lexer": "ipython3",
   "version": "3.6.12"
  }
 },
 "nbformat": 4,
 "nbformat_minor": 5
}
