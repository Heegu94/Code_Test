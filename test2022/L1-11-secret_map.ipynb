{
 "cells": [
  {
   "cell_type": "markdown",
   "id": "peripheral-liberty",
   "metadata": {},
   "source": [
    "# 비밀지도\n",
    "___\n"
   ]
  },
  {
   "cell_type": "code",
   "execution_count": 111,
   "id": "miniature-aging",
   "metadata": {},
   "outputs": [],
   "source": [
    "n = 5\n",
    "arr1 = [9, 20, 28, 18, 11]\n",
    "arr2 = [30, 1, 21, 17, 28]\n",
    "\n",
    "n = 6\n",
    "arr1 = [46, 33, 33 ,22, 31, 50]\n",
    "arr2 = [27 ,56, 19, 14, 14, 10]"
   ]
  },
  {
   "cell_type": "code",
   "execution_count": 117,
   "id": "opposed-carroll",
   "metadata": {},
   "outputs": [
    {
     "data": {
      "text/plain": [
       "['111111', '111001', '110011', '011110', '011111', '111010']"
      ]
     },
     "execution_count": 117,
     "metadata": {},
     "output_type": "execute_result"
    }
   ],
   "source": [
    "bin_arr = ['0'*(n-len(f'{bin(a1 | a2)}'[2:]))+f'{bin(a1 | a2)}'[2:] if len(f'{bin(a1 | a2)}'[2:])<n else f'{bin(a1 | a2)}'[2:] for a1, a2 in zip(arr1, arr2)]\n",
    "bin_arr"
   ]
  },
  {
   "cell_type": "code",
   "execution_count": 115,
   "id": "extreme-lindsay",
   "metadata": {},
   "outputs": [
    {
     "name": "stdout",
     "output_type": "stream",
     "text": [
      "['111111', '111001', '110011', '011110', '011111', '111010']\n",
      "['######', '###  #', '##  ##', ' #### ', ' #####', '### # ']\n"
     ]
    }
   ],
   "source": [
    "answer = []\n",
    "bin_arr = ['0'+f'{bin(a1 | a2)}'[2:] if len(f'{bin(a1 | a2)}'[2:])<n else f'{bin(a1 | a2)}'[2:] for a1, a2 in zip(arr1, arr2)]\n",
    "print(bin_arr)\n",
    "for arr in bin_arr:\n",
    "    p = str()\n",
    "    for e in arr:\n",
    "        if e == '1':\n",
    "            p += \"#\"\n",
    "        else:\n",
    "            p += \" \"\n",
    "#     print(p)\n",
    "#     print(\" \")\n",
    "    answer.append(p)\n",
    "print(answer)"
   ]
  },
  {
   "cell_type": "code",
   "execution_count": 110,
   "id": "comfortable-blues",
   "metadata": {},
   "outputs": [
    {
     "data": {
      "text/plain": [
       "['#####', '# # #', '### #', '# ##', '#####']"
      ]
     },
     "execution_count": 110,
     "metadata": {},
     "output_type": "execute_result"
    }
   ],
   "source": [
    "answer"
   ]
  },
  {
   "cell_type": "code",
   "execution_count": null,
   "id": "efficient-pierce",
   "metadata": {},
   "outputs": [],
   "source": [
    "[\"#####\", \"# # #\", \"### #\", \"#  ##\", \"#####\"]"
   ]
  },
  {
   "cell_type": "code",
   "execution_count": 109,
   "id": "blank-drunk",
   "metadata": {},
   "outputs": [
    {
     "name": "stdout",
     "output_type": "stream",
     "text": [
      "False\n"
     ]
    }
   ],
   "source": [
    "print(answer is [\"#####\", \"# # #\", \"### #\", \"#  ##\", \"#####\"])"
   ]
  },
  {
   "cell_type": "code",
   "execution_count": null,
   "id": "global-summer",
   "metadata": {},
   "outputs": [],
   "source": [
    "[\"######\", \"###  #\", \"##  ##\", \" #### \", \" #####\", \"### # \"]"
   ]
  },
  {
   "cell_type": "code",
   "execution_count": 120,
   "id": "tender-drove",
   "metadata": {},
   "outputs": [],
   "source": [
    "def solution(n, arr1, arr2):\n",
    "    answer = []\n",
    "    password = f'{bin(a1 | a2)}'[2:]\n",
    "    bin_arr = ['0'*(n-len(password))+password if len(password)<n else password for a1, a2 in zip(arr1, arr2)]\n",
    "    for arr in bin_arr:\n",
    "        p = str()\n",
    "        for e in arr:\n",
    "            if e == '1':\n",
    "                p += \"#\"\n",
    "            else:\n",
    "                p += \" \"\n",
    "        answer.append(p)\n",
    "    return answer"
   ]
  },
  {
   "cell_type": "code",
   "execution_count": null,
   "id": "indie-starter",
   "metadata": {},
   "outputs": [],
   "source": []
  }
 ],
 "metadata": {
  "kernelspec": {
   "display_name": "Python 3",
   "language": "python",
   "name": "python3"
  },
  "language_info": {
   "codemirror_mode": {
    "name": "ipython",
    "version": 3
   },
   "file_extension": ".py",
   "mimetype": "text/x-python",
   "name": "python",
   "nbconvert_exporter": "python",
   "pygments_lexer": "ipython3",
   "version": "3.6.12"
  }
 },
 "nbformat": 4,
 "nbformat_minor": 5
}
