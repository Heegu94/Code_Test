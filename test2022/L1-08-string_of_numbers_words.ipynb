{
 "cells": [
  {
   "cell_type": "markdown",
   "id": "scheduled-purchase",
   "metadata": {},
   "source": [
    "네오와 프로도가 숫자놀이를 하고 있습니다. \n",
    "\n",
    "네오가 프로도에게 숫자를 건넬 때 일부 자릿수를 영단어로 바꾼 카드를 건네주면 프로도는 원래 숫자를 찾는 게임입니다.\n",
    "\n",
    "다음은 숫자의 일부 자릿수를 영단어로 바꾸는 예시입니다.\n",
    "\n",
    "- 1478 → \"one4seveneight\"\n",
    "- 234567 → \"23four5six7\"\n",
    "- 10203 → \"1zerotwozero3\"\n",
    "\n",
    "이렇게 숫자의 일부 자릿수가 영단어로 바뀌어졌거나, 혹은 바뀌지 않고 그대로인 문자열 s가 매개변수로 주어집니다. \n",
    "\n",
    "s가 의미하는 원래 숫자를 return 하도록 solution 함수를 완성해주세요.\n",
    "\n",
    "참고로 각 숫자에 대응되는 영단어는 다음 표와 같습니다.\n",
    "\n",
    "|숫자|영단어|\n",
    "|---|---|\n",
    "|0|zero|\n",
    "|1|one|\n",
    "|2|two|\n",
    "|3|three|\n",
    "|4|four|\n",
    "|5|five|\n",
    "|6|six|\n",
    "|7|seven|\n",
    "|8|eight|\n",
    "|9|nine|\n",
    "\n",
    "___\n",
    "\n",
    "입출력 예시\n",
    "\n",
    "|s|result|\n",
    "|---|---|\n",
    "|\"one4seveneight\"|1478|\n",
    "|\"23four5six7\"|234567|\n",
    "|\"2three45sixseven\"|234567|\n",
    "|\"123\"|123|\n",
    "___"
   ]
  },
  {
   "cell_type": "code",
   "execution_count": 26,
   "id": "compound-theory",
   "metadata": {},
   "outputs": [],
   "source": [
    "s = \"one4seveneight\"\n",
    "s = \"23four5six7\"\n",
    "s = \"2three45sixseven\"\n",
    "s = \"123\""
   ]
  },
  {
   "cell_type": "code",
   "execution_count": 27,
   "id": "requested-conditions",
   "metadata": {},
   "outputs": [
    {
     "data": {
      "text/plain": [
       "123"
      ]
     },
     "execution_count": 27,
     "metadata": {},
     "output_type": "execute_result"
    }
   ],
   "source": [
    "words = [\"zero\", \"one\", \"two\", \"three\", \"four\", \"five\", \"six\", \"seven\", \"eight\", \"nine\"]\n",
    "word = str()\n",
    "answer = str()\n",
    "for letter in s:\n",
    "    if letter.isalpha():\n",
    "        word+=letter \n",
    "        if word in words:\n",
    "            answer += str(words.index(word))\n",
    "            word = str()\n",
    "    else:\n",
    "        answer+=letter\n",
    "        \n",
    "int(answer)"
   ]
  },
  {
   "cell_type": "code",
   "execution_count": 28,
   "id": "fixed-socket",
   "metadata": {},
   "outputs": [],
   "source": [
    "def solution(s):\n",
    "    words = [\"zero\", \"one\", \"two\", \"three\", \"four\", \"five\", \"six\", \"seven\", \"eight\", \"nine\"]\n",
    "    word = str()\n",
    "    answer = str()\n",
    "    for letter in s:\n",
    "        if letter.isalpha():\n",
    "            word+=letter \n",
    "            if word in words:\n",
    "                answer += str(words.index(word))\n",
    "                word = str()\n",
    "        else:\n",
    "            answer+=letter\n",
    "\n",
    "    return int(answer)"
   ]
  },
  {
   "cell_type": "code",
   "execution_count": 29,
   "id": "super-indication",
   "metadata": {},
   "outputs": [
    {
     "data": {
      "text/plain": [
       "123"
      ]
     },
     "execution_count": 29,
     "metadata": {},
     "output_type": "execute_result"
    }
   ],
   "source": [
    "solution(s)"
   ]
  },
  {
   "cell_type": "markdown",
   "id": "visible-collectible",
   "metadata": {},
   "source": [
    "### 다른사람 풀이\n",
    "\n",
    "- list와 if~else 를 사용한것에 반해 dict 를 사용하였다"
   ]
  },
  {
   "cell_type": "code",
   "execution_count": 35,
   "id": "occupational-denmark",
   "metadata": {},
   "outputs": [],
   "source": [
    "s = \"one4seveneight\"\n",
    "# s = \"23four5six7\"\n",
    "# s = \"2three45sixseven\"\n",
    "# s = \"123\""
   ]
  },
  {
   "cell_type": "code",
   "execution_count": 37,
   "id": "multiple-resort",
   "metadata": {},
   "outputs": [],
   "source": [
    "num_dict = {\"zero\":\"0\", \"one\":\"1\", \"two\":\"2\", \"three\":\"3\", \"four\":\"4\", \"five\":\"5\", \"six\":\"6\", \"seven\":\"7\", \"eight\":\"8\", \"nine\":\"9\"}\n",
    "\n",
    "def solution(s):\n",
    "    answer = s\n",
    "\n",
    "    for key, value in num_dict.items():\n",
    "        answer = answer.replace(key, value)\n",
    "\n",
    "    return int(answer)"
   ]
  }
 ],
 "metadata": {
  "kernelspec": {
   "display_name": "Python 3",
   "language": "python",
   "name": "python3"
  },
  "language_info": {
   "codemirror_mode": {
    "name": "ipython",
    "version": 3
   },
   "file_extension": ".py",
   "mimetype": "text/x-python",
   "name": "python",
   "nbconvert_exporter": "python",
   "pygments_lexer": "ipython3",
   "version": "3.6.12"
  }
 },
 "nbformat": 4,
 "nbformat_minor": 5
}
