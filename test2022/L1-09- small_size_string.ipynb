{
 "cells": [
  {
   "cell_type": "markdown",
   "id": "extensive-transaction",
   "metadata": {},
   "source": [
    "# 크기가 작은 부분문자열\n",
    "___\n",
    "\n",
    "숫자로 이루어진 문자열 t와 p가 주어질 때, t에서 p와 길이가 같은 부분문자열 중에서, \n",
    "\n",
    "이 부분문자열이 나타내는 수가 p가 나타내는 수보다 작거나 같은 것이 나오는 횟수를 return하는 함수 solution을 완성하세요.\n",
    "\n",
    "예를 들어, t=\"3141592\"이고 p=\"271\" 인 경우, t의 길이가 3인 부분 문자열은 314, 141, 415, 159, 592입니다. \n",
    "\n",
    "이 문자열이 나타내는 수 중 271보다 작거나 같은 수는 141, 159 2개 입니다.\n",
    "\n",
    "|t|p|result|\n",
    "|---|---|---|\n",
    "|\"3141592\"|\"271\"|2|\n",
    "|\"500220839878\"|\"7\"|8|\n",
    "|\"10203\"|\"15\"|3|"
   ]
  },
  {
   "cell_type": "code",
   "execution_count": 21,
   "id": "ambient-plain",
   "metadata": {},
   "outputs": [],
   "source": [
    "t = \"3141592\"\n",
    "p = \"271\"\n",
    "\n",
    "t = \"500220839878\"\n",
    "p = \"7\"\n",
    "\n",
    "# t = \"10203\"\n",
    "# p = \"15\""
   ]
  },
  {
   "cell_type": "code",
   "execution_count": 25,
   "id": "national-bundle",
   "metadata": {},
   "outputs": [
    {
     "data": {
      "text/plain": [
       "8"
      ]
     },
     "execution_count": 25,
     "metadata": {},
     "output_type": "execute_result"
    }
   ],
   "source": [
    "answer = 0\n",
    "for i in range(len(t)-(len(p)-1)):\n",
    "    if t[i:i+len(p)] <= p:\n",
    "        answer+=1\n",
    "answer"
   ]
  },
  {
   "cell_type": "code",
   "execution_count": 29,
   "id": "isolated-packet",
   "metadata": {},
   "outputs": [],
   "source": [
    "def solution(t, p):\n",
    "    answer = 0\n",
    "    for i in range(len(t)-(len(p)-1)): # p의 문자열 길이 만큼의 부분 문자열 개수 구하기\n",
    "        if int(t[i:i+len(p)]) <= int(p): # 크기 비교\n",
    "            answer+=1\n",
    "    return answer"
   ]
  },
  {
   "cell_type": "code",
   "execution_count": 30,
   "id": "instructional-measurement",
   "metadata": {},
   "outputs": [
    {
     "data": {
      "text/plain": [
       "8"
      ]
     },
     "execution_count": 30,
     "metadata": {},
     "output_type": "execute_result"
    }
   ],
   "source": [
    "solution(t,p)"
   ]
  },
  {
   "cell_type": "markdown",
   "id": "guilty-paint",
   "metadata": {},
   "source": [
    "### 다른 사람 풀이\n",
    "\n",
    "- list comprehension을 사용한 점만 뺴고 내 풀이와 동일하다."
   ]
  },
  {
   "cell_type": "code",
   "execution_count": 31,
   "id": "persistent-carry",
   "metadata": {},
   "outputs": [],
   "source": [
    "def solution(t, p):\n",
    "    return len([t[i: i+len(p)] for i in range(len(t)-len(p)+1) if int(t[i: i+len(p)]) <= int(p)])"
   ]
  },
  {
   "cell_type": "code",
   "execution_count": 32,
   "id": "upset-maryland",
   "metadata": {},
   "outputs": [
    {
     "data": {
      "text/plain": [
       "8"
      ]
     },
     "execution_count": 32,
     "metadata": {},
     "output_type": "execute_result"
    }
   ],
   "source": [
    "solution(t,p)"
   ]
  }
 ],
 "metadata": {
  "kernelspec": {
   "display_name": "Python 3",
   "language": "python",
   "name": "python3"
  },
  "language_info": {
   "codemirror_mode": {
    "name": "ipython",
    "version": 3
   },
   "file_extension": ".py",
   "mimetype": "text/x-python",
   "name": "python",
   "nbconvert_exporter": "python",
   "pygments_lexer": "ipython3",
   "version": "3.6.12"
  }
 },
 "nbformat": 4,
 "nbformat_minor": 5
}
