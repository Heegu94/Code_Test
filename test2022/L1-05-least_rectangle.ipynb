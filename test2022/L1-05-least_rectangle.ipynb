{
 "cells": [
  {
   "cell_type": "markdown",
   "id": "immediate-orchestra",
   "metadata": {},
   "source": [
    "# 최소직사각형\n",
    "\n",
    "___"
   ]
  },
  {
   "cell_type": "markdown",
   "id": "assumed-module",
   "metadata": {},
   "source": [
    "명함 지갑을 만드는 회사에서 지갑의 크기를 정하려고 합니다.\n",
    "\n",
    "다양한 모양과 크기의 명함들을 모두 수납할 수 있으면서, 작아서 들고 다니기 편한 지갑을 만들어야 합니다. \n",
    "\n",
    "이러한 요건을 만족하는 지갑을 만들기 위해 디자인팀은 모든 명함의 가로 길이와 세로 길이를 조사했습니다.\n",
    "\n",
    "아래 표는 4가지 명함의 가로 길이와 세로 길이를 나타냅니다.\n",
    "\n",
    "| 명함번호 | 가로길이 | 세로길이 |\n",
    "| ---      | ---      | ---      |\n",
    "| 1 | 60 | 50 |\n",
    "| 2 | 30 | 70 |\n",
    "| 3 | 60 | 30 |\n",
    "| 4 | 80 | 40 |\n",
    "\n",
    "가장 긴 가로 길이와 세로 길이가 각각 80, 70이기 때문에 80(가로) x 70(세로) 크기의 지갑을 만들면 모든 명함들을 수납할 수 있습니다. \n",
    "\n",
    "하지만 2번 명함을 가로로 눕혀 수납한다면 80(가로) x 50(세로) 크기의 지갑으로 모든 명함들을 수납할 수 있습니다. \n",
    "\n",
    "이때의 지갑 크기는 4000(=80 x 50)입니다.\n",
    "\n",
    "모든 명함의 가로 길이와 세로 길이를 나타내는 2차원 배열 sizes가 매개변수로 주어집니다.\n",
    "\n",
    "모든 명함을 수납할 수 있는 가장 작은 지갑을 만들 때, 지갑의 크기를 return 하도록 solution 함수를 완성해주세요."
   ]
  },
  {
   "cell_type": "markdown",
   "id": "other-nickel",
   "metadata": {},
   "source": [
    "___\n",
    "\n",
    "| sizes | result |\n",
    "| ---      | ---      | \n",
    "| [[60, 50], [30, 70], [60, 30], [80, 40]]\t | 4000 |\n",
    "| [[10, 7], [12, 3], [8, 15], [14, 7], [5, 15]]\t | 120 |\n",
    "| [[14, 4], [19, 6], [6, 16], [18, 7], [7, 11]]\t | 133 |"
   ]
  },
  {
   "cell_type": "code",
   "execution_count": 6,
   "id": "lasting-fossil",
   "metadata": {},
   "outputs": [],
   "source": [
    "# sizes = [[60, 50], [30, 70], [60, 30], [80, 40]]\n",
    "# sizes = [[10, 7], [12, 3], [8, 15], [14, 7], [5, 15]]\n",
    "sizes = [[14, 4], [19, 6], [6, 16], [18, 7], [7, 11]]"
   ]
  },
  {
   "cell_type": "code",
   "execution_count": 7,
   "id": "binary-shirt",
   "metadata": {},
   "outputs": [
    {
     "name": "stdout",
     "output_type": "stream",
     "text": [
      "133\n"
     ]
    }
   ],
   "source": [
    "widths, heights = [], []\n",
    "for nc in sizes:\n",
    "    if nc[1] > nc[0]:\n",
    "        widths.append(nc[1])\n",
    "        heights.append(nc[0])\n",
    "    else:\n",
    "        widths.append(nc[0])\n",
    "        heights.append(nc[1])\n",
    "        \n",
    "answer = max(widths)*max(heights)\n",
    "print(answer)"
   ]
  },
  {
   "cell_type": "code",
   "execution_count": null,
   "id": "friendly-boutique",
   "metadata": {},
   "outputs": [],
   "source": [
    "def solution(sizes):\n",
    "    answer = 0\n",
    "    widths, heights = [], []\n",
    "    for nc in sizes:\n",
    "        if nc[1] > nc[0]:\n",
    "            widths.append(nc[1])\n",
    "            heights.append(nc[0])\n",
    "        else:\n",
    "            widths.append(nc[0])\n",
    "            heights.append(nc[1])\n",
    "\n",
    "    answer = max(widths)*max(heights)\n",
    "    return answer"
   ]
  },
  {
   "cell_type": "markdown",
   "id": "wrong-custody",
   "metadata": {},
   "source": [
    "___\n",
    "\n",
    "# 다른사람 풀이\n",
    "\n"
   ]
  },
  {
   "cell_type": "markdown",
   "id": "pacific-synthetic",
   "metadata": {},
   "source": [
    "- 와 역시...\n",
    "- 결국에 문제는 **list 내의 가장 큰수들 중 가장 큰 수를 뽑고, list 내의 가장 작은 수들 중 가장큰수를 뽑아 곱하는 문제**이기때문에...\n",
    "- "
   ]
  },
  {
   "cell_type": "code",
   "execution_count": 9,
   "id": "demographic-steam",
   "metadata": {},
   "outputs": [
    {
     "data": {
      "text/plain": [
       "133"
      ]
     },
     "execution_count": 9,
     "metadata": {},
     "output_type": "execute_result"
    }
   ],
   "source": [
    "max(max(x) for x in sizes) * max(min(x) for x in sizes)"
   ]
  },
  {
   "cell_type": "code",
   "execution_count": 8,
   "id": "postal-charlotte",
   "metadata": {},
   "outputs": [],
   "source": [
    "def solution(sizes):\n",
    "    return max(max(x) for x in sizes) * max(min(x) for x in sizes)"
   ]
  }
 ],
 "metadata": {
  "kernelspec": {
   "display_name": "Python 3",
   "language": "python",
   "name": "python3"
  },
  "language_info": {
   "codemirror_mode": {
    "name": "ipython",
    "version": 3
   },
   "file_extension": ".py",
   "mimetype": "text/x-python",
   "name": "python",
   "nbconvert_exporter": "python",
   "pygments_lexer": "ipython3",
   "version": "3.6.12"
  }
 },
 "nbformat": 4,
 "nbformat_minor": 5
}
