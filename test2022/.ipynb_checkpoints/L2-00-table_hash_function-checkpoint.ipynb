{
 "cells": [
  {
   "cell_type": "markdown",
   "id": "moving-graph",
   "metadata": {},
   "source": [
    "# 테이블 해시 함수\n",
    "___\n",
    "\n",
    "완호가 관리하는 어떤 데이터베이스의 한 테이블은 모두 정수 타입인 컬럼들로 이루어져 있습니다. \n",
    "\n",
    "테이블은 2차원 행렬로 표현할 수 있으며 열은 컬럼을 나타내고, 행은 튜플을 나타냅니다.\n",
    "\n",
    "첫 번째 컬럼은 기본키로서 모든 튜플에 대해 그 값이 중복되지 않도록 보장됩니다. 완호는 이 테이블에 대한 해시 함수를 다음과 같이 정의하였습니다.\n",
    "\n",
    "해시 함수는 col, row_begin, row_end을 입력으로 받습니다.\n",
    "\n",
    "테이블의 튜플을 col번째 컬럼의 값을 기준으로 오름차순 정렬을 하되, 만약 그 값이 동일하면 기본키인 첫 번째 컬럼의 값을 기준으로 내림차순 정렬합니다.\n",
    "\n",
    "정렬된 데이터에서 S_i를 i 번째 행의 튜플에 대해 각 컬럼의 값을 i 로 나눈 나머지들의 합으로 정의합니다.\n",
    "\n",
    "row_begin ≤ i ≤ row_end 인 모든 S_i를 누적하여 bitwise XOR 한 값을 해시 값으로서 반환합니다.\n",
    "\n",
    "테이블의 데이터 data와 해시 함수에 대한 입력 col, row_begin, row_end이 주어졌을 때 테이블의 해시 값을 return 하도록 solution 함수를 완성해주세요.\n",
    "\n",
    "___"
   ]
  },
  {
   "cell_type": "markdown",
   "id": "liberal-exhaust",
   "metadata": {},
   "source": [
    "### 입출력 예\n",
    "\n",
    "|data|col| row_begin | row_end | result |\n",
    "|---|---|---|---|---|\n",
    "|[[2,2,6],[1,5,10],[4,2,9],[3,8,3]] |2|2|3|4|\n",
    "___"
   ]
  },
  {
   "cell_type": "code",
   "execution_count": 40,
   "id": "second-document",
   "metadata": {},
   "outputs": [
    {
     "data": {
      "text/plain": [
       "4"
      ]
     },
     "execution_count": 40,
     "metadata": {},
     "output_type": "execute_result"
    }
   ],
   "source": [
    "data = [[2,2,6],[1,5,10],[4,2,9],[3,8,3]]\n",
    "col = 2 \n",
    "row_begin = 2\n",
    "row_end   = 3\n",
    "\n",
    "data.sort(key = lambda x: (x[col-1], -x[0])) # 정렬 \n",
    "data = data[row_begin - 1 : row_end] # indexing\n",
    "ls = []\n",
    "\n",
    "for d in data:\n",
    "    s = 0\n",
    "    for a in d:\n",
    "        s += a % row_begin # mod\n",
    "    if not ls:\n",
    "        ls.append(s)\n",
    "    else:\n",
    "        ls[0] = ls[0] ^ s # XOR\n",
    "    row_begin += 1\n",
    "    \n",
    "ls[0]"
   ]
  },
  {
   "cell_type": "code",
   "execution_count": 41,
   "id": "terminal-flavor",
   "metadata": {},
   "outputs": [],
   "source": [
    "def solution(data, col, row_begin, row_end):\n",
    "    data.sort(key = lambda x: (x[col-1], -x[0]))\n",
    "    data = data[row_begin - 1 : row_end]\n",
    "    ls = []\n",
    "\n",
    "    for d in data:\n",
    "        s = 0\n",
    "        for a in d:\n",
    "            s += a % row_begin\n",
    "        if not ls:\n",
    "            ls.append(s)\n",
    "        else:\n",
    "            ls[0] = ls[0] ^ s\n",
    "        row_begin += 1\n",
    "        \n",
    "    return ls[0]"
   ]
  },
  {
   "cell_type": "markdown",
   "id": "digital-chinese",
   "metadata": {},
   "source": [
    "### 다른사람 풀이"
   ]
  },
  {
   "cell_type": "markdown",
   "id": "eight-leone",
   "metadata": {},
   "source": [
    "- 우선 정렬한뒤, \n",
    "- functools 의 reduce 함수를 사용하여 누적적용.\n",
    "    - functools.reduce()\n",
    "        - reduce(funcion(), data_sequence)"
   ]
  },
  {
   "cell_type": "code",
   "execution_count": 42,
   "id": "further-airfare",
   "metadata": {},
   "outputs": [],
   "source": [
    "from functools import reduce\n",
    "\n",
    "def solution(data, col, row_begin, row_end):\n",
    "    data.sort(key = lambda x : (x[col-1], -x[0]))\n",
    "    return reduce(lambda x, y: x ^ y,\n",
    "                  [sum(map(lambda x: x%(i+1), data[i])) for i in range(row_begin-1, row_end)])"
   ]
  }
 ],
 "metadata": {
  "kernelspec": {
   "display_name": "Python 3",
   "language": "python",
   "name": "python3"
  },
  "language_info": {
   "codemirror_mode": {
    "name": "ipython",
    "version": 3
   },
   "file_extension": ".py",
   "mimetype": "text/x-python",
   "name": "python",
   "nbconvert_exporter": "python",
   "pygments_lexer": "ipython3",
   "version": "3.6.12"
  }
 },
 "nbformat": 4,
 "nbformat_minor": 5
}
