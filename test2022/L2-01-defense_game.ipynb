{
 "cells": [
  {
   "cell_type": "markdown",
   "id": "seventh-watts",
   "metadata": {},
   "source": [
    "# 디펜스 게임\n",
    "___\n",
    "\n"
   ]
  },
  {
   "cell_type": "code",
   "execution_count": 60,
   "id": "proprietary-latex",
   "metadata": {},
   "outputs": [],
   "source": [
    "n = 7\n",
    "k = 3\n",
    "enemy=[4,2,4,5,3,3,1] \n",
    "\n",
    "# n = 2, \n",
    "# k = 4, \n",
    "# enemy=[3,3,3,3] 4"
   ]
  },
  {
   "cell_type": "markdown",
   "id": "duplicate-helmet",
   "metadata": {},
   "source": [
    "- 최대힙(heapq) 자료구조(heap)를 사용한다. \n",
    "    - 적의 전체수 enemysum 에 적의 수(e) 누적\n",
    "    - 누적할 때마다 보유한 병사(n)가 많을 경우\n",
    "        - 무적권이 더이상 없을 경우, for loop **break**\n",
    "        - 최대힙 자료구조(heap)에서 지금까지 진행해온 라운드 중 적이 가장 많은 라운드를 찾아(heappop)을 통해, 적의 전체수를 차감하고, 무적권(k)도 1씩 차감한다. "
   ]
  },
  {
   "cell_type": "code",
   "execution_count": 61,
   "id": "vocal-slovenia",
   "metadata": {},
   "outputs": [
    {
     "name": "stdout",
     "output_type": "stream",
     "text": [
      "[-4] 4\n",
      "[-4, -2] 6\n",
      "[-4, -2, -4] 10\n",
      "[-5, -2, -4] 11\n",
      "[-4, -2, -3] 9\n",
      "[-3, -2, -3] 8\n",
      "5\n"
     ]
    }
   ],
   "source": [
    "import heapq\n",
    "\n",
    "answer, enemysum = 0, 0\n",
    "heap = []\n",
    "\n",
    "if len(enemy) == k: return k\n",
    "for e in enemy:\n",
    "    heapq.heappush(heap, -e)\n",
    "    enemysum += e\n",
    "    print(heap, enemysum)\n",
    "    if enemysum > n:\n",
    "        if k == 0: break\n",
    "        enemysum += heapq.heappop(heap)\n",
    "        k -= 1\n",
    "    answer += 1\n",
    "print(answer)        "
   ]
  },
  {
   "cell_type": "code",
   "execution_count": 64,
   "id": "virtual-marble",
   "metadata": {},
   "outputs": [],
   "source": [
    "import heapq\n",
    "\n",
    "def solution(n, k, enemy):\n",
    "    answer, enemysum = 0, 0\n",
    "    heap = []\n",
    "    if len(enemy) == k: return k\n",
    "    for e in enemy:\n",
    "        heapq.heappush(heap, -e)\n",
    "        enemysum += e\n",
    "        if enemysum > n:\n",
    "            if k == 0: break\n",
    "            enemysum += heapq.heappop(heap)\n",
    "            k -= 1\n",
    "        answer += 1\n",
    "    return answer"
   ]
  },
  {
   "cell_type": "code",
   "execution_count": 65,
   "id": "endless-proceeding",
   "metadata": {},
   "outputs": [
    {
     "data": {
      "text/plain": [
       "2"
      ]
     },
     "execution_count": 65,
     "metadata": {},
     "output_type": "execute_result"
    }
   ],
   "source": [
    "solution(n, k, enemy)"
   ]
  }
 ],
 "metadata": {
  "kernelspec": {
   "display_name": "Python 3",
   "language": "python",
   "name": "python3"
  },
  "language_info": {
   "codemirror_mode": {
    "name": "ipython",
    "version": 3
   },
   "file_extension": ".py",
   "mimetype": "text/x-python",
   "name": "python",
   "nbconvert_exporter": "python",
   "pygments_lexer": "ipython3",
   "version": "3.6.12"
  }
 },
 "nbformat": 4,
 "nbformat_minor": 5
}
