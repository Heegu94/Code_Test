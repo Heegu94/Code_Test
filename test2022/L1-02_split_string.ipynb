{
 "cells": [
  {
   "cell_type": "markdown",
   "metadata": {},
   "source": [
    "# 문자열 나누기\n",
    "___"
   ]
  },
  {
   "cell_type": "markdown",
   "metadata": {},
   "source": [
    "#### 문자열 s가 입력되었을 때 다음 규칙을 따라서 이 문자열을 여러 문자열로 분해하려고 합니다.\n",
    "\n",
    "- 먼저 첫 글자를 읽습니다. 이 글자를 x라고 합시다.\n",
    "- 이제 이 문자열을 왼쪽에서 오른쪽으로 읽어나가면서, x와 x가 아닌 다른 글자들이 나온 횟수를 각각 셉니다. 처음으로 두 횟수가 같아지는 순간 멈추고, 지금까지 읽은 문자열을 분리합니다.\n",
    "- s에서 분리한 문자열을 빼고 남은 부분에 대해서 이 과정을 반복합니다. 남은 부분이 없다면 종료합니다.\n",
    "- 만약 두 횟수가 다른 상태에서 더 이상 읽을 글자가 없다면, 역시 지금까지 읽은 문자열을 분리하고, 종료합니다.\n",
    "\n",
    "#### 문자열 s가 매개변수로 주어질 때, 위 과정과 같이 문자열들로 분해하고, 분해한 문자열의 개수를 return 하는 함수 solution을 완성하세요.\n",
    "\n",
    "___\n",
    "\n",
    "\n",
    "| s | result | \n",
    "| --- | --- | \n",
    "| \"banana\" | 3 | \n",
    "| \"abracadabra\" | 6 | \n",
    "| \"aaabbaccccabba\" | 3 | "
   ]
  },
  {
   "cell_type": "code",
   "execution_count": 1,
   "metadata": {},
   "outputs": [],
   "source": [
    "def solution(s):\n",
    "    answer = 0\n",
    "    board = [\"\", 0, 0]\n",
    "    for w in s:\n",
    "        if board[0] == \"\":\n",
    "            board[0] = w\n",
    "            board[1] += 1\n",
    "        else:\n",
    "            if board[0] == w:\n",
    "                board[1] += 1\n",
    "            else:\n",
    "                board[2] += 1\n",
    "            if board[1] == board[2]:\n",
    "                answer += 1 \n",
    "                board = [\"\", 0, 0]\n",
    "    if board != [\"\", 0, 0]:\n",
    "        answer += 1\n",
    "    return answer"
   ]
  },
  {
   "cell_type": "code",
   "execution_count": 3,
   "metadata": {},
   "outputs": [
    {
     "name": "stdout",
     "output_type": "stream",
     "text": [
      "3\n",
      "6\n",
      "3\n"
     ]
    }
   ],
   "source": [
    "s = [\"banana\", \n",
    "     \"abracadabra\",\n",
    "     \"aaabbaccccabba\"]\n",
    "\n",
    "for word in s:\n",
    "    print(solution(word))"
   ]
  }
 ],
 "metadata": {
  "kernelspec": {
   "display_name": "Python 3",
   "language": "python",
   "name": "python3"
  },
  "language_info": {
   "codemirror_mode": {
    "name": "ipython",
    "version": 3
   },
   "file_extension": ".py",
   "mimetype": "text/x-python",
   "name": "python",
   "nbconvert_exporter": "python",
   "pygments_lexer": "ipython3",
   "version": "3.6.12"
  }
 },
 "nbformat": 4,
 "nbformat_minor": 4
}
