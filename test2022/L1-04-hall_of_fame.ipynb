{
 "cells": [
  {
   "cell_type": "markdown",
   "id": "thousand-riding",
   "metadata": {},
   "source": [
    "# 명예의 전당 (1)\n",
    "___"
   ]
  },
  {
   "cell_type": "markdown",
   "id": "julian-variable",
   "metadata": {},
   "source": [
    "\"명예의 전당\"이라는 TV 프로그램에서는 매일 1명의 가수가 노래를 부르고, 시청자들의 문자 투표수로 가수에게 점수를 부여합니다. \n",
    "\n",
    "매일 출연한 가수의 점수가 지금까지 출연 가수들의 점수 중 상위 k번째 이내이면 해당 가수의 점수를 명예의 전당이라는 목록에 올려 기념합니다. \n",
    "\n",
    "즉 프로그램 시작 이후 초기에 k일까지는 모든 출연 가수의 점수가 명예의 전당에 오르게 됩니다. \n",
    "\n",
    "k일 다음부터는 출연 가수의 점수가 기존의 명예의 전당 목록의 k번째 순위의 가수 점수보다 더 높으면, 출연 가수의 점수가 명예의 전당에 오르게 되고 기존의 k번째 순위의 점수는 명예의 전당에서 내려오게 됩니다.\n",
    "\n",
    "이 프로그램에서는 매일 \"명예의 전당\"의 최하위 점수를 발표합니다. \n",
    "\n",
    "예를 들어, k = 3이고, 7일 동안 진행된 가수의 점수가 [10, 100, 20, 150, 1, 100, 200]이라면, 명예의 전당에서 발표된 점수는 아래의 그림과 같이 [10, 10, 10, 20, 20, 100, 100]입니다."
   ]
  },
  {
   "cell_type": "markdown",
   "id": "binary-onion",
   "metadata": {},
   "source": [
    "|일차 | 1   |  2  |  3  |  4  |  5  | 6   | 7 |\n",
    "| --- | --- | --- | --- | --- | --- | --- | --- |\n",
    "| score | 10 | 100 | 20 | 150 | 1 | 100 | 200 |\n",
    "| 명예의 전당(k=3) | 10 | 100 | 100 | 150 | 150 | 150 | 200 |\n",
    "| 명예의 전당(k=3) |  | 10 | 20 | 100 | 100 |100 | 150 |\n",
    "| 명예의 전당(k=3) |  |  | 10 | 20 | 20 | 100 | 100 |\n",
    "| 발표점수 | 10 | 10 | 10 | 20 | 20 | 100 | 100 |\n",
    "\n",
    "\n",
    "명예의 전당 목록의 점수의 개수 k, 1일부터 마지막 날까지 출연한 가수들의 점수인 score가 주어졌을 때, 매일 발표된 명예의 전당의 최하위 점수를 return하는 solution 함수를 완성해주세요."
   ]
  },
  {
   "cell_type": "markdown",
   "id": "regional-captain",
   "metadata": {},
   "source": [
    "___\n",
    "\n",
    "| k | score | result |\n",
    "| --- | --- | --- | \n",
    "| 3 |  \t[10, 100, 20, 150, 1, 100, 200] | [10, 10, 10, 20, 20, 100, 100] | \n",
    "| 4 |  \t[0, 300, 40, 300, 20, 70, 150, 50, 500, 1000]\t | [0, 0, 0, 0, 20, 40, 70, 70, 150, 300] | \n",
    "___"
   ]
  },
  {
   "cell_type": "code",
   "execution_count": null,
   "id": "experienced-majority",
   "metadata": {},
   "outputs": [],
   "source": [
    "1 list   = [0]\n",
    "slist    = [0]\n",
    "answer   = [0]\n",
    "    \n",
    "2 list   = [0, 300]\n",
    "slist    = [0, 300]\n",
    "answer   = [0, 0]\n",
    "    \n",
    "3 list   = [0, 300, 40]\n",
    "slist    = [0, 40, 300]\n",
    "answer   = [0, 0, 0]\n",
    "\n",
    "4 list   = [0, 40, 300, 300]\n",
    "slist    = [0, 40, 300, 300]\n",
    "answer   = [0, 0, 0, 0]\n",
    "\n",
    "5 list   = [0, 40, 300, 300, 20]\n",
    "slist    = [0, 20, 40, 300, 300]\n",
    "         = [20, 40, 300, 300]\n",
    "answer   = [0, 0, 0, 0, 20]\n",
    "\n",
    "6 list   = [20, 40, 300, 300, 70]\n",
    "slist    = [20, 40, 70, 300, 300]\n",
    "         = [40, 70, 300, 300]\n",
    "answer   = [0, 0, 0, 0, 20]"
   ]
  },
  {
   "cell_type": "code",
   "execution_count": 3,
   "id": "standing-trailer",
   "metadata": {},
   "outputs": [],
   "source": [
    "k = 4\n",
    "score = [0, 300, 40, 300, 20, 70, 150, 50, 500, 1000]\n",
    "# [0, 0, 0, 0, 20, 40, 70, 70, 150, 300]"
   ]
  },
  {
   "cell_type": "code",
   "execution_count": 4,
   "id": "functional-editing",
   "metadata": {},
   "outputs": [
    {
     "name": "stdout",
     "output_type": "stream",
     "text": [
      "[0, 0, 0, 0, 20, 40, 70, 70, 150, 300]\n"
     ]
    }
   ],
   "source": [
    "answer, slist = [], []\n",
    "for s in score:\n",
    "    slist.append(s)\n",
    "    slist = sorted(slist)\n",
    "    if len(slist)>k:\n",
    "        slist.pop(0)\n",
    "    answer.append(slist[0])    \n",
    "        \n",
    "print(answer)\n",
    "    "
   ]
  },
  {
   "cell_type": "code",
   "execution_count": 9,
   "id": "worldwide-assumption",
   "metadata": {},
   "outputs": [],
   "source": [
    "def solution(k, score):\n",
    "    answer, slist = [], []\n",
    "    for s in score:\n",
    "        slist.append(s)\n",
    "        slist = sorted(slist)\n",
    "        if len(slist)>k:\n",
    "            slist.pop(0)\n",
    "        answer.append(slist[0])    \n",
    "    return answer"
   ]
  },
  {
   "cell_type": "markdown",
   "id": "bottom-functionality",
   "metadata": {},
   "source": [
    "___\n",
    "# 다른사람풀이\n",
    "\n",
    "- 굳이 sorted 함수를 사용하지 않고, min() 함수를 사용하여 처리 가능. \n",
    "- 그러나 대체하여도 연산속도 차이 그닥 없었음.."
   ]
  },
  {
   "cell_type": "code",
   "execution_count": 9,
   "id": "respiratory-future",
   "metadata": {},
   "outputs": [
    {
     "name": "stdout",
     "output_type": "stream",
     "text": [
      "[0, 0, 0, 0, 20, 40, 70, 70, 150, 300]\n"
     ]
    }
   ],
   "source": [
    "answer, slist = [], []\n",
    "for s in score:\n",
    "    slist.append(s)\n",
    "    if len(slist)>k:\n",
    "        slist.remove(min(slist))\n",
    "    answer.append(min(slist))   \n",
    "print(answer)"
   ]
  },
  {
   "cell_type": "code",
   "execution_count": null,
   "id": "neural-visiting",
   "metadata": {},
   "outputs": [],
   "source": [
    "def solution(k, score):\n",
    "    answer, slist = [], []\n",
    "    for s in score:\n",
    "        slist.append(s)\n",
    "        if len(slist)>k:\n",
    "            slist.remove(min(slist))\n",
    "        answer.append(min(slist))   \n",
    "    return answer"
   ]
  }
 ],
 "metadata": {
  "kernelspec": {
   "display_name": "Python 3",
   "language": "python",
   "name": "python3"
  },
  "language_info": {
   "codemirror_mode": {
    "name": "ipython",
    "version": 3
   },
   "file_extension": ".py",
   "mimetype": "text/x-python",
   "name": "python",
   "nbconvert_exporter": "python",
   "pygments_lexer": "ipython3",
   "version": "3.6.12"
  }
 },
 "nbformat": 4,
 "nbformat_minor": 5
}
