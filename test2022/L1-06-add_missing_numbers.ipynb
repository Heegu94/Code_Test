{
 "cells": [
  {
   "cell_type": "markdown",
   "id": "cooperative-standard",
   "metadata": {},
   "source": [
    "# 없는 숫자 더하기\n",
    "___"
   ]
  },
  {
   "cell_type": "markdown",
   "id": "heavy-practice",
   "metadata": {},
   "source": [
    "0부터 9까지의 숫자 중 일부가 들어있는 정수 배열 numbers가 매개변수로 주어집니다. \n",
    "\n",
    "numbers에서 찾을 수 없는 0부터 9까지의 숫자를 모두 찾아 더한 수를 return 하도록 solution 함수를 완성해주세요.\n",
    "\n",
    "| numbers| result|\n",
    "| --- | --- |\n",
    "| [1,2,3,4,6,7,8,0] | 14 |\n",
    "| [5,8,4,0,6,7,9] | 6 |"
   ]
  },
  {
   "cell_type": "markdown",
   "id": "drawn-devices",
   "metadata": {},
   "source": [
    "___"
   ]
  },
  {
   "cell_type": "code",
   "execution_count": 10,
   "id": "funny-decade",
   "metadata": {},
   "outputs": [],
   "source": [
    "# numbers = [1,2,3,4,6,7,8,0] \n",
    "numbers = [5,8,4,0,6,7,9]"
   ]
  },
  {
   "cell_type": "code",
   "execution_count": 11,
   "id": "hundred-petersburg",
   "metadata": {},
   "outputs": [
    {
     "data": {
      "text/plain": [
       "6"
      ]
     },
     "execution_count": 11,
     "metadata": {},
     "output_type": "execute_result"
    }
   ],
   "source": [
    "tnumbers = [0, 1, 2, 3, 4, 5, 6, 7, 8, 9]\n",
    "\n",
    "for n in numbers:\n",
    "    tnumbers.remove(n) \n",
    "sum(tnumbers)"
   ]
  },
  {
   "cell_type": "code",
   "execution_count": 12,
   "id": "resident-tucson",
   "metadata": {},
   "outputs": [],
   "source": [
    "def solution(numbers):\n",
    "    tnumbers = [0, 1, 2, 3, 4, 5, 6, 7, 8, 9]\n",
    "    for n in numbers:\n",
    "        tnumbers.remove(n)    \n",
    "    return sum(tnumbers)"
   ]
  },
  {
   "cell_type": "markdown",
   "id": "focused-accused",
   "metadata": {},
   "source": [
    "___\n",
    "### 다른사람 풀이"
   ]
  },
  {
   "cell_type": "markdown",
   "id": "respective-cooking",
   "metadata": {},
   "source": [
    "- 0 ~ 9 까지의 정수를 다 더하면 언제나 45 이다.\n",
    "\n",
    "- 이때, 다 더한 45 에서 입력으로 들어오는 numbers를 다더한 수를 빼면 항상 문제의 답이 될 수 있다. "
   ]
  },
  {
   "cell_type": "code",
   "execution_count": 13,
   "id": "binary-devil",
   "metadata": {},
   "outputs": [],
   "source": [
    "def solution(numbers):\n",
    "    return 45 - sum(numbers)"
   ]
  },
  {
   "cell_type": "code",
   "execution_count": 14,
   "id": "quality-aluminum",
   "metadata": {},
   "outputs": [
    {
     "data": {
      "text/plain": [
       "6"
      ]
     },
     "execution_count": 14,
     "metadata": {},
     "output_type": "execute_result"
    }
   ],
   "source": [
    "solution(numbers)"
   ]
  },
  {
   "cell_type": "markdown",
   "id": "greater-award",
   "metadata": {},
   "source": [
    "- 아래와 같이 람다로 바꿀수 있다 (장점: 조금더 직관적)"
   ]
  },
  {
   "cell_type": "code",
   "execution_count": 18,
   "id": "temporal-equilibrium",
   "metadata": {},
   "outputs": [],
   "source": [
    "solution = lambda x: sum(range(10)) - sum(x)"
   ]
  },
  {
   "cell_type": "code",
   "execution_count": 20,
   "id": "surface-lodge",
   "metadata": {},
   "outputs": [
    {
     "data": {
      "text/plain": [
       "6"
      ]
     },
     "execution_count": 20,
     "metadata": {},
     "output_type": "execute_result"
    }
   ],
   "source": [
    "solution(numbers)"
   ]
  }
 ],
 "metadata": {
  "kernelspec": {
   "display_name": "Python 3",
   "language": "python",
   "name": "python3"
  },
  "language_info": {
   "codemirror_mode": {
    "name": "ipython",
    "version": 3
   },
   "file_extension": ".py",
   "mimetype": "text/x-python",
   "name": "python",
   "nbconvert_exporter": "python",
   "pygments_lexer": "ipython3",
   "version": "3.6.12"
  }
 },
 "nbformat": 4,
 "nbformat_minor": 5
}
