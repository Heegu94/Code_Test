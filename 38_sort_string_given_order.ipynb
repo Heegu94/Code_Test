{
 "cells": [
  {
   "cell_type": "markdown",
   "id": "fitted-clock",
   "metadata": {},
   "source": [
    "# [문자열 내 마음대로 정렬하기]\n",
    "___\n",
    "\n",
    "### [문제 설명]\n",
    "\n",
    "- 문자열로 구성된 리스트 strings와, 정수 n이 주어졌을 때, 각 문자열의 인덱스 n번째 글자를 기준으로 오름차순 정렬하려 합니다. \n",
    "- 예를 들어 strings가 [\"sun\", \"bed\", \"car\"]이고 n이 1이면 각 단어의 인덱스 1의 문자 \"u\", \"e\", \"a\"로 strings를 정렬합니다.\n",
    "\n",
    "___\n",
    "\n",
    "### [제한 조건]\n",
    "\n",
    "- strings는 길이 1 이상, 50이하인 배열입니다.\n",
    "- strings의 원소는 소문자 알파벳으로 이루어져 있습니다.\n",
    "- strings의 원소는 길이 1 이상, 100이하인 문자열입니다.\n",
    "- 모든 strings의 원소의 길이는 n보다 큽니다.\n",
    "- 인덱스 1의 문자가 같은 문자열이 여럿 일 경우, 사전순으로 앞선 문자열이 앞쪽에 위치합니다.\n",
    "\n",
    "___\n",
    "\n",
    "### [입출력 예]\n",
    "\n",
    "![image](C:/Users/ryank/Desktop/ryan/Code_Test/figure/38-1.PNG)\n",
    "___\n",
    "\n",
    "### [내 풀이]\n",
    "\n",
    "- 정렬 문제이므로 sort() 혹은 sorted() 함수의 \"key\" 파라미터를 사용해 보았다.. \n",
    "\n",
    "- key 에 lambda 를 사용하여, 리스트의 요소의 n 번쨰 요소를 사용하여 정렬하도록 하였다.\n"
   ]
  },
  {
   "cell_type": "code",
   "execution_count": 5,
   "id": "average-track",
   "metadata": {},
   "outputs": [],
   "source": [
    "strings = [\"abce\", \"abcd\", \"cdx\"]#[\"sun\", \"bed\", \"car\"]\n",
    "n = 2#1"
   ]
  },
  {
   "cell_type": "code",
   "execution_count": 6,
   "id": "forty-error",
   "metadata": {},
   "outputs": [
    {
     "data": {
      "text/plain": [
       "['abce', 'abcd', 'cdx']"
      ]
     },
     "execution_count": 6,
     "metadata": {},
     "output_type": "execute_result"
    }
   ],
   "source": [
    "sorted(strings, key= lambda x : x[n])"
   ]
  },
  {
   "cell_type": "markdown",
   "id": "prerequisite-falls",
   "metadata": {},
   "source": [
    "- 해당 방법을 사용할 경우 동일한 알파벳일 경우에, 이전 리스트에 정렬된 순서 그대로 배치하기 때문에,\n",
    "- 미리 한번 정렬한 후, 위의 방법을 적용할 경우 해당 알고리즘을 쉽게 짤 수 있었다."
   ]
  },
  {
   "cell_type": "code",
   "execution_count": 7,
   "id": "novel-imagination",
   "metadata": {},
   "outputs": [],
   "source": [
    "def solution(strings, n):\n",
    "    return sorted(sorted(strings), key= lambda x : x[n])"
   ]
  }
 ],
 "metadata": {
  "kernelspec": {
   "display_name": "Python 3",
   "language": "python",
   "name": "python3"
  },
  "language_info": {
   "codemirror_mode": {
    "name": "ipython",
    "version": 3
   },
   "file_extension": ".py",
   "mimetype": "text/x-python",
   "name": "python",
   "nbconvert_exporter": "python",
   "pygments_lexer": "ipython3",
   "version": "3.6.12"
  }
 },
 "nbformat": 4,
 "nbformat_minor": 5
}
