{
 "cells": [
  {
   "cell_type": "markdown",
   "id": "inside-bathroom",
   "metadata": {},
   "source": [
    "# [구명 보트 - Greedy]\n",
    "___\n",
    "\n",
    "### [문제 설명]\n",
    "\n",
    "- 무인도에 갇힌 사람들을 구명보트를 이용하여 구출하려고 합니다. 구명보트는 작아서 한 번에 최대 2명씩 밖에 탈 수 없고, 무게 제한도 있습니다.\n",
    "\n",
    "- 예를 들어, 사람들의 몸무게가 [70kg, 50kg, 80kg, 50kg]이고 구명보트의 무게 제한이 100kg이라면 2번째 사람과 4번째 사람은 같이 탈 수 있지만 1번째 사람과 3번째 사람의 무게의 합은 150kg이므로 구명보트의 무게 제한을 초과하여 같이 탈 수 없습니다.\n",
    "\n",
    "- 구명보트를 최대한 적게 사용하여 모든 사람을 구출하려고 합니다.\n",
    "\n",
    "- 사람들의 몸무게를 담은 배열 people과 구명보트의 무게 제한 limit가 매개변수로 주어질 때, 모든 사람을 구출하기 위해 필요한 구명보트 개수의 최솟값을 return 하도록 solution 함수를 작성해주세요.\n",
    "\n",
    "___\n",
    "### [제한 사항]\n",
    "\n",
    "- 무인도에 갇힌 사람은 1명 이상 50,000명 이하입니다.\n",
    "- 각 사람의 몸무게는 40kg 이상 240kg 이하입니다.\n",
    "- 구명보트의 무게 제한은 40kg 이상 240kg 이하입니다.\n",
    "- 구명보트의 무게 제한은 항상 사람들의 몸무게 중 최댓값보다 크게 주어지므로 사람들을 구출할 수 없는 경우는 없습니다.\n",
    "\n",
    "___\n",
    "\n",
    "### [입출력 예]\n",
    "\n",
    "![figure1](C:/Users/ryank/Desktop/ryan/Code_Test/figure/25-1.PNG)"
   ]
  },
  {
   "cell_type": "markdown",
   "id": "corporate-recruitment",
   "metadata": {},
   "source": [
    "___\n",
    "\n",
    "### [내 풀이]\n",
    "\n",
    "- 사람의 무게들이 들어있는 list를 우선 정렬하여 앞에서부터 하나씩 뽑아와, 더해주면서, limit을 넘기면 마지막에 들어오는 수를 다음으로 넘겨주고 answer의 카운트를 센다.\n"
   ]
  },
  {
   "cell_type": "code",
   "execution_count": 1,
   "id": "respective-strategy",
   "metadata": {},
   "outputs": [],
   "source": [
    "people = [70, 50, 80, 50]\t\n",
    "limit = 100"
   ]
  },
  {
   "cell_type": "code",
   "execution_count": 21,
   "id": "differential-chase",
   "metadata": {},
   "outputs": [
    {
     "name": "stdout",
     "output_type": "stream",
     "text": [
      "2\n"
     ]
    }
   ],
   "source": [
    "people.sort()\n",
    "answer, w = 0, 0\n",
    "for person in people:\n",
    "    w+=person\n",
    "    if w<limit: pass\n",
    "    else:\n",
    "        w=person\n",
    "        answer+=1\n",
    "if w >0: answer+=1\n",
    "\n",
    "print(answer)"
   ]
  },
  {
   "cell_type": "code",
   "execution_count": 28,
   "id": "owned-weather",
   "metadata": {},
   "outputs": [],
   "source": [
    "def solution(people, limit):\n",
    "    answer, w = 0, 0\n",
    "    people.sort()\n",
    "    print(people)\n",
    "    for person in people:\n",
    "        w+=person\n",
    "        if w<=limit: pass\n",
    "        else:\n",
    "            w=person\n",
    "            answer+=1\n",
    "    if w >0: answer+=1\n",
    "    \n",
    "    return answer"
   ]
  },
  {
   "cell_type": "code",
   "execution_count": 30,
   "id": "patient-permit",
   "metadata": {},
   "outputs": [
    {
     "name": "stdout",
     "output_type": "stream",
     "text": [
      "[50, 70, 80]\n"
     ]
    },
    {
     "data": {
      "text/plain": [
       "3"
      ]
     },
     "execution_count": 30,
     "metadata": {},
     "output_type": "execute_result"
    }
   ],
   "source": [
    "solution([70, 80, 50], 100)"
   ]
  },
  {
   "cell_type": "markdown",
   "id": "moving-monkey",
   "metadata": {},
   "source": [
    "- 경우를 잘못 생각했는지 문제 틀림.. **\"최대 2명이 탄다\"**는 것을 빼먹었음..\n",
    "- while 문으로 다시 생각해보자.. \n",
    "\n",
    "- people 정렬 후, 2명씩 밖에 타지 못하는 구명보트이니까 제일 가벼운사람과 제일 무거운 사람 더해 limit이 넘어가면 큰사람을 먼저 태운다, \n",
    "- 그리고 더했을때 limit을 넘어가지 않는다면 둘다 태운다"
   ]
  },
  {
   "cell_type": "code",
   "execution_count": 47,
   "id": "alive-hormone",
   "metadata": {},
   "outputs": [],
   "source": [
    "people = [70, 50, 80, 50]\t\n",
    "limit = 100"
   ]
  },
  {
   "cell_type": "code",
   "execution_count": 48,
   "id": "noble-sustainability",
   "metadata": {},
   "outputs": [
    {
     "name": "stdout",
     "output_type": "stream",
     "text": [
      "[50, 50, 70, 80]\n"
     ]
    }
   ],
   "source": [
    "people.sort() \n",
    "print(people)"
   ]
  },
  {
   "cell_type": "code",
   "execution_count": 49,
   "id": "artistic-brand",
   "metadata": {},
   "outputs": [
    {
     "name": "stdout",
     "output_type": "stream",
     "text": [
      "0 3 50 80 1\n",
      "0 2 50 70 2\n",
      "0 1 50 50 3\n",
      "3\n"
     ]
    }
   ],
   "source": [
    "i, j = 0, len(people)-1\n",
    "answer = 0\n",
    "while i<=j:\n",
    "    answer+=1\n",
    "    print(i, j, people[i], people[j], answer)\n",
    "    if people[i]+people[j]<=limit:\n",
    "        i+=1\n",
    "    j-=1\n",
    "    \n",
    "print(answer)"
   ]
  },
  {
   "cell_type": "code",
   "execution_count": 45,
   "id": "turkish-confusion",
   "metadata": {},
   "outputs": [],
   "source": [
    "def solution(people, limit):\n",
    "    people.sort() \n",
    "    i, j = 0, len(people)-1\n",
    "    answer = 0\n",
    "    while i<=j:\n",
    "        answer+=1\n",
    "        if people[i]+people[j]<=limit:\n",
    "            i+=1\n",
    "        j-=1\n",
    "    return answer"
   ]
  },
  {
   "cell_type": "code",
   "execution_count": 46,
   "id": "boxed-hydrogen",
   "metadata": {},
   "outputs": [
    {
     "data": {
      "text/plain": [
       "3"
      ]
     },
     "execution_count": 46,
     "metadata": {},
     "output_type": "execute_result"
    }
   ],
   "source": [
    "solution([70, 50, 80],100)"
   ]
  },
  {
   "cell_type": "markdown",
   "id": "iraqi-essex",
   "metadata": {},
   "source": [
    "성공!, 해당 풀이에서 pop등으로 iter돌때마다 제거해주는 방식을 사용할 경우 time limit에 걸리는것 같다."
   ]
  }
 ],
 "metadata": {
  "kernelspec": {
   "display_name": "Python 3",
   "language": "python",
   "name": "python3"
  },
  "language_info": {
   "codemirror_mode": {
    "name": "ipython",
    "version": 3
   },
   "file_extension": ".py",
   "mimetype": "text/x-python",
   "name": "python",
   "nbconvert_exporter": "python",
   "pygments_lexer": "ipython3",
   "version": "3.6.12"
  }
 },
 "nbformat": 4,
 "nbformat_minor": 5
}
