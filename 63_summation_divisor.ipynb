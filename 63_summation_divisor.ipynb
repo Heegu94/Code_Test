{
 "cells": [
  {
   "cell_type": "markdown",
   "id": "prime-battlefield",
   "metadata": {},
   "source": [
    "# [약수의 개수와 덧셈]\n",
    "\n",
    "___\n",
    "\n",
    "### [문제 설명]\n",
    "\n",
    "- 두 정수 left와 right가 매개변수로 주어집니다. \n",
    "- left부터 right까지의 모든 수들 중에서, 약수의 개수가 짝수인 수는 더하고, 약수의 개수가 홀수인 수는 뺀 수를 return 하도록 solution 함수를 완성해주세요.\n",
    "\n",
    "___\n",
    "\n",
    "### [제한사항]\n",
    "    - 1 ≤ left ≤ right ≤ 1,000\n",
    "    \n",
    "___\n",
    "\n",
    "### [입출력 예]\n",
    "\n",
    "``` python\n",
    "# 1\n",
    "left = 13\n",
    "right = 17\n",
    "result = 43\n",
    "\n",
    "# 2\n",
    "left = 24\n",
    "right = 27\n",
    "result = 52\n",
    "\n",
    "```"
   ]
  },
  {
   "cell_type": "code",
   "execution_count": 30,
   "id": "realistic-ukraine",
   "metadata": {},
   "outputs": [],
   "source": [
    "left = 24\n",
    "right = 27\n"
   ]
  },
  {
   "cell_type": "code",
   "execution_count": 14,
   "id": "civic-andrew",
   "metadata": {},
   "outputs": [],
   "source": [
    "def count_div(a):\n",
    "    cnt = 0 \n",
    "    for i in range(1, a+1):\n",
    "        if a%i==0:\n",
    "              cnt +=1\n",
    "    return cnt"
   ]
  },
  {
   "cell_type": "code",
   "execution_count": 15,
   "id": "prospective-accounting",
   "metadata": {},
   "outputs": [
    {
     "name": "stdout",
     "output_type": "stream",
     "text": [
      "52\n"
     ]
    }
   ],
   "source": [
    "answer = 0\n",
    "for t in  range(left, right+1):\n",
    "    if count_div(t)%2 == 0:\n",
    "        answer+=t\n",
    "    else: answer -= t\n",
    "print(answer)"
   ]
  },
  {
   "cell_type": "code",
   "execution_count": 16,
   "id": "premier-principal",
   "metadata": {},
   "outputs": [],
   "source": [
    "def count_div(a):\n",
    "    cnt = 0 \n",
    "    for i in range(1, a+1):\n",
    "        if a%i==0:\n",
    "              cnt +=1\n",
    "    return cnt\n",
    "\n",
    "def solution(left, right):\n",
    "    answer = 0\n",
    "    for t in  range(left, right+1):\n",
    "        if count_div(t)%2 == 0:\n",
    "            answer+=t\n",
    "        else: answer -= t\n",
    "    return answer"
   ]
  },
  {
   "cell_type": "code",
   "execution_count": 18,
   "id": "color-lesbian",
   "metadata": {},
   "outputs": [
    {
     "data": {
      "text/plain": [
       "52"
      ]
     },
     "execution_count": 18,
     "metadata": {},
     "output_type": "execute_result"
    }
   ],
   "source": [
    "solution(left, right)"
   ]
  },
  {
   "cell_type": "markdown",
   "id": "initial-bikini",
   "metadata": {},
   "source": [
    "### [풀이2]\n",
    "\n",
    "- left ~ right 사이의 숫자들 중에 하나씩 뽑혀 들어오면, 해당 수에 대해 약수의 개수를 판별하도록하여,\n",
    "- 이들이 짝수인지 홀수인지 확인해서 answer에 더하거나 빼주었다. \n",
    "\n",
    "- 하지만  해당 방법말고, 약수가 짝수인지 홀수인지를 판별할때, 판별할 수가 제곱수인지 아닌지로 구분지을 수 있다. \n",
    "\n"
   ]
  },
  {
   "cell_type": "code",
   "execution_count": 25,
   "id": "eligible-idaho",
   "metadata": {},
   "outputs": [
    {
     "name": "stdout",
     "output_type": "stream",
     "text": [
      "4 4.0\n"
     ]
    }
   ],
   "source": [
    "t = 16\n",
    "print(int(t**0.5), t**0.5)"
   ]
  },
  {
   "cell_type": "code",
   "execution_count": 28,
   "id": "higher-syracuse",
   "metadata": {},
   "outputs": [],
   "source": [
    "def solution(left, right):\n",
    "    answer = 0\n",
    "    for t in  range(left, right+1):\n",
    "        if int(t**0.5) != t**0.5 :\n",
    "            answer+=t\n",
    "        else: answer -= t\n",
    "    return answer"
   ]
  },
  {
   "cell_type": "code",
   "execution_count": 29,
   "id": "fuzzy-lyric",
   "metadata": {},
   "outputs": [
    {
     "data": {
      "text/plain": [
       "52"
      ]
     },
     "execution_count": 29,
     "metadata": {},
     "output_type": "execute_result"
    }
   ],
   "source": [
    "solution(left, right)"
   ]
  },
  {
   "cell_type": "markdown",
   "id": "studied-treasurer",
   "metadata": {},
   "source": [
    "- count_div 함수를 사용하지 않고 제곱수만으로 판별하니 훨씬 빨라짐! "
   ]
  }
 ],
 "metadata": {
  "kernelspec": {
   "display_name": "Python 3",
   "language": "python",
   "name": "python3"
  },
  "language_info": {
   "codemirror_mode": {
    "name": "ipython",
    "version": 3
   },
   "file_extension": ".py",
   "mimetype": "text/x-python",
   "name": "python",
   "nbconvert_exporter": "python",
   "pygments_lexer": "ipython3",
   "version": "3.6.12"
  }
 },
 "nbformat": 4,
 "nbformat_minor": 5
}
