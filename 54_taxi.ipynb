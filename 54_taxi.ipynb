{
 "cells": [
  {
   "cell_type": "markdown",
   "id": "related-symbol",
   "metadata": {},
   "source": [
    "# [합승 택시 요금] \n",
    "___\n",
    "\n",
    "### [문제 설명]\n",
    "[본 문제는 정확성과 효율성 테스트 각각 점수가 있는 문제입니다.]\n",
    "\n",
    "- 밤늦게 귀가할 때 안전을 위해 항상 택시를 이용하던 무지는 최근 야근이 잦아져 택시를 더 많이 이용하게 되어 택시비를 아낄 수 있는 방법을 고민하고 있습니다.  \n",
    "\n",
    "- \"무지\"는 자신이 택시를 이용할 때 동료인 어피치 역시 자신과 비슷한 방향으로 가는 택시를 종종 이용하는 것을 알게 되었습니다. \n",
    "- \"무지\"는 \"어피치\"와 귀가 방향이 비슷하여 택시 합승을 적절히 이용하면 택시요금을 얼마나 아낄 수 있을 지 계산해 보고 \"어피치\"에게 합승을 제안해 보려고 합니다.\n",
    "\n",
    "\n",
    "![fig1](C:/Users/ryank/Desktop/ryan/Code_Test/figure/54-1.PNG)\n",
    "\n",
    "- 위 예시 그림은 택시가 이동 가능한 반경에 있는 6개 지점 사이의 이동 가능한 택시노선과 예상요금을 보여주고 있습니다.\n",
    "- 그림에서 A와 B 두 사람은 출발지점인 4번 지점에서 출발해서 택시를 타고 귀가하려고 합니다. A의 집은 6번 지점에 있으며 B의 집은 2번 지점에 있고 두 사람이 모두 귀가하는 데 소요되는 예상 최저 택시요금이 얼마인 지 계산하려고 합니다.\n",
    "\n",
    "    - 그림의 원은 지점을 나타내며 원 안의 숫자는 지점 번호를 나타냅니다.\n",
    "        - 지점이 n개일 때, 지점 번호는 1부터 n까지 사용됩니다.\n",
    "    - 지점 간에 택시가 이동할 수 있는 경로를 간선이라 하며, 간선에 표시된 숫자는 두 지점 사이의 예상 택시요금을 나타냅니다.\n",
    "        - 간선은 편의 상 직선으로 표시되어 있습니다.\n",
    "        - 위 그림 예시에서, 4번 지점에서 1번 지점으로(4→1) 가거나, 1번 지점에서 4번 지점으로(1→4) 갈 때 예상 택시요금은 10원으로 동일하며 이동 방향에 따라 달라지지 않습니다.\n",
    "    - 예상되는 최저 택시요금은 다음과 같이 계산됩니다.\n",
    "        - 4→1→5 : A, B가 합승하여 택시를 이용합니다. 예상 택시요금은 10 + 24 = 34원 입니다.\n",
    "        - 5→6 : A가 혼자 택시를 이용합니다. 예상 택시요금은 2원 입니다.\n",
    "        - 5→3→2 : B가 혼자 택시를 이용합니다. 예상 택시요금은 24 + 22 = 46원 입니다.\n",
    "        - A, B 모두 귀가 완료까지 예상되는 최저 택시요금은 34 + 2 + 46 = 82원 입니다.\n",
    "\n",
    "___\n",
    "\n",
    "### [문제]\n",
    "\n",
    "- 지점의 개수 n, 출발지점을 나타내는 s, A의 도착지점을 나타내는 a, B의 도착지점을 나타내는 b, 지점 사이의 예상 택시요금을 나타내는 fares가 매개변수로 주어집니다. \n",
    "- 이때, A, B 두 사람이 s에서 출발해서 각각의 도착 지점까지 택시를 타고 간다고 가정할 때, 최저 예상 택시요금을 계산해서 return 하도록 solution 함수를 완성해 주세요.\n",
    "- 만약, 아예 합승을 하지 않고 각자 이동하는 경우의 예상 택시요금이 더 낮다면, 합승을 하지 않아도 됩니다.\n",
    "\n",
    "___\n",
    "\n",
    "### [제한사항]\n",
    "\n",
    "    - 지점갯수 n은 3 이상 200 이하인 자연수입니다.\n",
    "    - 지점 s, a, b는 1 이상 n 이하인 자연수이며, 각기 서로 다른 값입니다.\n",
    "        - 즉, 출발지점, A의 도착지점, B의 도착지점은 서로 겹치지 않습니다.\n",
    "    - fares는 2차원 정수 배열입니다.\n",
    "    - fares 배열의 크기는 2 이상 n x (n-1) / 2 이하입니다.\n",
    "        - 예를들어, n = 6이라면 fares 배열의 크기는 2 이상 15 이하입니다. (6 x 5 / 2 = 15)\n",
    "        - fares 배열의 각 행은 [c, d, f] 형태입니다.\n",
    "        - c지점과 d지점 사이의 예상 택시요금이 f원이라는 뜻입니다.\n",
    "        - 지점 c, d는 1 이상 n 이하인 자연수이며, 각기 서로 다른 값입니다.\n",
    "        - 요금 f는 1 이상 100,000 이하인 자연수입니다.\n",
    "        - fares 배열에 두 지점 간 예상 택시요금은 1개만 주어집니다. 즉, [c, d, f]가 있다면 [d, c, f]는 주어지지 않습니다.\n",
    "    - 출발지점 s에서 도착지점 a와 b로 가는 경로가 존재하는 경우만 입력으로 주어집니다.]\n",
    "\n",
    "___\n",
    "\n",
    "### [입출력 예]\n",
    "\n",
    "![fig1](C:/Users/ryank/Desktop/ryan/Code_Test/figure/54-2.PNG)\n"
   ]
  },
  {
   "cell_type": "markdown",
   "id": "colonial-ensemble",
   "metadata": {},
   "source": [
    "### [내풀이]\n",
    "___\n",
    "\n",
    "전형적인 그래프에서의 최단 거리 문제다. 그래프에서 최단 거리를 구할 수 있는 알고리즘에는 대표적으로 다익스트라와 플로이드 와샬이 있다.\n",
    "\n",
    "#### [아이디어]\n",
    "\n",
    "> 가중치가 있는 그래프에서 최단 거리(최소 요금)를 구하기 위해, 다익스트라 사용\n",
    "\n",
    "> A와 B가 헤어지는 지점을 K라고 하면,\n",
    "> 요금 = dijkstra(출발점, K) + dijkstra(K, A의 도착지점) + dijkstra(K, B의 도착지점)\n",
    "\n",
    "> 주어진 모든 지점(e.g. 출발점, A의 도착지점, B의 도착지점, 그 외 나머지 지점들)을 하나씩 K에 대입하여 나온 요금들을 비교한다.\n",
    "\n",
    "\n",
    "___"
   ]
  },
  {
   "cell_type": "markdown",
   "id": "hearing-private",
   "metadata": {},
   "source": [
    "___\n",
    "## [dijkstra algorithm]\n",
    "\n",
    "- 다익스트라의 최단 경로 알고리즘의 아이디어는 다음과 같습니다. \n",
    "- 자료 구조로는 graph 를 사용하며, 노드와 가중치를 가진 간선 을 이용하여 실제 거리를 표현합니다. 알고리즘을 간단하게 설명 하자면, 다음과 같습니다.\n",
    "    1. 출발 노드와, 도착 노드를 설정\n",
    "    2. 알고 있는 모든 거리 값을 부여\n",
    "    3. 출발 노드부터 시작하여, 방문하지 않은 인접 노드를 방문, 거리를 계산한 다음, 현재 알고있는 거리보다 짧으면 해당 값으로 갱신한다.\n",
    "    4. 현재 노드에 인접한 모든 미방문 노드까지의 거리를 계산했다면, 현재 노드는 방문한 것이므로, 미방문 집합에서 제거한다.\n",
    "    5. 도착 노드가 미방문 노드 집합에서 벗어나면, 알고리즘을 종료한다.\n",
    "    \n",
    "    \n",
    "- 다익스트라 알고리즘을 실행 하는 중에는 방문하지 않은 인접 노드를 방문하는 부분이 있습니다. \n",
    "- 이 부분에서 우선순위 큐를 사용 하면, 지금까지 발견된 가장 짧은 거리의 노드에 대해서 먼저 계산할 수 있으며, 더 긴 거리로 계산 되었을 시 스킵 또한 가능합니다.\n",
    "\n",
    "- 우선순위 큐는 heapq 모듈을 이용해 구현 할 수 있습니다.\n",
    "\n",
    "``` python\n",
    "graph = {\n",
    "    'A': {'B': 8, 'C': 1, 'D': 2},\n",
    "    'B': {},\n",
    "    'C': {'B': 5, 'D': 2},\n",
    "    'D': {'E': 3, 'F': 5},\n",
    "    'E': {'F': 1},\n",
    "    'F': {'A': 5}\n",
    "}\n",
    "```\n",
    "___"
   ]
  },
  {
   "cell_type": "code",
   "execution_count": 41,
   "id": "super-qatar",
   "metadata": {},
   "outputs": [],
   "source": [
    "import heapq  # 우선순위 큐 구현을 위함\n",
    "\n",
    "def dijkstra(graph, start):\n",
    "    distances = {node: float('inf') for node in graph}  # start로 부터의 거리 값을 저장하기 위함\n",
    "\n",
    "    distances[start] = 0  # 시작 값은 0이어야 함\n",
    "#     print(distances)\n",
    "    queue = []\n",
    "    heapq.heappush(queue, [distances[start], start])  # 시작 노드부터 탐색 시작 하기 위함.\n",
    "\n",
    "    while queue:  # queue에 남아 있는 노드가 없으면 끝\n",
    "#         print(distances)\n",
    "        current_distance, current_destination = heapq.heappop(queue)  # 탐색 할 노드, 거리를 가져옴.\n",
    "#         print(current_distance, current_destination)\n",
    "#         print(distances[current_destination])\n",
    "\n",
    "        if distances[current_destination] < current_distance:  # 기존에 있는 거리보다 길다면, 볼 필요도 없음\n",
    "            continue\n",
    "\n",
    "        for new_destination, new_distance in graph[current_destination].items():\n",
    "#             print(new_destination, new_distance, distances[new_destination])\n",
    "            distance = current_distance + new_distance  # 해당 노드를 거쳐 갈 때 거리\n",
    "            if distance < distances[new_destination]:  # 알고 있는 거리 보다 작으면 갱신\n",
    "                distances[new_destination] = distance\n",
    "                heapq.heappush(queue, [distance, new_destination])  # 다음 인접 거리를 계산 하기 위해 큐에 삽입\n",
    "#             print(queue)\n",
    "        \n",
    "#         print(\"=======================\")\n",
    "    print(distances)\n",
    "    return distances"
   ]
  },
  {
   "cell_type": "code",
   "execution_count": 2,
   "id": "wound-discount",
   "metadata": {},
   "outputs": [],
   "source": [
    "## case 1\n",
    "n = 6\n",
    "s = 4\n",
    "a = 6\n",
    "b = 2\n",
    "fares =[[4, 1, 10], [3, 5, 24], [5, 6, 2], [3, 1, 41], [5, 1, 24], [4, 6, 50], [2, 4, 66], [2, 3, 22], [1, 6, 25]]\n",
    "\n",
    "# ## case 2\n",
    "# n = 7\n",
    "# s = 3\n",
    "# a = 4\n",
    "# b = 1\n",
    "# fares = [[5, 7, 9], [4, 6, 4], [3, 6, 1], [3, 2, 3], [2, 1, 6]]\n",
    "\n",
    "# ## case 3\n",
    "# n = 6\n",
    "# s = 4\n",
    "# a = 5\n",
    "# b = 6\n",
    "# fares = [[2,6,6], [6,3,7], [4,6,7], [6,5,11], [2,5,12], [5,3,20], [2,4,8], [4,3,9]]"
   ]
  },
  {
   "cell_type": "code",
   "execution_count": 46,
   "id": "billion-sword",
   "metadata": {},
   "outputs": [
    {
     "name": "stdout",
     "output_type": "stream",
     "text": [
      "{1: {}, 2: {}, 3: {}, 4: {}, 5: {}, 6: {}}\n",
      "{1: {4: 10, 3: 41, 5: 24, 6: 25}, 2: {4: 66, 3: 22}, 3: {5: 24, 1: 41, 2: 22}, 4: {1: 10, 6: 50, 2: 66}, 5: {3: 24, 6: 2, 1: 24}, 6: {5: 2, 4: 50, 1: 25}}\n",
      "{1: 10, 2: 66, 3: 51, 4: 0, 5: 34, 6: 35}\n",
      "{1: 10, 2: 66, 3: 51, 4: 0, 5: 34, 6: 35}\n"
     ]
    }
   ],
   "source": [
    "from collections import defaultdict\n",
    "\n",
    "ans = []\n",
    "dic = {}\n",
    "for i in range(n): dic[i+1]={}\n",
    "print(dic)\n",
    "\n",
    "for j in fares:\n",
    "    dic[j[0]][j[1]] = j[2]\n",
    "    dic[j[1]][j[0]] = j[2]\n",
    "print(dic)\n",
    "\n",
    "tables = dijkstra(dic, s)\n",
    "print(tables)"
   ]
  },
  {
   "cell_type": "code",
   "execution_count": 49,
   "id": "obvious-introduction",
   "metadata": {},
   "outputs": [
    {
     "name": "stdout",
     "output_type": "stream",
     "text": [
      "1\n",
      "{1: 0, 2: 63, 3: 41, 4: 10, 5: 24, 6: 25}\n",
      "2\n",
      "{1: 63, 2: 0, 3: 22, 4: 66, 5: 46, 6: 48}\n",
      "3\n",
      "{1: 41, 2: 22, 3: 0, 4: 51, 5: 24, 6: 26}\n",
      "5\n",
      "{1: 24, 2: 46, 3: 24, 4: 34, 5: 0, 6: 2}\n",
      "6\n",
      "{1: 25, 2: 48, 3: 26, 4: 35, 5: 2, 6: 0}\n",
      "[101, 98, 114, 99, 82, 83, 101, 98, 114, 99, 82, 83, 101, 98, 114, 99, 82, 83]\n",
      "82\n"
     ]
    }
   ],
   "source": [
    "### 3가지 경우의 수\n",
    "# 1. 처음부터 따로 출발\n",
    "# 2. 중간에서 헤어지고 따로 가는방법\n",
    "# 3. 한사람 도착지까지 가고 거기서 혼자 가는 방법\n",
    "# => 2, 3은 같은 경우!\n",
    "\n",
    "ans.append(tables[a]+tables[b]) # 처음부터 따로 출발\n",
    "\n",
    "for i in range(1, n+1):\n",
    "    if i == s:\n",
    "        continue\n",
    "    print(i)\n",
    "    stopovers = dijkstra(dic, i)\n",
    "    ans.append(tables[i] + stopovers[a] +stopovers[b])\n",
    "    \n",
    "print(ans)\n",
    "print(min(ans))"
   ]
  },
  {
   "cell_type": "code",
   "execution_count": 38,
   "id": "junior-basement",
   "metadata": {},
   "outputs": [
    {
     "name": "stdout",
     "output_type": "stream",
     "text": [
      "35 66\n"
     ]
    }
   ],
   "source": [
    "print(tables[a], tables[b])"
   ]
  },
  {
   "cell_type": "code",
   "execution_count": 51,
   "id": "disabled-investigation",
   "metadata": {},
   "outputs": [],
   "source": [
    "import heapq  # 우선순위 큐 구현을 위함\n",
    "\n",
    "def dijkstra(graph, start):\n",
    "    distances = {node: float('inf') for node in graph}  # start로 부터의 거리 값을 저장하기 위함\n",
    "\n",
    "    distances[start] = 0  # 시작 값은 0이어야 함\n",
    "    queue = []\n",
    "    heapq.heappush(queue, [distances[start], start])  # 시작 노드부터 탐색 시작 하기 위함.\n",
    "\n",
    "    while queue:  # queue에 남아 있는 노드가 없으면 끝\n",
    "        current_distance, current_destination = heapq.heappop(queue)  # 탐색 할 노드, 거리를 가져옴.\n",
    "\n",
    "        if distances[current_destination] < current_distance:  # 기존에 있는 거리보다 길다면, 볼 필요도 없음\n",
    "            continue\n",
    "\n",
    "        for new_destination, new_distance in graph[current_destination].items():\n",
    "            distance = current_distance + new_distance  # 해당 노드를 거쳐 갈 때 거리\n",
    "            if distance < distances[new_destination]:  # 알고 있는 거리 보다 작으면 갱신\n",
    "                distances[new_destination] = distance\n",
    "                heapq.heappush(queue, [distance, new_destination])  # 다음 인접 거리를 계산 하기 위해 큐에 삽입\n",
    "        \n",
    "#     print(distances)\n",
    "    return distances\n",
    "\n",
    "def solution(n, s, a, b, fares):\n",
    "    ans = []\n",
    "    dic = {}\n",
    "    for i in range(1, n+1) : dic[i]={}\n",
    "    for j in fares:\n",
    "        dic[j[0]][j[1]] = j[2]\n",
    "        dic[j[1]][j[0]] = j[2]\n",
    "    \n",
    "    tables = dijkstra(dic, s)\n",
    "    ans.append(tables[a]+tables[b]) # a, b를 따로 갈 경우 삽입\n",
    "    \n",
    "    for i in range(1, n+1):\n",
    "        if i==s: continue\n",
    "        tmp = dijkstra(dic, i)\n",
    "        ans.append(tables[i] + tmp[a] + tmp[b])\n",
    "    return min(ans)"
   ]
  },
  {
   "cell_type": "code",
   "execution_count": 55,
   "id": "opened-processing",
   "metadata": {},
   "outputs": [
    {
     "data": {
      "text/plain": [
       "82"
      ]
     },
     "execution_count": 55,
     "metadata": {},
     "output_type": "execute_result"
    }
   ],
   "source": [
    "n = 6\n",
    "s = 4\n",
    "a = 6\n",
    "b = 2\n",
    "fares =[[4, 1, 10], [3, 5, 24], [5, 6, 2], [3, 1, 41], [5, 1, 24], [4, 6, 50], [2, 4, 66], [2, 3, 22], [1, 6, 25]]\n",
    "solution(n, s, a, b, fares)"
   ]
  },
  {
   "cell_type": "code",
   "execution_count": 54,
   "id": "norwegian-intention",
   "metadata": {},
   "outputs": [
    {
     "data": {
      "text/plain": [
       "14"
      ]
     },
     "execution_count": 54,
     "metadata": {},
     "output_type": "execute_result"
    }
   ],
   "source": [
    "n = 7\n",
    "s = 3\n",
    "a = 4\n",
    "b = 1\n",
    "fares = [[5, 7, 9], [4, 6, 4], [3, 6, 1], [3, 2, 3], [2, 1, 6]]\n",
    "solution(n, s, a, b, fares)"
   ]
  },
  {
   "cell_type": "code",
   "execution_count": 56,
   "id": "novel-galaxy",
   "metadata": {},
   "outputs": [
    {
     "data": {
      "text/plain": [
       "18"
      ]
     },
     "execution_count": 56,
     "metadata": {},
     "output_type": "execute_result"
    }
   ],
   "source": [
    "n = 6\n",
    "s = 4\n",
    "a = 5\n",
    "b = 6\n",
    "fares = [[2,6,6], [6,3,7], [4,6,7], [6,5,11], [2,5,12], [5,3,20], [2,4,8], [4,3,9]]\n",
    "solution(n, s, a, b, fares)"
   ]
  }
 ],
 "metadata": {
  "kernelspec": {
   "display_name": "Python 3",
   "language": "python",
   "name": "python3"
  },
  "language_info": {
   "codemirror_mode": {
    "name": "ipython",
    "version": 3
   },
   "file_extension": ".py",
   "mimetype": "text/x-python",
   "name": "python",
   "nbconvert_exporter": "python",
   "pygments_lexer": "ipython3",
   "version": "3.6.12"
  }
 },
 "nbformat": 4,
 "nbformat_minor": 5
}
