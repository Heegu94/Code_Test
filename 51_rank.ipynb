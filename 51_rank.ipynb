{
 "cells": [
  {
   "cell_type": "markdown",
   "id": "twelve-things",
   "metadata": {},
   "source": [
    "# [순위] - graph\n",
    "___\n",
    "\n",
    "### [문제 설명]\n",
    "\n",
    "- n명의 권투선수가 권투 대회에 참여했고 각각 1번부터 n번까지 번호를 받았습니다. \n",
    "- 권투 경기는 1대1 방식으로 진행이 되고, 만약 A 선수가 B 선수보다 실력이 좋다면 A 선수는 B 선수를 항상 이깁니다. \n",
    "- 심판은 주어진 경기 결과를 가지고 선수들의 순위를 매기려 합니다. 하지만 몇몇 경기 결과를 분실하여 정확하게 순위를 매길 수 없습니다.\n",
    "\n",
    "- 선수의 수 n, 경기 결과를 담은 2차원 배열 results가 매개변수로 주어질 때 정확하게 순위를 매길 수 있는 선수의 수를 return 하도록 solution 함수를 작성해주세요.\n",
    "\n",
    "\n",
    "___\n",
    "\n",
    "### [제한 사항]\n",
    "\n",
    "- 선수의 수는 1명 이상 100명 이하입니다.\n",
    "- 경기 결과는 1개 이상 4,500개 이하입니다.\n",
    "- results 배열 각 행 [A, B]는 A 선수가 B 선수를 이겼다는 의미입니다.\n",
    "- 모든 경기 결과에는 모순이 없습니다.\n",
    "\n",
    "___\n",
    "\n",
    "### [입출력 예]\n",
    "\n",
    "> n = 5, results = [[4, 3], [4, 2], [3, 2], [1, 2], [2, 5]]\t, return 2\n",
    "\n"
   ]
  },
  {
   "cell_type": "markdown",
   "id": "engaging-questionnaire",
   "metadata": {},
   "source": [
    "___\n",
    "### [내 풀이]\n",
    "\n",
    "- graph 유형의 문제이므로, 우선적으로 대진 결과들을 모아 이긴선수를 key로하는 dict() 와 진 선수를 key로하는 dict()를 정리하였다.\n",
    "\n",
    "- 해당 과정에 있어 collections.defaultdict() 를 사용하였다.\n",
    "- collections.defaultdict는 딕셔너리(dictionary)와 거의 비슷하지만 key값이 없을 경우 미리 지정해 놓은 초기(default)값을 반환하는 dictionary이다.\n",
    "\n",
    "``` python \n",
    "win = defaultdict(set)\n",
    "lose = defaultdict(set)\n",
    "\n",
    "```\n",
    "- 위와 같이 선언해줄 경우, key 값이 없을 경우 자동으로 set() 함수를 default 값으로 반환하여 줄수 있다. \n",
    "- 이와 같은 함수를 사용하면 dict.setdefault()를 사용하는 것보다 손쉽게 초기값을 지정해 줄 수 있다. \n",
    "- 그리고 set() 자리에 지정해주고 싶은 default값의 함수를 넣어 줄수도 있다.\n",
    "\n",
    "\n",
    "- 이렇게 정리한 뒤, \n",
    "\n",
    "- 예를 들면, 1번 선수는 2번 선수를 이겼다. 이와 같은 경우, 1번 선수에게 이긴 선수들은 자동으로 2번 선수가 질수 밖에 없게 된다. \n",
    "- 반대로, 2번 선수는 1,3,4번 선수에게 졌다. 이와 같은 경우, 2번 선수에게 진 선수들은 자동으로 1,3,4 번 선수들에게 질수 밖에 없다.\n",
    "\n",
    "> 위 와 같은 방식으로 정리를 해보면, 아래와 같이 코드를 작성할 수 있다."
   ]
  },
  {
   "cell_type": "code",
   "execution_count": 17,
   "id": "given-token",
   "metadata": {},
   "outputs": [],
   "source": [
    "n= 5\n",
    "results = [[4, 3], [4, 2], [3, 2], [1, 2], [2, 5]]\t"
   ]
  },
  {
   "cell_type": "code",
   "execution_count": 73,
   "id": "physical-context",
   "metadata": {},
   "outputs": [
    {
     "name": "stdout",
     "output_type": "stream",
     "text": [
      "defaultdict(<class 'set'>, {4: {2, 3}, 3: {2}, 1: {2}, 2: {5}})\n",
      "defaultdict(<class 'set'>, {3: {4}, 2: {1, 3, 4}, 5: {2}})\n"
     ]
    },
    {
     "ename": "TypeError",
     "evalue": "unhashable type: 'set'",
     "output_type": "error",
     "traceback": [
      "\u001b[1;31m---------------------------------------------------------------------------\u001b[0m",
      "\u001b[1;31mTypeError\u001b[0m                                 Traceback (most recent call last)",
      "\u001b[1;32m<ipython-input-73-7b35c9856c3d>\u001b[0m in \u001b[0;36m<module>\u001b[1;34m\u001b[0m\n\u001b[0;32m     14\u001b[0m         \u001b[1;32mif\u001b[0m \u001b[0mlose\u001b[0m\u001b[1;33m[\u001b[0m\u001b[0mi\u001b[0m\u001b[1;33m]\u001b[0m \u001b[1;33m==\u001b[0m \u001b[0mset\u001b[0m\u001b[1;33m(\u001b[0m\u001b[1;33m)\u001b[0m\u001b[1;33m:\u001b[0m\u001b[1;33m\u001b[0m\u001b[1;33m\u001b[0m\u001b[0m\n\u001b[0;32m     15\u001b[0m             \u001b[1;32mpass\u001b[0m\u001b[1;33m\u001b[0m\u001b[1;33m\u001b[0m\u001b[0m\n\u001b[1;32m---> 16\u001b[1;33m         \u001b[1;32melse\u001b[0m\u001b[1;33m:\u001b[0m \u001b[0mlose\u001b[0m\u001b[1;33m[\u001b[0m\u001b[0mloser\u001b[0m\u001b[1;33m]\u001b[0m\u001b[1;33m.\u001b[0m\u001b[0madd\u001b[0m\u001b[1;33m(\u001b[0m\u001b[0mlose\u001b[0m\u001b[1;33m[\u001b[0m\u001b[0mi\u001b[0m\u001b[1;33m]\u001b[0m\u001b[1;33m)\u001b[0m\u001b[1;33m\u001b[0m\u001b[1;33m\u001b[0m\u001b[0m\n\u001b[0m\u001b[0;32m     17\u001b[0m     \u001b[1;32mfor\u001b[0m \u001b[0mwinner\u001b[0m \u001b[1;32min\u001b[0m \u001b[0mlose\u001b[0m\u001b[1;33m[\u001b[0m\u001b[0mi\u001b[0m\u001b[1;33m]\u001b[0m\u001b[1;33m:\u001b[0m\u001b[1;33m\u001b[0m\u001b[1;33m\u001b[0m\u001b[0m\n\u001b[0;32m     18\u001b[0m         \u001b[0mwin\u001b[0m\u001b[1;33m[\u001b[0m\u001b[0mwinner\u001b[0m\u001b[1;33m]\u001b[0m\u001b[1;33m.\u001b[0m\u001b[0madd\u001b[0m\u001b[1;33m(\u001b[0m\u001b[0mwin\u001b[0m\u001b[1;33m[\u001b[0m\u001b[0mi\u001b[0m\u001b[1;33m]\u001b[0m\u001b[1;33m)\u001b[0m\u001b[1;33m\u001b[0m\u001b[1;33m\u001b[0m\u001b[0m\n",
      "\u001b[1;31mTypeError\u001b[0m: unhashable type: 'set'"
     ]
    }
   ],
   "source": [
    "from collections import defaultdict\n",
    "ans = 0\n",
    "win = defaultdict(set)\n",
    "lose = defaultdict(set)\n",
    "\n",
    "for a, b in results:\n",
    "    win[a].add(b)\n",
    "    lose[b].add(a)\n",
    "print(win)\n",
    "print(lose)\n",
    "\n",
    "for i in range(1, n+1):\n",
    "    for loser in win[i]:\n",
    "        if lose[i] == set():\n",
    "            pass\n",
    "        else: lose[loser].add(lose[i])\n",
    "    for winner in lose[i]:\n",
    "        win[winner].add(win[i])\n",
    "        \n",
    "print(win)\n",
    "print(lose)"
   ]
  },
  {
   "cell_type": "code",
   "execution_count": 50,
   "id": "junior-policy",
   "metadata": {},
   "outputs": [
    {
     "name": "stdout",
     "output_type": "stream",
     "text": [
      "defaultdict(<class 'set'>, {4: {2, 3}, 3: {2}, 1: {2}, 2: {5}})\n",
      "defaultdict(<class 'set'>, {3: {4}, 2: {1, 3, 4}, 5: {2}})\n",
      "====================================================================\n",
      "defaultdict(<class 'set'>, {4: {2, 3, 5}, 3: {2, 5}, 1: {2, 5}, 2: {5}, 5: set()})\n",
      "defaultdict(<class 'set'>, {3: {4}, 2: {1, 3, 4}, 5: {1, 2, 3, 4}, 1: set(), 4: set()})\n",
      "====================================================================\n",
      "2\n"
     ]
    }
   ],
   "source": [
    "from collections import defaultdict\n",
    "ans = 0\n",
    "wins = defaultdict(set)\n",
    "loses = defaultdict(set)\n",
    "\n",
    "for a, b in results:\n",
    "    wins[a].add(b)\n",
    "    loses[b].add(a)\n",
    "    \n",
    "print(wins)\n",
    "print(loses)\n",
    "for i in range(1, n+1):\n",
    "    for loser in wins[i]:\n",
    "        loses[loser] |= loses[i]\n",
    "    for winner in loses[i]:\n",
    "        wins[winner] |= wins[i]\n",
    "        \n",
    "print(\"====================================================================\")\n",
    "print(wins)\n",
    "print(loses)\n",
    "\n",
    "for i in range(1, n+1):\n",
    "    if len(wins[i]) + len(loses[i]) == n-1:\n",
    "        ans+=1\n",
    "\n",
    "print(\"====================================================================\")\n",
    "print(ans)"
   ]
  },
  {
   "cell_type": "code",
   "execution_count": null,
   "id": "generous-record",
   "metadata": {},
   "outputs": [],
   "source": [
    "from collections import defaultdict\n",
    "\n",
    "def solution(n, results):\n",
    "    \n",
    "    ans = 0\n",
    "    wins = defaultdict(set)\n",
    "    loses = defaultdict(set)\n",
    "\n",
    "    for a, b in results:\n",
    "        wins[a].add(b)\n",
    "        loses[b].add(a)\n",
    "        \n",
    "    for i in range(1, n+1):\n",
    "        for loser in wins[i]:\n",
    "            loses[loser] |= loses[i]\n",
    "        for winner in loses[i]:\n",
    "            wins[winner] |= wins[i]\n",
    "            \n",
    "    for i in range(1, n+1):\n",
    "        if len(wins[i]) + len(loses[i]) == n-1:\n",
    "            ans+=1\n",
    "            \n",
    "    return ans"
   ]
  }
 ],
 "metadata": {
  "kernelspec": {
   "display_name": "Python 3",
   "language": "python",
   "name": "python3"
  },
  "language_info": {
   "codemirror_mode": {
    "name": "ipython",
    "version": 3
   },
   "file_extension": ".py",
   "mimetype": "text/x-python",
   "name": "python",
   "nbconvert_exporter": "python",
   "pygments_lexer": "ipython3",
   "version": "3.6.12"
  }
 },
 "nbformat": 4,
 "nbformat_minor": 5
}
