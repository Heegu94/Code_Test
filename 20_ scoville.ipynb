{
 "cells": [
  {
   "cell_type": "markdown",
   "id": "former-smart",
   "metadata": {},
   "source": [
    "# [더 맵게]\n",
    "___\n",
    "\n",
    "### [문제 설명]\n",
    "\n",
    "- 매운 것을 좋아하는 Leo는 모든 음식의 스코빌 지수를 K 이상으로 만들고 싶습니다. \n",
    "- 모든 음식의 스코빌 지수를 K 이상으로 만들기 위해 Leo는 스코빌 지수가 가장 낮은 두 개의 음식을 아래와 같이 특별한 방법으로 섞어 새로운 음식을 만듭니다.\n",
    "\n",
    "- 섞은 음식의 스코빌 지수 = 가장 맵지 않은 음식의 스코빌 지수 + (두 번째로 맵지 않은 음식의 스코빌 지수 * 2)\n",
    "\n",
    "- Leo는 모든 음식의 스코빌 지수가 K 이상이 될 때까지 반복하여 섞습니다.\n",
    "- Leo가 가진 음식의 스코빌 지수를 담은 배열 scoville과 원하는 스코빌 지수 K가 주어질 때, 모든 음식의 스코빌 지수를 K 이상으로 만들기 위해 섞어야 하는 최소 횟수를 return 하도록 solution 함수를 작성해주세요.\n",
    "\n",
    "___\n",
    "\n",
    "### [제한 사항]\n",
    "\n",
    "- scoville의 길이는 2 이상 1,000,000 이하입니다.\n",
    "- K는 0 이상 1,000,000,000 이하입니다.\n",
    "- scoville의 원소는 각각 0 이상 1,000,000 이하입니다.\n",
    "- 모든 음식의 스코빌 지수를 K 이상으로 만들 수 없는 경우에는 -1을 return 합니다.\n",
    "\n",
    "\n",
    "___ \n",
    "\n",
    "### [입출력 예]\n",
    "\n",
    "- scovile = [1,2,3,9,10,12], K = 7\n",
    "- return 2"
   ]
  },
  {
   "cell_type": "markdown",
   "id": "excited-rotation",
   "metadata": {},
   "source": [
    "___\n",
    "### [내 풀이]\n",
    "\n",
    "- 우선 문제에서 제시한 heapq(힙큐) 알고리즘을 사용하지 않고 collections.deque를 사용해보았다. \n",
    "- 문제는 맞추지만,, 런타임 에러..\n",
    "\n",
    "- 역시 우선순위 큐 알고리즘인 힙큐를 사용해야 하는 것으로 사료됨."
   ]
  },
  {
   "cell_type": "code",
   "execution_count": 24,
   "id": "average-london",
   "metadata": {},
   "outputs": [],
   "source": [
    "scoville = [1,2,3,9,10,12]\n",
    "K = 7"
   ]
  },
  {
   "cell_type": "code",
   "execution_count": 29,
   "id": "typical-richardson",
   "metadata": {},
   "outputs": [],
   "source": [
    "from collections import deque\n",
    "\n",
    "def solution(scoville, K):\n",
    "    answer = 0\n",
    "\n",
    "    while True:\n",
    "        scoville = deque(sorted(scoville))\n",
    "#         print(scovile)\n",
    "        if scoville[0] >= K : return answer\n",
    "        else: pass\n",
    "        \n",
    "        a, b = scoville.popleft(), scoville.popleft()\n",
    "        c = a+(b*2) \n",
    "        scoville.insert(0, c)\n",
    "        answer +=1\n",
    "#         print(a,b)"
   ]
  },
  {
   "cell_type": "code",
   "execution_count": 30,
   "id": "focused-treasure",
   "metadata": {},
   "outputs": [
    {
     "data": {
      "text/plain": [
       "2"
      ]
     },
     "execution_count": 30,
     "metadata": {},
     "output_type": "execute_result"
    }
   ],
   "source": [
    "solution(scoville, K)"
   ]
  },
  {
   "cell_type": "markdown",
   "id": "proved-supplier",
   "metadata": {},
   "source": [
    "___\n",
    "### [2번째 풀이] - heapq 사용\n",
    "\n",
    "#### heapq 알고리즘 \n",
    "\n",
    "- 이 모듈은 우선순위 큐 알고리즘이다. (최댓값과 최솟값을 찾는 연산을 빠르게 하기 위해 고안된 트리를 기본으로 함)\n",
    "\n",
    "- 힙은 모든 부모 노드가 자식보다 작거나 같은 값을 갖는 2진 트리이다. \n",
    "- 이 구현에서는 모든 K 에 대해 heap[k] <= heap[2xK+1]와 heap[k] <= heap[2xK+2] 인 배열을 사용한다. \n",
    "- 요소는 0부터 세고, 비교를 위해 존재 하지 않는 요소들은 무한으로 간주한다. \n",
    "- 흥미로운 특성은 가장 작은 요소가 항상 루트인 heap[0]이다.\n",
    "\n",
    "=> 해당 특성을 이용하여, heap.sort() 시 heap[0]은 가장 작은 항목이다. \n"
   ]
  },
  {
   "cell_type": "markdown",
   "id": "swedish-admission",
   "metadata": {},
   "source": [
    "- 코드는 이전에 짯던 코드 베이스에 deque를 heapq 알고리즘으로 대체 하였다.\n",
    "\n",
    "- 결과는 성공"
   ]
  },
  {
   "cell_type": "code",
   "execution_count": 38,
   "id": "deadly-marsh",
   "metadata": {},
   "outputs": [],
   "source": [
    "import heapq\n",
    "\n",
    "def solution(scoville, K):\n",
    "    heapq.heapify(scoville) # 일반 list 를 heap 형태로 해줌. \n",
    "    answer = 0 \n",
    "    \n",
    "    while len(scoville)>=2:\n",
    "        min_scoville = heapq.heappop(scoville)\n",
    "        if min_scoville > K: return answer\n",
    "        min_scoville2 = heapq.heappop(scoville)\n",
    "        heapq.heappush(scoville, min_scoville+(min_scoville2*2))\n",
    "        answer+=1\n",
    "        \n",
    "    if scoville[0] > K: return answer\n",
    "    else: return -1"
   ]
  },
  {
   "cell_type": "code",
   "execution_count": 39,
   "id": "essential-harrison",
   "metadata": {},
   "outputs": [
    {
     "data": {
      "text/plain": [
       "2"
      ]
     },
     "execution_count": 39,
     "metadata": {},
     "output_type": "execute_result"
    }
   ],
   "source": [
    "scoville = [1,2,3,9,10,12]\n",
    "K = 7\n",
    "\n",
    "solution(scoville, K)"
   ]
  }
 ],
 "metadata": {
  "kernelspec": {
   "display_name": "Python 3",
   "language": "python",
   "name": "python3"
  },
  "language_info": {
   "codemirror_mode": {
    "name": "ipython",
    "version": 3
   },
   "file_extension": ".py",
   "mimetype": "text/x-python",
   "name": "python",
   "nbconvert_exporter": "python",
   "pygments_lexer": "ipython3",
   "version": "3.6.12"
  }
 },
 "nbformat": 4,
 "nbformat_minor": 5
}
