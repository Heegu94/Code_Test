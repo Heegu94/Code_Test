{
 "cells": [
  {
   "cell_type": "markdown",
   "id": "final-shirt",
   "metadata": {},
   "source": [
    "# [내적]\n",
    "___\n",
    "### [문제 설명]\n",
    "\n",
    "- 길이가 같은 두 1차원 정수 배열 a, b가 매개변수로 주어집니다. \n",
    "- a와 b의 내적을 return 하도록 solution 함수를 완성해주세요\n",
    "\n",
    "- 이때, a와 b의 내적은 a[0]*b[0] + a[1]*b[1] + ... + a[n-1]*b[n-1] 입니다. (n은 a, b의 길이)\n",
    "\n",
    "___\n",
    "\n",
    "### [제한사항]\n",
    "- a, b의 길이는 1 이상 1,000 이하입니다.\n",
    "- a, b의 모든 수는 -1,000 이상 1,000 이하입니다.\n",
    "\n",
    "___\n",
    "\n",
    "### [입출력 예]\n",
    "> a = [1,2,3,4], b = [-3,-1,0,2], result = 3\n",
    "\n",
    "> a = [-1,0,1], b = [1,0,-1], result = -2\n",
    "\n",
    "___\n",
    "\n",
    "### [내 풀이]\n",
    "\n",
    "길이가 같은 1차원 정수 배열에서, 각각의 원소를 하나씩 뽑아와 곱해준 값을 모두 더하면 내적 값을 구할 수 있다.\n"
   ]
  },
  {
   "cell_type": "code",
   "execution_count": 2,
   "id": "noticed-princess",
   "metadata": {},
   "outputs": [],
   "source": [
    "a = [1,2,3,4]\n",
    "b = [-3, -1, 0, 2]"
   ]
  },
  {
   "cell_type": "code",
   "execution_count": 3,
   "id": "elementary-title",
   "metadata": {},
   "outputs": [],
   "source": [
    "ans = 0\n",
    "for i in range(len(a)):\n",
    "    ans += a[i]*b[i]"
   ]
  },
  {
   "cell_type": "code",
   "execution_count": 4,
   "id": "third-synthetic",
   "metadata": {},
   "outputs": [
    {
     "data": {
      "text/plain": [
       "3"
      ]
     },
     "execution_count": 4,
     "metadata": {},
     "output_type": "execute_result"
    }
   ],
   "source": [
    "ans"
   ]
  },
  {
   "cell_type": "markdown",
   "id": "greatest-termination",
   "metadata": {},
   "source": [
    "- 짧은 코드,, a의 원소개수 만큼 a와 b에서 원소를 뽑아 list에 정리해 준뒤, sum()을 통해 더해주었다.\n",
    "- len(a)만큼 loop를 돌고, 결과 배열의 개수 만큼 sum()으로 loop를 돌기 때문에 running time이 조금 걸린다."
   ]
  },
  {
   "cell_type": "code",
   "execution_count": 5,
   "id": "latin-multimedia",
   "metadata": {},
   "outputs": [],
   "source": [
    "def solution(a,b):\n",
    "    return sum(a[i]*b[i] for i in range(len(a)))"
   ]
  },
  {
   "cell_type": "markdown",
   "id": "olive-tulsa",
   "metadata": {},
   "source": [
    "- sum()을 사용하지 않고, for문을 통해 바로 곱셈의 결과를 ans에 더해주는 방식을 사용할 경우 running time을 더 줄일수 있었다."
   ]
  },
  {
   "cell_type": "code",
   "execution_count": 6,
   "id": "binding-regular",
   "metadata": {},
   "outputs": [],
   "source": [
    "def solution(a,b):\n",
    "    ans=0\n",
    "    for i in range(len(a)):\n",
    "        ans += a[i]*b[i]\n",
    "    return ans"
   ]
  },
  {
   "cell_type": "markdown",
   "id": "vertical-basement",
   "metadata": {},
   "source": [
    "- len() 함수를 사용하여 길이를 구하지 않고, zip()을 통해 a와 b의 원소를 차례로 뽑아서 곱셈을 해줌으로써 이젠의 코드보다 running time을 더 줄일수 있었다.\n",
    "- code의 길이가 길어지지만, 조금더 시간적 측면에서 효율성이 높음을 알 수 있다."
   ]
  },
  {
   "cell_type": "code",
   "execution_count": 7,
   "id": "impaired-foster",
   "metadata": {},
   "outputs": [],
   "source": [
    "def solution(a,b):\n",
    "    ans=0\n",
    "    for x, y in zip(a, b):\n",
    "        ans += x*y\n",
    "    return ans"
   ]
  }
 ],
 "metadata": {
  "kernelspec": {
   "display_name": "Python 3",
   "language": "python",
   "name": "python3"
  },
  "language_info": {
   "codemirror_mode": {
    "name": "ipython",
    "version": 3
   },
   "file_extension": ".py",
   "mimetype": "text/x-python",
   "name": "python",
   "nbconvert_exporter": "python",
   "pygments_lexer": "ipython3",
   "version": "3.6.12"
  }
 },
 "nbformat": 4,
 "nbformat_minor": 5
}
