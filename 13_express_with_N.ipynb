{
 "cells": [
  {
   "cell_type": "markdown",
   "id": "latin-packaging",
   "metadata": {},
   "source": [
    "# [N 으로 표현]\n",
    "___\n",
    "\n",
    "### [문제 설명]\n",
    "\n",
    "아래와 같이 5와 사칙연산만으로 12를 표현할 수 있습니다.\n",
    "\n",
    "- 12 = 5 + 5 + (5 / 5) + (5 / 5)\n",
    "- 12 = 55 / 5 + 5 / 5\n",
    "- 12 = (55 + 5) / 5\n",
    "\n",
    "5를 사용한 횟수는 각각 6,5,4 입니다. 그리고 이중 가장 작은 경우는 4입니다.\n",
    "\n",
    "이처럼 숫자 N과 number가 주어질 때, N과 사칙연산만 사용해서 표현 할 수 있는 방법 중 N 사용횟수의 최솟값을 return 하도록 solution 함수를 작성하세요.\n",
    "\n",
    "___\n",
    "### [제한사항]\n",
    "\n",
    "- N은 1 이상 9 이하입니다.\n",
    "- number는 1 이상 32,000 이하입니다.\n",
    "- 수식에는 괄호와 사칙연산만 가능하며 나누기 연산에서 나머지는 무시합니다.\n",
    "- 최솟값이 8보다 크면 -1을 return 합니다."
   ]
  },
  {
   "cell_type": "markdown",
   "id": "inside-lesbian",
   "metadata": {},
   "source": [
    "### [내 풀이]\n",
    "\n",
    "- 우선 N 이 1 이상 9 이하의 수..이다.\n",
    "\n",
    "- case가 많지는 않을 것으로 생각되므로, N 이 사용된 횟수로 case를 나누어 보았다.\n",
    "- if N=5 이고 n = 1 일 경우, 5\n",
    "- if N=5 이고 n = 2 일 경우, 55, (5+5), (5-5), (5x5), (5/5)\n",
    "- if N=5 이고 n = 3 일 경우, \n",
    "- 555, \n",
    "- (5+5)+5, (5+5)-5, (5+5)x5 (5+5)/5\n",
    "- (5-5)+5, (5-5)-5, (5-5)x5 (5-5)/5\n",
    "- (5x5)+5, (5x5)-5, (5x5)x5 (5x5)/5\n",
    "- (5/5)+5, (5/5)-5, (5/5)x5 (5/5)/5\n",
    "\n",
    "- 이전 단계에서 사용된 것들이 다음단계에서도 사용된다. "
   ]
  },
  {
   "cell_type": "code",
   "execution_count": 21,
   "id": "given-interference",
   "metadata": {
    "collapsed": true,
    "jupyter": {
     "outputs_hidden": true
    }
   },
   "outputs": [
    {
     "name": "stdout",
     "output_type": "stream",
     "text": [
      "4\n",
      "[0, [5], [55, 10, 0, 0, 25, 1.0, 1.0], [555, 60, -50, 50, 275, 0.09090909090909091, 11.0, 15, -5, 5, 50, 0.5, 2.0, 5, 5, -5, 0, 0.0, 5, 5, -5, 0, 0.0, 30, -20, 20, 125, 0.2, 5.0, 6.0, 4.0, -4.0, 5.0, 5.0, 0.2, 6.0, 4.0, -4.0, 5.0, 5.0, 0.2, 60, 50, -50, 275, 11.0, 0.09090909090909091, 15, 5, -5, 50, 2.0, 0.5, 5, -5, 5, 0, 0.0, 5, -5, 5, 0, 0.0, 30, 20, -20, 125, 5.0, 0.2, 6.0, -4.0, 4.0, 5.0, 0.2, 5.0, 6.0, -4.0, 4.0, 5.0, 0.2, 5.0], [555, 60, -50, 50, 275, 0.09090909090909091, 11.0, 15, -5, 5, 50, 0.5, 2.0, 5, 5, -5, 0, 0.0, 5, 5, -5, 0, 0.0, 30, -20, 20, 125, 0.2, 5.0, 6.0, 4.0, -4.0, 5.0, 5.0, 0.2, 6.0, 4.0, -4.0, 5.0, 5.0, 0.2, 60, 50, -50, 275, 11.0, 0.09090909090909091, 15, 5, -5, 50, 2.0, 0.5, 5, -5, 5, 0, 0.0, 5, -5, 5, 0, 0.0, 30, 20, -20, 125, 5.0, 0.2, 6.0, -4.0, 4.0, 5.0, 0.2, 5.0, 6.0, -4.0, 4.0, 5.0, 0.2, 5.0]]\n",
      "5\n",
      "[0, [5], [55, 10, 0, 0, 25, 1.0, 1.0], [555, 60, -50, 50, 275, 0.09090909090909091, 11.0, 15, -5, 5, 50, 0.5, 2.0, 5, 5, -5, 0, 0.0, 5, 5, -5, 0, 0.0, 30, -20, 20, 125, 0.2, 5.0, 6.0, 4.0, -4.0, 5.0, 5.0, 0.2, 6.0, 4.0, -4.0, 5.0, 5.0, 0.2, 60, 50, -50, 275, 11.0, 0.09090909090909091, 15, 5, -5, 50, 2.0, 0.5, 5, -5, 5, 0, 0.0, 5, -5, 5, 0, 0.0, 30, 20, -20, 125, 5.0, 0.2, 6.0, -4.0, 4.0, 5.0, 0.2, 5.0, 6.0, -4.0, 4.0, 5.0, 0.2, 5.0], [555, 60, -50, 50, 275, 0.09090909090909091, 11.0, 15, -5, 5, 50, 0.5, 2.0, 5, 5, -5, 0, 0.0, 5, 5, -5, 0, 0.0, 30, -20, 20, 125, 0.2, 5.0, 6.0, 4.0, -4.0, 5.0, 5.0, 0.2, 6.0, 4.0, -4.0, 5.0, 5.0, 0.2, 60, 50, -50, 275, 11.0, 0.09090909090909091, 15, 5, -5, 50, 2.0, 0.5, 5, -5, 5, 0, 0.0, 5, -5, 5, 0, 0.0, 30, 20, -20, 125, 5.0, 0.2, 6.0, -4.0, 4.0, 5.0, 0.2, 5.0, 6.0, -4.0, 4.0, 5.0, 0.2, 5.0]]\n"
     ]
    },
    {
     "ename": "IndexError",
     "evalue": "list index out of range",
     "output_type": "error",
     "traceback": [
      "\u001b[1;31m---------------------------------------------------------------------------\u001b[0m",
      "\u001b[1;31mIndexError\u001b[0m                                Traceback (most recent call last)",
      "\u001b[1;32m<ipython-input-21-24450f5cbfaa>\u001b[0m in \u001b[0;36m<module>\u001b[1;34m\u001b[0m\n\u001b[0;32m     15\u001b[0m     \u001b[1;32mfor\u001b[0m \u001b[0mj\u001b[0m \u001b[1;32min\u001b[0m \u001b[0mrange\u001b[0m\u001b[1;33m(\u001b[0m\u001b[1;36m1\u001b[0m\u001b[1;33m,\u001b[0m \u001b[0mi\u001b[0m\u001b[1;33m)\u001b[0m\u001b[1;33m:\u001b[0m\u001b[1;33m\u001b[0m\u001b[1;33m\u001b[0m\u001b[0m\n\u001b[0;32m     16\u001b[0m         \u001b[1;32mfor\u001b[0m \u001b[0mx\u001b[0m \u001b[1;32min\u001b[0m \u001b[0mnum_set\u001b[0m\u001b[1;33m[\u001b[0m\u001b[0mj\u001b[0m\u001b[1;33m]\u001b[0m\u001b[1;33m:\u001b[0m\u001b[1;33m\u001b[0m\u001b[1;33m\u001b[0m\u001b[0m\n\u001b[1;32m---> 17\u001b[1;33m             \u001b[1;32mfor\u001b[0m \u001b[0my\u001b[0m \u001b[1;32min\u001b[0m \u001b[0mnum_set\u001b[0m\u001b[1;33m[\u001b[0m\u001b[0mi\u001b[0m\u001b[1;33m-\u001b[0m\u001b[0mj\u001b[0m\u001b[1;33m]\u001b[0m\u001b[1;33m:\u001b[0m\u001b[1;33m\u001b[0m\u001b[1;33m\u001b[0m\u001b[0m\n\u001b[0m\u001b[0;32m     18\u001b[0m                 \u001b[0mtmp\u001b[0m\u001b[1;33m.\u001b[0m\u001b[0mappend\u001b[0m\u001b[1;33m(\u001b[0m\u001b[0mx\u001b[0m\u001b[1;33m+\u001b[0m\u001b[0my\u001b[0m\u001b[1;33m)\u001b[0m\u001b[1;33m\u001b[0m\u001b[1;33m\u001b[0m\u001b[0m\n\u001b[0;32m     19\u001b[0m                 \u001b[0mtmp\u001b[0m\u001b[1;33m.\u001b[0m\u001b[0mappend\u001b[0m\u001b[1;33m(\u001b[0m\u001b[0mx\u001b[0m\u001b[1;33m-\u001b[0m\u001b[0my\u001b[0m\u001b[1;33m)\u001b[0m\u001b[1;33m\u001b[0m\u001b[1;33m\u001b[0m\u001b[0m\n",
      "\u001b[1;31mIndexError\u001b[0m: list index out of range"
     ]
    }
   ],
   "source": [
    "N = 5\n",
    "number = 12\n",
    "\n",
    "num_set =[0,[N]]\n",
    "\n",
    "if N == number: \n",
    "    print(\"1\") \n",
    "#     break\n",
    "\n",
    "for i in range(2, 9):\n",
    "    tmp = []\n",
    "    num = int(str(N)*i)\n",
    "    tmp.append(num)\n",
    "#     for half_i in range(1, (i//2)+1):\n",
    "    for j in range(1, i):\n",
    "        for x in num_set[j]:\n",
    "            for y in num_set[i-j]:\n",
    "                tmp.append(x+y)\n",
    "                tmp.append(x-y)\n",
    "                tmp.append(y-x)\n",
    "                tmp.append(x*y)\n",
    "                if y!=0:\n",
    "                    tmp.append(x/y)\n",
    "                if x!=0:\n",
    "                    tmp.append(y/x)\n",
    "        if number in tmp:\n",
    "            print(i)\n",
    "            print(num_set)\n",
    "            break\n",
    "        num_set.append(tmp)\n",
    "print(\"-1\")"
   ]
  },
  {
   "cell_type": "code",
   "execution_count": 36,
   "id": "rotary-associate",
   "metadata": {},
   "outputs": [],
   "source": [
    "def solution(N, number):\n",
    "    if N == number:\n",
    "        return 1\n",
    "        \n",
    "    # 1. [ SET x 8 ] 초기화\n",
    "    s = [ set() for x in range(8) ] \n",
    "\n",
    "    for i,x in enumerate(s, start=1):\n",
    "        x.add( int( str(N) * i ) )\n",
    "\n",
    "    for i in range(1, 8):\n",
    "        for j in range(i):\n",
    "            for op1 in s[j]:\n",
    "                for op2 in s[i-j-1]:\n",
    "                    s[i].add(op1 + op2)\n",
    "                    s[i].add(op1 - op2)\n",
    "                    s[i].add(op1 * op2)\n",
    "                    if op2 != 0:\n",
    "                        s[i].add(op1 // op2)\n",
    "\n",
    "        if  number in s[i]:\n",
    "            answer = i + 1\n",
    "            break\n",
    "\n",
    "    else:\n",
    "        answer = -1\n",
    "\n",
    "    return answer"
   ]
  },
  {
   "cell_type": "markdown",
   "id": "acceptable-carol",
   "metadata": {},
   "source": []
  }
 ],
 "metadata": {
  "kernelspec": {
   "display_name": "Python 3",
   "language": "python",
   "name": "python3"
  },
  "language_info": {
   "codemirror_mode": {
    "name": "ipython",
    "version": 3
   },
   "file_extension": ".py",
   "mimetype": "text/x-python",
   "name": "python",
   "nbconvert_exporter": "python",
   "pygments_lexer": "ipython3",
   "version": "3.6.12"
  }
 },
 "nbformat": 4,
 "nbformat_minor": 5
}
