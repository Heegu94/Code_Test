{
 "cells": [
  {
   "cell_type": "markdown",
   "id": "egyptian-australia",
   "metadata": {},
   "source": [
    "# [조이스틱]\n",
    "___\n",
    "\n",
    "### [문제 설명]\n",
    "\n",
    "- 조이스틱으로 알파벳 이름을 완성하세요. 맨 처음엔 A로만 이루어져 있습니다.\n",
    "- ex) 완성해야 하는 이름이 세 글자면 AAA, 네 글자면 AAAA\n",
    "\n",
    "- 조이스틱을 각 방향으로 움직이면 아래와 같습니다.\n",
    "\n",
    "![figure1](C:/Users/ryank/Desktop/ryan/Code_Test/figure/18-1.PNG)\n",
    "\n",
    "\n",
    "- 예를 들아 아래의 방법으로 \"JAZ\"를 만들 수 있습니다. \n",
    "\n",
    "![figure2](C:/Users/ryank/Desktop/ryan/Code_Test/figure/18-2.PNG)\n",
    "\n",
    "- 만들고자 하는 이름 name이 매개변수로 주어질 때, 이름에 대해 조이스틱 조작 횟수의 최솟값을 return 하도록 solution 함수를 만드세요.\n",
    "\n",
    "___\n",
    "\n",
    "### [제한 사항]\n",
    "\n",
    "- name은 알파벳 대문자로만 이루어져 있습니다.\n",
    "- name의 길이는 1 이상 20 이하입니다.\n",
    "\n"
   ]
  },
  {
   "cell_type": "markdown",
   "id": "offshore-witness",
   "metadata": {},
   "source": [
    "### [내 풀이]\n",
    "___\n",
    "\n",
    "- list의 내장함수인 'ord()' 를 사용하여 ascii코드로 변환하여 알파벳간 거리를 알아낸다. \n",
    "\n",
    "- 알아낸 거리중 최소값들을 모은다."
   ]
  },
  {
   "cell_type": "code",
   "execution_count": 29,
   "id": "daily-yeast",
   "metadata": {},
   "outputs": [],
   "source": [
    "name = \"JAN\""
   ]
  },
  {
   "cell_type": "code",
   "execution_count": 51,
   "id": "baking-thread",
   "metadata": {},
   "outputs": [
    {
     "name": "stdout",
     "output_type": "stream",
     "text": [
      "[9, 0, 13]\n",
      "0 -1 13\n",
      "+1 to the right\n",
      "23\n"
     ]
    }
   ],
   "source": [
    "moves = [min(ord(i)-ord('A'), ord('Z')-ord(i)+1) for i in name]\n",
    "print(moves)\n",
    "\n",
    "idx = 0\n",
    "answer = 0\n",
    "\n",
    "while True:\n",
    "    answer+=moves[idx]\n",
    "    moves[idx]=0\n",
    "    if sum(moves)==0:\n",
    "        break \n",
    "        \n",
    "    left, right = 1, 1\n",
    "    print(idx, idx-left, moves[idx - left])\n",
    "    while moves[idx - left] == 0:\n",
    "        print(\"+1 to the left\")\n",
    "        left+=1\n",
    "    while moves[idx + right] == 0:\n",
    "        print(\"+1 to the right\")\n",
    "        right+=1\n",
    "\n",
    "    if left < right :\n",
    "        answer+=left\n",
    "        idx-=left\n",
    "    else:\n",
    "        answer+=right\n",
    "        idx+=right"
   ]
  },
  {
   "cell_type": "code",
   "execution_count": 59,
   "id": "hungarian-washer",
   "metadata": {},
   "outputs": [],
   "source": [
    "def solution(name):\n",
    "    moves = [min(ord(i)-ord('A'), ord('Z')-ord(i)+1) for i in name]\n",
    "    idx = 0\n",
    "    answer = 0\n",
    "    while True:\n",
    "        answer+=moves[idx]\n",
    "        moves[idx]=0\n",
    "        \n",
    "        if sum(moves)==0: return answer\n",
    "        \n",
    "        left, right = 1, 1\n",
    "        while moves[idx+right]==0:\n",
    "            right+=1\n",
    "        while moves[idx-left]==0:\n",
    "            left+=1\n",
    "        \n",
    "#         if right < left:\n",
    "#             answer+=right\n",
    "#             idx+=right\n",
    "#         else:\n",
    "#             answer+=left\n",
    "#             idx-=left\n",
    "        answer +=left if left < right else right\n",
    "        idx += -left if left < right else right\n",
    "            "
   ]
  },
  {
   "cell_type": "code",
   "execution_count": 75,
   "id": "processed-exclusive",
   "metadata": {},
   "outputs": [],
   "source": [
    "def solution2(name):\n",
    "    moves = [min(ord(i)-ord('A'), ord('Z')-ord(i)+1) for i in name]\n",
    "    idx = 0\n",
    "    answer = 0\n",
    "    while True:\n",
    "        answer+=moves[idx]\n",
    "        moves[idx]=0\n",
    "        \n",
    "        if sum(moves)==0: return answer\n",
    "        \n",
    "        left, right = 1, 1\n",
    "        while moves[idx+right]==0:\n",
    "            right+=1\n",
    "        while moves[idx-left]==0:\n",
    "            left+=1\n",
    "\n",
    "        if left < right:\n",
    "            answer+=left\n",
    "            idx += -left\n",
    "        else:\n",
    "            answer+=right\n",
    "            idx += right    \n",
    "\n",
    "#         if left < right:\n",
    "#             answer += left\n",
    "#         else:\n",
    "#             answer += right\n",
    "        \n",
    "#         if left < right:\n",
    "#             idx += -left\n",
    "#         else:\n",
    "#             idx += right"
   ]
  },
  {
   "cell_type": "code",
   "execution_count": 76,
   "id": "banner-marketing",
   "metadata": {},
   "outputs": [
    {
     "data": {
      "text/plain": [
       "7"
      ]
     },
     "execution_count": 76,
     "metadata": {},
     "output_type": "execute_result"
    }
   ],
   "source": [
    "solution2(\"BABAAAAB\")"
   ]
  }
 ],
 "metadata": {
  "kernelspec": {
   "display_name": "Python 3",
   "language": "python",
   "name": "python3"
  },
  "language_info": {
   "codemirror_mode": {
    "name": "ipython",
    "version": 3
   },
   "file_extension": ".py",
   "mimetype": "text/x-python",
   "name": "python",
   "nbconvert_exporter": "python",
   "pygments_lexer": "ipython3",
   "version": "3.6.12"
  }
 },
 "nbformat": 4,
 "nbformat_minor": 5
}
