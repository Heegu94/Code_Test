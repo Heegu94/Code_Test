{
 "cells": [
  {
   "cell_type": "markdown",
   "id": "enormous-quantum",
   "metadata": {},
   "source": [
    "# [실패율]\n",
    "___\n",
    "\n",
    "### [문제 설명]\n",
    "\n",
    "![fig1](C:/Users/ryank/Desktop/ryan/Code_Test/figure/61-1.PNG)\n",
    "\n",
    "- 슈퍼 게임 개발자 오렐리는 큰 고민에 빠졌다. 그녀가 만든 프랜즈 오천성이 대성공을 거뒀지만, 요즘 신규 사용자의 수가 급감한 것이다. 원인은 신규 사용자와 기존 사용자 사이에 스테이지 차이가 너무 큰 것이 문제였다.\n",
    "\n",
    "- 이 문제를 어떻게 할까 고민 한 그녀는 동적으로 게임 시간을 늘려서 난이도를 조절하기로 했다. 역시 슈퍼 개발자라 대부분의 로직은 쉽게 구현했지만, 실패율을 구하는 부분에서 위기에 빠지고 말았다. \n",
    "- 오렐리를 위해 실패율을 구하는 코드를 완성하라.\n",
    "\n",
    "- 실패율은 다음과 같이 정의한다.\n",
    "- 스테이지에 도달했으나 아직 클리어하지 못한 플레이어의 수 / 스테이지에 도달한 플레이어 수\n",
    "- 전체 스테이지의 개수 N, 게임을 이용하는 사용자가 현재 멈춰있는 스테이지의 번호가 담긴 배열 stages가 매개변수로 주어질 때, 실패율이 높은 스테이지부터 내림차순으로 스테이지의 번호가 담겨있는 배열을 return 하도록 solution 함수를 완성하라.\n",
    "\n",
    "___ \n",
    "\n",
    "### [제한 사항]\n",
    "\n",
    "- 스테이지의 개수 N은 1 이상 500 이하의 자연수이다.\n",
    "- stages의 길이는 1 이상 200,000 이하이다.\n",
    "- stages에는 1 이상 N + 1 이하의 자연수가 담겨있다.\n",
    "    - 각 자연수는 사용자가 현재 도전 중인 스테이지의 번호를 나타낸다.\n",
    "    - 단, N + 1 은 마지막 스테이지(N 번째 스테이지) 까지 클리어 한 사용자를 나타낸다.\n",
    "\n",
    "\n",
    "- 만약 실패율이 같은 스테이지가 있다면 작은 번호의 스테이지가 먼저 오도록 하면 된다.\n",
    "- 스테이지에 도달한 유저가 없는 경우 해당 스테이지의 실패율은 0 으로 정의한다.\n",
    "\n",
    "___\n",
    "\n",
    "### [입출력 예]\n",
    "\n",
    "``` python\n",
    "N = 5\n",
    "stages = [2,1,2,6,2,4,3,3]\n",
    "\n",
    "N = 4\n",
    "stages = [4,4,4,4,4]\n",
    "\n",
    "```"
   ]
  },
  {
   "cell_type": "markdown",
   "id": "capable-change",
   "metadata": {},
   "source": [
    "___\n",
    "\n",
    "### [내 풀이]\n",
    "\n",
    "1. 우선 stages에서 각 스테이지 별로 클리어하지 못한 사람의 수를 구해주어야 한다. (Collections.Couter() 사용.)\n",
    "2. 이렇게 dict()로 정리된 stage 를 통해 각 stage 별로 failure rate를 구해준다. \n",
    "3. 그 결과 출력된 table 을 통해, 각 stage 별 실패율을 내림차순으로 정렬해준다."
   ]
  },
  {
   "cell_type": "code",
   "execution_count": 47,
   "id": "double-above",
   "metadata": {},
   "outputs": [],
   "source": [
    "N = 5\n",
    "stages = [2,1,2,6,2,4,3,3]\n",
    "\n",
    "# N = 4\n",
    "# stages = [4,4,4,4,4]"
   ]
  },
  {
   "cell_type": "code",
   "execution_count": 64,
   "id": "broad-allergy",
   "metadata": {},
   "outputs": [
    {
     "name": "stdout",
     "output_type": "stream",
     "text": [
      "Counter({2: 3, 3: 2, 1: 1, 6: 1, 4: 1})\n",
      "[0.125, 0.42857142857142855, 0.5, 0.5, 0]\n",
      "[0, 0.5, 0.5, 0.42857142857142855, 0.125]\n",
      "      \n",
      "0.125 0.5\n",
      "====\n",
      "0.5 0.5\n",
      "====\n",
      "[3]\n",
      "[0.125, 0.42857142857142855, -1, 0.5, 0]\n",
      "      \n",
      "0.42857142857142855 0.5\n",
      "====\n",
      "[3, 4]\n",
      "[0.125, 0.42857142857142855, -1, -1, 0]\n",
      "      \n",
      "-1 0\n",
      "====\n",
      "0 0.42857142857142855\n",
      "====\n",
      "[3, 4, 2]\n",
      "[0.125, -1, -1, -1, 0]\n",
      "      \n",
      "-1 0\n",
      "====\n",
      "0 0.125\n",
      "====\n",
      "[3, 4, 2, 1]\n",
      "[-1, -1, -1, -1, 0]\n",
      "      \n",
      "0 0\n",
      "====\n",
      "[3, 4, 2, 1, 5]\n",
      "[-1, -1, -1, -1, -1]\n",
      "      \n"
     ]
    }
   ],
   "source": [
    "import collections\n",
    "stage = collections.Counter(stages)\n",
    "print(stage)\n",
    "table = [0]*N\n",
    "people = len(stages)\n",
    "\n",
    "for i in range(1, N+1):\n",
    "    if stage[i] != 0:\n",
    "        table[i-1] = stage[i]/people\n",
    "        people-=stage[i]\n",
    "print(table)\n",
    "print(table[::-1])\n",
    "print(\"      \")\n",
    "answer = []\n",
    "num = len(table)\n",
    "for i, item in enumerate(table) :\n",
    "    m = item\n",
    "    idx = i\n",
    "    for j, _item in enumerate(table[::-1]) :\n",
    "        if _item >= m :\n",
    "            print(m, _item)\n",
    "            m = _item\n",
    "            idx = num-1 -j\n",
    "            print(\"====\")\n",
    "    answer.append(idx+1)\n",
    "    table[idx] = -1\n",
    "    print(answer)\n",
    "    print(table)\n",
    "    print(\"      \")"
   ]
  },
  {
   "cell_type": "code",
   "execution_count": 68,
   "id": "meaning-occasion",
   "metadata": {},
   "outputs": [],
   "source": [
    "from collections import Counter\n",
    "\n",
    "def solution(N, stages):\n",
    "    stage = Counter(stages)\n",
    "    table = [0]*N\n",
    "    people = len(stages)\n",
    "\n",
    "    for i in range(1, N+1):\n",
    "        if stage[i] != 0:\n",
    "            table[i-1] = stage[i]/people\n",
    "            people-=stage[i]\n",
    "\n",
    "    answer = []\n",
    "    num = len(table)\n",
    "    ### 정렬\n",
    "    for i, item in enumerate(table) :\n",
    "        m = item\n",
    "        idx = i\n",
    "        for j, _item in enumerate(table[::-1]) :\n",
    "            if _item >= m :\n",
    "                m = _item\n",
    "                idx = num-1 -j\n",
    "        answer.append(idx+1)\n",
    "        table[idx] = -1\n",
    "    return answer"
   ]
  },
  {
   "cell_type": "code",
   "execution_count": 69,
   "id": "legislative-monroe",
   "metadata": {},
   "outputs": [
    {
     "data": {
      "text/plain": [
       "[3, 4, 2, 1, 5]"
      ]
     },
     "execution_count": 69,
     "metadata": {},
     "output_type": "execute_result"
    }
   ],
   "source": [
    "solution(N, stages)"
   ]
  }
 ],
 "metadata": {
  "kernelspec": {
   "display_name": "Python 3",
   "language": "python",
   "name": "python3"
  },
  "language_info": {
   "codemirror_mode": {
    "name": "ipython",
    "version": 3
   },
   "file_extension": ".py",
   "mimetype": "text/x-python",
   "name": "python",
   "nbconvert_exporter": "python",
   "pygments_lexer": "ipython3",
   "version": "3.6.12"
  }
 },
 "nbformat": 4,
 "nbformat_minor": 5
}
