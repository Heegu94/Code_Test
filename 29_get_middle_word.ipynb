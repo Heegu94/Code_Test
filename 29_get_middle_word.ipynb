{
 "cells": [
  {
   "cell_type": "markdown",
   "id": "super-surname",
   "metadata": {},
   "source": [
    "# [가운데 글자 가져오기]\n",
    "___\n",
    "\n",
    "### [문제 설명]\n",
    "\n",
    "- 단어 s의 가운데 글자를 반환하는 함수, solution을 만들어 보세요. 단어의 길이가 짝수라면 가운데 두글자를 반환하면 됩니다.\n",
    "\n",
    "___\n",
    "\n",
    "### [제한 사항]\n",
    "\n",
    "- s는 길이가 1이상, 100이하의 str 입니다.\n",
    "\n",
    "___\n",
    "### [입출력 예]\n",
    "\n",
    "- s = \"abcde\" , return \"c\"\n",
    "- s = \"qwer\" , return \"we\"\n",
    "___\n",
    "\n",
    "### [내 풀이]\n",
    "\n",
    "- 우선 문제에서 주어진바와 같이 str의 길이가 홀수인지 짝수인지 두가지 경우의 조건문으로 나누어 생각해보았다."
   ]
  },
  {
   "cell_type": "code",
   "execution_count": 8,
   "id": "legendary-reasoning",
   "metadata": {},
   "outputs": [],
   "source": [
    "s = \"qwer\"#\"abcde\""
   ]
  },
  {
   "cell_type": "code",
   "execution_count": 12,
   "id": "persistent-portable",
   "metadata": {},
   "outputs": [
    {
     "name": "stdout",
     "output_type": "stream",
     "text": [
      "we\n"
     ]
    }
   ],
   "source": [
    "if len(s)%2==1: print(s[len(s)//2])\n",
    "else: print(s[(len(s)//2)-1:(len(s)//2)+1])"
   ]
  },
  {
   "cell_type": "code",
   "execution_count": 13,
   "id": "connected-accreditation",
   "metadata": {},
   "outputs": [],
   "source": [
    "def solution(s):\n",
    "    if len(s)%2==1: return s[len(s)//2]\n",
    "    else: return s[(len(s)//2)-1:(len(s)//2)+1]"
   ]
  },
  {
   "cell_type": "markdown",
   "id": "similar-seating",
   "metadata": {},
   "source": [
    "- 바로 통과!\n",
    "- 코드를 더 줄여보고 싶은 욕심이 생겨서 도전!"
   ]
  },
  {
   "cell_type": "markdown",
   "id": "graphic-scoop",
   "metadata": {},
   "source": [
    "___\n",
    "### [내 풀이2]\n",
    "- [내 풀이1]에서는 조건문을 사용하여 풀어보았는데 else: 문을 작성하다 문득, 굳이 홀수 짝수 일 경우를 나누어서 풀 필요가 없다고 생각하였다.\n",
    "- 그래서 전체 str 길이에서 -1 한뒤 2로 나눈 몫 부터, str길이에서 2로 나눈 몫에 +1을하여, 2단어까지 포함가능하도록 접근하였다. "
   ]
  },
  {
   "cell_type": "code",
   "execution_count": 16,
   "id": "lucky-connection",
   "metadata": {},
   "outputs": [],
   "source": [
    "def solution(s):\n",
    "    return s[(len(s)-1)//2:len(s)//2+1]"
   ]
  }
 ],
 "metadata": {
  "kernelspec": {
   "display_name": "Python 3",
   "language": "python",
   "name": "python3"
  },
  "language_info": {
   "codemirror_mode": {
    "name": "ipython",
    "version": 3
   },
   "file_extension": ".py",
   "mimetype": "text/x-python",
   "name": "python",
   "nbconvert_exporter": "python",
   "pygments_lexer": "ipython3",
   "version": "3.6.12"
  }
 },
 "nbformat": 4,
 "nbformat_minor": 5
}
