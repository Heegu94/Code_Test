{
 "cells": [
  {
   "cell_type": "markdown",
   "id": "contrary-swimming",
   "metadata": {},
   "source": [
    "# [키패드 누르기]\n",
    "___\n",
    "\n",
    "### [문제 설명]\n",
    "\n",
    "- 스마트폰 전화 키패드의 각 칸에 다음과 같이 숫자들이 적혀 있습니다.\n",
    "\n",
    "![fig1](C:/Users/ryank/Desktop/ryan/Code_Test/figure/59-1.PNG)\n",
    "\n",
    "- 이 전화 키패드에서 왼손과 오른손의 엄지손가락만을 이용해서 숫자만을 입력하려고 합니다.\n",
    "- 맨 처음 왼손 엄지손가락은 * 키패드에 오른손 엄지손가락은 # 키패드 위치에서 시작하며, 엄지손가락을 사용하는 규칙은 다음과 같습니다.\n",
    "\n",
    "    1. 엄지손가락은 상하좌우 4가지 방향으로만 이동할 수 있으며 키패드 이동 한 칸은 거리로 1에 해당합니다.\n",
    "    2. 왼쪽 열의 3개의 숫자 1, 4, 7을 입력할 때는 왼손 엄지손가락을 사용합니다.\n",
    "    3. 오른쪽 열의 3개의 숫자 3, 6, 9를 입력할 때는 오른손 엄지손가락을 사용합니다.\n",
    "    4. 가운데 열의 4개의 숫자 2, 5, 8, 0을 입력할 때는 두 엄지손가락의 현재 키패드의 위치에서 더 가까운 엄지손가락을 사용합니다.\n",
    "            4-1. 만약 두 엄지손가락의 거리가 같다면, 오른손잡이는 오른손 엄지손가락, 왼손잡이는 왼손 엄지손가락을 사용합니다.\n",
    "\n",
    "\n",
    "- 순서대로 누를 번호가 담긴 배열 numbers, 왼손잡이인지 오른손잡이인 지를 나타내는 문자열 hand가 매개변수로 주어질 때, 각 번호를 누른 엄지손가락이 왼손인 지 오른손인 지를 나타내는 연속된 문자열 형태로 return 하도록 solution 함수를 완성해주세요.\n",
    "\n",
    "___\n",
    "### [제한사항]\n",
    "\n",
    "- numbers 배열의 크기는 1 이상 1,000 이하입니다.\n",
    "- numbers 배열 원소의 값은 0 이상 9 이하인 정수입니다.\n",
    "- hand는 \"left\" 또는 \"right\" 입니다.\n",
    "    - \"left\"는 왼손잡이, \"right\"는 오른손잡이를 의미합니다.\n",
    "- 왼손 엄지손가락을 사용한 경우는 L, 오른손 엄지손가락을 사용한 경우는 R을 순서대로 이어붙여 문자열 형태로 return 해주세요.\n",
    "\n",
    "\n",
    "___\n",
    "### [입출력 예]\n",
    "\n",
    "![fig2](C:/Users/ryank/Desktop/ryan/Code_Test/figure/59-2.PNG)"
   ]
  },
  {
   "cell_type": "markdown",
   "id": "outdoor-highland",
   "metadata": {},
   "source": [
    "___\n",
    "\n",
    "### [내 풀이1]\n",
    "\n",
    "- for문과 if 조건문을 적절히 섞어 풀어보았다.\n",
    "\n",
    "- 여기서 중요한 부분은 [2, 5, 8, 0]과 같이 가운데 있는 값을 누르기 위한 조건을 설정해 주는것이다.\n",
    "   - numbers 리스트에서 차례대로 가져온 숫자 n 중에 [2,5,8,0] 중 하나인 수를 눌러야 할때, \n",
    "   - 왼쪽속이 누르고 있던 수 left, 와 오른손이 누르고 있던 수 right 그리고 n 의 관계를 생각해봐야한다.\n",
    "   - 위칸으로 이동할때는 -3 혹은 +3의 이동값을 가지고 좌우이동의 경우 -1,+1의 이동을 가지므로, \n",
    "   - n 와 이전 손가락이 누르고 있던 수 left와 right를 각각 빼준 값 l_abs, r_abs를 '3' 으로 나누어, \n",
    "   - 해당 값의 몫과 나머지를 더해 거리를 구할 수 있었다. "
   ]
  },
  {
   "cell_type": "code",
   "execution_count": 1,
   "id": "cooperative-huntington",
   "metadata": {},
   "outputs": [],
   "source": [
    "numbers = [1,3,4,5,8,2,1,4,5,9,5]\n",
    "hand = \"right\""
   ]
  },
  {
   "cell_type": "code",
   "execution_count": 36,
   "id": "modular-render",
   "metadata": {
    "collapsed": true,
    "jupyter": {
     "outputs_hidden": true
    }
   },
   "outputs": [
    {
     "name": "stdout",
     "output_type": "stream",
     "text": [
      "1\n",
      "1 12\n",
      "3\n",
      "1 3\n",
      "4\n",
      "4 3\n",
      "5\n",
      "5 3\n",
      "8\n",
      "8 3\n",
      "2\n",
      "8 2\n",
      "1\n",
      "1 2\n",
      "4\n",
      "4 2\n",
      "5\n",
      "4 5\n",
      "9\n",
      "4 9\n",
      "5\n",
      "5 9\n"
     ]
    },
    {
     "data": {
      "text/plain": [
       "'LRLLLRLLRRL'"
      ]
     },
     "execution_count": 36,
     "metadata": {},
     "output_type": "execute_result"
    }
   ],
   "source": [
    "l_key = [1,4,7]\n",
    "r_key = [3,6,9]\n",
    "c_key = [2,5,8,0]\n",
    "\n",
    "keys = \"\"\n",
    "left = 10\n",
    "right = 12\n",
    "for n in numbers:\n",
    "    print(n)\n",
    "    if n in l_key:\n",
    "        keys+=\"L\"\n",
    "        left = n\n",
    "    elif n in r_key:\n",
    "        keys+=\"R\"\n",
    "        right = n\n",
    "    else: \n",
    "        if n == 0: n = 11 \n",
    "        \n",
    "        l_abs = abs(n-left)\n",
    "        r_abs = abs(n-right)\n",
    "        \n",
    "        if sum(divmod(l_abs, 3)) > sum(divmod(r_abs, 3)):\n",
    "            keys+=\"R\"\n",
    "            right = n\n",
    "        elif sum(divmod(l_abs, 3)) < sum(divmod(r_abs, 3)):\n",
    "            keys+=\"L\"\n",
    "            left = n\n",
    "        else: \n",
    "            if hand == \"right\":\n",
    "                keys+=\"R\"\n",
    "                right=n\n",
    "            else:\n",
    "                keys+=\"L\"\n",
    "                right=n\n",
    "            \n",
    "    print(left, right)\n",
    "keys"
   ]
  },
  {
   "cell_type": "code",
   "execution_count": 37,
   "id": "distinguished-madness",
   "metadata": {},
   "outputs": [],
   "source": [
    "def solution(numbers, hand):\n",
    "    l_key = [1,4,7]\n",
    "    r_key = [3,6,9]\n",
    "    c_key = [2,5,8,0]\n",
    "\n",
    "    keys = \"\"\n",
    "    left = 10\n",
    "    right = 12\n",
    "    for n in numbers:\n",
    "        if n in l_key:\n",
    "            keys+=\"L\"\n",
    "            left = n\n",
    "        elif n in r_key:\n",
    "            keys+=\"R\"\n",
    "            right = n\n",
    "        else: \n",
    "            if n == 0: n = 11 \n",
    "\n",
    "            l_abs = abs(n-left)\n",
    "            r_abs = abs(n-right)\n",
    "\n",
    "            if sum(divmod(l_abs, 3)) > sum(divmod(r_abs, 3)):\n",
    "                keys+=\"R\"\n",
    "                right = n\n",
    "            elif sum(divmod(l_abs, 3)) < sum(divmod(r_abs, 3)):\n",
    "                keys+=\"L\"\n",
    "                left = n\n",
    "            else: \n",
    "                if hand == \"right\":\n",
    "                    keys+=\"R\"\n",
    "                    right=n\n",
    "                else:\n",
    "                    keys+=\"L\"\n",
    "                    left=n\n",
    "    return keys"
   ]
  }
 ],
 "metadata": {
  "kernelspec": {
   "display_name": "Python 3",
   "language": "python",
   "name": "python3"
  },
  "language_info": {
   "codemirror_mode": {
    "name": "ipython",
    "version": 3
   },
   "file_extension": ".py",
   "mimetype": "text/x-python",
   "name": "python",
   "nbconvert_exporter": "python",
   "pygments_lexer": "ipython3",
   "version": "3.6.12"
  }
 },
 "nbformat": 4,
 "nbformat_minor": 5
}
