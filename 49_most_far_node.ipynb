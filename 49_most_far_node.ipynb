{
 "cells": [
  {
   "cell_type": "markdown",
   "id": "cordless-style",
   "metadata": {},
   "source": [
    "# [가장 먼 노드] - graph\n",
    "___\n",
    "\n",
    "## [문제 설명]\n",
    "\n",
    "- n개의 노드가 있는 그래프가 있습니다. 각 노드는 1부터 n까지 번호가 적혀있습니다. \n",
    "- 1번 노드에서 가장 멀리 떨어진 노드의 갯수를 구하려고 합니다. 가장 멀리 떨어진 노드란 최단경로로 이동했을 때 간선의 개수가 가장 많은 노드들을 의미합니다.\n",
    "\n",
    "- 노드의 개수 n, 간선에 대한 정보가 담긴 2차원 배열 vertex가 매개변수로 주어질 때, 1번 노드로부터 가장 멀리 떨어진 노드가 몇 개인지를 return 하도록 solution 함수를 작성해주세요.\n",
    "\n",
    "___\n",
    "\n",
    "## [제한 사항]\n",
    "\n",
    "    - 노드의 개수 n은 2 이상 20,000 이하입니다.\n",
    "    - 간선은 양방향이며 총 1개 이상 50,000개 이하의 간선이 있습니다.\n",
    "    - vertex 배열 각 행 [a, b]는 a번 노드와 b번 노드 사이에 간선이 있다는 의미입니다.\n",
    "    \n",
    "___\n",
    "\n",
    "## [입출력 예]\n",
    "\n",
    "- n=6, vertex = [[3, 6], [4, 3], [3, 2], [1, 3], [1, 2], [2, 4], [5, 2]], return 3\n",
    "\n",
    "\n",
    "![fig1](C://Users/ryank/Desktop/ryan/Code_Test/figure/49-1.PNG)"
   ]
  },
  {
   "cell_type": "markdown",
   "id": "twelve-detector",
   "metadata": {},
   "source": [
    "___\n",
    "\n",
    "## [내 풀이]\n",
    "\n",
    "- 우선, vertex에 담겨 있는 node 들의 연결 상태를 dict()자료형을 통해 연결된 모든 노드들을 정리해보았다.\n",
    "    - 이때, 1-3 과 3-1도 각각 전부 포함하여 노드들의 route를 표현하였다."
   ]
  },
  {
   "cell_type": "code",
   "execution_count": 35,
   "id": "computational-corps",
   "metadata": {},
   "outputs": [],
   "source": [
    "n = 6 # node 개수\n",
    "vertex = [[3, 6], [4, 3], [3, 2], [1, 3], [1, 2], [2, 4], [5, 2]]"
   ]
  },
  {
   "cell_type": "code",
   "execution_count": 36,
   "id": "acknowledged-amazon",
   "metadata": {},
   "outputs": [
    {
     "name": "stdout",
     "output_type": "stream",
     "text": [
      "{3: [6], 6: [3]}\n",
      "{3: [6, 4], 6: [3], 4: [3]}\n",
      "{3: [6, 4, 2], 6: [3], 4: [3], 2: [3]}\n",
      "{3: [6, 4, 2, 1], 6: [3], 4: [3], 2: [3], 1: [3]}\n",
      "{3: [6, 4, 2, 1], 6: [3], 4: [3], 2: [3, 1], 1: [3, 2]}\n",
      "{3: [6, 4, 2, 1], 6: [3], 4: [3, 2], 2: [3, 1, 4], 1: [3, 2]}\n",
      "{3: [6, 4, 2, 1], 6: [3], 4: [3, 2], 2: [3, 1, 4, 5], 1: [3, 2], 5: [2]}\n"
     ]
    }
   ],
   "source": [
    "routes = dict()\n",
    "for v1, v2 in vertex:\n",
    "    routes.setdefault(v1, []).append(v2)\n",
    "    routes.setdefault(v2, []).append(v1)\n",
    "    print(routes)"
   ]
  },
  {
   "cell_type": "markdown",
   "id": "cooked-medication",
   "metadata": {},
   "source": [
    "- 그 뒤, que 를 통해 시작점인 [1, 0] (1번 노드, 0번의 움직임.)을 초기값으로 준다.\n",
    "\n",
    "- 그리고 n+1 개의 요소를 포함하는 -1로 이루어진 check board 역할의 리스트를 생성한다.\n",
    "- 이렇게 생성된 list는 1번 노드에서부터 i 번째 노드로 가는 최소한의 움직임(거리)를 업데이트 해줄것이다."
   ]
  },
  {
   "cell_type": "code",
   "execution_count": 76,
   "id": "cross-contents",
   "metadata": {},
   "outputs": [
    {
     "name": "stdout",
     "output_type": "stream",
     "text": [
      "[-1, -1, -1, -1, -1, -1, -1]\n",
      "1 0\n",
      "[-1, 0, -1, 0, -1, -1, -1] [[3, 1]]\n",
      "[-1, 0, 0, 0, -1, -1, -1] [[3, 1], [2, 1]]\n",
      "=====\n",
      "3 1\n",
      "[-1, 0, 0, 1, -1, -1, 0] [[2, 1], [6, 2]]\n",
      "[-1, 0, 0, 1, 0, -1, 0] [[2, 1], [6, 2], [4, 2]]\n",
      "[-1, 0, 0, 1, 0, -1, 0] [[2, 1], [6, 2], [4, 2]]\n",
      "[-1, 0, 0, 1, 0, -1, 0] [[2, 1], [6, 2], [4, 2]]\n",
      "=====\n",
      "2 1\n",
      "[-1, 0, 1, 1, 0, -1, 0] [[6, 2], [4, 2]]\n",
      "[-1, 0, 1, 1, 0, -1, 0] [[6, 2], [4, 2]]\n",
      "[-1, 0, 1, 1, 0, -1, 0] [[6, 2], [4, 2]]\n",
      "[-1, 0, 1, 1, 0, 0, 0] [[6, 2], [4, 2], [5, 2]]\n",
      "=====\n",
      "6 2\n",
      "[-1, 0, 1, 1, 0, 0, 2] [[4, 2], [5, 2]]\n",
      "=====\n",
      "4 2\n",
      "[-1, 0, 1, 1, 2, 0, 2] [[5, 2]]\n",
      "[-1, 0, 1, 1, 2, 0, 2] [[5, 2]]\n",
      "=====\n",
      "5 2\n",
      "[-1, 0, 1, 1, 2, 2, 2] []\n",
      "=====\n",
      "3\n"
     ]
    }
   ],
   "source": [
    "q = [[1, 0]]\n",
    "board = [-1]*(n+1)\n",
    "print(board)\n",
    "while q:\n",
    "    indx, cnt = q.pop(0) # q에 첫번째 노드에 대한 정보를 가져온다\n",
    "    print(indx, cnt)\n",
    "    board[indx] = cnt # 해당 check board 에서 1번 노드에서 1번노드로 가는 움직임은 0 이므로 이를 넣어줌.\n",
    "    for i in routes[indx]:  \n",
    "        if board[i] == -1: # 다음노드로 이동하였을때, check board 에서 해당 노드의 요소가 -1 일 경우(아직 지나가지 않은경우) 0으로 바꾸고 지나간것을 표현.\n",
    "            board[i] = 0\n",
    "            q.append([i, cnt+1]) # q에 다음 노드 업데이트\n",
    "        print(board, q)\n",
    "    print(\"=====\")\n",
    "    cnt+=1\n",
    "\n",
    "print(board.count(max(board)))"
   ]
  },
  {
   "cell_type": "code",
   "execution_count": 64,
   "id": "smoking-motel",
   "metadata": {},
   "outputs": [],
   "source": [
    "n = 6 # node 개수\n",
    "vertex = [[3, 6], [4, 3], [3, 2], [1, 3], [1, 2], [2, 4], [5, 2]]"
   ]
  },
  {
   "cell_type": "code",
   "execution_count": 77,
   "id": "international-deposit",
   "metadata": {},
   "outputs": [],
   "source": [
    "from collections import deque\n",
    "\n",
    "def solution(n, vertex):\n",
    "    \n",
    "    routes = dict()\n",
    "    for v1, v2 in vertex:\n",
    "        routes.setdefault(v1, []).append(v2)\n",
    "        routes.setdefault(v2, []).append(v1)\n",
    "    \n",
    "    board = [-1]*(n+1)\n",
    "    q= deque([[1,0]])\n",
    "\n",
    "    while q:\n",
    "        node, cnt = q.popleft()\n",
    "        board[node] = cnt\n",
    "        for i in routes[node]:\n",
    "            if board[i]== -1: \n",
    "                board[i] = 0\n",
    "                q.append([i,cnt+1])\n",
    "            \n",
    "        cnt+=1\n",
    "        \n",
    "    return board.count(max(board))"
   ]
  },
  {
   "cell_type": "markdown",
   "id": "restricted-chicago",
   "metadata": {},
   "source": [
    "### 통과!\n",
    "\n",
    "___\n",
    "\n",
    "## dict()의 내장함수들\n",
    "\n",
    "### **dict.setdefault**\n",
    "\n",
    "- 파이썬의 내장 자료구조인 dictionary를 사용하다 보면 어떤 키(key)에 대한 값(value)이 없는 경우에 대한 처리를 해야하는 경우가 자주 발생합니다.\n",
    "\n",
    "``` python\n",
    "def countLetters(word):\n",
    "    counter = {}\n",
    "    for letter in word:\n",
    "        if letter not in counter:\n",
    "            counter[letter] = 0\n",
    "        counter[letter] += 1\n",
    "    return counter\n",
    "```\n",
    "\n",
    "- for 루프 안에서 dict() 에 어떤 글자가 존재 하지 않을 경우, if 조건절을 통해서 초기 값(기본값을) 세팅을 해주는데, \n",
    "- 이와 같은 경우를 피할 수 있도록, setdefault(ket, default_value)를 넘기면 된다. \n",
    "\n",
    "``` python\n",
    "def countLetters(word):\n",
    "    counter = {}\n",
    "    for letter in word:\n",
    "        counter.setdefault(letter, 0)\n",
    "        counter[letter] += 1\n",
    "    return counter\n",
    "```\n",
    "\n",
    "\n",
    "### 이외의 내장 함수들..\n",
    "\n",
    "![fig1](C://Users/ryank/Desktop/ryan/Code_Test/figure/49-2.PNG)"
   ]
  }
 ],
 "metadata": {
  "kernelspec": {
   "display_name": "Python 3",
   "language": "python",
   "name": "python3"
  },
  "language_info": {
   "codemirror_mode": {
    "name": "ipython",
    "version": 3
   },
   "file_extension": ".py",
   "mimetype": "text/x-python",
   "name": "python",
   "nbconvert_exporter": "python",
   "pygments_lexer": "ipython3",
   "version": "3.6.12"
  }
 },
 "nbformat": 4,
 "nbformat_minor": 5
}
