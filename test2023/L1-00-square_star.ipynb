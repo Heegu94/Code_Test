{
 "cells": [
  {
   "cell_type": "markdown",
   "id": "advanced-array",
   "metadata": {},
   "source": [
    "# 직사각형 별 찍기\n",
    "___"
   ]
  },
  {
   "cell_type": "markdown",
   "id": "spectacular-contemporary",
   "metadata": {},
   "source": [
    "### 문제 설명\n",
    "\n",
    "이 문제에는 표준 입력으로 두 개의 정수 n과 m이 주어집니다.\n",
    "\n",
    "별(*) 문자를 이용해 가로의 길이가 n, 세로의 길이가 m인 직사각형 형태를 출력해보세요."
   ]
  },
  {
   "cell_type": "code",
   "execution_count": 2,
   "id": "alone-genome",
   "metadata": {},
   "outputs": [
    {
     "name": "stdin",
     "output_type": "stream",
     "text": [
      " 2 3\n"
     ]
    },
    {
     "name": "stdout",
     "output_type": "stream",
     "text": [
      "**\n",
      "**\n",
      "**\n",
      "\n"
     ]
    }
   ],
   "source": [
    "a, b = map(int, input().strip().split(' '))    \n",
    "print((\"*\"*a +'\\n')*b)"
   ]
  },
  {
   "cell_type": "code",
   "execution_count": 4,
   "id": "exact-australia",
   "metadata": {},
   "outputs": [
    {
     "name": "stdin",
     "output_type": "stream",
     "text": [
      " 9 19\n"
     ]
    },
    {
     "name": "stdout",
     "output_type": "stream",
     "text": [
      "*********\n",
      "*********\n",
      "*********\n",
      "*********\n",
      "*********\n",
      "*********\n",
      "*********\n",
      "*********\n",
      "*********\n",
      "*********\n",
      "*********\n",
      "*********\n",
      "*********\n",
      "*********\n",
      "*********\n",
      "*********\n",
      "*********\n",
      "*********\n",
      "*********\n",
      "\n"
     ]
    }
   ],
   "source": [
    "a, b = map(int, input().strip().split(' '))    \n",
    "print((\"*\"*a +'\\n')*b)"
   ]
  },
  {
   "cell_type": "code",
   "execution_count": null,
   "id": "comic-donna",
   "metadata": {},
   "outputs": [],
   "source": []
  }
 ],
 "metadata": {
  "kernelspec": {
   "display_name": "Python 3",
   "language": "python",
   "name": "python3"
  },
  "language_info": {
   "codemirror_mode": {
    "name": "ipython",
    "version": 3
   },
   "file_extension": ".py",
   "mimetype": "text/x-python",
   "name": "python",
   "nbconvert_exporter": "python",
   "pygments_lexer": "ipython3",
   "version": "3.6.12"
  }
 },
 "nbformat": 4,
 "nbformat_minor": 5
}
