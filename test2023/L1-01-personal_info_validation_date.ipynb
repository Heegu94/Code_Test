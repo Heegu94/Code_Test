{
 "cells": [
  {
   "cell_type": "code",
   "execution_count": 83,
   "id": "recreational-protection",
   "metadata": {},
   "outputs": [],
   "source": [
    "today = \"2022.05.19\"\n",
    "terms = [\"A 6\", \"B 12\", \"C 3\"]\n",
    "privacies = [\"2021.05.02 A\", \"2021.07.01 B\", \"2022.02.19 C\", \"2022.02.20 C\"]\n",
    "\n",
    "today = \"2020.01.01\"\n",
    "terms = [\"Z 3\", \"D 5\"]\n",
    "privacies = [\"2019.01.01 D\", \"2019.11.15 Z\", \"2019.08.02 D\", \"2019.07.01 D\", \"2018.12.28 Z\"]"
   ]
  },
  {
   "cell_type": "code",
   "execution_count": 90,
   "id": "hairy-assets",
   "metadata": {},
   "outputs": [
    {
     "name": "stdout",
     "output_type": "stream",
     "text": [
      "2019 01 01 D\n",
      "2019 11 15 Z\n",
      "2019 08 02 D\n",
      "2019 07 01 D\n",
      "2018 12 28 Z\n",
      "[1, 4, 5]\n"
     ]
    }
   ],
   "source": [
    "answer = []\n",
    "today_year, today_month, today_days = today.split(\".\")\n",
    "today_ = int(today_year)*12*28 + int(today_month)*28 + int(today_days)\n",
    "\n",
    "term_policy = {t.split(\" \")[0]:int(t.split(\" \")[1])*28 for t in terms}\n",
    "\n",
    "for i, privacy in enumerate(privacies):\n",
    "    v_year, v_month, v_days = privacy.split(\".\")\n",
    "    v_days, m = v_days.split(\" \")\n",
    "    p = int(v_year)*12*28 + int(v_month)*28 + int(v_days)\n",
    "    \n",
    "    if p + term_policy[m] <= today_:\n",
    "        answer.append(i+1)\n",
    "    print(v_year, v_month, v_days, m)\n",
    "print(answer)"
   ]
  },
  {
   "cell_type": "code",
   "execution_count": 91,
   "id": "recorded-substance",
   "metadata": {},
   "outputs": [],
   "source": [
    "def solution(today, terms, privacies):\n",
    "    answer = []\n",
    "    today_year, today_month, today_days = today.split(\".\")\n",
    "    today_ = int(today_year)*12*28 + int(today_month)*28 + int(today_days)\n",
    "\n",
    "    term_policy = {t.split(\" \")[0]:int(t.split(\" \")[1])*28 for t in terms}\n",
    "\n",
    "    for i, privacy in enumerate(privacies):\n",
    "        v_year, v_month, v_days = privacy.split(\".\")\n",
    "        v_days, m = v_days.split(\" \")\n",
    "        p = int(v_year)*12*28 + int(v_month)*28 + int(v_days)\n",
    "\n",
    "        if p + term_policy[m] <= today_:\n",
    "            answer.append(i+1)\n",
    "    return answer"
   ]
  },
  {
   "cell_type": "code",
   "execution_count": null,
   "id": "expanded-covering",
   "metadata": {},
   "outputs": [],
   "source": []
  }
 ],
 "metadata": {
  "kernelspec": {
   "display_name": "Python 3",
   "language": "python",
   "name": "python3"
  },
  "language_info": {
   "codemirror_mode": {
    "name": "ipython",
    "version": 3
   },
   "file_extension": ".py",
   "mimetype": "text/x-python",
   "name": "python",
   "nbconvert_exporter": "python",
   "pygments_lexer": "ipython3",
   "version": "3.6.12"
  }
 },
 "nbformat": 4,
 "nbformat_minor": 5
}
