{
 "cells": [
  {
   "cell_type": "markdown",
   "id": "resident-rates",
   "metadata": {},
   "source": [
    "# [입국 심사]\n",
    "___\n",
    "### [문제 설명]\n",
    "\n",
    "- n명이 입국심사를 위해 줄을 서서 기다리고 있습니다. 각 입국심사대에 있는 심사관마다 심사하는데 걸리는 시간은 다릅니다.\n",
    "\n",
    "- 처음에 모든 심사대는 비어있습니다. 한 심사대에서는 동시에 한 명만 심사를 할 수 있습니다. 가장 앞에 서 있는 사람은 비어 있는 심사대로 가서 심사를 받을 수 있습니다. 하지만 더 빨리 끝나는 심사대가 있으면 기다렸다가 그곳으로 가서 심사를 받을 수도 있습니다.\n",
    "\n",
    "- 모든 사람이 심사를 받는데 걸리는 시간을 최소로 하고 싶습니다.\n",
    "\n",
    "- 입국심사를 기다리는 사람 수 n, 각 심사관이 한 명을 심사하는데 걸리는 시간이 담긴 배열 times가 매개변수로 주어질 때, 모든 사람이 심사를 받는데 걸리는 시간의 최솟값을 return 하도록 solution 함수를 작성해주세요.\n",
    "\n",
    "___\n",
    "\n",
    "### [제한사항]\n",
    "\n",
    "- 입국심사를 기다리는 사람은 1명 이상 1,000,000,000명 이하입니다.\n",
    "- 각 심사관이 한 명을 심사하는데 걸리는 시간은 1분 이상 1,000,000,000분 이하입니다.\n",
    "- 심사관은 1명 이상 100,000명 이하입니다.\n",
    "\n",
    "___\n",
    "\n",
    "### [입출력 예]\n",
    "\n",
    "``` python \n",
    "n = 6\n",
    "times = [7, 10]\n",
    "\n",
    "return = 28\n",
    "```"
   ]
  },
  {
   "cell_type": "markdown",
   "id": "affected-block",
   "metadata": {},
   "source": [
    "___\n",
    "### [내 풀이]\n",
    "\n",
    "- 이진 탐색을 사용하는 풀이\n",
    "\n",
    "- 전체 로직은 주어진 심사대와 주어진 인원 수에서 가장 오래 걸리는 최악의 심사 시간을 max로 두고, 시간을 이진 탐색 하면서 현재 탐색하는 시간(mid)동안 심사가 가능한지 판단한다. \n",
    "- 더 많은 인원을 심사할 수 있다면 현재 탐색한 시간보다 아래쪽에서 다시 찾고, 심사해야 하는 인원수보다 현재 심사 가능한 인원수가 더 작다면 위쪽에서 다시 찾는다.\n",
    "\n",
    "``` python \n",
    "\n",
    "# 이진 탐색\n",
    "left right \n",
    "-========-\n",
    "1 60\n",
    "mid = 30\n",
    "total = 4+5 = 7 명\n",
    "\n",
    "1 30\n",
    "mid = 15\n",
    "total = 2+1 = 3명\n",
    "\n",
    "16 30\n",
    "mid = 23\n",
    "total = 3+2 = 5명\n",
    "\n",
    "24 30\n",
    "mid = 27\n",
    "total = 3+2 = 5명\n",
    "\n",
    "28 30\n",
    "mid = 29\n",
    "total = 4+2 = 6명\n",
    "\n",
    "28 29\n",
    "mid = 28\n",
    "total = 4+2 = 6명\n",
    "\n",
    "28 28 \n",
    "```\n",
    "end\n",
    "\n"
   ]
  },
  {
   "cell_type": "code",
   "execution_count": 6,
   "id": "incident-settle",
   "metadata": {},
   "outputs": [],
   "source": [
    "n=6\n",
    "times = [7, 10]"
   ]
  },
  {
   "cell_type": "code",
   "execution_count": 8,
   "id": "adaptive-pharmacy",
   "metadata": {},
   "outputs": [
    {
     "name": "stdout",
     "output_type": "stream",
     "text": [
      "1 60\n",
      "30\n",
      "7\n",
      "------\n",
      "1 30\n",
      "15\n",
      "3\n",
      "------\n",
      "16 30\n",
      "23\n",
      "5\n",
      "------\n",
      "24 30\n",
      "27\n",
      "5\n",
      "------\n",
      "28 30\n",
      "29\n",
      "6\n",
      "------\n",
      "28 29\n",
      "28\n",
      "6\n",
      "------\n",
      "28\n"
     ]
    }
   ],
   "source": [
    "ans = 0\n",
    "left = 1\n",
    "right = max(times)*n\n",
    "\n",
    "while left < right:\n",
    "    print(left, right)\n",
    "    mid = (left+right)//2\n",
    "    print(mid)\n",
    "    tot = 0\n",
    "    \n",
    "    for t in times:\n",
    "        tot += mid//t\n",
    "    print(tot)\n",
    "    print(\"------\")\n",
    "    if tot >= n:\n",
    "        right=mid\n",
    "    else: \n",
    "        left=mid+1\n",
    "ans = left\n"
   ]
  },
  {
   "cell_type": "code",
   "execution_count": 9,
   "id": "copyrighted-letters",
   "metadata": {},
   "outputs": [],
   "source": [
    "def solution(n, times):\n",
    "    left = 1\n",
    "    right = max(times)*n\n",
    "\n",
    "    while left < right:\n",
    "        mid = (left+right)//2\n",
    "        tot = 0\n",
    "        for t in times:\n",
    "            tot += mid//t\n",
    "            \n",
    "        if tot >= n:\n",
    "            right=mid\n",
    "        else: \n",
    "            left=mid+1\n",
    "    return left"
   ]
  },
  {
   "cell_type": "code",
   "execution_count": 10,
   "id": "emotional-russian",
   "metadata": {},
   "outputs": [
    {
     "data": {
      "text/plain": [
       "28"
      ]
     },
     "execution_count": 10,
     "metadata": {},
     "output_type": "execute_result"
    }
   ],
   "source": [
    "solution(n, times)"
   ]
  }
 ],
 "metadata": {
  "kernelspec": {
   "display_name": "Python 3",
   "language": "python",
   "name": "python3"
  },
  "language_info": {
   "codemirror_mode": {
    "name": "ipython",
    "version": 3
   },
   "file_extension": ".py",
   "mimetype": "text/x-python",
   "name": "python",
   "nbconvert_exporter": "python",
   "pygments_lexer": "ipython3",
   "version": "3.6.12"
  }
 },
 "nbformat": 4,
 "nbformat_minor": 5
}
